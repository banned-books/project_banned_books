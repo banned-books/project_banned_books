{
  "nbformat": 4,
  "nbformat_minor": 0,
  "metadata": {
    "colab": {
      "provenance": [],
      "authorship_tag": "ABX9TyM2buISPiwJfO3oVf9M8DVm",
      "include_colab_link": true
    },
    "kernelspec": {
      "name": "python3",
      "display_name": "Python 3"
    },
    "language_info": {
      "name": "python"
    }
  },
  "cells": [
    {
      "cell_type": "markdown",
      "metadata": {
        "id": "view-in-github",
        "colab_type": "text"
      },
      "source": [
        "<a href=\"https://colab.research.google.com/github/banned-books/project_banned_books/blob/main/data/scripts_data_scraping/script_to_download_book_images.ipynb\" target=\"_parent\"><img src=\"https://colab.research.google.com/assets/colab-badge.svg\" alt=\"Open In Colab\"/></a>"
      ]
    },
    {
      "cell_type": "markdown",
      "source": [
        "# Mount GDrive"
      ],
      "metadata": {
        "id": "ScTFwezyUhvH"
      }
    },
    {
      "cell_type": "code",
      "source": [
        "from google.colab import drive\n",
        "drive.mount('/content/gdrive/')"
      ],
      "metadata": {
        "colab": {
          "base_uri": "https://localhost:8080/"
        },
        "id": "sRBKvB7TUkww",
        "outputId": "6ad26f47-cca8-43f2-c842-d85479c18c15"
      },
      "execution_count": null,
      "outputs": [
        {
          "output_type": "stream",
          "name": "stdout",
          "text": [
            "Mounted at /content/gdrive/\n"
          ]
        }
      ]
    },
    {
      "cell_type": "markdown",
      "source": [
        "# Import Libraries"
      ],
      "metadata": {
        "id": "Aw2Qfhq5UBiM"
      }
    },
    {
      "cell_type": "code",
      "execution_count": null,
      "metadata": {
        "id": "J1nIaSQrT8t3"
      },
      "outputs": [],
      "source": [
        "import pandas as pd\n",
        "import requests"
      ]
    },
    {
      "cell_type": "markdown",
      "source": [
        "# Bring in Banned Booked Metadata & Drop Duplicate Titles"
      ],
      "metadata": {
        "id": "l-XTpHw5UFO6"
      }
    },
    {
      "cell_type": "code",
      "source": [
        "data = pd.read_csv('/content/gdrive/MyDrive/Colab Notebooks/data/original_data/banned_books.csv')\n",
        "data = data[['goodreads_image_url', 'title', 'goodreads_tags', 'author', 'goodreads_published_date']]\n",
        "data = data.drop_duplicates(subset=['title', 'author'])"
      ],
      "metadata": {
        "id": "EoA4mzLEUG2j"
      },
      "execution_count": null,
      "outputs": []
    },
    {
      "cell_type": "markdown",
      "source": [
        "# Run This Cell to Download Banned Book Cover Images "
      ],
      "metadata": {
        "id": "s4911yzmVE2i"
      }
    },
    {
      "cell_type": "code",
      "source": [
        "broken_images = []\n",
        "\n",
        "# Create a list of image_urls to iteratre over and download\n",
        "image_urls = data['goodreads_image_url'].tolist()\n",
        "\n",
        "for img in image_urls:\n",
        "    \n",
        "    # We can split the file based upon / and extract the last split within the python list below:\n",
        "    file_name = img.split('/')[-1]\n",
        "    \n",
        "    print(f\"This is the image file name: {file_name}\")\n",
        "    \n",
        "    # Now let's send a request to the image URL:\n",
        "    r = requests.get(img, stream=True)\n",
        "    \n",
        "    # We can check that the status code is 200 before doing anything else:\n",
        "    if r.status_code == 200:\n",
        "        \n",
        "        # This command below will allow us to write the data to a file as binary:\n",
        "        with open(file_name, 'wb') as f:\n",
        "            for chunk in r:\n",
        "                f.write(chunk)\n",
        "    else:\n",
        "        # We will write all of the images back to the broken_images list:\n",
        "        broken_images.append(img)"
      ],
      "metadata": {
        "colab": {
          "base_uri": "https://localhost:8080/"
        },
        "id": "DTTAu5ZDU8dY",
        "outputId": "e4729600-e542-44f9-9e7a-c92c04d11254"
      },
      "execution_count": null,
      "outputs": [
        {
          "output_type": "stream",
          "name": "stdout",
          "text": [
            "This is the file name: 55518780.jpg\n"
          ]
        }
      ]
    },
    {
      "cell_type": "code",
      "source": [
        "print('Print any broken image links and remain an empty list if all images work:', broken_images)"
      ],
      "metadata": {
        "colab": {
          "base_uri": "https://localhost:8080/"
        },
        "id": "UAs8in1iVShB",
        "outputId": "e97bf31a-34df-4b5f-bf29-7f4cc9766de3"
      },
      "execution_count": null,
      "outputs": [
        {
          "output_type": "stream",
          "name": "stdout",
          "text": [
            "Print any broken image links and remain an empty list if all images work: []\n"
          ]
        }
      ]
    }
  ]
}