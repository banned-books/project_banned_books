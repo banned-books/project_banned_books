{
  "cells": [
    {
      "cell_type": "markdown",
      "metadata": {
        "id": "view-in-github",
        "colab_type": "text"
      },
      "source": [
        "<a href=\"https://colab.research.google.com/github/banned-books/project_banned_books/blob/main/appendix/topic_exploration_pycaret.ipynb\" target=\"_parent\"><img src=\"https://colab.research.google.com/assets/colab-badge.svg\" alt=\"Open In Colab\"/></a>"
      ]
    },
    {
      "cell_type": "code",
      "source": [
        "from google.colab import drive\n",
        "drive.mount('/content/drive')"
      ],
      "metadata": {
        "colab": {
          "base_uri": "https://localhost:8080/"
        },
        "id": "AQAE0Yk3JTDi",
        "outputId": "89b94880-b5c4-4e4d-e4a1-bd7f39ce312e"
      },
      "id": "AQAE0Yk3JTDi",
      "execution_count": null,
      "outputs": [
        {
          "output_type": "stream",
          "name": "stdout",
          "text": [
            "Mounted at /content/drive\n"
          ]
        }
      ]
    },
    {
      "cell_type": "markdown",
      "id": "ff40abd0",
      "metadata": {
        "id": "ff40abd0"
      },
      "source": [
        "# Getting the Data\n"
      ]
    },
    {
      "cell_type": "code",
      "execution_count": null,
      "id": "2b771720",
      "metadata": {
        "id": "2b771720",
        "outputId": "0ee8cbf2-429e-4861-bbcc-f89d3d0a0d92"
      },
      "outputs": [
        {
          "data": {
            "text/html": [
              "<div>\n",
              "<style scoped>\n",
              "    .dataframe tbody tr th:only-of-type {\n",
              "        vertical-align: middle;\n",
              "    }\n",
              "\n",
              "    .dataframe tbody tr th {\n",
              "        vertical-align: top;\n",
              "    }\n",
              "\n",
              "    .dataframe thead th {\n",
              "        text-align: right;\n",
              "    }\n",
              "</style>\n",
              "<table border=\"1\" class=\"dataframe\">\n",
              "  <thead>\n",
              "    <tr style=\"text-align: right;\">\n",
              "      <th></th>\n",
              "      <th>goodreads_image_url</th>\n",
              "      <th>title</th>\n",
              "      <th>author</th>\n",
              "      <th>goodreads_published_date</th>\n",
              "      <th>goodreads_description</th>\n",
              "      <th>goodreads_tags</th>\n",
              "      <th>type_of_ban</th>\n",
              "      <th>state</th>\n",
              "      <th>district</th>\n",
              "      <th>ban_date</th>\n",
              "      <th>origin_of_challenge</th>\n",
              "      <th>goodreads_product_url</th>\n",
              "      <th>amazon_url</th>\n",
              "      <th>secondary_authors</th>\n",
              "      <th>illustrators</th>\n",
              "      <th>translators</th>\n",
              "    </tr>\n",
              "  </thead>\n",
              "  <tbody>\n",
              "    <tr>\n",
              "      <th>0</th>\n",
              "      <td>https://images-na.ssl-images-amazon.com/images...</td>\n",
              "      <td>Ace of Spades</td>\n",
              "      <td>Àbíké-Íyímídé, Faridah</td>\n",
              "      <td>2021-06-01</td>\n",
              "      <td>An incendiary and utterly compelling thriller ...</td>\n",
              "      <td>dark, lgbtqia+, black, young adult, gay romanc...</td>\n",
              "      <td>Banned in Libraries and Classrooms</td>\n",
              "      <td>Florida</td>\n",
              "      <td>Indian River County School District</td>\n",
              "      <td>November 2021</td>\n",
              "      <td>Administrator</td>\n",
              "      <td>https://www.goodreads.com/book/show/42603984-a...</td>\n",
              "      <td>https://www.amazon.com/Ace-Spades-Faridah-Abik...</td>\n",
              "      <td>NaN</td>\n",
              "      <td>NaN</td>\n",
              "      <td>NaN</td>\n",
              "    </tr>\n",
              "    <tr>\n",
              "      <th>1</th>\n",
              "      <td>https://images-na.ssl-images-amazon.com/images...</td>\n",
              "      <td>Clap When You Land</td>\n",
              "      <td>Acevedo, Elizabeth</td>\n",
              "      <td>2020-05-05</td>\n",
              "      <td>In a novel in verse that brims with grief and ...</td>\n",
              "      <td>young adult, poetry, contemporary, fiction, au...</td>\n",
              "      <td>Banned in Classrooms</td>\n",
              "      <td>Pennsylvania</td>\n",
              "      <td>Central York School District</td>\n",
              "      <td>September 2021</td>\n",
              "      <td>Administrator</td>\n",
              "      <td>https://www.goodreads.com/book/show/52516332-c...</td>\n",
              "      <td>https://www.amazon.com/Clap-When-Land-Elizabet...</td>\n",
              "      <td>NaN</td>\n",
              "      <td>NaN</td>\n",
              "      <td>NaN</td>\n",
              "    </tr>\n",
              "    <tr>\n",
              "      <th>2</th>\n",
              "      <td>https://images-na.ssl-images-amazon.com/images...</td>\n",
              "      <td>The Poet X</td>\n",
              "      <td>Acevedo, Elizabeth</td>\n",
              "      <td>2018-03-06</td>\n",
              "      <td>Fans of Jacqueline Woodson  Meg Medina  and Ja...</td>\n",
              "      <td>poetry, young adult, contemporary, fiction, au...</td>\n",
              "      <td>Banned in Libraries</td>\n",
              "      <td>Florida</td>\n",
              "      <td>Indian River County School District</td>\n",
              "      <td>November 2021</td>\n",
              "      <td>Administrator</td>\n",
              "      <td>https://www.goodreads.com/book/show/33294200-t...</td>\n",
              "      <td>https://www.amazon.com/Poet-X-Elizabeth-Aceved...</td>\n",
              "      <td>NaN</td>\n",
              "      <td>NaN</td>\n",
              "      <td>NaN</td>\n",
              "    </tr>\n",
              "  </tbody>\n",
              "</table>\n",
              "</div>"
            ],
            "text/plain": [
              "                                 goodreads_image_url               title  \\\n",
              "0  https://images-na.ssl-images-amazon.com/images...       Ace of Spades   \n",
              "1  https://images-na.ssl-images-amazon.com/images...  Clap When You Land   \n",
              "2  https://images-na.ssl-images-amazon.com/images...          The Poet X   \n",
              "\n",
              "                   author goodreads_published_date  \\\n",
              "0  Àbíké-Íyímídé, Faridah               2021-06-01   \n",
              "1      Acevedo, Elizabeth               2020-05-05   \n",
              "2      Acevedo, Elizabeth               2018-03-06   \n",
              "\n",
              "                               goodreads_description  \\\n",
              "0  An incendiary and utterly compelling thriller ...   \n",
              "1  In a novel in verse that brims with grief and ...   \n",
              "2  Fans of Jacqueline Woodson  Meg Medina  and Ja...   \n",
              "\n",
              "                                      goodreads_tags  \\\n",
              "0  dark, lgbtqia+, black, young adult, gay romanc...   \n",
              "1  young adult, poetry, contemporary, fiction, au...   \n",
              "2  poetry, young adult, contemporary, fiction, au...   \n",
              "\n",
              "                          type_of_ban         state  \\\n",
              "0  Banned in Libraries and Classrooms       Florida   \n",
              "1                Banned in Classrooms  Pennsylvania   \n",
              "2                 Banned in Libraries       Florida   \n",
              "\n",
              "                              district        ban_date origin_of_challenge  \\\n",
              "0  Indian River County School District   November 2021       Administrator   \n",
              "1         Central York School District  September 2021       Administrator   \n",
              "2  Indian River County School District   November 2021       Administrator   \n",
              "\n",
              "                               goodreads_product_url  \\\n",
              "0  https://www.goodreads.com/book/show/42603984-a...   \n",
              "1  https://www.goodreads.com/book/show/52516332-c...   \n",
              "2  https://www.goodreads.com/book/show/33294200-t...   \n",
              "\n",
              "                                          amazon_url secondary_authors  \\\n",
              "0  https://www.amazon.com/Ace-Spades-Faridah-Abik...               NaN   \n",
              "1  https://www.amazon.com/Clap-When-Land-Elizabet...               NaN   \n",
              "2  https://www.amazon.com/Poet-X-Elizabeth-Aceved...               NaN   \n",
              "\n",
              "  illustrators translators  \n",
              "0          NaN         NaN  \n",
              "1          NaN         NaN  \n",
              "2          NaN         NaN  "
            ]
          },
          "execution_count": 1,
          "metadata": {},
          "output_type": "execute_result"
        }
      ],
      "source": [
        "import numpy as np\n",
        "import pandas as pd\n",
        "\n",
        "df = pd.read_csv('banned_books.csv')\n",
        "df.head(3)"
      ]
    },
    {
      "cell_type": "markdown",
      "id": "a1f017b4",
      "metadata": {
        "id": "a1f017b4"
      },
      "source": [
        "# Setting up Environment in PyCaret\n",
        "The setup() function initializes the environment in pycaret and performs several text pre-processing steps that are imperative to work with NLP problems. setup must be called before executing any other function in pycaret. It takes two parameters: pandas dataframe and name of the text column passed as target parameter. You can also pass a list containing text, in which case you don't need to pass target parameter. When setup is executed, following pre-processing steps are applied automatically:\n",
        "\n",
        "* Removing Numeric Characters: All numeric characters are removed from the text. They are replaced with blanks.\n",
        "\n",
        "\n",
        "* Removing Special Characters: All non-alphanumeric special characters are removed from the text. They are also replaced with blanks.\n",
        "\n",
        "\n",
        "* Word Tokenization: Word tokenization is the process of splitting a large sample of text into words. This is the core requirement in natural language processing tasks where each word needs to be captured separately for further analysis. Read More \n",
        "\n",
        "\n",
        "* Stopword Removal: A stop word (or stopword) is a word that is often removed from text because it is common and provides little value for information retrieval, even though it might be linguistically meaningful. Example of such words in english language are: \"the\", \"a\", \"an\", \"in\" etc. Read More \n",
        "\n",
        "\n",
        "* Bigram Extraction: A bigram is a sequence of two adjacent elements from a string of tokens, which are typically letters, syllables, or words. For example: word New York is captured as two different words \"New\" and \"York\" when tokenization is performed but if it is repeated enough times, Bigram Extraction will represent the word as one i.e. \"New_York\" Read More \n",
        "\n",
        "\n",
        "* Trigram Extraction: Similar to bigram extraction, trigram is a sequence of three adjacent elements from a string of tokens. Read More \n",
        "\n",
        "\n",
        "* Lemmatizing: Lemmatization is the process of grouping together the inflected forms of a word so they can be analysed as a single word, identified by the word's lemma, or dictionary form. In English language, word appears in several inflected forms. For example the verb 'to walk' may appear as 'walk', 'walked', 'walks', 'walking'. The base form, 'walk', that one might look up in a dictionary, is called the lemma for the word. Read More \n",
        "\n",
        "\n",
        "* Custom Stopwords: Many times text contains words that are not stopwords by the rule of language but they add no or very little information. For example, in this tutorial we are using the loan dataset. \n",
        "\n",
        "Note : Some functionalities in pycaret.nlp requires english language model. The language model is not downloaded automatically when you install pycaret. You will have to download these python command line interface such as Anaconda Prompt. To download the model, please type the following in your command line:\n",
        "python -m spacy download en_core_web_sm \n",
        "python -m textblob.download_corpora "
      ]
    },
    {
      "cell_type": "code",
      "execution_count": null,
      "id": "b9d8ad73",
      "metadata": {
        "id": "b9d8ad73"
      },
      "outputs": [],
      "source": [
        "from pycaret.nlp import *"
      ]
    },
    {
      "cell_type": "code",
      "execution_count": null,
      "id": "c08af5b4",
      "metadata": {
        "id": "c08af5b4",
        "outputId": "fc2330d1-f86d-4b12-a165-b3f3d4c29935"
      },
      "outputs": [
        {
          "data": {
            "text/html": [
              "<div>\n",
              "<style scoped>\n",
              "    .dataframe tbody tr th:only-of-type {\n",
              "        vertical-align: middle;\n",
              "    }\n",
              "\n",
              "    .dataframe tbody tr th {\n",
              "        vertical-align: top;\n",
              "    }\n",
              "\n",
              "    .dataframe thead th {\n",
              "        text-align: right;\n",
              "    }\n",
              "</style>\n",
              "<table border=\"1\" class=\"dataframe\">\n",
              "  <thead>\n",
              "    <tr style=\"text-align: right;\">\n",
              "      <th></th>\n",
              "      <th>goodreads_description</th>\n",
              "    </tr>\n",
              "  </thead>\n",
              "  <tbody>\n",
              "    <tr>\n",
              "      <th>0</th>\n",
              "      <td>An incendiary and utterly compelling thriller ...</td>\n",
              "    </tr>\n",
              "    <tr>\n",
              "      <th>1</th>\n",
              "      <td>In a novel in verse that brims with grief and ...</td>\n",
              "    </tr>\n",
              "    <tr>\n",
              "      <th>2</th>\n",
              "      <td>Fans of Jacqueline Woodson  Meg Medina  and Ja...</td>\n",
              "    </tr>\n",
              "    <tr>\n",
              "      <th>3</th>\n",
              "      <td>Fans of Jacqueline Woodson  Meg Medina  and Ja...</td>\n",
              "    </tr>\n",
              "    <tr>\n",
              "      <th>4</th>\n",
              "      <td>Fans of Jacqueline Woodson  Meg Medina  and Ja...</td>\n",
              "    </tr>\n",
              "  </tbody>\n",
              "</table>\n",
              "</div>"
            ],
            "text/plain": [
              "                               goodreads_description\n",
              "0  An incendiary and utterly compelling thriller ...\n",
              "1  In a novel in verse that brims with grief and ...\n",
              "2  Fans of Jacqueline Woodson  Meg Medina  and Ja...\n",
              "3  Fans of Jacqueline Woodson  Meg Medina  and Ja...\n",
              "4  Fans of Jacqueline Woodson  Meg Medina  and Ja..."
            ]
          },
          "execution_count": 3,
          "metadata": {},
          "output_type": "execute_result"
        }
      ],
      "source": [
        "data = df[['goodreads_description']]\n",
        "data.head()"
      ]
    },
    {
      "cell_type": "code",
      "execution_count": null,
      "id": "80c57f22",
      "metadata": {
        "id": "80c57f22",
        "outputId": "bceaa28f-1fcd-4dee-9e1c-1e9ddea2a5c0"
      },
      "outputs": [
        {
          "data": {
            "text/html": [
              "<style type=\"text/css\">\n",
              "</style>\n",
              "<table id=\"T_285f3\">\n",
              "  <thead>\n",
              "    <tr>\n",
              "      <th id=\"T_285f3_level0_col0\" class=\"col_heading level0 col0\" >Description</th>\n",
              "      <th id=\"T_285f3_level0_col1\" class=\"col_heading level0 col1\" >Value</th>\n",
              "    </tr>\n",
              "  </thead>\n",
              "  <tbody>\n",
              "    <tr>\n",
              "      <td id=\"T_285f3_row0_col0\" class=\"data row0 col0\" >session_id</td>\n",
              "      <td id=\"T_285f3_row0_col1\" class=\"data row0 col1\" >123</td>\n",
              "    </tr>\n",
              "    <tr>\n",
              "      <td id=\"T_285f3_row1_col0\" class=\"data row1 col0\" >Documents</td>\n",
              "      <td id=\"T_285f3_row1_col1\" class=\"data row1 col1\" >2532</td>\n",
              "    </tr>\n",
              "    <tr>\n",
              "      <td id=\"T_285f3_row2_col0\" class=\"data row2 col0\" >Vocab Size</td>\n",
              "      <td id=\"T_285f3_row2_col1\" class=\"data row2 col1\" >10272</td>\n",
              "    </tr>\n",
              "    <tr>\n",
              "      <td id=\"T_285f3_row3_col0\" class=\"data row3 col0\" >Custom Stopwords</td>\n",
              "      <td id=\"T_285f3_row3_col1\" class=\"data row3 col1\" >False</td>\n",
              "    </tr>\n",
              "  </tbody>\n",
              "</table>\n"
            ],
            "text/plain": [
              "<pandas.io.formats.style.Styler at 0x7fcbfed6f0d0>"
            ]
          },
          "metadata": {},
          "output_type": "display_data"
        },
        {
          "name": "stdout",
          "output_type": "stream",
          "text": [
            "CPU times: user 15.4 s, sys: 262 ms, total: 15.7 s\n",
            "Wall time: 16.8 s\n"
          ]
        }
      ],
      "source": [
        "%time exp_nlp = setup(data = data,target = 'goodreads_description',session_id = 123)"
      ]
    },
    {
      "cell_type": "markdown",
      "id": "82f03241",
      "metadata": {
        "id": "82f03241"
      },
      "source": [
        "Once the setup is succesfully executed it prints the information grid with the following information:\n",
        "\n",
        "* session_id : A pseduo-random number distributed as a seed in all functions for later reproducibility. If no session_id is passed, a random number is automatically generated that is distributed to all functions. In this experiment session_id is set as 123 for later reproducibility.\n",
        "\n",
        "\n",
        "* Documents : Number of documents (or samples in dataset if dataframe is passed). \n",
        "\n",
        "\n",
        "* Vocab Size : Size of vocabulary in the corpus after applying all text pre-processing such as removal of stopwords, bigram/trigram extraction, lemmatization etc. "
      ]
    },
    {
      "cell_type": "markdown",
      "id": "1161531e",
      "metadata": {
        "id": "1161531e"
      },
      "source": [
        "# Create a Topic Model(s)\n"
      ]
    },
    {
      "cell_type": "code",
      "execution_count": null,
      "id": "31cd2cdf",
      "metadata": {
        "id": "31cd2cdf",
        "outputId": "eabb7cc0-31ac-45b0-b38d-32eac340ca8b"
      },
      "outputs": [
        {
          "data": {
            "text/html": [
              "<div>\n",
              "<style scoped>\n",
              "    .dataframe tbody tr th:only-of-type {\n",
              "        vertical-align: middle;\n",
              "    }\n",
              "\n",
              "    .dataframe tbody tr th {\n",
              "        vertical-align: top;\n",
              "    }\n",
              "\n",
              "    .dataframe thead th {\n",
              "        text-align: right;\n",
              "    }\n",
              "</style>\n",
              "<table border=\"1\" class=\"dataframe\">\n",
              "  <thead>\n",
              "    <tr style=\"text-align: right;\">\n",
              "      <th></th>\n",
              "      <th>Name</th>\n",
              "      <th>Reference</th>\n",
              "    </tr>\n",
              "    <tr>\n",
              "      <th>ID</th>\n",
              "      <th></th>\n",
              "      <th></th>\n",
              "    </tr>\n",
              "  </thead>\n",
              "  <tbody>\n",
              "    <tr>\n",
              "      <th>lda</th>\n",
              "      <td>Latent Dirichlet Allocation</td>\n",
              "      <td>gensim/models/ldamodel</td>\n",
              "    </tr>\n",
              "    <tr>\n",
              "      <th>lsi</th>\n",
              "      <td>Latent Semantic Indexing</td>\n",
              "      <td>gensim/models/lsimodel</td>\n",
              "    </tr>\n",
              "    <tr>\n",
              "      <th>hdp</th>\n",
              "      <td>Hierarchical Dirichlet Process</td>\n",
              "      <td>gensim/models/hdpmodel</td>\n",
              "    </tr>\n",
              "    <tr>\n",
              "      <th>rp</th>\n",
              "      <td>Random Projections</td>\n",
              "      <td>gensim/models/rpmodel</td>\n",
              "    </tr>\n",
              "    <tr>\n",
              "      <th>nmf</th>\n",
              "      <td>Non-Negative Matrix Factorization</td>\n",
              "      <td>sklearn.decomposition.NMF</td>\n",
              "    </tr>\n",
              "  </tbody>\n",
              "</table>\n",
              "</div>"
            ],
            "text/plain": [
              "                                  Name                  Reference\n",
              "ID                                                               \n",
              "lda        Latent Dirichlet Allocation     gensim/models/ldamodel\n",
              "lsi           Latent Semantic Indexing     gensim/models/lsimodel\n",
              "hdp     Hierarchical Dirichlet Process     gensim/models/hdpmodel\n",
              "rp                  Random Projections      gensim/models/rpmodel\n",
              "nmf  Non-Negative Matrix Factorization  sklearn.decomposition.NMF"
            ]
          },
          "execution_count": 5,
          "metadata": {},
          "output_type": "execute_result"
        }
      ],
      "source": [
        "models()"
      ]
    },
    {
      "cell_type": "markdown",
      "id": "4e9a0889",
      "metadata": {
        "id": "4e9a0889"
      },
      "source": [
        "### Choosing Number of Clusters\n",
        "\n",
        "The function tune_model under the pycaret.nlp allows us to run a simulation and graph the topics (x) per coherence (y) scores. This allows us to choose a guided approach to the number of topics across multiple models.\n"
      ]
    },
    {
      "cell_type": "code",
      "execution_count": null,
      "id": "13284272",
      "metadata": {
        "colab": {
          "referenced_widgets": [
            "",
            "13372f7c68a4414bbe56dacf9aea16e1"
          ]
        },
        "id": "13284272",
        "outputId": "8274d77e-73df-4b6e-e63d-91079e6ef62c"
      },
      "outputs": [
        {
          "data": {
            "application/vnd.jupyter.widget-view+json": {
              "model_id": "",
              "version_major": 2,
              "version_minor": 0
            },
            "text/plain": [
              "IntProgress(value=0, description='Processing: ', max=25)"
            ]
          },
          "metadata": {},
          "output_type": "display_data"
        },
        {
          "data": {
            "application/vnd.jupyter.widget-view+json": {
              "model_id": "13372f7c68a4414bbe56dacf9aea16e1",
              "version_major": 2,
              "version_minor": 0
            },
            "text/plain": [
              "Output()"
            ]
          },
          "metadata": {},
          "output_type": "display_data"
        },
        {
          "data": {
            "text/html": [
              "        <script type=\"text/javascript\">\n",
              "        window.PlotlyConfig = {MathJaxConfig: 'local'};\n",
              "        if (window.MathJax && window.MathJax.Hub && window.MathJax.Hub.Config) {window.MathJax.Hub.Config({SVG: {font: \"STIX-Web\"}});}\n",
              "        if (typeof require !== 'undefined') {\n",
              "        require.undef(\"plotly\");\n",
              "        requirejs.config({\n",
              "            paths: {\n",
              "                'plotly': ['https://cdn.plot.ly/plotly-2.18.2.min']\n",
              "            }\n",
              "        });\n",
              "        require(['plotly'], function(Plotly) {\n",
              "            window._Plotly = Plotly;\n",
              "        });\n",
              "        }\n",
              "        </script>\n",
              "        "
            ]
          },
          "metadata": {},
          "output_type": "display_data"
        },
        {
          "data": {
            "application/vnd.plotly.v1+json": {
              "config": {
                "plotlyServerURL": "https://plot.ly"
              },
              "data": [
                {
                  "hovertemplate": "Metric=Coherence<br># Topics=%{x}<br>Score=%{y}<extra></extra>",
                  "legendgroup": "Coherence",
                  "line": {
                    "color": "#636efa",
                    "dash": "solid",
                    "shape": "linear"
                  },
                  "marker": {
                    "symbol": "circle"
                  },
                  "mode": "lines",
                  "name": "Coherence",
                  "orientation": "v",
                  "showlegend": true,
                  "type": "scatter",
                  "x": [
                    2,
                    4,
                    8,
                    16,
                    32,
                    64,
                    100,
                    200,
                    300,
                    400
                  ],
                  "xaxis": "x",
                  "y": [
                    0.3765507791543411,
                    0.4083141171591381,
                    0.4087172183527312,
                    0.3971726342629469,
                    0.3762775661846621,
                    0.36573841786377964,
                    0.36827013834779576,
                    0.3855470229402414,
                    0.4150523908953913,
                    0.44456603296737607
                  ],
                  "yaxis": "y"
                }
              ],
              "layout": {
                "legend": {
                  "title": {
                    "text": "Metric"
                  },
                  "tracegroupgap": 0
                },
                "plot_bgcolor": "rgb(245,245,245)",
                "template": {
                  "data": {
                    "bar": [
                      {
                        "error_x": {
                          "color": "#2a3f5f"
                        },
                        "error_y": {
                          "color": "#2a3f5f"
                        },
                        "marker": {
                          "line": {
                            "color": "#E5ECF6",
                            "width": 0.5
                          },
                          "pattern": {
                            "fillmode": "overlay",
                            "size": 10,
                            "solidity": 0.2
                          }
                        },
                        "type": "bar"
                      }
                    ],
                    "barpolar": [
                      {
                        "marker": {
                          "line": {
                            "color": "#E5ECF6",
                            "width": 0.5
                          },
                          "pattern": {
                            "fillmode": "overlay",
                            "size": 10,
                            "solidity": 0.2
                          }
                        },
                        "type": "barpolar"
                      }
                    ],
                    "carpet": [
                      {
                        "aaxis": {
                          "endlinecolor": "#2a3f5f",
                          "gridcolor": "white",
                          "linecolor": "white",
                          "minorgridcolor": "white",
                          "startlinecolor": "#2a3f5f"
                        },
                        "baxis": {
                          "endlinecolor": "#2a3f5f",
                          "gridcolor": "white",
                          "linecolor": "white",
                          "minorgridcolor": "white",
                          "startlinecolor": "#2a3f5f"
                        },
                        "type": "carpet"
                      }
                    ],
                    "choropleth": [
                      {
                        "colorbar": {
                          "outlinewidth": 0,
                          "ticks": ""
                        },
                        "type": "choropleth"
                      }
                    ],
                    "contour": [
                      {
                        "colorbar": {
                          "outlinewidth": 0,
                          "ticks": ""
                        },
                        "colorscale": [
                          [
                            0,
                            "#0d0887"
                          ],
                          [
                            0.1111111111111111,
                            "#46039f"
                          ],
                          [
                            0.2222222222222222,
                            "#7201a8"
                          ],
                          [
                            0.3333333333333333,
                            "#9c179e"
                          ],
                          [
                            0.4444444444444444,
                            "#bd3786"
                          ],
                          [
                            0.5555555555555556,
                            "#d8576b"
                          ],
                          [
                            0.6666666666666666,
                            "#ed7953"
                          ],
                          [
                            0.7777777777777778,
                            "#fb9f3a"
                          ],
                          [
                            0.8888888888888888,
                            "#fdca26"
                          ],
                          [
                            1,
                            "#f0f921"
                          ]
                        ],
                        "type": "contour"
                      }
                    ],
                    "contourcarpet": [
                      {
                        "colorbar": {
                          "outlinewidth": 0,
                          "ticks": ""
                        },
                        "type": "contourcarpet"
                      }
                    ],
                    "heatmap": [
                      {
                        "colorbar": {
                          "outlinewidth": 0,
                          "ticks": ""
                        },
                        "colorscale": [
                          [
                            0,
                            "#0d0887"
                          ],
                          [
                            0.1111111111111111,
                            "#46039f"
                          ],
                          [
                            0.2222222222222222,
                            "#7201a8"
                          ],
                          [
                            0.3333333333333333,
                            "#9c179e"
                          ],
                          [
                            0.4444444444444444,
                            "#bd3786"
                          ],
                          [
                            0.5555555555555556,
                            "#d8576b"
                          ],
                          [
                            0.6666666666666666,
                            "#ed7953"
                          ],
                          [
                            0.7777777777777778,
                            "#fb9f3a"
                          ],
                          [
                            0.8888888888888888,
                            "#fdca26"
                          ],
                          [
                            1,
                            "#f0f921"
                          ]
                        ],
                        "type": "heatmap"
                      }
                    ],
                    "heatmapgl": [
                      {
                        "colorbar": {
                          "outlinewidth": 0,
                          "ticks": ""
                        },
                        "colorscale": [
                          [
                            0,
                            "#0d0887"
                          ],
                          [
                            0.1111111111111111,
                            "#46039f"
                          ],
                          [
                            0.2222222222222222,
                            "#7201a8"
                          ],
                          [
                            0.3333333333333333,
                            "#9c179e"
                          ],
                          [
                            0.4444444444444444,
                            "#bd3786"
                          ],
                          [
                            0.5555555555555556,
                            "#d8576b"
                          ],
                          [
                            0.6666666666666666,
                            "#ed7953"
                          ],
                          [
                            0.7777777777777778,
                            "#fb9f3a"
                          ],
                          [
                            0.8888888888888888,
                            "#fdca26"
                          ],
                          [
                            1,
                            "#f0f921"
                          ]
                        ],
                        "type": "heatmapgl"
                      }
                    ],
                    "histogram": [
                      {
                        "marker": {
                          "pattern": {
                            "fillmode": "overlay",
                            "size": 10,
                            "solidity": 0.2
                          }
                        },
                        "type": "histogram"
                      }
                    ],
                    "histogram2d": [
                      {
                        "colorbar": {
                          "outlinewidth": 0,
                          "ticks": ""
                        },
                        "colorscale": [
                          [
                            0,
                            "#0d0887"
                          ],
                          [
                            0.1111111111111111,
                            "#46039f"
                          ],
                          [
                            0.2222222222222222,
                            "#7201a8"
                          ],
                          [
                            0.3333333333333333,
                            "#9c179e"
                          ],
                          [
                            0.4444444444444444,
                            "#bd3786"
                          ],
                          [
                            0.5555555555555556,
                            "#d8576b"
                          ],
                          [
                            0.6666666666666666,
                            "#ed7953"
                          ],
                          [
                            0.7777777777777778,
                            "#fb9f3a"
                          ],
                          [
                            0.8888888888888888,
                            "#fdca26"
                          ],
                          [
                            1,
                            "#f0f921"
                          ]
                        ],
                        "type": "histogram2d"
                      }
                    ],
                    "histogram2dcontour": [
                      {
                        "colorbar": {
                          "outlinewidth": 0,
                          "ticks": ""
                        },
                        "colorscale": [
                          [
                            0,
                            "#0d0887"
                          ],
                          [
                            0.1111111111111111,
                            "#46039f"
                          ],
                          [
                            0.2222222222222222,
                            "#7201a8"
                          ],
                          [
                            0.3333333333333333,
                            "#9c179e"
                          ],
                          [
                            0.4444444444444444,
                            "#bd3786"
                          ],
                          [
                            0.5555555555555556,
                            "#d8576b"
                          ],
                          [
                            0.6666666666666666,
                            "#ed7953"
                          ],
                          [
                            0.7777777777777778,
                            "#fb9f3a"
                          ],
                          [
                            0.8888888888888888,
                            "#fdca26"
                          ],
                          [
                            1,
                            "#f0f921"
                          ]
                        ],
                        "type": "histogram2dcontour"
                      }
                    ],
                    "mesh3d": [
                      {
                        "colorbar": {
                          "outlinewidth": 0,
                          "ticks": ""
                        },
                        "type": "mesh3d"
                      }
                    ],
                    "parcoords": [
                      {
                        "line": {
                          "colorbar": {
                            "outlinewidth": 0,
                            "ticks": ""
                          }
                        },
                        "type": "parcoords"
                      }
                    ],
                    "pie": [
                      {
                        "automargin": true,
                        "type": "pie"
                      }
                    ],
                    "scatter": [
                      {
                        "fillpattern": {
                          "fillmode": "overlay",
                          "size": 10,
                          "solidity": 0.2
                        },
                        "type": "scatter"
                      }
                    ],
                    "scatter3d": [
                      {
                        "line": {
                          "colorbar": {
                            "outlinewidth": 0,
                            "ticks": ""
                          }
                        },
                        "marker": {
                          "colorbar": {
                            "outlinewidth": 0,
                            "ticks": ""
                          }
                        },
                        "type": "scatter3d"
                      }
                    ],
                    "scattercarpet": [
                      {
                        "marker": {
                          "colorbar": {
                            "outlinewidth": 0,
                            "ticks": ""
                          }
                        },
                        "type": "scattercarpet"
                      }
                    ],
                    "scattergeo": [
                      {
                        "marker": {
                          "colorbar": {
                            "outlinewidth": 0,
                            "ticks": ""
                          }
                        },
                        "type": "scattergeo"
                      }
                    ],
                    "scattergl": [
                      {
                        "marker": {
                          "colorbar": {
                            "outlinewidth": 0,
                            "ticks": ""
                          }
                        },
                        "type": "scattergl"
                      }
                    ],
                    "scattermapbox": [
                      {
                        "marker": {
                          "colorbar": {
                            "outlinewidth": 0,
                            "ticks": ""
                          }
                        },
                        "type": "scattermapbox"
                      }
                    ],
                    "scatterpolar": [
                      {
                        "marker": {
                          "colorbar": {
                            "outlinewidth": 0,
                            "ticks": ""
                          }
                        },
                        "type": "scatterpolar"
                      }
                    ],
                    "scatterpolargl": [
                      {
                        "marker": {
                          "colorbar": {
                            "outlinewidth": 0,
                            "ticks": ""
                          }
                        },
                        "type": "scatterpolargl"
                      }
                    ],
                    "scatterternary": [
                      {
                        "marker": {
                          "colorbar": {
                            "outlinewidth": 0,
                            "ticks": ""
                          }
                        },
                        "type": "scatterternary"
                      }
                    ],
                    "surface": [
                      {
                        "colorbar": {
                          "outlinewidth": 0,
                          "ticks": ""
                        },
                        "colorscale": [
                          [
                            0,
                            "#0d0887"
                          ],
                          [
                            0.1111111111111111,
                            "#46039f"
                          ],
                          [
                            0.2222222222222222,
                            "#7201a8"
                          ],
                          [
                            0.3333333333333333,
                            "#9c179e"
                          ],
                          [
                            0.4444444444444444,
                            "#bd3786"
                          ],
                          [
                            0.5555555555555556,
                            "#d8576b"
                          ],
                          [
                            0.6666666666666666,
                            "#ed7953"
                          ],
                          [
                            0.7777777777777778,
                            "#fb9f3a"
                          ],
                          [
                            0.8888888888888888,
                            "#fdca26"
                          ],
                          [
                            1,
                            "#f0f921"
                          ]
                        ],
                        "type": "surface"
                      }
                    ],
                    "table": [
                      {
                        "cells": {
                          "fill": {
                            "color": "#EBF0F8"
                          },
                          "line": {
                            "color": "white"
                          }
                        },
                        "header": {
                          "fill": {
                            "color": "#C8D4E3"
                          },
                          "line": {
                            "color": "white"
                          }
                        },
                        "type": "table"
                      }
                    ]
                  },
                  "layout": {
                    "annotationdefaults": {
                      "arrowcolor": "#2a3f5f",
                      "arrowhead": 0,
                      "arrowwidth": 1
                    },
                    "autotypenumbers": "strict",
                    "coloraxis": {
                      "colorbar": {
                        "outlinewidth": 0,
                        "ticks": ""
                      }
                    },
                    "colorscale": {
                      "diverging": [
                        [
                          0,
                          "#8e0152"
                        ],
                        [
                          0.1,
                          "#c51b7d"
                        ],
                        [
                          0.2,
                          "#de77ae"
                        ],
                        [
                          0.3,
                          "#f1b6da"
                        ],
                        [
                          0.4,
                          "#fde0ef"
                        ],
                        [
                          0.5,
                          "#f7f7f7"
                        ],
                        [
                          0.6,
                          "#e6f5d0"
                        ],
                        [
                          0.7,
                          "#b8e186"
                        ],
                        [
                          0.8,
                          "#7fbc41"
                        ],
                        [
                          0.9,
                          "#4d9221"
                        ],
                        [
                          1,
                          "#276419"
                        ]
                      ],
                      "sequential": [
                        [
                          0,
                          "#0d0887"
                        ],
                        [
                          0.1111111111111111,
                          "#46039f"
                        ],
                        [
                          0.2222222222222222,
                          "#7201a8"
                        ],
                        [
                          0.3333333333333333,
                          "#9c179e"
                        ],
                        [
                          0.4444444444444444,
                          "#bd3786"
                        ],
                        [
                          0.5555555555555556,
                          "#d8576b"
                        ],
                        [
                          0.6666666666666666,
                          "#ed7953"
                        ],
                        [
                          0.7777777777777778,
                          "#fb9f3a"
                        ],
                        [
                          0.8888888888888888,
                          "#fdca26"
                        ],
                        [
                          1,
                          "#f0f921"
                        ]
                      ],
                      "sequentialminus": [
                        [
                          0,
                          "#0d0887"
                        ],
                        [
                          0.1111111111111111,
                          "#46039f"
                        ],
                        [
                          0.2222222222222222,
                          "#7201a8"
                        ],
                        [
                          0.3333333333333333,
                          "#9c179e"
                        ],
                        [
                          0.4444444444444444,
                          "#bd3786"
                        ],
                        [
                          0.5555555555555556,
                          "#d8576b"
                        ],
                        [
                          0.6666666666666666,
                          "#ed7953"
                        ],
                        [
                          0.7777777777777778,
                          "#fb9f3a"
                        ],
                        [
                          0.8888888888888888,
                          "#fdca26"
                        ],
                        [
                          1,
                          "#f0f921"
                        ]
                      ]
                    },
                    "colorway": [
                      "#636efa",
                      "#EF553B",
                      "#00cc96",
                      "#ab63fa",
                      "#FFA15A",
                      "#19d3f3",
                      "#FF6692",
                      "#B6E880",
                      "#FF97FF",
                      "#FECB52"
                    ],
                    "font": {
                      "color": "#2a3f5f"
                    },
                    "geo": {
                      "bgcolor": "white",
                      "lakecolor": "white",
                      "landcolor": "#E5ECF6",
                      "showlakes": true,
                      "showland": true,
                      "subunitcolor": "white"
                    },
                    "hoverlabel": {
                      "align": "left"
                    },
                    "hovermode": "closest",
                    "mapbox": {
                      "style": "light"
                    },
                    "paper_bgcolor": "white",
                    "plot_bgcolor": "#E5ECF6",
                    "polar": {
                      "angularaxis": {
                        "gridcolor": "white",
                        "linecolor": "white",
                        "ticks": ""
                      },
                      "bgcolor": "#E5ECF6",
                      "radialaxis": {
                        "gridcolor": "white",
                        "linecolor": "white",
                        "ticks": ""
                      }
                    },
                    "scene": {
                      "xaxis": {
                        "backgroundcolor": "#E5ECF6",
                        "gridcolor": "white",
                        "gridwidth": 2,
                        "linecolor": "white",
                        "showbackground": true,
                        "ticks": "",
                        "zerolinecolor": "white"
                      },
                      "yaxis": {
                        "backgroundcolor": "#E5ECF6",
                        "gridcolor": "white",
                        "gridwidth": 2,
                        "linecolor": "white",
                        "showbackground": true,
                        "ticks": "",
                        "zerolinecolor": "white"
                      },
                      "zaxis": {
                        "backgroundcolor": "#E5ECF6",
                        "gridcolor": "white",
                        "gridwidth": 2,
                        "linecolor": "white",
                        "showbackground": true,
                        "ticks": "",
                        "zerolinecolor": "white"
                      }
                    },
                    "shapedefaults": {
                      "line": {
                        "color": "#2a3f5f"
                      }
                    },
                    "ternary": {
                      "aaxis": {
                        "gridcolor": "white",
                        "linecolor": "white",
                        "ticks": ""
                      },
                      "baxis": {
                        "gridcolor": "white",
                        "linecolor": "white",
                        "ticks": ""
                      },
                      "bgcolor": "#E5ECF6",
                      "caxis": {
                        "gridcolor": "white",
                        "linecolor": "white",
                        "ticks": ""
                      }
                    },
                    "title": {
                      "x": 0.05
                    },
                    "xaxis": {
                      "automargin": true,
                      "gridcolor": "white",
                      "linecolor": "white",
                      "ticks": "",
                      "title": {
                        "standoff": 15
                      },
                      "zerolinecolor": "white",
                      "zerolinewidth": 2
                    },
                    "yaxis": {
                      "automargin": true,
                      "gridcolor": "white",
                      "linecolor": "white",
                      "ticks": "",
                      "title": {
                        "standoff": 15
                      },
                      "zerolinecolor": "white",
                      "zerolinewidth": 2
                    }
                  }
                },
                "title": {
                  "text": "Coherence Value and # of Topics"
                },
                "xaxis": {
                  "anchor": "y",
                  "domain": [
                    0,
                    1
                  ],
                  "title": {
                    "text": "# Topics"
                  }
                },
                "yaxis": {
                  "anchor": "x",
                  "domain": [
                    0,
                    1
                  ],
                  "title": {
                    "text": "Score"
                  }
                }
              }
            },
            "text/html": [
              "<div>                            <div id=\"dd637d13-5027-4039-86d2-121bc56300ef\" class=\"plotly-graph-div\" style=\"height:525px; width:100%;\"></div>            <script type=\"text/javascript\">                require([\"plotly\"], function(Plotly) {                    window.PLOTLYENV=window.PLOTLYENV || {};                                    if (document.getElementById(\"dd637d13-5027-4039-86d2-121bc56300ef\")) {                    Plotly.newPlot(                        \"dd637d13-5027-4039-86d2-121bc56300ef\",                        [{\"hovertemplate\":\"Metric=Coherence<br># Topics=%{x}<br>Score=%{y}<extra></extra>\",\"legendgroup\":\"Coherence\",\"line\":{\"color\":\"#636efa\",\"dash\":\"solid\",\"shape\":\"linear\"},\"marker\":{\"symbol\":\"circle\"},\"mode\":\"lines\",\"name\":\"Coherence\",\"orientation\":\"v\",\"showlegend\":true,\"x\":[2,4,8,16,32,64,100,200,300,400],\"xaxis\":\"x\",\"y\":[0.3765507791543411,0.4083141171591381,0.4087172183527312,0.3971726342629469,0.3762775661846621,0.36573841786377964,0.36827013834779576,0.3855470229402414,0.4150523908953913,0.44456603296737607],\"yaxis\":\"y\",\"type\":\"scatter\"}],                        {\"template\":{\"data\":{\"histogram2dcontour\":[{\"type\":\"histogram2dcontour\",\"colorbar\":{\"outlinewidth\":0,\"ticks\":\"\"},\"colorscale\":[[0.0,\"#0d0887\"],[0.1111111111111111,\"#46039f\"],[0.2222222222222222,\"#7201a8\"],[0.3333333333333333,\"#9c179e\"],[0.4444444444444444,\"#bd3786\"],[0.5555555555555556,\"#d8576b\"],[0.6666666666666666,\"#ed7953\"],[0.7777777777777778,\"#fb9f3a\"],[0.8888888888888888,\"#fdca26\"],[1.0,\"#f0f921\"]]}],\"choropleth\":[{\"type\":\"choropleth\",\"colorbar\":{\"outlinewidth\":0,\"ticks\":\"\"}}],\"histogram2d\":[{\"type\":\"histogram2d\",\"colorbar\":{\"outlinewidth\":0,\"ticks\":\"\"},\"colorscale\":[[0.0,\"#0d0887\"],[0.1111111111111111,\"#46039f\"],[0.2222222222222222,\"#7201a8\"],[0.3333333333333333,\"#9c179e\"],[0.4444444444444444,\"#bd3786\"],[0.5555555555555556,\"#d8576b\"],[0.6666666666666666,\"#ed7953\"],[0.7777777777777778,\"#fb9f3a\"],[0.8888888888888888,\"#fdca26\"],[1.0,\"#f0f921\"]]}],\"heatmap\":[{\"type\":\"heatmap\",\"colorbar\":{\"outlinewidth\":0,\"ticks\":\"\"},\"colorscale\":[[0.0,\"#0d0887\"],[0.1111111111111111,\"#46039f\"],[0.2222222222222222,\"#7201a8\"],[0.3333333333333333,\"#9c179e\"],[0.4444444444444444,\"#bd3786\"],[0.5555555555555556,\"#d8576b\"],[0.6666666666666666,\"#ed7953\"],[0.7777777777777778,\"#fb9f3a\"],[0.8888888888888888,\"#fdca26\"],[1.0,\"#f0f921\"]]}],\"heatmapgl\":[{\"type\":\"heatmapgl\",\"colorbar\":{\"outlinewidth\":0,\"ticks\":\"\"},\"colorscale\":[[0.0,\"#0d0887\"],[0.1111111111111111,\"#46039f\"],[0.2222222222222222,\"#7201a8\"],[0.3333333333333333,\"#9c179e\"],[0.4444444444444444,\"#bd3786\"],[0.5555555555555556,\"#d8576b\"],[0.6666666666666666,\"#ed7953\"],[0.7777777777777778,\"#fb9f3a\"],[0.8888888888888888,\"#fdca26\"],[1.0,\"#f0f921\"]]}],\"contourcarpet\":[{\"type\":\"contourcarpet\",\"colorbar\":{\"outlinewidth\":0,\"ticks\":\"\"}}],\"contour\":[{\"type\":\"contour\",\"colorbar\":{\"outlinewidth\":0,\"ticks\":\"\"},\"colorscale\":[[0.0,\"#0d0887\"],[0.1111111111111111,\"#46039f\"],[0.2222222222222222,\"#7201a8\"],[0.3333333333333333,\"#9c179e\"],[0.4444444444444444,\"#bd3786\"],[0.5555555555555556,\"#d8576b\"],[0.6666666666666666,\"#ed7953\"],[0.7777777777777778,\"#fb9f3a\"],[0.8888888888888888,\"#fdca26\"],[1.0,\"#f0f921\"]]}],\"surface\":[{\"type\":\"surface\",\"colorbar\":{\"outlinewidth\":0,\"ticks\":\"\"},\"colorscale\":[[0.0,\"#0d0887\"],[0.1111111111111111,\"#46039f\"],[0.2222222222222222,\"#7201a8\"],[0.3333333333333333,\"#9c179e\"],[0.4444444444444444,\"#bd3786\"],[0.5555555555555556,\"#d8576b\"],[0.6666666666666666,\"#ed7953\"],[0.7777777777777778,\"#fb9f3a\"],[0.8888888888888888,\"#fdca26\"],[1.0,\"#f0f921\"]]}],\"mesh3d\":[{\"type\":\"mesh3d\",\"colorbar\":{\"outlinewidth\":0,\"ticks\":\"\"}}],\"scatter\":[{\"fillpattern\":{\"fillmode\":\"overlay\",\"size\":10,\"solidity\":0.2},\"type\":\"scatter\"}],\"parcoords\":[{\"type\":\"parcoords\",\"line\":{\"colorbar\":{\"outlinewidth\":0,\"ticks\":\"\"}}}],\"scatterpolargl\":[{\"type\":\"scatterpolargl\",\"marker\":{\"colorbar\":{\"outlinewidth\":0,\"ticks\":\"\"}}}],\"bar\":[{\"error_x\":{\"color\":\"#2a3f5f\"},\"error_y\":{\"color\":\"#2a3f5f\"},\"marker\":{\"line\":{\"color\":\"#E5ECF6\",\"width\":0.5},\"pattern\":{\"fillmode\":\"overlay\",\"size\":10,\"solidity\":0.2}},\"type\":\"bar\"}],\"scattergeo\":[{\"type\":\"scattergeo\",\"marker\":{\"colorbar\":{\"outlinewidth\":0,\"ticks\":\"\"}}}],\"scatterpolar\":[{\"type\":\"scatterpolar\",\"marker\":{\"colorbar\":{\"outlinewidth\":0,\"ticks\":\"\"}}}],\"histogram\":[{\"marker\":{\"pattern\":{\"fillmode\":\"overlay\",\"size\":10,\"solidity\":0.2}},\"type\":\"histogram\"}],\"scattergl\":[{\"type\":\"scattergl\",\"marker\":{\"colorbar\":{\"outlinewidth\":0,\"ticks\":\"\"}}}],\"scatter3d\":[{\"type\":\"scatter3d\",\"line\":{\"colorbar\":{\"outlinewidth\":0,\"ticks\":\"\"}},\"marker\":{\"colorbar\":{\"outlinewidth\":0,\"ticks\":\"\"}}}],\"scattermapbox\":[{\"type\":\"scattermapbox\",\"marker\":{\"colorbar\":{\"outlinewidth\":0,\"ticks\":\"\"}}}],\"scatterternary\":[{\"type\":\"scatterternary\",\"marker\":{\"colorbar\":{\"outlinewidth\":0,\"ticks\":\"\"}}}],\"scattercarpet\":[{\"type\":\"scattercarpet\",\"marker\":{\"colorbar\":{\"outlinewidth\":0,\"ticks\":\"\"}}}],\"carpet\":[{\"aaxis\":{\"endlinecolor\":\"#2a3f5f\",\"gridcolor\":\"white\",\"linecolor\":\"white\",\"minorgridcolor\":\"white\",\"startlinecolor\":\"#2a3f5f\"},\"baxis\":{\"endlinecolor\":\"#2a3f5f\",\"gridcolor\":\"white\",\"linecolor\":\"white\",\"minorgridcolor\":\"white\",\"startlinecolor\":\"#2a3f5f\"},\"type\":\"carpet\"}],\"table\":[{\"cells\":{\"fill\":{\"color\":\"#EBF0F8\"},\"line\":{\"color\":\"white\"}},\"header\":{\"fill\":{\"color\":\"#C8D4E3\"},\"line\":{\"color\":\"white\"}},\"type\":\"table\"}],\"barpolar\":[{\"marker\":{\"line\":{\"color\":\"#E5ECF6\",\"width\":0.5},\"pattern\":{\"fillmode\":\"overlay\",\"size\":10,\"solidity\":0.2}},\"type\":\"barpolar\"}],\"pie\":[{\"automargin\":true,\"type\":\"pie\"}]},\"layout\":{\"autotypenumbers\":\"strict\",\"colorway\":[\"#636efa\",\"#EF553B\",\"#00cc96\",\"#ab63fa\",\"#FFA15A\",\"#19d3f3\",\"#FF6692\",\"#B6E880\",\"#FF97FF\",\"#FECB52\"],\"font\":{\"color\":\"#2a3f5f\"},\"hovermode\":\"closest\",\"hoverlabel\":{\"align\":\"left\"},\"paper_bgcolor\":\"white\",\"plot_bgcolor\":\"#E5ECF6\",\"polar\":{\"bgcolor\":\"#E5ECF6\",\"angularaxis\":{\"gridcolor\":\"white\",\"linecolor\":\"white\",\"ticks\":\"\"},\"radialaxis\":{\"gridcolor\":\"white\",\"linecolor\":\"white\",\"ticks\":\"\"}},\"ternary\":{\"bgcolor\":\"#E5ECF6\",\"aaxis\":{\"gridcolor\":\"white\",\"linecolor\":\"white\",\"ticks\":\"\"},\"baxis\":{\"gridcolor\":\"white\",\"linecolor\":\"white\",\"ticks\":\"\"},\"caxis\":{\"gridcolor\":\"white\",\"linecolor\":\"white\",\"ticks\":\"\"}},\"coloraxis\":{\"colorbar\":{\"outlinewidth\":0,\"ticks\":\"\"}},\"colorscale\":{\"sequential\":[[0.0,\"#0d0887\"],[0.1111111111111111,\"#46039f\"],[0.2222222222222222,\"#7201a8\"],[0.3333333333333333,\"#9c179e\"],[0.4444444444444444,\"#bd3786\"],[0.5555555555555556,\"#d8576b\"],[0.6666666666666666,\"#ed7953\"],[0.7777777777777778,\"#fb9f3a\"],[0.8888888888888888,\"#fdca26\"],[1.0,\"#f0f921\"]],\"sequentialminus\":[[0.0,\"#0d0887\"],[0.1111111111111111,\"#46039f\"],[0.2222222222222222,\"#7201a8\"],[0.3333333333333333,\"#9c179e\"],[0.4444444444444444,\"#bd3786\"],[0.5555555555555556,\"#d8576b\"],[0.6666666666666666,\"#ed7953\"],[0.7777777777777778,\"#fb9f3a\"],[0.8888888888888888,\"#fdca26\"],[1.0,\"#f0f921\"]],\"diverging\":[[0,\"#8e0152\"],[0.1,\"#c51b7d\"],[0.2,\"#de77ae\"],[0.3,\"#f1b6da\"],[0.4,\"#fde0ef\"],[0.5,\"#f7f7f7\"],[0.6,\"#e6f5d0\"],[0.7,\"#b8e186\"],[0.8,\"#7fbc41\"],[0.9,\"#4d9221\"],[1,\"#276419\"]]},\"xaxis\":{\"gridcolor\":\"white\",\"linecolor\":\"white\",\"ticks\":\"\",\"title\":{\"standoff\":15},\"zerolinecolor\":\"white\",\"automargin\":true,\"zerolinewidth\":2},\"yaxis\":{\"gridcolor\":\"white\",\"linecolor\":\"white\",\"ticks\":\"\",\"title\":{\"standoff\":15},\"zerolinecolor\":\"white\",\"automargin\":true,\"zerolinewidth\":2},\"scene\":{\"xaxis\":{\"backgroundcolor\":\"#E5ECF6\",\"gridcolor\":\"white\",\"linecolor\":\"white\",\"showbackground\":true,\"ticks\":\"\",\"zerolinecolor\":\"white\",\"gridwidth\":2},\"yaxis\":{\"backgroundcolor\":\"#E5ECF6\",\"gridcolor\":\"white\",\"linecolor\":\"white\",\"showbackground\":true,\"ticks\":\"\",\"zerolinecolor\":\"white\",\"gridwidth\":2},\"zaxis\":{\"backgroundcolor\":\"#E5ECF6\",\"gridcolor\":\"white\",\"linecolor\":\"white\",\"showbackground\":true,\"ticks\":\"\",\"zerolinecolor\":\"white\",\"gridwidth\":2}},\"shapedefaults\":{\"line\":{\"color\":\"#2a3f5f\"}},\"annotationdefaults\":{\"arrowcolor\":\"#2a3f5f\",\"arrowhead\":0,\"arrowwidth\":1},\"geo\":{\"bgcolor\":\"white\",\"landcolor\":\"#E5ECF6\",\"subunitcolor\":\"white\",\"showland\":true,\"showlakes\":true,\"lakecolor\":\"white\"},\"title\":{\"x\":0.05},\"mapbox\":{\"style\":\"light\"}}},\"xaxis\":{\"anchor\":\"y\",\"domain\":[0.0,1.0],\"title\":{\"text\":\"# Topics\"}},\"yaxis\":{\"anchor\":\"x\",\"domain\":[0.0,1.0],\"title\":{\"text\":\"Score\"}},\"legend\":{\"title\":{\"text\":\"Metric\"},\"tracegroupgap\":0},\"title\":{\"text\":\"Coherence Value and # of Topics\"},\"plot_bgcolor\":\"rgb(245,245,245)\"},                        {\"responsive\": true}                    ).then(function(){\n",
              "                            \n",
              "var gd = document.getElementById('dd637d13-5027-4039-86d2-121bc56300ef');\n",
              "var x = new MutationObserver(function (mutations, observer) {{\n",
              "        var display = window.getComputedStyle(gd).display;\n",
              "        if (!display || display === 'none') {{\n",
              "            console.log([gd, 'removed!']);\n",
              "            Plotly.purge(gd);\n",
              "            observer.disconnect();\n",
              "        }}\n",
              "}});\n",
              "\n",
              "// Listen for the removal of the full notebook cells\n",
              "var notebookContainer = gd.closest('#notebook-container');\n",
              "if (notebookContainer) {{\n",
              "    x.observe(notebookContainer, {childList: true});\n",
              "}}\n",
              "\n",
              "// Listen for the clearing of the current output cell\n",
              "var outputEl = gd.closest('.output');\n",
              "if (outputEl) {{\n",
              "    x.observe(outputEl, {childList: true});\n",
              "}}\n",
              "\n",
              "                        })                };                });            </script>        </div>"
            ]
          },
          "metadata": {},
          "output_type": "display_data"
        },
        {
          "name": "stdout",
          "output_type": "stream",
          "text": [
            "Best Model: Latent Dirichlet Allocation | # Topics: 400 | Coherence: 0.4446\n",
            "CPU times: user 2min 48s, sys: 1min 54s, total: 4min 43s\n",
            "Wall time: 3min 53s\n"
          ]
        }
      ],
      "source": [
        "%time tuned_lda = tune_model(model = 'lda', multi_core = True)"
      ]
    },
    {
      "cell_type": "code",
      "execution_count": null,
      "id": "3fb410c2",
      "metadata": {
        "colab": {
          "referenced_widgets": [
            "",
            "a42464dd17c0457eacfa3f32aa63276e"
          ]
        },
        "id": "3fb410c2",
        "outputId": "b4766a8d-c9ab-44be-d691-f5e1f5907015"
      },
      "outputs": [
        {
          "data": {
            "application/vnd.jupyter.widget-view+json": {
              "model_id": "",
              "version_major": 2,
              "version_minor": 0
            },
            "text/plain": [
              "IntProgress(value=0, description='Processing: ', max=25)"
            ]
          },
          "metadata": {},
          "output_type": "display_data"
        },
        {
          "data": {
            "application/vnd.jupyter.widget-view+json": {
              "model_id": "a42464dd17c0457eacfa3f32aa63276e",
              "version_major": 2,
              "version_minor": 0
            },
            "text/plain": [
              "Output()"
            ]
          },
          "metadata": {},
          "output_type": "display_data"
        },
        {
          "data": {
            "text/html": [
              "        <script type=\"text/javascript\">\n",
              "        window.PlotlyConfig = {MathJaxConfig: 'local'};\n",
              "        if (window.MathJax && window.MathJax.Hub && window.MathJax.Hub.Config) {window.MathJax.Hub.Config({SVG: {font: \"STIX-Web\"}});}\n",
              "        if (typeof require !== 'undefined') {\n",
              "        require.undef(\"plotly\");\n",
              "        requirejs.config({\n",
              "            paths: {\n",
              "                'plotly': ['https://cdn.plot.ly/plotly-2.18.2.min']\n",
              "            }\n",
              "        });\n",
              "        require(['plotly'], function(Plotly) {\n",
              "            window._Plotly = Plotly;\n",
              "        });\n",
              "        }\n",
              "        </script>\n",
              "        "
            ]
          },
          "metadata": {},
          "output_type": "display_data"
        },
        {
          "name": "stderr",
          "output_type": "stream",
          "text": [
            "IOPub message rate exceeded.\n",
            "The notebook server will temporarily stop sending output\n",
            "to the client in order to avoid crashing it.\n",
            "To change this limit, set the config variable\n",
            "`--NotebookApp.iopub_msg_rate_limit`.\n",
            "\n",
            "Current values:\n",
            "NotebookApp.iopub_msg_rate_limit=1000.0 (msgs/sec)\n",
            "NotebookApp.rate_limit_window=3.0 (secs)\n",
            "\n",
            "IOPub message rate exceeded.\n",
            "The notebook server will temporarily stop sending output\n",
            "to the client in order to avoid crashing it.\n",
            "To change this limit, set the config variable\n",
            "`--NotebookApp.iopub_msg_rate_limit`.\n",
            "\n",
            "Current values:\n",
            "NotebookApp.iopub_msg_rate_limit=1000.0 (msgs/sec)\n",
            "NotebookApp.rate_limit_window=3.0 (secs)\n",
            "\n",
            "IOPub message rate exceeded.\n",
            "The notebook server will temporarily stop sending output\n",
            "to the client in order to avoid crashing it.\n",
            "To change this limit, set the config variable\n",
            "`--NotebookApp.iopub_msg_rate_limit`.\n",
            "\n",
            "Current values:\n",
            "NotebookApp.iopub_msg_rate_limit=1000.0 (msgs/sec)\n",
            "NotebookApp.rate_limit_window=3.0 (secs)\n",
            "\n"
          ]
        },
        {
          "data": {
            "application/vnd.plotly.v1+json": {
              "config": {
                "plotlyServerURL": "https://plot.ly"
              },
              "data": [
                {
                  "hovertemplate": "Metric=Coherence<br># Topics=%{x}<br>Score=%{y}<extra></extra>",
                  "legendgroup": "Coherence",
                  "line": {
                    "color": "#636efa",
                    "dash": "solid",
                    "shape": "linear"
                  },
                  "marker": {
                    "symbol": "circle"
                  },
                  "mode": "lines",
                  "name": "Coherence",
                  "orientation": "v",
                  "showlegend": true,
                  "type": "scatter",
                  "x": [
                    2,
                    4,
                    8,
                    16,
                    32,
                    64,
                    100,
                    200,
                    300,
                    400
                  ],
                  "xaxis": "x",
                  "y": [
                    0.47921402304792493,
                    0.43502976939099103,
                    0.44634347814769326,
                    0.39750339211224084,
                    0.35368151009063503,
                    0.32213607959978796,
                    0.3114520554438226,
                    0.2931500447477749,
                    0.31199208429437175,
                    0.34486617472902276
                  ],
                  "yaxis": "y"
                }
              ],
              "layout": {
                "legend": {
                  "title": {
                    "text": "Metric"
                  },
                  "tracegroupgap": 0
                },
                "plot_bgcolor": "rgb(245,245,245)",
                "template": {
                  "data": {
                    "bar": [
                      {
                        "error_x": {
                          "color": "#2a3f5f"
                        },
                        "error_y": {
                          "color": "#2a3f5f"
                        },
                        "marker": {
                          "line": {
                            "color": "#E5ECF6",
                            "width": 0.5
                          },
                          "pattern": {
                            "fillmode": "overlay",
                            "size": 10,
                            "solidity": 0.2
                          }
                        },
                        "type": "bar"
                      }
                    ],
                    "barpolar": [
                      {
                        "marker": {
                          "line": {
                            "color": "#E5ECF6",
                            "width": 0.5
                          },
                          "pattern": {
                            "fillmode": "overlay",
                            "size": 10,
                            "solidity": 0.2
                          }
                        },
                        "type": "barpolar"
                      }
                    ],
                    "carpet": [
                      {
                        "aaxis": {
                          "endlinecolor": "#2a3f5f",
                          "gridcolor": "white",
                          "linecolor": "white",
                          "minorgridcolor": "white",
                          "startlinecolor": "#2a3f5f"
                        },
                        "baxis": {
                          "endlinecolor": "#2a3f5f",
                          "gridcolor": "white",
                          "linecolor": "white",
                          "minorgridcolor": "white",
                          "startlinecolor": "#2a3f5f"
                        },
                        "type": "carpet"
                      }
                    ],
                    "choropleth": [
                      {
                        "colorbar": {
                          "outlinewidth": 0,
                          "ticks": ""
                        },
                        "type": "choropleth"
                      }
                    ],
                    "contour": [
                      {
                        "colorbar": {
                          "outlinewidth": 0,
                          "ticks": ""
                        },
                        "colorscale": [
                          [
                            0,
                            "#0d0887"
                          ],
                          [
                            0.1111111111111111,
                            "#46039f"
                          ],
                          [
                            0.2222222222222222,
                            "#7201a8"
                          ],
                          [
                            0.3333333333333333,
                            "#9c179e"
                          ],
                          [
                            0.4444444444444444,
                            "#bd3786"
                          ],
                          [
                            0.5555555555555556,
                            "#d8576b"
                          ],
                          [
                            0.6666666666666666,
                            "#ed7953"
                          ],
                          [
                            0.7777777777777778,
                            "#fb9f3a"
                          ],
                          [
                            0.8888888888888888,
                            "#fdca26"
                          ],
                          [
                            1,
                            "#f0f921"
                          ]
                        ],
                        "type": "contour"
                      }
                    ],
                    "contourcarpet": [
                      {
                        "colorbar": {
                          "outlinewidth": 0,
                          "ticks": ""
                        },
                        "type": "contourcarpet"
                      }
                    ],
                    "heatmap": [
                      {
                        "colorbar": {
                          "outlinewidth": 0,
                          "ticks": ""
                        },
                        "colorscale": [
                          [
                            0,
                            "#0d0887"
                          ],
                          [
                            0.1111111111111111,
                            "#46039f"
                          ],
                          [
                            0.2222222222222222,
                            "#7201a8"
                          ],
                          [
                            0.3333333333333333,
                            "#9c179e"
                          ],
                          [
                            0.4444444444444444,
                            "#bd3786"
                          ],
                          [
                            0.5555555555555556,
                            "#d8576b"
                          ],
                          [
                            0.6666666666666666,
                            "#ed7953"
                          ],
                          [
                            0.7777777777777778,
                            "#fb9f3a"
                          ],
                          [
                            0.8888888888888888,
                            "#fdca26"
                          ],
                          [
                            1,
                            "#f0f921"
                          ]
                        ],
                        "type": "heatmap"
                      }
                    ],
                    "heatmapgl": [
                      {
                        "colorbar": {
                          "outlinewidth": 0,
                          "ticks": ""
                        },
                        "colorscale": [
                          [
                            0,
                            "#0d0887"
                          ],
                          [
                            0.1111111111111111,
                            "#46039f"
                          ],
                          [
                            0.2222222222222222,
                            "#7201a8"
                          ],
                          [
                            0.3333333333333333,
                            "#9c179e"
                          ],
                          [
                            0.4444444444444444,
                            "#bd3786"
                          ],
                          [
                            0.5555555555555556,
                            "#d8576b"
                          ],
                          [
                            0.6666666666666666,
                            "#ed7953"
                          ],
                          [
                            0.7777777777777778,
                            "#fb9f3a"
                          ],
                          [
                            0.8888888888888888,
                            "#fdca26"
                          ],
                          [
                            1,
                            "#f0f921"
                          ]
                        ],
                        "type": "heatmapgl"
                      }
                    ],
                    "histogram": [
                      {
                        "marker": {
                          "pattern": {
                            "fillmode": "overlay",
                            "size": 10,
                            "solidity": 0.2
                          }
                        },
                        "type": "histogram"
                      }
                    ],
                    "histogram2d": [
                      {
                        "colorbar": {
                          "outlinewidth": 0,
                          "ticks": ""
                        },
                        "colorscale": [
                          [
                            0,
                            "#0d0887"
                          ],
                          [
                            0.1111111111111111,
                            "#46039f"
                          ],
                          [
                            0.2222222222222222,
                            "#7201a8"
                          ],
                          [
                            0.3333333333333333,
                            "#9c179e"
                          ],
                          [
                            0.4444444444444444,
                            "#bd3786"
                          ],
                          [
                            0.5555555555555556,
                            "#d8576b"
                          ],
                          [
                            0.6666666666666666,
                            "#ed7953"
                          ],
                          [
                            0.7777777777777778,
                            "#fb9f3a"
                          ],
                          [
                            0.8888888888888888,
                            "#fdca26"
                          ],
                          [
                            1,
                            "#f0f921"
                          ]
                        ],
                        "type": "histogram2d"
                      }
                    ],
                    "histogram2dcontour": [
                      {
                        "colorbar": {
                          "outlinewidth": 0,
                          "ticks": ""
                        },
                        "colorscale": [
                          [
                            0,
                            "#0d0887"
                          ],
                          [
                            0.1111111111111111,
                            "#46039f"
                          ],
                          [
                            0.2222222222222222,
                            "#7201a8"
                          ],
                          [
                            0.3333333333333333,
                            "#9c179e"
                          ],
                          [
                            0.4444444444444444,
                            "#bd3786"
                          ],
                          [
                            0.5555555555555556,
                            "#d8576b"
                          ],
                          [
                            0.6666666666666666,
                            "#ed7953"
                          ],
                          [
                            0.7777777777777778,
                            "#fb9f3a"
                          ],
                          [
                            0.8888888888888888,
                            "#fdca26"
                          ],
                          [
                            1,
                            "#f0f921"
                          ]
                        ],
                        "type": "histogram2dcontour"
                      }
                    ],
                    "mesh3d": [
                      {
                        "colorbar": {
                          "outlinewidth": 0,
                          "ticks": ""
                        },
                        "type": "mesh3d"
                      }
                    ],
                    "parcoords": [
                      {
                        "line": {
                          "colorbar": {
                            "outlinewidth": 0,
                            "ticks": ""
                          }
                        },
                        "type": "parcoords"
                      }
                    ],
                    "pie": [
                      {
                        "automargin": true,
                        "type": "pie"
                      }
                    ],
                    "scatter": [
                      {
                        "fillpattern": {
                          "fillmode": "overlay",
                          "size": 10,
                          "solidity": 0.2
                        },
                        "type": "scatter"
                      }
                    ],
                    "scatter3d": [
                      {
                        "line": {
                          "colorbar": {
                            "outlinewidth": 0,
                            "ticks": ""
                          }
                        },
                        "marker": {
                          "colorbar": {
                            "outlinewidth": 0,
                            "ticks": ""
                          }
                        },
                        "type": "scatter3d"
                      }
                    ],
                    "scattercarpet": [
                      {
                        "marker": {
                          "colorbar": {
                            "outlinewidth": 0,
                            "ticks": ""
                          }
                        },
                        "type": "scattercarpet"
                      }
                    ],
                    "scattergeo": [
                      {
                        "marker": {
                          "colorbar": {
                            "outlinewidth": 0,
                            "ticks": ""
                          }
                        },
                        "type": "scattergeo"
                      }
                    ],
                    "scattergl": [
                      {
                        "marker": {
                          "colorbar": {
                            "outlinewidth": 0,
                            "ticks": ""
                          }
                        },
                        "type": "scattergl"
                      }
                    ],
                    "scattermapbox": [
                      {
                        "marker": {
                          "colorbar": {
                            "outlinewidth": 0,
                            "ticks": ""
                          }
                        },
                        "type": "scattermapbox"
                      }
                    ],
                    "scatterpolar": [
                      {
                        "marker": {
                          "colorbar": {
                            "outlinewidth": 0,
                            "ticks": ""
                          }
                        },
                        "type": "scatterpolar"
                      }
                    ],
                    "scatterpolargl": [
                      {
                        "marker": {
                          "colorbar": {
                            "outlinewidth": 0,
                            "ticks": ""
                          }
                        },
                        "type": "scatterpolargl"
                      }
                    ],
                    "scatterternary": [
                      {
                        "marker": {
                          "colorbar": {
                            "outlinewidth": 0,
                            "ticks": ""
                          }
                        },
                        "type": "scatterternary"
                      }
                    ],
                    "surface": [
                      {
                        "colorbar": {
                          "outlinewidth": 0,
                          "ticks": ""
                        },
                        "colorscale": [
                          [
                            0,
                            "#0d0887"
                          ],
                          [
                            0.1111111111111111,
                            "#46039f"
                          ],
                          [
                            0.2222222222222222,
                            "#7201a8"
                          ],
                          [
                            0.3333333333333333,
                            "#9c179e"
                          ],
                          [
                            0.4444444444444444,
                            "#bd3786"
                          ],
                          [
                            0.5555555555555556,
                            "#d8576b"
                          ],
                          [
                            0.6666666666666666,
                            "#ed7953"
                          ],
                          [
                            0.7777777777777778,
                            "#fb9f3a"
                          ],
                          [
                            0.8888888888888888,
                            "#fdca26"
                          ],
                          [
                            1,
                            "#f0f921"
                          ]
                        ],
                        "type": "surface"
                      }
                    ],
                    "table": [
                      {
                        "cells": {
                          "fill": {
                            "color": "#EBF0F8"
                          },
                          "line": {
                            "color": "white"
                          }
                        },
                        "header": {
                          "fill": {
                            "color": "#C8D4E3"
                          },
                          "line": {
                            "color": "white"
                          }
                        },
                        "type": "table"
                      }
                    ]
                  },
                  "layout": {
                    "annotationdefaults": {
                      "arrowcolor": "#2a3f5f",
                      "arrowhead": 0,
                      "arrowwidth": 1
                    },
                    "autotypenumbers": "strict",
                    "coloraxis": {
                      "colorbar": {
                        "outlinewidth": 0,
                        "ticks": ""
                      }
                    },
                    "colorscale": {
                      "diverging": [
                        [
                          0,
                          "#8e0152"
                        ],
                        [
                          0.1,
                          "#c51b7d"
                        ],
                        [
                          0.2,
                          "#de77ae"
                        ],
                        [
                          0.3,
                          "#f1b6da"
                        ],
                        [
                          0.4,
                          "#fde0ef"
                        ],
                        [
                          0.5,
                          "#f7f7f7"
                        ],
                        [
                          0.6,
                          "#e6f5d0"
                        ],
                        [
                          0.7,
                          "#b8e186"
                        ],
                        [
                          0.8,
                          "#7fbc41"
                        ],
                        [
                          0.9,
                          "#4d9221"
                        ],
                        [
                          1,
                          "#276419"
                        ]
                      ],
                      "sequential": [
                        [
                          0,
                          "#0d0887"
                        ],
                        [
                          0.1111111111111111,
                          "#46039f"
                        ],
                        [
                          0.2222222222222222,
                          "#7201a8"
                        ],
                        [
                          0.3333333333333333,
                          "#9c179e"
                        ],
                        [
                          0.4444444444444444,
                          "#bd3786"
                        ],
                        [
                          0.5555555555555556,
                          "#d8576b"
                        ],
                        [
                          0.6666666666666666,
                          "#ed7953"
                        ],
                        [
                          0.7777777777777778,
                          "#fb9f3a"
                        ],
                        [
                          0.8888888888888888,
                          "#fdca26"
                        ],
                        [
                          1,
                          "#f0f921"
                        ]
                      ],
                      "sequentialminus": [
                        [
                          0,
                          "#0d0887"
                        ],
                        [
                          0.1111111111111111,
                          "#46039f"
                        ],
                        [
                          0.2222222222222222,
                          "#7201a8"
                        ],
                        [
                          0.3333333333333333,
                          "#9c179e"
                        ],
                        [
                          0.4444444444444444,
                          "#bd3786"
                        ],
                        [
                          0.5555555555555556,
                          "#d8576b"
                        ],
                        [
                          0.6666666666666666,
                          "#ed7953"
                        ],
                        [
                          0.7777777777777778,
                          "#fb9f3a"
                        ],
                        [
                          0.8888888888888888,
                          "#fdca26"
                        ],
                        [
                          1,
                          "#f0f921"
                        ]
                      ]
                    },
                    "colorway": [
                      "#636efa",
                      "#EF553B",
                      "#00cc96",
                      "#ab63fa",
                      "#FFA15A",
                      "#19d3f3",
                      "#FF6692",
                      "#B6E880",
                      "#FF97FF",
                      "#FECB52"
                    ],
                    "font": {
                      "color": "#2a3f5f"
                    },
                    "geo": {
                      "bgcolor": "white",
                      "lakecolor": "white",
                      "landcolor": "#E5ECF6",
                      "showlakes": true,
                      "showland": true,
                      "subunitcolor": "white"
                    },
                    "hoverlabel": {
                      "align": "left"
                    },
                    "hovermode": "closest",
                    "mapbox": {
                      "style": "light"
                    },
                    "paper_bgcolor": "white",
                    "plot_bgcolor": "#E5ECF6",
                    "polar": {
                      "angularaxis": {
                        "gridcolor": "white",
                        "linecolor": "white",
                        "ticks": ""
                      },
                      "bgcolor": "#E5ECF6",
                      "radialaxis": {
                        "gridcolor": "white",
                        "linecolor": "white",
                        "ticks": ""
                      }
                    },
                    "scene": {
                      "xaxis": {
                        "backgroundcolor": "#E5ECF6",
                        "gridcolor": "white",
                        "gridwidth": 2,
                        "linecolor": "white",
                        "showbackground": true,
                        "ticks": "",
                        "zerolinecolor": "white"
                      },
                      "yaxis": {
                        "backgroundcolor": "#E5ECF6",
                        "gridcolor": "white",
                        "gridwidth": 2,
                        "linecolor": "white",
                        "showbackground": true,
                        "ticks": "",
                        "zerolinecolor": "white"
                      },
                      "zaxis": {
                        "backgroundcolor": "#E5ECF6",
                        "gridcolor": "white",
                        "gridwidth": 2,
                        "linecolor": "white",
                        "showbackground": true,
                        "ticks": "",
                        "zerolinecolor": "white"
                      }
                    },
                    "shapedefaults": {
                      "line": {
                        "color": "#2a3f5f"
                      }
                    },
                    "ternary": {
                      "aaxis": {
                        "gridcolor": "white",
                        "linecolor": "white",
                        "ticks": ""
                      },
                      "baxis": {
                        "gridcolor": "white",
                        "linecolor": "white",
                        "ticks": ""
                      },
                      "bgcolor": "#E5ECF6",
                      "caxis": {
                        "gridcolor": "white",
                        "linecolor": "white",
                        "ticks": ""
                      }
                    },
                    "title": {
                      "x": 0.05
                    },
                    "xaxis": {
                      "automargin": true,
                      "gridcolor": "white",
                      "linecolor": "white",
                      "ticks": "",
                      "title": {
                        "standoff": 15
                      },
                      "zerolinecolor": "white",
                      "zerolinewidth": 2
                    },
                    "yaxis": {
                      "automargin": true,
                      "gridcolor": "white",
                      "linecolor": "white",
                      "ticks": "",
                      "title": {
                        "standoff": 15
                      },
                      "zerolinecolor": "white",
                      "zerolinewidth": 2
                    }
                  }
                },
                "title": {
                  "text": "Coherence Value and # of Topics"
                },
                "xaxis": {
                  "anchor": "y",
                  "domain": [
                    0,
                    1
                  ],
                  "title": {
                    "text": "# Topics"
                  }
                },
                "yaxis": {
                  "anchor": "x",
                  "domain": [
                    0,
                    1
                  ],
                  "title": {
                    "text": "Score"
                  }
                }
              }
            },
            "text/html": [
              "<div>                            <div id=\"d75eeb82-9930-464e-ab9b-12f3fd4ea7e7\" class=\"plotly-graph-div\" style=\"height:525px; width:100%;\"></div>            <script type=\"text/javascript\">                require([\"plotly\"], function(Plotly) {                    window.PLOTLYENV=window.PLOTLYENV || {};                                    if (document.getElementById(\"d75eeb82-9930-464e-ab9b-12f3fd4ea7e7\")) {                    Plotly.newPlot(                        \"d75eeb82-9930-464e-ab9b-12f3fd4ea7e7\",                        [{\"hovertemplate\":\"Metric=Coherence<br># Topics=%{x}<br>Score=%{y}<extra></extra>\",\"legendgroup\":\"Coherence\",\"line\":{\"color\":\"#636efa\",\"dash\":\"solid\",\"shape\":\"linear\"},\"marker\":{\"symbol\":\"circle\"},\"mode\":\"lines\",\"name\":\"Coherence\",\"orientation\":\"v\",\"showlegend\":true,\"x\":[2,4,8,16,32,64,100,200,300,400],\"xaxis\":\"x\",\"y\":[0.47921402304792493,0.43502976939099103,0.44634347814769326,0.39750339211224084,0.35368151009063503,0.32213607959978796,0.3114520554438226,0.2931500447477749,0.31199208429437175,0.34486617472902276],\"yaxis\":\"y\",\"type\":\"scatter\"}],                        {\"template\":{\"data\":{\"histogram2dcontour\":[{\"type\":\"histogram2dcontour\",\"colorbar\":{\"outlinewidth\":0,\"ticks\":\"\"},\"colorscale\":[[0.0,\"#0d0887\"],[0.1111111111111111,\"#46039f\"],[0.2222222222222222,\"#7201a8\"],[0.3333333333333333,\"#9c179e\"],[0.4444444444444444,\"#bd3786\"],[0.5555555555555556,\"#d8576b\"],[0.6666666666666666,\"#ed7953\"],[0.7777777777777778,\"#fb9f3a\"],[0.8888888888888888,\"#fdca26\"],[1.0,\"#f0f921\"]]}],\"choropleth\":[{\"type\":\"choropleth\",\"colorbar\":{\"outlinewidth\":0,\"ticks\":\"\"}}],\"histogram2d\":[{\"type\":\"histogram2d\",\"colorbar\":{\"outlinewidth\":0,\"ticks\":\"\"},\"colorscale\":[[0.0,\"#0d0887\"],[0.1111111111111111,\"#46039f\"],[0.2222222222222222,\"#7201a8\"],[0.3333333333333333,\"#9c179e\"],[0.4444444444444444,\"#bd3786\"],[0.5555555555555556,\"#d8576b\"],[0.6666666666666666,\"#ed7953\"],[0.7777777777777778,\"#fb9f3a\"],[0.8888888888888888,\"#fdca26\"],[1.0,\"#f0f921\"]]}],\"heatmap\":[{\"type\":\"heatmap\",\"colorbar\":{\"outlinewidth\":0,\"ticks\":\"\"},\"colorscale\":[[0.0,\"#0d0887\"],[0.1111111111111111,\"#46039f\"],[0.2222222222222222,\"#7201a8\"],[0.3333333333333333,\"#9c179e\"],[0.4444444444444444,\"#bd3786\"],[0.5555555555555556,\"#d8576b\"],[0.6666666666666666,\"#ed7953\"],[0.7777777777777778,\"#fb9f3a\"],[0.8888888888888888,\"#fdca26\"],[1.0,\"#f0f921\"]]}],\"heatmapgl\":[{\"type\":\"heatmapgl\",\"colorbar\":{\"outlinewidth\":0,\"ticks\":\"\"},\"colorscale\":[[0.0,\"#0d0887\"],[0.1111111111111111,\"#46039f\"],[0.2222222222222222,\"#7201a8\"],[0.3333333333333333,\"#9c179e\"],[0.4444444444444444,\"#bd3786\"],[0.5555555555555556,\"#d8576b\"],[0.6666666666666666,\"#ed7953\"],[0.7777777777777778,\"#fb9f3a\"],[0.8888888888888888,\"#fdca26\"],[1.0,\"#f0f921\"]]}],\"contourcarpet\":[{\"type\":\"contourcarpet\",\"colorbar\":{\"outlinewidth\":0,\"ticks\":\"\"}}],\"contour\":[{\"type\":\"contour\",\"colorbar\":{\"outlinewidth\":0,\"ticks\":\"\"},\"colorscale\":[[0.0,\"#0d0887\"],[0.1111111111111111,\"#46039f\"],[0.2222222222222222,\"#7201a8\"],[0.3333333333333333,\"#9c179e\"],[0.4444444444444444,\"#bd3786\"],[0.5555555555555556,\"#d8576b\"],[0.6666666666666666,\"#ed7953\"],[0.7777777777777778,\"#fb9f3a\"],[0.8888888888888888,\"#fdca26\"],[1.0,\"#f0f921\"]]}],\"surface\":[{\"type\":\"surface\",\"colorbar\":{\"outlinewidth\":0,\"ticks\":\"\"},\"colorscale\":[[0.0,\"#0d0887\"],[0.1111111111111111,\"#46039f\"],[0.2222222222222222,\"#7201a8\"],[0.3333333333333333,\"#9c179e\"],[0.4444444444444444,\"#bd3786\"],[0.5555555555555556,\"#d8576b\"],[0.6666666666666666,\"#ed7953\"],[0.7777777777777778,\"#fb9f3a\"],[0.8888888888888888,\"#fdca26\"],[1.0,\"#f0f921\"]]}],\"mesh3d\":[{\"type\":\"mesh3d\",\"colorbar\":{\"outlinewidth\":0,\"ticks\":\"\"}}],\"scatter\":[{\"fillpattern\":{\"fillmode\":\"overlay\",\"size\":10,\"solidity\":0.2},\"type\":\"scatter\"}],\"parcoords\":[{\"type\":\"parcoords\",\"line\":{\"colorbar\":{\"outlinewidth\":0,\"ticks\":\"\"}}}],\"scatterpolargl\":[{\"type\":\"scatterpolargl\",\"marker\":{\"colorbar\":{\"outlinewidth\":0,\"ticks\":\"\"}}}],\"bar\":[{\"error_x\":{\"color\":\"#2a3f5f\"},\"error_y\":{\"color\":\"#2a3f5f\"},\"marker\":{\"line\":{\"color\":\"#E5ECF6\",\"width\":0.5},\"pattern\":{\"fillmode\":\"overlay\",\"size\":10,\"solidity\":0.2}},\"type\":\"bar\"}],\"scattergeo\":[{\"type\":\"scattergeo\",\"marker\":{\"colorbar\":{\"outlinewidth\":0,\"ticks\":\"\"}}}],\"scatterpolar\":[{\"type\":\"scatterpolar\",\"marker\":{\"colorbar\":{\"outlinewidth\":0,\"ticks\":\"\"}}}],\"histogram\":[{\"marker\":{\"pattern\":{\"fillmode\":\"overlay\",\"size\":10,\"solidity\":0.2}},\"type\":\"histogram\"}],\"scattergl\":[{\"type\":\"scattergl\",\"marker\":{\"colorbar\":{\"outlinewidth\":0,\"ticks\":\"\"}}}],\"scatter3d\":[{\"type\":\"scatter3d\",\"line\":{\"colorbar\":{\"outlinewidth\":0,\"ticks\":\"\"}},\"marker\":{\"colorbar\":{\"outlinewidth\":0,\"ticks\":\"\"}}}],\"scattermapbox\":[{\"type\":\"scattermapbox\",\"marker\":{\"colorbar\":{\"outlinewidth\":0,\"ticks\":\"\"}}}],\"scatterternary\":[{\"type\":\"scatterternary\",\"marker\":{\"colorbar\":{\"outlinewidth\":0,\"ticks\":\"\"}}}],\"scattercarpet\":[{\"type\":\"scattercarpet\",\"marker\":{\"colorbar\":{\"outlinewidth\":0,\"ticks\":\"\"}}}],\"carpet\":[{\"aaxis\":{\"endlinecolor\":\"#2a3f5f\",\"gridcolor\":\"white\",\"linecolor\":\"white\",\"minorgridcolor\":\"white\",\"startlinecolor\":\"#2a3f5f\"},\"baxis\":{\"endlinecolor\":\"#2a3f5f\",\"gridcolor\":\"white\",\"linecolor\":\"white\",\"minorgridcolor\":\"white\",\"startlinecolor\":\"#2a3f5f\"},\"type\":\"carpet\"}],\"table\":[{\"cells\":{\"fill\":{\"color\":\"#EBF0F8\"},\"line\":{\"color\":\"white\"}},\"header\":{\"fill\":{\"color\":\"#C8D4E3\"},\"line\":{\"color\":\"white\"}},\"type\":\"table\"}],\"barpolar\":[{\"marker\":{\"line\":{\"color\":\"#E5ECF6\",\"width\":0.5},\"pattern\":{\"fillmode\":\"overlay\",\"size\":10,\"solidity\":0.2}},\"type\":\"barpolar\"}],\"pie\":[{\"automargin\":true,\"type\":\"pie\"}]},\"layout\":{\"autotypenumbers\":\"strict\",\"colorway\":[\"#636efa\",\"#EF553B\",\"#00cc96\",\"#ab63fa\",\"#FFA15A\",\"#19d3f3\",\"#FF6692\",\"#B6E880\",\"#FF97FF\",\"#FECB52\"],\"font\":{\"color\":\"#2a3f5f\"},\"hovermode\":\"closest\",\"hoverlabel\":{\"align\":\"left\"},\"paper_bgcolor\":\"white\",\"plot_bgcolor\":\"#E5ECF6\",\"polar\":{\"bgcolor\":\"#E5ECF6\",\"angularaxis\":{\"gridcolor\":\"white\",\"linecolor\":\"white\",\"ticks\":\"\"},\"radialaxis\":{\"gridcolor\":\"white\",\"linecolor\":\"white\",\"ticks\":\"\"}},\"ternary\":{\"bgcolor\":\"#E5ECF6\",\"aaxis\":{\"gridcolor\":\"white\",\"linecolor\":\"white\",\"ticks\":\"\"},\"baxis\":{\"gridcolor\":\"white\",\"linecolor\":\"white\",\"ticks\":\"\"},\"caxis\":{\"gridcolor\":\"white\",\"linecolor\":\"white\",\"ticks\":\"\"}},\"coloraxis\":{\"colorbar\":{\"outlinewidth\":0,\"ticks\":\"\"}},\"colorscale\":{\"sequential\":[[0.0,\"#0d0887\"],[0.1111111111111111,\"#46039f\"],[0.2222222222222222,\"#7201a8\"],[0.3333333333333333,\"#9c179e\"],[0.4444444444444444,\"#bd3786\"],[0.5555555555555556,\"#d8576b\"],[0.6666666666666666,\"#ed7953\"],[0.7777777777777778,\"#fb9f3a\"],[0.8888888888888888,\"#fdca26\"],[1.0,\"#f0f921\"]],\"sequentialminus\":[[0.0,\"#0d0887\"],[0.1111111111111111,\"#46039f\"],[0.2222222222222222,\"#7201a8\"],[0.3333333333333333,\"#9c179e\"],[0.4444444444444444,\"#bd3786\"],[0.5555555555555556,\"#d8576b\"],[0.6666666666666666,\"#ed7953\"],[0.7777777777777778,\"#fb9f3a\"],[0.8888888888888888,\"#fdca26\"],[1.0,\"#f0f921\"]],\"diverging\":[[0,\"#8e0152\"],[0.1,\"#c51b7d\"],[0.2,\"#de77ae\"],[0.3,\"#f1b6da\"],[0.4,\"#fde0ef\"],[0.5,\"#f7f7f7\"],[0.6,\"#e6f5d0\"],[0.7,\"#b8e186\"],[0.8,\"#7fbc41\"],[0.9,\"#4d9221\"],[1,\"#276419\"]]},\"xaxis\":{\"gridcolor\":\"white\",\"linecolor\":\"white\",\"ticks\":\"\",\"title\":{\"standoff\":15},\"zerolinecolor\":\"white\",\"automargin\":true,\"zerolinewidth\":2},\"yaxis\":{\"gridcolor\":\"white\",\"linecolor\":\"white\",\"ticks\":\"\",\"title\":{\"standoff\":15},\"zerolinecolor\":\"white\",\"automargin\":true,\"zerolinewidth\":2},\"scene\":{\"xaxis\":{\"backgroundcolor\":\"#E5ECF6\",\"gridcolor\":\"white\",\"linecolor\":\"white\",\"showbackground\":true,\"ticks\":\"\",\"zerolinecolor\":\"white\",\"gridwidth\":2},\"yaxis\":{\"backgroundcolor\":\"#E5ECF6\",\"gridcolor\":\"white\",\"linecolor\":\"white\",\"showbackground\":true,\"ticks\":\"\",\"zerolinecolor\":\"white\",\"gridwidth\":2},\"zaxis\":{\"backgroundcolor\":\"#E5ECF6\",\"gridcolor\":\"white\",\"linecolor\":\"white\",\"showbackground\":true,\"ticks\":\"\",\"zerolinecolor\":\"white\",\"gridwidth\":2}},\"shapedefaults\":{\"line\":{\"color\":\"#2a3f5f\"}},\"annotationdefaults\":{\"arrowcolor\":\"#2a3f5f\",\"arrowhead\":0,\"arrowwidth\":1},\"geo\":{\"bgcolor\":\"white\",\"landcolor\":\"#E5ECF6\",\"subunitcolor\":\"white\",\"showland\":true,\"showlakes\":true,\"lakecolor\":\"white\"},\"title\":{\"x\":0.05},\"mapbox\":{\"style\":\"light\"}}},\"xaxis\":{\"anchor\":\"y\",\"domain\":[0.0,1.0],\"title\":{\"text\":\"# Topics\"}},\"yaxis\":{\"anchor\":\"x\",\"domain\":[0.0,1.0],\"title\":{\"text\":\"Score\"}},\"legend\":{\"title\":{\"text\":\"Metric\"},\"tracegroupgap\":0},\"title\":{\"text\":\"Coherence Value and # of Topics\"},\"plot_bgcolor\":\"rgb(245,245,245)\"},                        {\"responsive\": true}                    ).then(function(){\n",
              "                            \n",
              "var gd = document.getElementById('d75eeb82-9930-464e-ab9b-12f3fd4ea7e7');\n",
              "var x = new MutationObserver(function (mutations, observer) {{\n",
              "        var display = window.getComputedStyle(gd).display;\n",
              "        if (!display || display === 'none') {{\n",
              "            console.log([gd, 'removed!']);\n",
              "            Plotly.purge(gd);\n",
              "            observer.disconnect();\n",
              "        }}\n",
              "}});\n",
              "\n",
              "// Listen for the removal of the full notebook cells\n",
              "var notebookContainer = gd.closest('#notebook-container');\n",
              "if (notebookContainer) {{\n",
              "    x.observe(notebookContainer, {childList: true});\n",
              "}}\n",
              "\n",
              "// Listen for the clearing of the current output cell\n",
              "var outputEl = gd.closest('.output');\n",
              "if (outputEl) {{\n",
              "    x.observe(outputEl, {childList: true});\n",
              "}}\n",
              "\n",
              "                        })                };                });            </script>        </div>"
            ]
          },
          "metadata": {},
          "output_type": "display_data"
        },
        {
          "name": "stdout",
          "output_type": "stream",
          "text": [
            "Best Model: Latent Semantic Indexing | # Topics: 2 | Coherence: 0.4792\n",
            "CPU times: user 1min 46s, sys: 58.6 s, total: 2min 45s\n",
            "Wall time: 1min 56s\n"
          ]
        }
      ],
      "source": [
        "%time tuned_lsi = tune_model(model = 'lsi', multi_core = True)"
      ]
    },
    {
      "cell_type": "code",
      "execution_count": null,
      "id": "f0c36d18",
      "metadata": {
        "colab": {
          "referenced_widgets": [
            "",
            "35c5670627f84b4ab78d5c6b0b07b2b6"
          ]
        },
        "id": "f0c36d18",
        "outputId": "59f05252-954b-4a26-b583-5633c6474cda"
      },
      "outputs": [
        {
          "data": {
            "application/vnd.jupyter.widget-view+json": {
              "model_id": "",
              "version_major": 2,
              "version_minor": 0
            },
            "text/plain": [
              "IntProgress(value=0, description='Processing: ', max=25)"
            ]
          },
          "metadata": {},
          "output_type": "display_data"
        },
        {
          "data": {
            "application/vnd.jupyter.widget-view+json": {
              "model_id": "35c5670627f84b4ab78d5c6b0b07b2b6",
              "version_major": 2,
              "version_minor": 0
            },
            "text/plain": [
              "Output()"
            ]
          },
          "metadata": {},
          "output_type": "display_data"
        },
        {
          "data": {
            "text/html": [
              "        <script type=\"text/javascript\">\n",
              "        window.PlotlyConfig = {MathJaxConfig: 'local'};\n",
              "        if (window.MathJax && window.MathJax.Hub && window.MathJax.Hub.Config) {window.MathJax.Hub.Config({SVG: {font: \"STIX-Web\"}});}\n",
              "        if (typeof require !== 'undefined') {\n",
              "        require.undef(\"plotly\");\n",
              "        requirejs.config({\n",
              "            paths: {\n",
              "                'plotly': ['https://cdn.plot.ly/plotly-2.18.2.min']\n",
              "            }\n",
              "        });\n",
              "        require(['plotly'], function(Plotly) {\n",
              "            window._Plotly = Plotly;\n",
              "        });\n",
              "        }\n",
              "        </script>\n",
              "        "
            ]
          },
          "metadata": {},
          "output_type": "display_data"
        },
        {
          "data": {
            "application/vnd.plotly.v1+json": {
              "config": {
                "plotlyServerURL": "https://plot.ly"
              },
              "data": [
                {
                  "hovertemplate": "Metric=Coherence<br># Topics=%{x}<br>Score=%{y}<extra></extra>",
                  "legendgroup": "Coherence",
                  "line": {
                    "color": "#636efa",
                    "dash": "solid",
                    "shape": "linear"
                  },
                  "marker": {
                    "symbol": "circle"
                  },
                  "mode": "lines",
                  "name": "Coherence",
                  "orientation": "v",
                  "showlegend": true,
                  "type": "scatter",
                  "x": [
                    2,
                    4,
                    8,
                    16,
                    32,
                    64,
                    100,
                    200,
                    300,
                    400
                  ],
                  "xaxis": "x",
                  "y": [
                    0.4304076609520782,
                    0.44782124167385146,
                    0.5693410458442522,
                    0.6022180132673087,
                    0.6604430938624827,
                    0.6444052162461217,
                    0.6577756135998375,
                    0.6240557306926086,
                    0.6583030706480302,
                    0.6476796229530869
                  ],
                  "yaxis": "y"
                }
              ],
              "layout": {
                "legend": {
                  "title": {
                    "text": "Metric"
                  },
                  "tracegroupgap": 0
                },
                "plot_bgcolor": "rgb(245,245,245)",
                "template": {
                  "data": {
                    "bar": [
                      {
                        "error_x": {
                          "color": "#2a3f5f"
                        },
                        "error_y": {
                          "color": "#2a3f5f"
                        },
                        "marker": {
                          "line": {
                            "color": "#E5ECF6",
                            "width": 0.5
                          },
                          "pattern": {
                            "fillmode": "overlay",
                            "size": 10,
                            "solidity": 0.2
                          }
                        },
                        "type": "bar"
                      }
                    ],
                    "barpolar": [
                      {
                        "marker": {
                          "line": {
                            "color": "#E5ECF6",
                            "width": 0.5
                          },
                          "pattern": {
                            "fillmode": "overlay",
                            "size": 10,
                            "solidity": 0.2
                          }
                        },
                        "type": "barpolar"
                      }
                    ],
                    "carpet": [
                      {
                        "aaxis": {
                          "endlinecolor": "#2a3f5f",
                          "gridcolor": "white",
                          "linecolor": "white",
                          "minorgridcolor": "white",
                          "startlinecolor": "#2a3f5f"
                        },
                        "baxis": {
                          "endlinecolor": "#2a3f5f",
                          "gridcolor": "white",
                          "linecolor": "white",
                          "minorgridcolor": "white",
                          "startlinecolor": "#2a3f5f"
                        },
                        "type": "carpet"
                      }
                    ],
                    "choropleth": [
                      {
                        "colorbar": {
                          "outlinewidth": 0,
                          "ticks": ""
                        },
                        "type": "choropleth"
                      }
                    ],
                    "contour": [
                      {
                        "colorbar": {
                          "outlinewidth": 0,
                          "ticks": ""
                        },
                        "colorscale": [
                          [
                            0,
                            "#0d0887"
                          ],
                          [
                            0.1111111111111111,
                            "#46039f"
                          ],
                          [
                            0.2222222222222222,
                            "#7201a8"
                          ],
                          [
                            0.3333333333333333,
                            "#9c179e"
                          ],
                          [
                            0.4444444444444444,
                            "#bd3786"
                          ],
                          [
                            0.5555555555555556,
                            "#d8576b"
                          ],
                          [
                            0.6666666666666666,
                            "#ed7953"
                          ],
                          [
                            0.7777777777777778,
                            "#fb9f3a"
                          ],
                          [
                            0.8888888888888888,
                            "#fdca26"
                          ],
                          [
                            1,
                            "#f0f921"
                          ]
                        ],
                        "type": "contour"
                      }
                    ],
                    "contourcarpet": [
                      {
                        "colorbar": {
                          "outlinewidth": 0,
                          "ticks": ""
                        },
                        "type": "contourcarpet"
                      }
                    ],
                    "heatmap": [
                      {
                        "colorbar": {
                          "outlinewidth": 0,
                          "ticks": ""
                        },
                        "colorscale": [
                          [
                            0,
                            "#0d0887"
                          ],
                          [
                            0.1111111111111111,
                            "#46039f"
                          ],
                          [
                            0.2222222222222222,
                            "#7201a8"
                          ],
                          [
                            0.3333333333333333,
                            "#9c179e"
                          ],
                          [
                            0.4444444444444444,
                            "#bd3786"
                          ],
                          [
                            0.5555555555555556,
                            "#d8576b"
                          ],
                          [
                            0.6666666666666666,
                            "#ed7953"
                          ],
                          [
                            0.7777777777777778,
                            "#fb9f3a"
                          ],
                          [
                            0.8888888888888888,
                            "#fdca26"
                          ],
                          [
                            1,
                            "#f0f921"
                          ]
                        ],
                        "type": "heatmap"
                      }
                    ],
                    "heatmapgl": [
                      {
                        "colorbar": {
                          "outlinewidth": 0,
                          "ticks": ""
                        },
                        "colorscale": [
                          [
                            0,
                            "#0d0887"
                          ],
                          [
                            0.1111111111111111,
                            "#46039f"
                          ],
                          [
                            0.2222222222222222,
                            "#7201a8"
                          ],
                          [
                            0.3333333333333333,
                            "#9c179e"
                          ],
                          [
                            0.4444444444444444,
                            "#bd3786"
                          ],
                          [
                            0.5555555555555556,
                            "#d8576b"
                          ],
                          [
                            0.6666666666666666,
                            "#ed7953"
                          ],
                          [
                            0.7777777777777778,
                            "#fb9f3a"
                          ],
                          [
                            0.8888888888888888,
                            "#fdca26"
                          ],
                          [
                            1,
                            "#f0f921"
                          ]
                        ],
                        "type": "heatmapgl"
                      }
                    ],
                    "histogram": [
                      {
                        "marker": {
                          "pattern": {
                            "fillmode": "overlay",
                            "size": 10,
                            "solidity": 0.2
                          }
                        },
                        "type": "histogram"
                      }
                    ],
                    "histogram2d": [
                      {
                        "colorbar": {
                          "outlinewidth": 0,
                          "ticks": ""
                        },
                        "colorscale": [
                          [
                            0,
                            "#0d0887"
                          ],
                          [
                            0.1111111111111111,
                            "#46039f"
                          ],
                          [
                            0.2222222222222222,
                            "#7201a8"
                          ],
                          [
                            0.3333333333333333,
                            "#9c179e"
                          ],
                          [
                            0.4444444444444444,
                            "#bd3786"
                          ],
                          [
                            0.5555555555555556,
                            "#d8576b"
                          ],
                          [
                            0.6666666666666666,
                            "#ed7953"
                          ],
                          [
                            0.7777777777777778,
                            "#fb9f3a"
                          ],
                          [
                            0.8888888888888888,
                            "#fdca26"
                          ],
                          [
                            1,
                            "#f0f921"
                          ]
                        ],
                        "type": "histogram2d"
                      }
                    ],
                    "histogram2dcontour": [
                      {
                        "colorbar": {
                          "outlinewidth": 0,
                          "ticks": ""
                        },
                        "colorscale": [
                          [
                            0,
                            "#0d0887"
                          ],
                          [
                            0.1111111111111111,
                            "#46039f"
                          ],
                          [
                            0.2222222222222222,
                            "#7201a8"
                          ],
                          [
                            0.3333333333333333,
                            "#9c179e"
                          ],
                          [
                            0.4444444444444444,
                            "#bd3786"
                          ],
                          [
                            0.5555555555555556,
                            "#d8576b"
                          ],
                          [
                            0.6666666666666666,
                            "#ed7953"
                          ],
                          [
                            0.7777777777777778,
                            "#fb9f3a"
                          ],
                          [
                            0.8888888888888888,
                            "#fdca26"
                          ],
                          [
                            1,
                            "#f0f921"
                          ]
                        ],
                        "type": "histogram2dcontour"
                      }
                    ],
                    "mesh3d": [
                      {
                        "colorbar": {
                          "outlinewidth": 0,
                          "ticks": ""
                        },
                        "type": "mesh3d"
                      }
                    ],
                    "parcoords": [
                      {
                        "line": {
                          "colorbar": {
                            "outlinewidth": 0,
                            "ticks": ""
                          }
                        },
                        "type": "parcoords"
                      }
                    ],
                    "pie": [
                      {
                        "automargin": true,
                        "type": "pie"
                      }
                    ],
                    "scatter": [
                      {
                        "fillpattern": {
                          "fillmode": "overlay",
                          "size": 10,
                          "solidity": 0.2
                        },
                        "type": "scatter"
                      }
                    ],
                    "scatter3d": [
                      {
                        "line": {
                          "colorbar": {
                            "outlinewidth": 0,
                            "ticks": ""
                          }
                        },
                        "marker": {
                          "colorbar": {
                            "outlinewidth": 0,
                            "ticks": ""
                          }
                        },
                        "type": "scatter3d"
                      }
                    ],
                    "scattercarpet": [
                      {
                        "marker": {
                          "colorbar": {
                            "outlinewidth": 0,
                            "ticks": ""
                          }
                        },
                        "type": "scattercarpet"
                      }
                    ],
                    "scattergeo": [
                      {
                        "marker": {
                          "colorbar": {
                            "outlinewidth": 0,
                            "ticks": ""
                          }
                        },
                        "type": "scattergeo"
                      }
                    ],
                    "scattergl": [
                      {
                        "marker": {
                          "colorbar": {
                            "outlinewidth": 0,
                            "ticks": ""
                          }
                        },
                        "type": "scattergl"
                      }
                    ],
                    "scattermapbox": [
                      {
                        "marker": {
                          "colorbar": {
                            "outlinewidth": 0,
                            "ticks": ""
                          }
                        },
                        "type": "scattermapbox"
                      }
                    ],
                    "scatterpolar": [
                      {
                        "marker": {
                          "colorbar": {
                            "outlinewidth": 0,
                            "ticks": ""
                          }
                        },
                        "type": "scatterpolar"
                      }
                    ],
                    "scatterpolargl": [
                      {
                        "marker": {
                          "colorbar": {
                            "outlinewidth": 0,
                            "ticks": ""
                          }
                        },
                        "type": "scatterpolargl"
                      }
                    ],
                    "scatterternary": [
                      {
                        "marker": {
                          "colorbar": {
                            "outlinewidth": 0,
                            "ticks": ""
                          }
                        },
                        "type": "scatterternary"
                      }
                    ],
                    "surface": [
                      {
                        "colorbar": {
                          "outlinewidth": 0,
                          "ticks": ""
                        },
                        "colorscale": [
                          [
                            0,
                            "#0d0887"
                          ],
                          [
                            0.1111111111111111,
                            "#46039f"
                          ],
                          [
                            0.2222222222222222,
                            "#7201a8"
                          ],
                          [
                            0.3333333333333333,
                            "#9c179e"
                          ],
                          [
                            0.4444444444444444,
                            "#bd3786"
                          ],
                          [
                            0.5555555555555556,
                            "#d8576b"
                          ],
                          [
                            0.6666666666666666,
                            "#ed7953"
                          ],
                          [
                            0.7777777777777778,
                            "#fb9f3a"
                          ],
                          [
                            0.8888888888888888,
                            "#fdca26"
                          ],
                          [
                            1,
                            "#f0f921"
                          ]
                        ],
                        "type": "surface"
                      }
                    ],
                    "table": [
                      {
                        "cells": {
                          "fill": {
                            "color": "#EBF0F8"
                          },
                          "line": {
                            "color": "white"
                          }
                        },
                        "header": {
                          "fill": {
                            "color": "#C8D4E3"
                          },
                          "line": {
                            "color": "white"
                          }
                        },
                        "type": "table"
                      }
                    ]
                  },
                  "layout": {
                    "annotationdefaults": {
                      "arrowcolor": "#2a3f5f",
                      "arrowhead": 0,
                      "arrowwidth": 1
                    },
                    "autotypenumbers": "strict",
                    "coloraxis": {
                      "colorbar": {
                        "outlinewidth": 0,
                        "ticks": ""
                      }
                    },
                    "colorscale": {
                      "diverging": [
                        [
                          0,
                          "#8e0152"
                        ],
                        [
                          0.1,
                          "#c51b7d"
                        ],
                        [
                          0.2,
                          "#de77ae"
                        ],
                        [
                          0.3,
                          "#f1b6da"
                        ],
                        [
                          0.4,
                          "#fde0ef"
                        ],
                        [
                          0.5,
                          "#f7f7f7"
                        ],
                        [
                          0.6,
                          "#e6f5d0"
                        ],
                        [
                          0.7,
                          "#b8e186"
                        ],
                        [
                          0.8,
                          "#7fbc41"
                        ],
                        [
                          0.9,
                          "#4d9221"
                        ],
                        [
                          1,
                          "#276419"
                        ]
                      ],
                      "sequential": [
                        [
                          0,
                          "#0d0887"
                        ],
                        [
                          0.1111111111111111,
                          "#46039f"
                        ],
                        [
                          0.2222222222222222,
                          "#7201a8"
                        ],
                        [
                          0.3333333333333333,
                          "#9c179e"
                        ],
                        [
                          0.4444444444444444,
                          "#bd3786"
                        ],
                        [
                          0.5555555555555556,
                          "#d8576b"
                        ],
                        [
                          0.6666666666666666,
                          "#ed7953"
                        ],
                        [
                          0.7777777777777778,
                          "#fb9f3a"
                        ],
                        [
                          0.8888888888888888,
                          "#fdca26"
                        ],
                        [
                          1,
                          "#f0f921"
                        ]
                      ],
                      "sequentialminus": [
                        [
                          0,
                          "#0d0887"
                        ],
                        [
                          0.1111111111111111,
                          "#46039f"
                        ],
                        [
                          0.2222222222222222,
                          "#7201a8"
                        ],
                        [
                          0.3333333333333333,
                          "#9c179e"
                        ],
                        [
                          0.4444444444444444,
                          "#bd3786"
                        ],
                        [
                          0.5555555555555556,
                          "#d8576b"
                        ],
                        [
                          0.6666666666666666,
                          "#ed7953"
                        ],
                        [
                          0.7777777777777778,
                          "#fb9f3a"
                        ],
                        [
                          0.8888888888888888,
                          "#fdca26"
                        ],
                        [
                          1,
                          "#f0f921"
                        ]
                      ]
                    },
                    "colorway": [
                      "#636efa",
                      "#EF553B",
                      "#00cc96",
                      "#ab63fa",
                      "#FFA15A",
                      "#19d3f3",
                      "#FF6692",
                      "#B6E880",
                      "#FF97FF",
                      "#FECB52"
                    ],
                    "font": {
                      "color": "#2a3f5f"
                    },
                    "geo": {
                      "bgcolor": "white",
                      "lakecolor": "white",
                      "landcolor": "#E5ECF6",
                      "showlakes": true,
                      "showland": true,
                      "subunitcolor": "white"
                    },
                    "hoverlabel": {
                      "align": "left"
                    },
                    "hovermode": "closest",
                    "mapbox": {
                      "style": "light"
                    },
                    "paper_bgcolor": "white",
                    "plot_bgcolor": "#E5ECF6",
                    "polar": {
                      "angularaxis": {
                        "gridcolor": "white",
                        "linecolor": "white",
                        "ticks": ""
                      },
                      "bgcolor": "#E5ECF6",
                      "radialaxis": {
                        "gridcolor": "white",
                        "linecolor": "white",
                        "ticks": ""
                      }
                    },
                    "scene": {
                      "xaxis": {
                        "backgroundcolor": "#E5ECF6",
                        "gridcolor": "white",
                        "gridwidth": 2,
                        "linecolor": "white",
                        "showbackground": true,
                        "ticks": "",
                        "zerolinecolor": "white"
                      },
                      "yaxis": {
                        "backgroundcolor": "#E5ECF6",
                        "gridcolor": "white",
                        "gridwidth": 2,
                        "linecolor": "white",
                        "showbackground": true,
                        "ticks": "",
                        "zerolinecolor": "white"
                      },
                      "zaxis": {
                        "backgroundcolor": "#E5ECF6",
                        "gridcolor": "white",
                        "gridwidth": 2,
                        "linecolor": "white",
                        "showbackground": true,
                        "ticks": "",
                        "zerolinecolor": "white"
                      }
                    },
                    "shapedefaults": {
                      "line": {
                        "color": "#2a3f5f"
                      }
                    },
                    "ternary": {
                      "aaxis": {
                        "gridcolor": "white",
                        "linecolor": "white",
                        "ticks": ""
                      },
                      "baxis": {
                        "gridcolor": "white",
                        "linecolor": "white",
                        "ticks": ""
                      },
                      "bgcolor": "#E5ECF6",
                      "caxis": {
                        "gridcolor": "white",
                        "linecolor": "white",
                        "ticks": ""
                      }
                    },
                    "title": {
                      "x": 0.05
                    },
                    "xaxis": {
                      "automargin": true,
                      "gridcolor": "white",
                      "linecolor": "white",
                      "ticks": "",
                      "title": {
                        "standoff": 15
                      },
                      "zerolinecolor": "white",
                      "zerolinewidth": 2
                    },
                    "yaxis": {
                      "automargin": true,
                      "gridcolor": "white",
                      "linecolor": "white",
                      "ticks": "",
                      "title": {
                        "standoff": 15
                      },
                      "zerolinecolor": "white",
                      "zerolinewidth": 2
                    }
                  }
                },
                "title": {
                  "text": "Coherence Value and # of Topics"
                },
                "xaxis": {
                  "anchor": "y",
                  "domain": [
                    0,
                    1
                  ],
                  "title": {
                    "text": "# Topics"
                  }
                },
                "yaxis": {
                  "anchor": "x",
                  "domain": [
                    0,
                    1
                  ],
                  "title": {
                    "text": "Score"
                  }
                }
              }
            },
            "text/html": [
              "<div>                            <div id=\"084b75de-f9f2-4e1b-b2cc-38df0026e940\" class=\"plotly-graph-div\" style=\"height:525px; width:100%;\"></div>            <script type=\"text/javascript\">                require([\"plotly\"], function(Plotly) {                    window.PLOTLYENV=window.PLOTLYENV || {};                                    if (document.getElementById(\"084b75de-f9f2-4e1b-b2cc-38df0026e940\")) {                    Plotly.newPlot(                        \"084b75de-f9f2-4e1b-b2cc-38df0026e940\",                        [{\"hovertemplate\":\"Metric=Coherence<br># Topics=%{x}<br>Score=%{y}<extra></extra>\",\"legendgroup\":\"Coherence\",\"line\":{\"color\":\"#636efa\",\"dash\":\"solid\",\"shape\":\"linear\"},\"marker\":{\"symbol\":\"circle\"},\"mode\":\"lines\",\"name\":\"Coherence\",\"orientation\":\"v\",\"showlegend\":true,\"x\":[2,4,8,16,32,64,100,200,300,400],\"xaxis\":\"x\",\"y\":[0.4304076609520782,0.44782124167385146,0.5693410458442522,0.6022180132673087,0.6604430938624827,0.6444052162461217,0.6577756135998375,0.6240557306926086,0.6583030706480302,0.6476796229530869],\"yaxis\":\"y\",\"type\":\"scatter\"}],                        {\"template\":{\"data\":{\"histogram2dcontour\":[{\"type\":\"histogram2dcontour\",\"colorbar\":{\"outlinewidth\":0,\"ticks\":\"\"},\"colorscale\":[[0.0,\"#0d0887\"],[0.1111111111111111,\"#46039f\"],[0.2222222222222222,\"#7201a8\"],[0.3333333333333333,\"#9c179e\"],[0.4444444444444444,\"#bd3786\"],[0.5555555555555556,\"#d8576b\"],[0.6666666666666666,\"#ed7953\"],[0.7777777777777778,\"#fb9f3a\"],[0.8888888888888888,\"#fdca26\"],[1.0,\"#f0f921\"]]}],\"choropleth\":[{\"type\":\"choropleth\",\"colorbar\":{\"outlinewidth\":0,\"ticks\":\"\"}}],\"histogram2d\":[{\"type\":\"histogram2d\",\"colorbar\":{\"outlinewidth\":0,\"ticks\":\"\"},\"colorscale\":[[0.0,\"#0d0887\"],[0.1111111111111111,\"#46039f\"],[0.2222222222222222,\"#7201a8\"],[0.3333333333333333,\"#9c179e\"],[0.4444444444444444,\"#bd3786\"],[0.5555555555555556,\"#d8576b\"],[0.6666666666666666,\"#ed7953\"],[0.7777777777777778,\"#fb9f3a\"],[0.8888888888888888,\"#fdca26\"],[1.0,\"#f0f921\"]]}],\"heatmap\":[{\"type\":\"heatmap\",\"colorbar\":{\"outlinewidth\":0,\"ticks\":\"\"},\"colorscale\":[[0.0,\"#0d0887\"],[0.1111111111111111,\"#46039f\"],[0.2222222222222222,\"#7201a8\"],[0.3333333333333333,\"#9c179e\"],[0.4444444444444444,\"#bd3786\"],[0.5555555555555556,\"#d8576b\"],[0.6666666666666666,\"#ed7953\"],[0.7777777777777778,\"#fb9f3a\"],[0.8888888888888888,\"#fdca26\"],[1.0,\"#f0f921\"]]}],\"heatmapgl\":[{\"type\":\"heatmapgl\",\"colorbar\":{\"outlinewidth\":0,\"ticks\":\"\"},\"colorscale\":[[0.0,\"#0d0887\"],[0.1111111111111111,\"#46039f\"],[0.2222222222222222,\"#7201a8\"],[0.3333333333333333,\"#9c179e\"],[0.4444444444444444,\"#bd3786\"],[0.5555555555555556,\"#d8576b\"],[0.6666666666666666,\"#ed7953\"],[0.7777777777777778,\"#fb9f3a\"],[0.8888888888888888,\"#fdca26\"],[1.0,\"#f0f921\"]]}],\"contourcarpet\":[{\"type\":\"contourcarpet\",\"colorbar\":{\"outlinewidth\":0,\"ticks\":\"\"}}],\"contour\":[{\"type\":\"contour\",\"colorbar\":{\"outlinewidth\":0,\"ticks\":\"\"},\"colorscale\":[[0.0,\"#0d0887\"],[0.1111111111111111,\"#46039f\"],[0.2222222222222222,\"#7201a8\"],[0.3333333333333333,\"#9c179e\"],[0.4444444444444444,\"#bd3786\"],[0.5555555555555556,\"#d8576b\"],[0.6666666666666666,\"#ed7953\"],[0.7777777777777778,\"#fb9f3a\"],[0.8888888888888888,\"#fdca26\"],[1.0,\"#f0f921\"]]}],\"surface\":[{\"type\":\"surface\",\"colorbar\":{\"outlinewidth\":0,\"ticks\":\"\"},\"colorscale\":[[0.0,\"#0d0887\"],[0.1111111111111111,\"#46039f\"],[0.2222222222222222,\"#7201a8\"],[0.3333333333333333,\"#9c179e\"],[0.4444444444444444,\"#bd3786\"],[0.5555555555555556,\"#d8576b\"],[0.6666666666666666,\"#ed7953\"],[0.7777777777777778,\"#fb9f3a\"],[0.8888888888888888,\"#fdca26\"],[1.0,\"#f0f921\"]]}],\"mesh3d\":[{\"type\":\"mesh3d\",\"colorbar\":{\"outlinewidth\":0,\"ticks\":\"\"}}],\"scatter\":[{\"fillpattern\":{\"fillmode\":\"overlay\",\"size\":10,\"solidity\":0.2},\"type\":\"scatter\"}],\"parcoords\":[{\"type\":\"parcoords\",\"line\":{\"colorbar\":{\"outlinewidth\":0,\"ticks\":\"\"}}}],\"scatterpolargl\":[{\"type\":\"scatterpolargl\",\"marker\":{\"colorbar\":{\"outlinewidth\":0,\"ticks\":\"\"}}}],\"bar\":[{\"error_x\":{\"color\":\"#2a3f5f\"},\"error_y\":{\"color\":\"#2a3f5f\"},\"marker\":{\"line\":{\"color\":\"#E5ECF6\",\"width\":0.5},\"pattern\":{\"fillmode\":\"overlay\",\"size\":10,\"solidity\":0.2}},\"type\":\"bar\"}],\"scattergeo\":[{\"type\":\"scattergeo\",\"marker\":{\"colorbar\":{\"outlinewidth\":0,\"ticks\":\"\"}}}],\"scatterpolar\":[{\"type\":\"scatterpolar\",\"marker\":{\"colorbar\":{\"outlinewidth\":0,\"ticks\":\"\"}}}],\"histogram\":[{\"marker\":{\"pattern\":{\"fillmode\":\"overlay\",\"size\":10,\"solidity\":0.2}},\"type\":\"histogram\"}],\"scattergl\":[{\"type\":\"scattergl\",\"marker\":{\"colorbar\":{\"outlinewidth\":0,\"ticks\":\"\"}}}],\"scatter3d\":[{\"type\":\"scatter3d\",\"line\":{\"colorbar\":{\"outlinewidth\":0,\"ticks\":\"\"}},\"marker\":{\"colorbar\":{\"outlinewidth\":0,\"ticks\":\"\"}}}],\"scattermapbox\":[{\"type\":\"scattermapbox\",\"marker\":{\"colorbar\":{\"outlinewidth\":0,\"ticks\":\"\"}}}],\"scatterternary\":[{\"type\":\"scatterternary\",\"marker\":{\"colorbar\":{\"outlinewidth\":0,\"ticks\":\"\"}}}],\"scattercarpet\":[{\"type\":\"scattercarpet\",\"marker\":{\"colorbar\":{\"outlinewidth\":0,\"ticks\":\"\"}}}],\"carpet\":[{\"aaxis\":{\"endlinecolor\":\"#2a3f5f\",\"gridcolor\":\"white\",\"linecolor\":\"white\",\"minorgridcolor\":\"white\",\"startlinecolor\":\"#2a3f5f\"},\"baxis\":{\"endlinecolor\":\"#2a3f5f\",\"gridcolor\":\"white\",\"linecolor\":\"white\",\"minorgridcolor\":\"white\",\"startlinecolor\":\"#2a3f5f\"},\"type\":\"carpet\"}],\"table\":[{\"cells\":{\"fill\":{\"color\":\"#EBF0F8\"},\"line\":{\"color\":\"white\"}},\"header\":{\"fill\":{\"color\":\"#C8D4E3\"},\"line\":{\"color\":\"white\"}},\"type\":\"table\"}],\"barpolar\":[{\"marker\":{\"line\":{\"color\":\"#E5ECF6\",\"width\":0.5},\"pattern\":{\"fillmode\":\"overlay\",\"size\":10,\"solidity\":0.2}},\"type\":\"barpolar\"}],\"pie\":[{\"automargin\":true,\"type\":\"pie\"}]},\"layout\":{\"autotypenumbers\":\"strict\",\"colorway\":[\"#636efa\",\"#EF553B\",\"#00cc96\",\"#ab63fa\",\"#FFA15A\",\"#19d3f3\",\"#FF6692\",\"#B6E880\",\"#FF97FF\",\"#FECB52\"],\"font\":{\"color\":\"#2a3f5f\"},\"hovermode\":\"closest\",\"hoverlabel\":{\"align\":\"left\"},\"paper_bgcolor\":\"white\",\"plot_bgcolor\":\"#E5ECF6\",\"polar\":{\"bgcolor\":\"#E5ECF6\",\"angularaxis\":{\"gridcolor\":\"white\",\"linecolor\":\"white\",\"ticks\":\"\"},\"radialaxis\":{\"gridcolor\":\"white\",\"linecolor\":\"white\",\"ticks\":\"\"}},\"ternary\":{\"bgcolor\":\"#E5ECF6\",\"aaxis\":{\"gridcolor\":\"white\",\"linecolor\":\"white\",\"ticks\":\"\"},\"baxis\":{\"gridcolor\":\"white\",\"linecolor\":\"white\",\"ticks\":\"\"},\"caxis\":{\"gridcolor\":\"white\",\"linecolor\":\"white\",\"ticks\":\"\"}},\"coloraxis\":{\"colorbar\":{\"outlinewidth\":0,\"ticks\":\"\"}},\"colorscale\":{\"sequential\":[[0.0,\"#0d0887\"],[0.1111111111111111,\"#46039f\"],[0.2222222222222222,\"#7201a8\"],[0.3333333333333333,\"#9c179e\"],[0.4444444444444444,\"#bd3786\"],[0.5555555555555556,\"#d8576b\"],[0.6666666666666666,\"#ed7953\"],[0.7777777777777778,\"#fb9f3a\"],[0.8888888888888888,\"#fdca26\"],[1.0,\"#f0f921\"]],\"sequentialminus\":[[0.0,\"#0d0887\"],[0.1111111111111111,\"#46039f\"],[0.2222222222222222,\"#7201a8\"],[0.3333333333333333,\"#9c179e\"],[0.4444444444444444,\"#bd3786\"],[0.5555555555555556,\"#d8576b\"],[0.6666666666666666,\"#ed7953\"],[0.7777777777777778,\"#fb9f3a\"],[0.8888888888888888,\"#fdca26\"],[1.0,\"#f0f921\"]],\"diverging\":[[0,\"#8e0152\"],[0.1,\"#c51b7d\"],[0.2,\"#de77ae\"],[0.3,\"#f1b6da\"],[0.4,\"#fde0ef\"],[0.5,\"#f7f7f7\"],[0.6,\"#e6f5d0\"],[0.7,\"#b8e186\"],[0.8,\"#7fbc41\"],[0.9,\"#4d9221\"],[1,\"#276419\"]]},\"xaxis\":{\"gridcolor\":\"white\",\"linecolor\":\"white\",\"ticks\":\"\",\"title\":{\"standoff\":15},\"zerolinecolor\":\"white\",\"automargin\":true,\"zerolinewidth\":2},\"yaxis\":{\"gridcolor\":\"white\",\"linecolor\":\"white\",\"ticks\":\"\",\"title\":{\"standoff\":15},\"zerolinecolor\":\"white\",\"automargin\":true,\"zerolinewidth\":2},\"scene\":{\"xaxis\":{\"backgroundcolor\":\"#E5ECF6\",\"gridcolor\":\"white\",\"linecolor\":\"white\",\"showbackground\":true,\"ticks\":\"\",\"zerolinecolor\":\"white\",\"gridwidth\":2},\"yaxis\":{\"backgroundcolor\":\"#E5ECF6\",\"gridcolor\":\"white\",\"linecolor\":\"white\",\"showbackground\":true,\"ticks\":\"\",\"zerolinecolor\":\"white\",\"gridwidth\":2},\"zaxis\":{\"backgroundcolor\":\"#E5ECF6\",\"gridcolor\":\"white\",\"linecolor\":\"white\",\"showbackground\":true,\"ticks\":\"\",\"zerolinecolor\":\"white\",\"gridwidth\":2}},\"shapedefaults\":{\"line\":{\"color\":\"#2a3f5f\"}},\"annotationdefaults\":{\"arrowcolor\":\"#2a3f5f\",\"arrowhead\":0,\"arrowwidth\":1},\"geo\":{\"bgcolor\":\"white\",\"landcolor\":\"#E5ECF6\",\"subunitcolor\":\"white\",\"showland\":true,\"showlakes\":true,\"lakecolor\":\"white\"},\"title\":{\"x\":0.05},\"mapbox\":{\"style\":\"light\"}}},\"xaxis\":{\"anchor\":\"y\",\"domain\":[0.0,1.0],\"title\":{\"text\":\"# Topics\"}},\"yaxis\":{\"anchor\":\"x\",\"domain\":[0.0,1.0],\"title\":{\"text\":\"Score\"}},\"legend\":{\"title\":{\"text\":\"Metric\"},\"tracegroupgap\":0},\"title\":{\"text\":\"Coherence Value and # of Topics\"},\"plot_bgcolor\":\"rgb(245,245,245)\"},                        {\"responsive\": true}                    ).then(function(){\n",
              "                            \n",
              "var gd = document.getElementById('084b75de-f9f2-4e1b-b2cc-38df0026e940');\n",
              "var x = new MutationObserver(function (mutations, observer) {{\n",
              "        var display = window.getComputedStyle(gd).display;\n",
              "        if (!display || display === 'none') {{\n",
              "            console.log([gd, 'removed!']);\n",
              "            Plotly.purge(gd);\n",
              "            observer.disconnect();\n",
              "        }}\n",
              "}});\n",
              "\n",
              "// Listen for the removal of the full notebook cells\n",
              "var notebookContainer = gd.closest('#notebook-container');\n",
              "if (notebookContainer) {{\n",
              "    x.observe(notebookContainer, {childList: true});\n",
              "}}\n",
              "\n",
              "// Listen for the clearing of the current output cell\n",
              "var outputEl = gd.closest('.output');\n",
              "if (outputEl) {{\n",
              "    x.observe(outputEl, {childList: true});\n",
              "}}\n",
              "\n",
              "                        })                };                });            </script>        </div>"
            ]
          },
          "metadata": {},
          "output_type": "display_data"
        },
        {
          "name": "stdout",
          "output_type": "stream",
          "text": [
            "Best Model: Hierarchical Dirichlet Process | # Topics: 32 | Coherence: 0.6604\n",
            "CPU times: user 3min 40s, sys: 2min 18s, total: 5min 59s\n",
            "Wall time: 3min 54s\n"
          ]
        }
      ],
      "source": [
        "%time tuned_hdp = tune_model(model = 'hdp', multi_core = True)"
      ]
    },
    {
      "cell_type": "markdown",
      "id": "0536bc4c",
      "metadata": {
        "id": "0536bc4c"
      },
      "source": [
        "### Creating Models\n",
        "\n",
        "It looks like LDA, LSI & HDP all have the 8 topic models as a decent option for coherence scores. We will build the models with this parameter. "
      ]
    },
    {
      "cell_type": "code",
      "execution_count": null,
      "id": "16c4544d",
      "metadata": {
        "id": "16c4544d",
        "outputId": "b9fd77b6-0bfd-4ffd-c991-b07718c009a6"
      },
      "outputs": [
        {
          "name": "stdout",
          "output_type": "stream",
          "text": [
            "CPU times: user 2.25 s, sys: 406 ms, total: 2.65 s\n",
            "Wall time: 2.97 s\n"
          ]
        }
      ],
      "source": [
        "%time lda = create_model('lda', num_topics = 8, multi_core = True)"
      ]
    },
    {
      "cell_type": "code",
      "execution_count": null,
      "id": "1eb67f66",
      "metadata": {
        "id": "1eb67f66",
        "outputId": "2f186fe4-7421-4a61-80b0-32d2f19a8f22"
      },
      "outputs": [
        {
          "name": "stdout",
          "output_type": "stream",
          "text": [
            "CPU times: user 1.47 s, sys: 2.31 s, total: 3.78 s\n",
            "Wall time: 593 ms\n"
          ]
        }
      ],
      "source": [
        "%time lsi = create_model('lsi', num_topics = 8, multi_core = True)"
      ]
    },
    {
      "cell_type": "code",
      "execution_count": null,
      "id": "941fd677",
      "metadata": {
        "id": "941fd677",
        "outputId": "f631299c-26a9-47b5-dfc2-c73e74a093d6"
      },
      "outputs": [
        {
          "name": "stdout",
          "output_type": "stream",
          "text": [
            "CPU times: user 3.26 s, sys: 951 ms, total: 4.21 s\n",
            "Wall time: 3.07 s\n"
          ]
        }
      ],
      "source": [
        "%time hdp = create_model('hdp', num_topics = 8, multi_core = True)"
      ]
    },
    {
      "cell_type": "code",
      "execution_count": null,
      "id": "17d26fac",
      "metadata": {
        "id": "17d26fac",
        "outputId": "fc7eb96a-333d-4a17-aa04-580f2cbb6cb5"
      },
      "outputs": [
        {
          "name": "stdout",
          "output_type": "stream",
          "text": [
            "CPU times: user 9.97 ms, sys: 2.06 ms, total: 12 ms\n",
            "Wall time: 11.6 ms\n"
          ]
        }
      ],
      "source": [
        "%time rp = create_model('rp', num_topics = 8, multi_core = True)"
      ]
    },
    {
      "cell_type": "code",
      "execution_count": null,
      "id": "e9545e0a",
      "metadata": {
        "id": "e9545e0a",
        "outputId": "f53eb815-62db-4712-9475-c2944629362d"
      },
      "outputs": [
        {
          "name": "stdout",
          "output_type": "stream",
          "text": [
            "CPU times: user 216 ms, sys: 276 ms, total: 493 ms\n",
            "Wall time: 176 ms\n"
          ]
        }
      ],
      "source": [
        "%time nmf = create_model('nmf', num_topics = 8, multi_core = True)"
      ]
    },
    {
      "cell_type": "markdown",
      "id": "ccfbdb2d",
      "metadata": {
        "id": "ccfbdb2d"
      },
      "source": [
        "# Assign a Model\n",
        "\n",
        "After creating our topic model(s), we can use the assign_model() function to dataset to analyze the results. The columns Topic [0-7] represent the numerical proportion of each topic per group. The Dominant_Topic columns is the topic number with highest proportion. The Perc_Dominant_Topic is the percentage of dominant topic over 1 (only shown when models are stochastic i.e. sum of all proportions equal to 1)."
      ]
    },
    {
      "cell_type": "code",
      "execution_count": null,
      "id": "f02adb52",
      "metadata": {
        "id": "f02adb52",
        "outputId": "ec5274a5-c730-4efe-eeec-24f68db32ae3"
      },
      "outputs": [
        {
          "data": {
            "text/html": [
              "<div>\n",
              "<style scoped>\n",
              "    .dataframe tbody tr th:only-of-type {\n",
              "        vertical-align: middle;\n",
              "    }\n",
              "\n",
              "    .dataframe tbody tr th {\n",
              "        vertical-align: top;\n",
              "    }\n",
              "\n",
              "    .dataframe thead th {\n",
              "        text-align: right;\n",
              "    }\n",
              "</style>\n",
              "<table border=\"1\" class=\"dataframe\">\n",
              "  <thead>\n",
              "    <tr style=\"text-align: right;\">\n",
              "      <th></th>\n",
              "      <th>goodreads_description</th>\n",
              "      <th>Topic_0</th>\n",
              "      <th>Topic_1</th>\n",
              "      <th>Topic_2</th>\n",
              "      <th>Topic_3</th>\n",
              "      <th>Topic_4</th>\n",
              "      <th>Topic_5</th>\n",
              "      <th>Topic_6</th>\n",
              "      <th>Topic_7</th>\n",
              "      <th>Dominant_Topic</th>\n",
              "      <th>Perc_Dominant_Topic</th>\n",
              "    </tr>\n",
              "  </thead>\n",
              "  <tbody>\n",
              "    <tr>\n",
              "      <th>0</th>\n",
              "      <td>utterly compelling thriller shocking twist del...</td>\n",
              "      <td>0.582234</td>\n",
              "      <td>0.130544</td>\n",
              "      <td>0.002165</td>\n",
              "      <td>0.002162</td>\n",
              "      <td>0.023886</td>\n",
              "      <td>0.002162</td>\n",
              "      <td>0.038940</td>\n",
              "      <td>0.217906</td>\n",
              "      <td>Topic 0</td>\n",
              "      <td>0.58</td>\n",
              "    </tr>\n",
              "    <tr>\n",
              "      <th>1</th>\n",
              "      <td>novel verse grief national book award_winne au...</td>\n",
              "      <td>0.002321</td>\n",
              "      <td>0.002321</td>\n",
              "      <td>0.002322</td>\n",
              "      <td>0.002320</td>\n",
              "      <td>0.280408</td>\n",
              "      <td>0.002322</td>\n",
              "      <td>0.002319</td>\n",
              "      <td>0.705668</td>\n",
              "      <td>Topic 7</td>\n",
              "      <td>0.71</td>\n",
              "    </tr>\n",
              "    <tr>\n",
              "      <th>2</th>\n",
              "      <td>jason_reynold fall hard astonish new_york_time...</td>\n",
              "      <td>0.377858</td>\n",
              "      <td>0.001693</td>\n",
              "      <td>0.611989</td>\n",
              "      <td>0.001691</td>\n",
              "      <td>0.001692</td>\n",
              "      <td>0.001693</td>\n",
              "      <td>0.001691</td>\n",
              "      <td>0.001693</td>\n",
              "      <td>Topic 2</td>\n",
              "      <td>0.61</td>\n",
              "    </tr>\n",
              "    <tr>\n",
              "      <th>3</th>\n",
              "      <td>jason_reynold fall hard astonish new_york_time...</td>\n",
              "      <td>0.377857</td>\n",
              "      <td>0.001693</td>\n",
              "      <td>0.611989</td>\n",
              "      <td>0.001691</td>\n",
              "      <td>0.001692</td>\n",
              "      <td>0.001693</td>\n",
              "      <td>0.001691</td>\n",
              "      <td>0.001693</td>\n",
              "      <td>Topic 2</td>\n",
              "      <td>0.61</td>\n",
              "    </tr>\n",
              "    <tr>\n",
              "      <th>4</th>\n",
              "      <td>jason_reynold fall hard astonish new_york_time...</td>\n",
              "      <td>0.377853</td>\n",
              "      <td>0.001693</td>\n",
              "      <td>0.611994</td>\n",
              "      <td>0.001691</td>\n",
              "      <td>0.001692</td>\n",
              "      <td>0.001693</td>\n",
              "      <td>0.001691</td>\n",
              "      <td>0.001693</td>\n",
              "      <td>Topic 2</td>\n",
              "      <td>0.61</td>\n",
              "    </tr>\n",
              "  </tbody>\n",
              "</table>\n",
              "</div>"
            ],
            "text/plain": [
              "                               goodreads_description   Topic_0   Topic_1  \\\n",
              "0  utterly compelling thriller shocking twist del...  0.582234  0.130544   \n",
              "1  novel verse grief national book award_winne au...  0.002321  0.002321   \n",
              "2  jason_reynold fall hard astonish new_york_time...  0.377858  0.001693   \n",
              "3  jason_reynold fall hard astonish new_york_time...  0.377857  0.001693   \n",
              "4  jason_reynold fall hard astonish new_york_time...  0.377853  0.001693   \n",
              "\n",
              "    Topic_2   Topic_3   Topic_4   Topic_5   Topic_6   Topic_7 Dominant_Topic  \\\n",
              "0  0.002165  0.002162  0.023886  0.002162  0.038940  0.217906        Topic 0   \n",
              "1  0.002322  0.002320  0.280408  0.002322  0.002319  0.705668        Topic 7   \n",
              "2  0.611989  0.001691  0.001692  0.001693  0.001691  0.001693        Topic 2   \n",
              "3  0.611989  0.001691  0.001692  0.001693  0.001691  0.001693        Topic 2   \n",
              "4  0.611994  0.001691  0.001692  0.001693  0.001691  0.001693        Topic 2   \n",
              "\n",
              "   Perc_Dominant_Topic  \n",
              "0                 0.58  \n",
              "1                 0.71  \n",
              "2                 0.61  \n",
              "3                 0.61  \n",
              "4                 0.61  "
            ]
          },
          "execution_count": 14,
          "metadata": {},
          "output_type": "execute_result"
        }
      ],
      "source": [
        "lda_results = assign_model(lda)\n",
        "lda_results.head()"
      ]
    },
    {
      "cell_type": "code",
      "execution_count": null,
      "id": "5ea934e9",
      "metadata": {
        "id": "5ea934e9",
        "outputId": "bfbbe659-db74-4bdb-a1a2-c6065fe9c41e"
      },
      "outputs": [
        {
          "data": {
            "text/html": [
              "<div>\n",
              "<style scoped>\n",
              "    .dataframe tbody tr th:only-of-type {\n",
              "        vertical-align: middle;\n",
              "    }\n",
              "\n",
              "    .dataframe tbody tr th {\n",
              "        vertical-align: top;\n",
              "    }\n",
              "\n",
              "    .dataframe thead th {\n",
              "        text-align: right;\n",
              "    }\n",
              "</style>\n",
              "<table border=\"1\" class=\"dataframe\">\n",
              "  <thead>\n",
              "    <tr style=\"text-align: right;\">\n",
              "      <th></th>\n",
              "      <th>goodreads_description</th>\n",
              "      <th>Topic_0</th>\n",
              "      <th>Topic_1</th>\n",
              "      <th>Topic_2</th>\n",
              "      <th>Topic_3</th>\n",
              "      <th>Topic_4</th>\n",
              "      <th>Topic_5</th>\n",
              "      <th>Topic_6</th>\n",
              "      <th>Topic_7</th>\n",
              "      <th>Dominant_Topic</th>\n",
              "    </tr>\n",
              "  </thead>\n",
              "  <tbody>\n",
              "    <tr>\n",
              "      <th>0</th>\n",
              "      <td>utterly compelling thriller shocking twist del...</td>\n",
              "      <td>1.634620</td>\n",
              "      <td>0.324135</td>\n",
              "      <td>1.346970</td>\n",
              "      <td>-0.097383</td>\n",
              "      <td>-0.202802</td>\n",
              "      <td>0.729300</td>\n",
              "      <td>0.062197</td>\n",
              "      <td>0.390067</td>\n",
              "      <td>Topic 0</td>\n",
              "    </tr>\n",
              "    <tr>\n",
              "      <th>1</th>\n",
              "      <td>novel verse grief national book award_winne au...</td>\n",
              "      <td>1.924069</td>\n",
              "      <td>-0.357089</td>\n",
              "      <td>0.157911</td>\n",
              "      <td>0.475985</td>\n",
              "      <td>0.099079</td>\n",
              "      <td>-0.598074</td>\n",
              "      <td>-0.671099</td>\n",
              "      <td>-0.185171</td>\n",
              "      <td>Topic 0</td>\n",
              "    </tr>\n",
              "    <tr>\n",
              "      <th>2</th>\n",
              "      <td>jason_reynold fall hard astonish new_york_time...</td>\n",
              "      <td>2.872974</td>\n",
              "      <td>0.473876</td>\n",
              "      <td>0.624317</td>\n",
              "      <td>0.343748</td>\n",
              "      <td>1.912287</td>\n",
              "      <td>0.627919</td>\n",
              "      <td>0.099522</td>\n",
              "      <td>0.584554</td>\n",
              "      <td>Topic 0</td>\n",
              "    </tr>\n",
              "    <tr>\n",
              "      <th>3</th>\n",
              "      <td>jason_reynold fall hard astonish new_york_time...</td>\n",
              "      <td>2.872974</td>\n",
              "      <td>0.473876</td>\n",
              "      <td>0.624317</td>\n",
              "      <td>0.343748</td>\n",
              "      <td>1.912287</td>\n",
              "      <td>0.627919</td>\n",
              "      <td>0.099522</td>\n",
              "      <td>0.584554</td>\n",
              "      <td>Topic 0</td>\n",
              "    </tr>\n",
              "    <tr>\n",
              "      <th>4</th>\n",
              "      <td>jason_reynold fall hard astonish new_york_time...</td>\n",
              "      <td>2.872974</td>\n",
              "      <td>0.473876</td>\n",
              "      <td>0.624317</td>\n",
              "      <td>0.343748</td>\n",
              "      <td>1.912287</td>\n",
              "      <td>0.627919</td>\n",
              "      <td>0.099522</td>\n",
              "      <td>0.584554</td>\n",
              "      <td>Topic 0</td>\n",
              "    </tr>\n",
              "  </tbody>\n",
              "</table>\n",
              "</div>"
            ],
            "text/plain": [
              "                               goodreads_description   Topic_0   Topic_1  \\\n",
              "0  utterly compelling thriller shocking twist del...  1.634620  0.324135   \n",
              "1  novel verse grief national book award_winne au...  1.924069 -0.357089   \n",
              "2  jason_reynold fall hard astonish new_york_time...  2.872974  0.473876   \n",
              "3  jason_reynold fall hard astonish new_york_time...  2.872974  0.473876   \n",
              "4  jason_reynold fall hard astonish new_york_time...  2.872974  0.473876   \n",
              "\n",
              "    Topic_2   Topic_3   Topic_4   Topic_5   Topic_6   Topic_7 Dominant_Topic  \n",
              "0  1.346970 -0.097383 -0.202802  0.729300  0.062197  0.390067        Topic 0  \n",
              "1  0.157911  0.475985  0.099079 -0.598074 -0.671099 -0.185171        Topic 0  \n",
              "2  0.624317  0.343748  1.912287  0.627919  0.099522  0.584554        Topic 0  \n",
              "3  0.624317  0.343748  1.912287  0.627919  0.099522  0.584554        Topic 0  \n",
              "4  0.624317  0.343748  1.912287  0.627919  0.099522  0.584554        Topic 0  "
            ]
          },
          "execution_count": 15,
          "metadata": {},
          "output_type": "execute_result"
        }
      ],
      "source": [
        "lsi_results = assign_model(lsi)\n",
        "lsi_results.head()"
      ]
    },
    {
      "cell_type": "code",
      "execution_count": null,
      "id": "9e27f95f",
      "metadata": {
        "id": "9e27f95f",
        "outputId": "84354b87-ed0d-4dcd-ad2c-ae1a06fe3837"
      },
      "outputs": [
        {
          "data": {
            "text/html": [
              "<div>\n",
              "<style scoped>\n",
              "    .dataframe tbody tr th:only-of-type {\n",
              "        vertical-align: middle;\n",
              "    }\n",
              "\n",
              "    .dataframe tbody tr th {\n",
              "        vertical-align: top;\n",
              "    }\n",
              "\n",
              "    .dataframe thead th {\n",
              "        text-align: right;\n",
              "    }\n",
              "</style>\n",
              "<table border=\"1\" class=\"dataframe\">\n",
              "  <thead>\n",
              "    <tr style=\"text-align: right;\">\n",
              "      <th></th>\n",
              "      <th>goodreads_description</th>\n",
              "      <th>Topic_0</th>\n",
              "      <th>Topic_1</th>\n",
              "      <th>Topic_2</th>\n",
              "      <th>Topic_3</th>\n",
              "      <th>Topic_4</th>\n",
              "      <th>Topic_5</th>\n",
              "      <th>Topic_6</th>\n",
              "      <th>Topic_7</th>\n",
              "      <th>Dominant_Topic</th>\n",
              "    </tr>\n",
              "  </thead>\n",
              "  <tbody>\n",
              "    <tr>\n",
              "      <th>0</th>\n",
              "      <td>utterly compelling thriller shocking twist del...</td>\n",
              "      <td>0.991359</td>\n",
              "      <td>0.0</td>\n",
              "      <td>0.0</td>\n",
              "      <td>0.0</td>\n",
              "      <td>0.0</td>\n",
              "      <td>0.0</td>\n",
              "      <td>0.0</td>\n",
              "      <td>0.0</td>\n",
              "      <td>Topic 0</td>\n",
              "    </tr>\n",
              "    <tr>\n",
              "      <th>1</th>\n",
              "      <td>novel verse grief national book award_winne au...</td>\n",
              "      <td>0.990719</td>\n",
              "      <td>0.0</td>\n",
              "      <td>0.0</td>\n",
              "      <td>0.0</td>\n",
              "      <td>0.0</td>\n",
              "      <td>0.0</td>\n",
              "      <td>0.0</td>\n",
              "      <td>0.0</td>\n",
              "      <td>Topic 0</td>\n",
              "    </tr>\n",
              "    <tr>\n",
              "      <th>2</th>\n",
              "      <td>jason_reynold fall hard astonish new_york_time...</td>\n",
              "      <td>0.993228</td>\n",
              "      <td>0.0</td>\n",
              "      <td>0.0</td>\n",
              "      <td>0.0</td>\n",
              "      <td>0.0</td>\n",
              "      <td>0.0</td>\n",
              "      <td>0.0</td>\n",
              "      <td>0.0</td>\n",
              "      <td>Topic 0</td>\n",
              "    </tr>\n",
              "    <tr>\n",
              "      <th>3</th>\n",
              "      <td>jason_reynold fall hard astonish new_york_time...</td>\n",
              "      <td>0.993228</td>\n",
              "      <td>0.0</td>\n",
              "      <td>0.0</td>\n",
              "      <td>0.0</td>\n",
              "      <td>0.0</td>\n",
              "      <td>0.0</td>\n",
              "      <td>0.0</td>\n",
              "      <td>0.0</td>\n",
              "      <td>Topic 0</td>\n",
              "    </tr>\n",
              "    <tr>\n",
              "      <th>4</th>\n",
              "      <td>jason_reynold fall hard astonish new_york_time...</td>\n",
              "      <td>0.993228</td>\n",
              "      <td>0.0</td>\n",
              "      <td>0.0</td>\n",
              "      <td>0.0</td>\n",
              "      <td>0.0</td>\n",
              "      <td>0.0</td>\n",
              "      <td>0.0</td>\n",
              "      <td>0.0</td>\n",
              "      <td>Topic 0</td>\n",
              "    </tr>\n",
              "  </tbody>\n",
              "</table>\n",
              "</div>"
            ],
            "text/plain": [
              "                               goodreads_description   Topic_0  Topic_1  \\\n",
              "0  utterly compelling thriller shocking twist del...  0.991359      0.0   \n",
              "1  novel verse grief national book award_winne au...  0.990719      0.0   \n",
              "2  jason_reynold fall hard astonish new_york_time...  0.993228      0.0   \n",
              "3  jason_reynold fall hard astonish new_york_time...  0.993228      0.0   \n",
              "4  jason_reynold fall hard astonish new_york_time...  0.993228      0.0   \n",
              "\n",
              "   Topic_2  Topic_3  Topic_4  Topic_5  Topic_6  Topic_7 Dominant_Topic  \n",
              "0      0.0      0.0      0.0      0.0      0.0      0.0        Topic 0  \n",
              "1      0.0      0.0      0.0      0.0      0.0      0.0        Topic 0  \n",
              "2      0.0      0.0      0.0      0.0      0.0      0.0        Topic 0  \n",
              "3      0.0      0.0      0.0      0.0      0.0      0.0        Topic 0  \n",
              "4      0.0      0.0      0.0      0.0      0.0      0.0        Topic 0  "
            ]
          },
          "execution_count": 16,
          "metadata": {},
          "output_type": "execute_result"
        }
      ],
      "source": [
        "hdp_results = assign_model(hdp)\n",
        "hdp_results.head()"
      ]
    },
    {
      "cell_type": "code",
      "execution_count": null,
      "id": "63d07fd5",
      "metadata": {
        "id": "63d07fd5",
        "outputId": "874dcc25-3ec0-4088-8128-07ea06acd5fd"
      },
      "outputs": [
        {
          "data": {
            "text/html": [
              "<div>\n",
              "<style scoped>\n",
              "    .dataframe tbody tr th:only-of-type {\n",
              "        vertical-align: middle;\n",
              "    }\n",
              "\n",
              "    .dataframe tbody tr th {\n",
              "        vertical-align: top;\n",
              "    }\n",
              "\n",
              "    .dataframe thead th {\n",
              "        text-align: right;\n",
              "    }\n",
              "</style>\n",
              "<table border=\"1\" class=\"dataframe\">\n",
              "  <thead>\n",
              "    <tr style=\"text-align: right;\">\n",
              "      <th></th>\n",
              "      <th>goodreads_description</th>\n",
              "      <th>Topic_0</th>\n",
              "      <th>Topic_1</th>\n",
              "      <th>Topic_2</th>\n",
              "      <th>Topic_3</th>\n",
              "      <th>Topic_4</th>\n",
              "      <th>Topic_5</th>\n",
              "      <th>Topic_6</th>\n",
              "      <th>Topic_7</th>\n",
              "      <th>Dominant_Topic</th>\n",
              "    </tr>\n",
              "  </thead>\n",
              "  <tbody>\n",
              "    <tr>\n",
              "      <th>0</th>\n",
              "      <td>utterly compelling thriller shocking twist del...</td>\n",
              "      <td>1.767767</td>\n",
              "      <td>2.474874</td>\n",
              "      <td>-5.303301</td>\n",
              "      <td>3.889087</td>\n",
              "      <td>-3.181980</td>\n",
              "      <td>-1.06066</td>\n",
              "      <td>-6.717514</td>\n",
              "      <td>1.060660</td>\n",
              "      <td>Topic 3</td>\n",
              "    </tr>\n",
              "    <tr>\n",
              "      <th>1</th>\n",
              "      <td>novel verse grief national book award_winne au...</td>\n",
              "      <td>-2.474874</td>\n",
              "      <td>0.353553</td>\n",
              "      <td>-2.474874</td>\n",
              "      <td>-0.353553</td>\n",
              "      <td>2.474874</td>\n",
              "      <td>3.18198</td>\n",
              "      <td>-1.060660</td>\n",
              "      <td>0.353553</td>\n",
              "      <td>Topic 5</td>\n",
              "    </tr>\n",
              "    <tr>\n",
              "      <th>2</th>\n",
              "      <td>jason_reynold fall hard astonish new_york_time...</td>\n",
              "      <td>-6.010407</td>\n",
              "      <td>1.767767</td>\n",
              "      <td>1.767767</td>\n",
              "      <td>2.474874</td>\n",
              "      <td>-1.060660</td>\n",
              "      <td>-3.18198</td>\n",
              "      <td>-3.889087</td>\n",
              "      <td>-2.474874</td>\n",
              "      <td>Topic 3</td>\n",
              "    </tr>\n",
              "    <tr>\n",
              "      <th>3</th>\n",
              "      <td>jason_reynold fall hard astonish new_york_time...</td>\n",
              "      <td>-6.010407</td>\n",
              "      <td>1.767767</td>\n",
              "      <td>1.767767</td>\n",
              "      <td>2.474874</td>\n",
              "      <td>-1.060660</td>\n",
              "      <td>-3.18198</td>\n",
              "      <td>-3.889087</td>\n",
              "      <td>-2.474874</td>\n",
              "      <td>Topic 3</td>\n",
              "    </tr>\n",
              "    <tr>\n",
              "      <th>4</th>\n",
              "      <td>jason_reynold fall hard astonish new_york_time...</td>\n",
              "      <td>-6.010407</td>\n",
              "      <td>1.767767</td>\n",
              "      <td>1.767767</td>\n",
              "      <td>2.474874</td>\n",
              "      <td>-1.060660</td>\n",
              "      <td>-3.18198</td>\n",
              "      <td>-3.889087</td>\n",
              "      <td>-2.474874</td>\n",
              "      <td>Topic 3</td>\n",
              "    </tr>\n",
              "  </tbody>\n",
              "</table>\n",
              "</div>"
            ],
            "text/plain": [
              "                               goodreads_description   Topic_0   Topic_1  \\\n",
              "0  utterly compelling thriller shocking twist del...  1.767767  2.474874   \n",
              "1  novel verse grief national book award_winne au... -2.474874  0.353553   \n",
              "2  jason_reynold fall hard astonish new_york_time... -6.010407  1.767767   \n",
              "3  jason_reynold fall hard astonish new_york_time... -6.010407  1.767767   \n",
              "4  jason_reynold fall hard astonish new_york_time... -6.010407  1.767767   \n",
              "\n",
              "    Topic_2   Topic_3   Topic_4  Topic_5   Topic_6   Topic_7 Dominant_Topic  \n",
              "0 -5.303301  3.889087 -3.181980 -1.06066 -6.717514  1.060660        Topic 3  \n",
              "1 -2.474874 -0.353553  2.474874  3.18198 -1.060660  0.353553        Topic 5  \n",
              "2  1.767767  2.474874 -1.060660 -3.18198 -3.889087 -2.474874        Topic 3  \n",
              "3  1.767767  2.474874 -1.060660 -3.18198 -3.889087 -2.474874        Topic 3  \n",
              "4  1.767767  2.474874 -1.060660 -3.18198 -3.889087 -2.474874        Topic 3  "
            ]
          },
          "execution_count": 17,
          "metadata": {},
          "output_type": "execute_result"
        }
      ],
      "source": [
        "rp_results = assign_model(rp)\n",
        "rp_results.head()"
      ]
    },
    {
      "cell_type": "code",
      "execution_count": null,
      "id": "c8925ec1",
      "metadata": {
        "id": "c8925ec1",
        "outputId": "b83d38c4-69dc-44da-a9c1-0f6c8999c4d4"
      },
      "outputs": [
        {
          "data": {
            "text/html": [
              "<div>\n",
              "<style scoped>\n",
              "    .dataframe tbody tr th:only-of-type {\n",
              "        vertical-align: middle;\n",
              "    }\n",
              "\n",
              "    .dataframe tbody tr th {\n",
              "        vertical-align: top;\n",
              "    }\n",
              "\n",
              "    .dataframe thead th {\n",
              "        text-align: right;\n",
              "    }\n",
              "</style>\n",
              "<table border=\"1\" class=\"dataframe\">\n",
              "  <thead>\n",
              "    <tr style=\"text-align: right;\">\n",
              "      <th></th>\n",
              "      <th>goodreads_description</th>\n",
              "      <th>Topic_0</th>\n",
              "      <th>Topic_1</th>\n",
              "      <th>Topic_2</th>\n",
              "      <th>Topic_3</th>\n",
              "      <th>Topic_4</th>\n",
              "      <th>Topic_5</th>\n",
              "      <th>Topic_6</th>\n",
              "      <th>Topic_7</th>\n",
              "      <th>Dominant_Topic</th>\n",
              "      <th>Perc_Dominant_Topic</th>\n",
              "    </tr>\n",
              "  </thead>\n",
              "  <tbody>\n",
              "    <tr>\n",
              "      <th>0</th>\n",
              "      <td>utterly compelling thriller shocking twist del...</td>\n",
              "      <td>3.779510e-20</td>\n",
              "      <td>0.015884</td>\n",
              "      <td>0.0</td>\n",
              "      <td>0.00000</td>\n",
              "      <td>0.000454</td>\n",
              "      <td>0.000000</td>\n",
              "      <td>0.002764</td>\n",
              "      <td>0.0</td>\n",
              "      <td>Topic 1</td>\n",
              "      <td>0.83</td>\n",
              "    </tr>\n",
              "    <tr>\n",
              "      <th>1</th>\n",
              "      <td>novel verse grief national book award_winne au...</td>\n",
              "      <td>0.000000e+00</td>\n",
              "      <td>0.019022</td>\n",
              "      <td>0.0</td>\n",
              "      <td>0.00000</td>\n",
              "      <td>0.000000</td>\n",
              "      <td>0.000088</td>\n",
              "      <td>0.000000</td>\n",
              "      <td>0.0</td>\n",
              "      <td>Topic 1</td>\n",
              "      <td>1.00</td>\n",
              "    </tr>\n",
              "    <tr>\n",
              "      <th>2</th>\n",
              "      <td>jason_reynold fall hard astonish new_york_time...</td>\n",
              "      <td>0.000000e+00</td>\n",
              "      <td>0.020699</td>\n",
              "      <td>0.0</td>\n",
              "      <td>0.00169</td>\n",
              "      <td>0.000000</td>\n",
              "      <td>0.000000</td>\n",
              "      <td>0.000000</td>\n",
              "      <td>0.0</td>\n",
              "      <td>Topic 1</td>\n",
              "      <td>0.92</td>\n",
              "    </tr>\n",
              "    <tr>\n",
              "      <th>3</th>\n",
              "      <td>jason_reynold fall hard astonish new_york_time...</td>\n",
              "      <td>0.000000e+00</td>\n",
              "      <td>0.020699</td>\n",
              "      <td>0.0</td>\n",
              "      <td>0.00169</td>\n",
              "      <td>0.000000</td>\n",
              "      <td>0.000000</td>\n",
              "      <td>0.000000</td>\n",
              "      <td>0.0</td>\n",
              "      <td>Topic 1</td>\n",
              "      <td>0.92</td>\n",
              "    </tr>\n",
              "    <tr>\n",
              "      <th>4</th>\n",
              "      <td>jason_reynold fall hard astonish new_york_time...</td>\n",
              "      <td>0.000000e+00</td>\n",
              "      <td>0.020699</td>\n",
              "      <td>0.0</td>\n",
              "      <td>0.00169</td>\n",
              "      <td>0.000000</td>\n",
              "      <td>0.000000</td>\n",
              "      <td>0.000000</td>\n",
              "      <td>0.0</td>\n",
              "      <td>Topic 1</td>\n",
              "      <td>0.92</td>\n",
              "    </tr>\n",
              "  </tbody>\n",
              "</table>\n",
              "</div>"
            ],
            "text/plain": [
              "                               goodreads_description       Topic_0   Topic_1  \\\n",
              "0  utterly compelling thriller shocking twist del...  3.779510e-20  0.015884   \n",
              "1  novel verse grief national book award_winne au...  0.000000e+00  0.019022   \n",
              "2  jason_reynold fall hard astonish new_york_time...  0.000000e+00  0.020699   \n",
              "3  jason_reynold fall hard astonish new_york_time...  0.000000e+00  0.020699   \n",
              "4  jason_reynold fall hard astonish new_york_time...  0.000000e+00  0.020699   \n",
              "\n",
              "   Topic_2  Topic_3   Topic_4   Topic_5   Topic_6  Topic_7 Dominant_Topic  \\\n",
              "0      0.0  0.00000  0.000454  0.000000  0.002764      0.0        Topic 1   \n",
              "1      0.0  0.00000  0.000000  0.000088  0.000000      0.0        Topic 1   \n",
              "2      0.0  0.00169  0.000000  0.000000  0.000000      0.0        Topic 1   \n",
              "3      0.0  0.00169  0.000000  0.000000  0.000000      0.0        Topic 1   \n",
              "4      0.0  0.00169  0.000000  0.000000  0.000000      0.0        Topic 1   \n",
              "\n",
              "   Perc_Dominant_Topic  \n",
              "0                 0.83  \n",
              "1                 1.00  \n",
              "2                 0.92  \n",
              "3                 0.92  \n",
              "4                 0.92  "
            ]
          },
          "execution_count": 18,
          "metadata": {},
          "output_type": "execute_result"
        }
      ],
      "source": [
        "nmf_results = assign_model(nmf)\n",
        "nmf_results.head()"
      ]
    },
    {
      "cell_type": "markdown",
      "id": "cf6e0c0c",
      "metadata": {
        "id": "cf6e0c0c"
      },
      "source": [
        "# Plot a Model\n",
        "\n",
        "In this task, we are interested in investigating the NMF model. This model will also be used to create a recommender system in the following script named \"NMF_rec\". "
      ]
    },
    {
      "cell_type": "code",
      "execution_count": null,
      "id": "92187941",
      "metadata": {
        "id": "92187941",
        "outputId": "33f6ac23-9b8a-490e-c2af-1838a6b5d992"
      },
      "outputs": [
        {
          "data": {
            "text/html": [
              "        <script type=\"text/javascript\">\n",
              "        window.PlotlyConfig = {MathJaxConfig: 'local'};\n",
              "        if (window.MathJax && window.MathJax.Hub && window.MathJax.Hub.Config) {window.MathJax.Hub.Config({SVG: {font: \"STIX-Web\"}});}\n",
              "        if (typeof require !== 'undefined') {\n",
              "        require.undef(\"plotly\");\n",
              "        requirejs.config({\n",
              "            paths: {\n",
              "                'plotly': ['https://cdn.plot.ly/plotly-2.18.2.min']\n",
              "            }\n",
              "        });\n",
              "        require(['plotly'], function(Plotly) {\n",
              "            window._Plotly = Plotly;\n",
              "        });\n",
              "        }\n",
              "        </script>\n",
              "        "
            ]
          },
          "metadata": {},
          "output_type": "display_data"
        },
        {
          "data": {
            "application/vnd.plotly.v1+json": {
              "config": {
                "linkText": "Export to plot.ly",
                "plotlyServerURL": "https://plot.ly",
                "showLink": true
              },
              "data": [
                {
                  "marker": {
                    "color": "rgba(255, 153, 51, 0.6)",
                    "line": {
                      "color": "rgba(255, 153, 51, 1.0)",
                      "width": 1
                    }
                  },
                  "name": "count",
                  "orientation": "v",
                  "text": "",
                  "type": "bar",
                  "x": [
                    "asexual_gender_queer",
                    "ever_write_time",
                    "family_means_nonbinary",
                    "friends_humans_everywhere",
                    "gay_fanfiction_facing_trauma",
                    "last_comic_would",
                    "means_think_advocate",
                    "mortification_confusion_adolescent_crushe",
                    "pap_smears_starte",
                    "personal_story_useful",
                    "queer_maia_intensely_cathartic",
                    "reading_statistics_would",
                    "self_identity_include",
                    "society_bonding_friends_erotic",
                    "thing_felt_comfortable_stranger",
                    "touching_guide_gender_identity"
                  ],
                  "y": [
                    41,
                    41,
                    41,
                    41,
                    41,
                    41,
                    41,
                    41,
                    41,
                    41,
                    41,
                    41,
                    41,
                    41,
                    41,
                    41
                  ]
                }
              ],
              "layout": {
                "legend": {
                  "bgcolor": "#F5F6F9",
                  "font": {
                    "color": "#4D5663"
                  }
                },
                "paper_bgcolor": "#F5F6F9",
                "plot_bgcolor": "#F5F6F9",
                "template": {
                  "data": {
                    "bar": [
                      {
                        "error_x": {
                          "color": "#2a3f5f"
                        },
                        "error_y": {
                          "color": "#2a3f5f"
                        },
                        "marker": {
                          "line": {
                            "color": "#E5ECF6",
                            "width": 0.5
                          },
                          "pattern": {
                            "fillmode": "overlay",
                            "size": 10,
                            "solidity": 0.2
                          }
                        },
                        "type": "bar"
                      }
                    ],
                    "barpolar": [
                      {
                        "marker": {
                          "line": {
                            "color": "#E5ECF6",
                            "width": 0.5
                          },
                          "pattern": {
                            "fillmode": "overlay",
                            "size": 10,
                            "solidity": 0.2
                          }
                        },
                        "type": "barpolar"
                      }
                    ],
                    "carpet": [
                      {
                        "aaxis": {
                          "endlinecolor": "#2a3f5f",
                          "gridcolor": "white",
                          "linecolor": "white",
                          "minorgridcolor": "white",
                          "startlinecolor": "#2a3f5f"
                        },
                        "baxis": {
                          "endlinecolor": "#2a3f5f",
                          "gridcolor": "white",
                          "linecolor": "white",
                          "minorgridcolor": "white",
                          "startlinecolor": "#2a3f5f"
                        },
                        "type": "carpet"
                      }
                    ],
                    "choropleth": [
                      {
                        "colorbar": {
                          "outlinewidth": 0,
                          "ticks": ""
                        },
                        "type": "choropleth"
                      }
                    ],
                    "contour": [
                      {
                        "colorbar": {
                          "outlinewidth": 0,
                          "ticks": ""
                        },
                        "colorscale": [
                          [
                            0,
                            "#0d0887"
                          ],
                          [
                            0.1111111111111111,
                            "#46039f"
                          ],
                          [
                            0.2222222222222222,
                            "#7201a8"
                          ],
                          [
                            0.3333333333333333,
                            "#9c179e"
                          ],
                          [
                            0.4444444444444444,
                            "#bd3786"
                          ],
                          [
                            0.5555555555555556,
                            "#d8576b"
                          ],
                          [
                            0.6666666666666666,
                            "#ed7953"
                          ],
                          [
                            0.7777777777777778,
                            "#fb9f3a"
                          ],
                          [
                            0.8888888888888888,
                            "#fdca26"
                          ],
                          [
                            1,
                            "#f0f921"
                          ]
                        ],
                        "type": "contour"
                      }
                    ],
                    "contourcarpet": [
                      {
                        "colorbar": {
                          "outlinewidth": 0,
                          "ticks": ""
                        },
                        "type": "contourcarpet"
                      }
                    ],
                    "heatmap": [
                      {
                        "colorbar": {
                          "outlinewidth": 0,
                          "ticks": ""
                        },
                        "colorscale": [
                          [
                            0,
                            "#0d0887"
                          ],
                          [
                            0.1111111111111111,
                            "#46039f"
                          ],
                          [
                            0.2222222222222222,
                            "#7201a8"
                          ],
                          [
                            0.3333333333333333,
                            "#9c179e"
                          ],
                          [
                            0.4444444444444444,
                            "#bd3786"
                          ],
                          [
                            0.5555555555555556,
                            "#d8576b"
                          ],
                          [
                            0.6666666666666666,
                            "#ed7953"
                          ],
                          [
                            0.7777777777777778,
                            "#fb9f3a"
                          ],
                          [
                            0.8888888888888888,
                            "#fdca26"
                          ],
                          [
                            1,
                            "#f0f921"
                          ]
                        ],
                        "type": "heatmap"
                      }
                    ],
                    "heatmapgl": [
                      {
                        "colorbar": {
                          "outlinewidth": 0,
                          "ticks": ""
                        },
                        "colorscale": [
                          [
                            0,
                            "#0d0887"
                          ],
                          [
                            0.1111111111111111,
                            "#46039f"
                          ],
                          [
                            0.2222222222222222,
                            "#7201a8"
                          ],
                          [
                            0.3333333333333333,
                            "#9c179e"
                          ],
                          [
                            0.4444444444444444,
                            "#bd3786"
                          ],
                          [
                            0.5555555555555556,
                            "#d8576b"
                          ],
                          [
                            0.6666666666666666,
                            "#ed7953"
                          ],
                          [
                            0.7777777777777778,
                            "#fb9f3a"
                          ],
                          [
                            0.8888888888888888,
                            "#fdca26"
                          ],
                          [
                            1,
                            "#f0f921"
                          ]
                        ],
                        "type": "heatmapgl"
                      }
                    ],
                    "histogram": [
                      {
                        "marker": {
                          "pattern": {
                            "fillmode": "overlay",
                            "size": 10,
                            "solidity": 0.2
                          }
                        },
                        "type": "histogram"
                      }
                    ],
                    "histogram2d": [
                      {
                        "colorbar": {
                          "outlinewidth": 0,
                          "ticks": ""
                        },
                        "colorscale": [
                          [
                            0,
                            "#0d0887"
                          ],
                          [
                            0.1111111111111111,
                            "#46039f"
                          ],
                          [
                            0.2222222222222222,
                            "#7201a8"
                          ],
                          [
                            0.3333333333333333,
                            "#9c179e"
                          ],
                          [
                            0.4444444444444444,
                            "#bd3786"
                          ],
                          [
                            0.5555555555555556,
                            "#d8576b"
                          ],
                          [
                            0.6666666666666666,
                            "#ed7953"
                          ],
                          [
                            0.7777777777777778,
                            "#fb9f3a"
                          ],
                          [
                            0.8888888888888888,
                            "#fdca26"
                          ],
                          [
                            1,
                            "#f0f921"
                          ]
                        ],
                        "type": "histogram2d"
                      }
                    ],
                    "histogram2dcontour": [
                      {
                        "colorbar": {
                          "outlinewidth": 0,
                          "ticks": ""
                        },
                        "colorscale": [
                          [
                            0,
                            "#0d0887"
                          ],
                          [
                            0.1111111111111111,
                            "#46039f"
                          ],
                          [
                            0.2222222222222222,
                            "#7201a8"
                          ],
                          [
                            0.3333333333333333,
                            "#9c179e"
                          ],
                          [
                            0.4444444444444444,
                            "#bd3786"
                          ],
                          [
                            0.5555555555555556,
                            "#d8576b"
                          ],
                          [
                            0.6666666666666666,
                            "#ed7953"
                          ],
                          [
                            0.7777777777777778,
                            "#fb9f3a"
                          ],
                          [
                            0.8888888888888888,
                            "#fdca26"
                          ],
                          [
                            1,
                            "#f0f921"
                          ]
                        ],
                        "type": "histogram2dcontour"
                      }
                    ],
                    "mesh3d": [
                      {
                        "colorbar": {
                          "outlinewidth": 0,
                          "ticks": ""
                        },
                        "type": "mesh3d"
                      }
                    ],
                    "parcoords": [
                      {
                        "line": {
                          "colorbar": {
                            "outlinewidth": 0,
                            "ticks": ""
                          }
                        },
                        "type": "parcoords"
                      }
                    ],
                    "pie": [
                      {
                        "automargin": true,
                        "type": "pie"
                      }
                    ],
                    "scatter": [
                      {
                        "fillpattern": {
                          "fillmode": "overlay",
                          "size": 10,
                          "solidity": 0.2
                        },
                        "type": "scatter"
                      }
                    ],
                    "scatter3d": [
                      {
                        "line": {
                          "colorbar": {
                            "outlinewidth": 0,
                            "ticks": ""
                          }
                        },
                        "marker": {
                          "colorbar": {
                            "outlinewidth": 0,
                            "ticks": ""
                          }
                        },
                        "type": "scatter3d"
                      }
                    ],
                    "scattercarpet": [
                      {
                        "marker": {
                          "colorbar": {
                            "outlinewidth": 0,
                            "ticks": ""
                          }
                        },
                        "type": "scattercarpet"
                      }
                    ],
                    "scattergeo": [
                      {
                        "marker": {
                          "colorbar": {
                            "outlinewidth": 0,
                            "ticks": ""
                          }
                        },
                        "type": "scattergeo"
                      }
                    ],
                    "scattergl": [
                      {
                        "marker": {
                          "colorbar": {
                            "outlinewidth": 0,
                            "ticks": ""
                          }
                        },
                        "type": "scattergl"
                      }
                    ],
                    "scattermapbox": [
                      {
                        "marker": {
                          "colorbar": {
                            "outlinewidth": 0,
                            "ticks": ""
                          }
                        },
                        "type": "scattermapbox"
                      }
                    ],
                    "scatterpolar": [
                      {
                        "marker": {
                          "colorbar": {
                            "outlinewidth": 0,
                            "ticks": ""
                          }
                        },
                        "type": "scatterpolar"
                      }
                    ],
                    "scatterpolargl": [
                      {
                        "marker": {
                          "colorbar": {
                            "outlinewidth": 0,
                            "ticks": ""
                          }
                        },
                        "type": "scatterpolargl"
                      }
                    ],
                    "scatterternary": [
                      {
                        "marker": {
                          "colorbar": {
                            "outlinewidth": 0,
                            "ticks": ""
                          }
                        },
                        "type": "scatterternary"
                      }
                    ],
                    "surface": [
                      {
                        "colorbar": {
                          "outlinewidth": 0,
                          "ticks": ""
                        },
                        "colorscale": [
                          [
                            0,
                            "#0d0887"
                          ],
                          [
                            0.1111111111111111,
                            "#46039f"
                          ],
                          [
                            0.2222222222222222,
                            "#7201a8"
                          ],
                          [
                            0.3333333333333333,
                            "#9c179e"
                          ],
                          [
                            0.4444444444444444,
                            "#bd3786"
                          ],
                          [
                            0.5555555555555556,
                            "#d8576b"
                          ],
                          [
                            0.6666666666666666,
                            "#ed7953"
                          ],
                          [
                            0.7777777777777778,
                            "#fb9f3a"
                          ],
                          [
                            0.8888888888888888,
                            "#fdca26"
                          ],
                          [
                            1,
                            "#f0f921"
                          ]
                        ],
                        "type": "surface"
                      }
                    ],
                    "table": [
                      {
                        "cells": {
                          "fill": {
                            "color": "#EBF0F8"
                          },
                          "line": {
                            "color": "white"
                          }
                        },
                        "header": {
                          "fill": {
                            "color": "#C8D4E3"
                          },
                          "line": {
                            "color": "white"
                          }
                        },
                        "type": "table"
                      }
                    ]
                  },
                  "layout": {
                    "annotationdefaults": {
                      "arrowcolor": "#2a3f5f",
                      "arrowhead": 0,
                      "arrowwidth": 1
                    },
                    "autotypenumbers": "strict",
                    "coloraxis": {
                      "colorbar": {
                        "outlinewidth": 0,
                        "ticks": ""
                      }
                    },
                    "colorscale": {
                      "diverging": [
                        [
                          0,
                          "#8e0152"
                        ],
                        [
                          0.1,
                          "#c51b7d"
                        ],
                        [
                          0.2,
                          "#de77ae"
                        ],
                        [
                          0.3,
                          "#f1b6da"
                        ],
                        [
                          0.4,
                          "#fde0ef"
                        ],
                        [
                          0.5,
                          "#f7f7f7"
                        ],
                        [
                          0.6,
                          "#e6f5d0"
                        ],
                        [
                          0.7,
                          "#b8e186"
                        ],
                        [
                          0.8,
                          "#7fbc41"
                        ],
                        [
                          0.9,
                          "#4d9221"
                        ],
                        [
                          1,
                          "#276419"
                        ]
                      ],
                      "sequential": [
                        [
                          0,
                          "#0d0887"
                        ],
                        [
                          0.1111111111111111,
                          "#46039f"
                        ],
                        [
                          0.2222222222222222,
                          "#7201a8"
                        ],
                        [
                          0.3333333333333333,
                          "#9c179e"
                        ],
                        [
                          0.4444444444444444,
                          "#bd3786"
                        ],
                        [
                          0.5555555555555556,
                          "#d8576b"
                        ],
                        [
                          0.6666666666666666,
                          "#ed7953"
                        ],
                        [
                          0.7777777777777778,
                          "#fb9f3a"
                        ],
                        [
                          0.8888888888888888,
                          "#fdca26"
                        ],
                        [
                          1,
                          "#f0f921"
                        ]
                      ],
                      "sequentialminus": [
                        [
                          0,
                          "#0d0887"
                        ],
                        [
                          0.1111111111111111,
                          "#46039f"
                        ],
                        [
                          0.2222222222222222,
                          "#7201a8"
                        ],
                        [
                          0.3333333333333333,
                          "#9c179e"
                        ],
                        [
                          0.4444444444444444,
                          "#bd3786"
                        ],
                        [
                          0.5555555555555556,
                          "#d8576b"
                        ],
                        [
                          0.6666666666666666,
                          "#ed7953"
                        ],
                        [
                          0.7777777777777778,
                          "#fb9f3a"
                        ],
                        [
                          0.8888888888888888,
                          "#fdca26"
                        ],
                        [
                          1,
                          "#f0f921"
                        ]
                      ]
                    },
                    "colorway": [
                      "#636efa",
                      "#EF553B",
                      "#00cc96",
                      "#ab63fa",
                      "#FFA15A",
                      "#19d3f3",
                      "#FF6692",
                      "#B6E880",
                      "#FF97FF",
                      "#FECB52"
                    ],
                    "font": {
                      "color": "#2a3f5f"
                    },
                    "geo": {
                      "bgcolor": "white",
                      "lakecolor": "white",
                      "landcolor": "#E5ECF6",
                      "showlakes": true,
                      "showland": true,
                      "subunitcolor": "white"
                    },
                    "hoverlabel": {
                      "align": "left"
                    },
                    "hovermode": "closest",
                    "mapbox": {
                      "style": "light"
                    },
                    "paper_bgcolor": "white",
                    "plot_bgcolor": "#E5ECF6",
                    "polar": {
                      "angularaxis": {
                        "gridcolor": "white",
                        "linecolor": "white",
                        "ticks": ""
                      },
                      "bgcolor": "#E5ECF6",
                      "radialaxis": {
                        "gridcolor": "white",
                        "linecolor": "white",
                        "ticks": ""
                      }
                    },
                    "scene": {
                      "xaxis": {
                        "backgroundcolor": "#E5ECF6",
                        "gridcolor": "white",
                        "gridwidth": 2,
                        "linecolor": "white",
                        "showbackground": true,
                        "ticks": "",
                        "zerolinecolor": "white"
                      },
                      "yaxis": {
                        "backgroundcolor": "#E5ECF6",
                        "gridcolor": "white",
                        "gridwidth": 2,
                        "linecolor": "white",
                        "showbackground": true,
                        "ticks": "",
                        "zerolinecolor": "white"
                      },
                      "zaxis": {
                        "backgroundcolor": "#E5ECF6",
                        "gridcolor": "white",
                        "gridwidth": 2,
                        "linecolor": "white",
                        "showbackground": true,
                        "ticks": "",
                        "zerolinecolor": "white"
                      }
                    },
                    "shapedefaults": {
                      "line": {
                        "color": "#2a3f5f"
                      }
                    },
                    "ternary": {
                      "aaxis": {
                        "gridcolor": "white",
                        "linecolor": "white",
                        "ticks": ""
                      },
                      "baxis": {
                        "gridcolor": "white",
                        "linecolor": "white",
                        "ticks": ""
                      },
                      "bgcolor": "#E5ECF6",
                      "caxis": {
                        "gridcolor": "white",
                        "linecolor": "white",
                        "ticks": ""
                      }
                    },
                    "title": {
                      "x": 0.05
                    },
                    "xaxis": {
                      "automargin": true,
                      "gridcolor": "white",
                      "linecolor": "white",
                      "ticks": "",
                      "title": {
                        "standoff": 15
                      },
                      "zerolinecolor": "white",
                      "zerolinewidth": 2
                    },
                    "yaxis": {
                      "automargin": true,
                      "gridcolor": "white",
                      "linecolor": "white",
                      "ticks": "",
                      "title": {
                        "standoff": 15
                      },
                      "zerolinecolor": "white",
                      "zerolinewidth": 2
                    }
                  }
                },
                "title": {
                  "font": {
                    "color": "#4D5663"
                  },
                  "text": "Topic 0: Top 100 words after removing stop words"
                },
                "xaxis": {
                  "gridcolor": "#E1E5ED",
                  "linecolor": "black",
                  "showgrid": true,
                  "tickfont": {
                    "color": "#4D5663"
                  },
                  "title": {
                    "font": {
                      "color": "#4D5663"
                    },
                    "text": ""
                  },
                  "zerolinecolor": "#E1E5ED"
                },
                "yaxis": {
                  "gridcolor": "#E1E5ED",
                  "linecolor": "black",
                  "showgrid": true,
                  "tickfont": {
                    "color": "#4D5663"
                  },
                  "title": {
                    "font": {
                      "color": "#4D5663"
                    },
                    "text": "Count"
                  },
                  "zerolinecolor": "#E1E5ED"
                }
              }
            },
            "text/html": [
              "<div>                            <div id=\"1abb1adf-9e7d-42cd-aaee-a69044a551e2\" class=\"plotly-graph-div\" style=\"height:525px; width:100%;\"></div>            <script type=\"text/javascript\">                require([\"plotly\"], function(Plotly) {                    window.PLOTLYENV=window.PLOTLYENV || {};\n",
              "                    window.PLOTLYENV.BASE_URL='https://plot.ly';                                    if (document.getElementById(\"1abb1adf-9e7d-42cd-aaee-a69044a551e2\")) {                    Plotly.newPlot(                        \"1abb1adf-9e7d-42cd-aaee-a69044a551e2\",                        [{\"marker\":{\"color\":\"rgba(255, 153, 51, 0.6)\",\"line\":{\"color\":\"rgba(255, 153, 51, 1.0)\",\"width\":1}},\"name\":\"count\",\"orientation\":\"v\",\"text\":\"\",\"x\":[\"asexual_gender_queer\",\"ever_write_time\",\"family_means_nonbinary\",\"friends_humans_everywhere\",\"gay_fanfiction_facing_trauma\",\"last_comic_would\",\"means_think_advocate\",\"mortification_confusion_adolescent_crushe\",\"pap_smears_starte\",\"personal_story_useful\",\"queer_maia_intensely_cathartic\",\"reading_statistics_would\",\"self_identity_include\",\"society_bonding_friends_erotic\",\"thing_felt_comfortable_stranger\",\"touching_guide_gender_identity\"],\"y\":[41,41,41,41,41,41,41,41,41,41,41,41,41,41,41,41],\"type\":\"bar\"}],                        {\"legend\":{\"bgcolor\":\"#F5F6F9\",\"font\":{\"color\":\"#4D5663\"}},\"paper_bgcolor\":\"#F5F6F9\",\"plot_bgcolor\":\"#F5F6F9\",\"template\":{\"data\":{\"barpolar\":[{\"marker\":{\"line\":{\"color\":\"#E5ECF6\",\"width\":0.5},\"pattern\":{\"fillmode\":\"overlay\",\"size\":10,\"solidity\":0.2}},\"type\":\"barpolar\"}],\"bar\":[{\"error_x\":{\"color\":\"#2a3f5f\"},\"error_y\":{\"color\":\"#2a3f5f\"},\"marker\":{\"line\":{\"color\":\"#E5ECF6\",\"width\":0.5},\"pattern\":{\"fillmode\":\"overlay\",\"size\":10,\"solidity\":0.2}},\"type\":\"bar\"}],\"carpet\":[{\"aaxis\":{\"endlinecolor\":\"#2a3f5f\",\"gridcolor\":\"white\",\"linecolor\":\"white\",\"minorgridcolor\":\"white\",\"startlinecolor\":\"#2a3f5f\"},\"baxis\":{\"endlinecolor\":\"#2a3f5f\",\"gridcolor\":\"white\",\"linecolor\":\"white\",\"minorgridcolor\":\"white\",\"startlinecolor\":\"#2a3f5f\"},\"type\":\"carpet\"}],\"choropleth\":[{\"colorbar\":{\"outlinewidth\":0,\"ticks\":\"\"},\"type\":\"choropleth\"}],\"contourcarpet\":[{\"colorbar\":{\"outlinewidth\":0,\"ticks\":\"\"},\"type\":\"contourcarpet\"}],\"contour\":[{\"colorbar\":{\"outlinewidth\":0,\"ticks\":\"\"},\"colorscale\":[[0.0,\"#0d0887\"],[0.1111111111111111,\"#46039f\"],[0.2222222222222222,\"#7201a8\"],[0.3333333333333333,\"#9c179e\"],[0.4444444444444444,\"#bd3786\"],[0.5555555555555556,\"#d8576b\"],[0.6666666666666666,\"#ed7953\"],[0.7777777777777778,\"#fb9f3a\"],[0.8888888888888888,\"#fdca26\"],[1.0,\"#f0f921\"]],\"type\":\"contour\"}],\"heatmapgl\":[{\"colorbar\":{\"outlinewidth\":0,\"ticks\":\"\"},\"colorscale\":[[0.0,\"#0d0887\"],[0.1111111111111111,\"#46039f\"],[0.2222222222222222,\"#7201a8\"],[0.3333333333333333,\"#9c179e\"],[0.4444444444444444,\"#bd3786\"],[0.5555555555555556,\"#d8576b\"],[0.6666666666666666,\"#ed7953\"],[0.7777777777777778,\"#fb9f3a\"],[0.8888888888888888,\"#fdca26\"],[1.0,\"#f0f921\"]],\"type\":\"heatmapgl\"}],\"heatmap\":[{\"colorbar\":{\"outlinewidth\":0,\"ticks\":\"\"},\"colorscale\":[[0.0,\"#0d0887\"],[0.1111111111111111,\"#46039f\"],[0.2222222222222222,\"#7201a8\"],[0.3333333333333333,\"#9c179e\"],[0.4444444444444444,\"#bd3786\"],[0.5555555555555556,\"#d8576b\"],[0.6666666666666666,\"#ed7953\"],[0.7777777777777778,\"#fb9f3a\"],[0.8888888888888888,\"#fdca26\"],[1.0,\"#f0f921\"]],\"type\":\"heatmap\"}],\"histogram2dcontour\":[{\"colorbar\":{\"outlinewidth\":0,\"ticks\":\"\"},\"colorscale\":[[0.0,\"#0d0887\"],[0.1111111111111111,\"#46039f\"],[0.2222222222222222,\"#7201a8\"],[0.3333333333333333,\"#9c179e\"],[0.4444444444444444,\"#bd3786\"],[0.5555555555555556,\"#d8576b\"],[0.6666666666666666,\"#ed7953\"],[0.7777777777777778,\"#fb9f3a\"],[0.8888888888888888,\"#fdca26\"],[1.0,\"#f0f921\"]],\"type\":\"histogram2dcontour\"}],\"histogram2d\":[{\"colorbar\":{\"outlinewidth\":0,\"ticks\":\"\"},\"colorscale\":[[0.0,\"#0d0887\"],[0.1111111111111111,\"#46039f\"],[0.2222222222222222,\"#7201a8\"],[0.3333333333333333,\"#9c179e\"],[0.4444444444444444,\"#bd3786\"],[0.5555555555555556,\"#d8576b\"],[0.6666666666666666,\"#ed7953\"],[0.7777777777777778,\"#fb9f3a\"],[0.8888888888888888,\"#fdca26\"],[1.0,\"#f0f921\"]],\"type\":\"histogram2d\"}],\"histogram\":[{\"marker\":{\"pattern\":{\"fillmode\":\"overlay\",\"size\":10,\"solidity\":0.2}},\"type\":\"histogram\"}],\"mesh3d\":[{\"colorbar\":{\"outlinewidth\":0,\"ticks\":\"\"},\"type\":\"mesh3d\"}],\"parcoords\":[{\"line\":{\"colorbar\":{\"outlinewidth\":0,\"ticks\":\"\"}},\"type\":\"parcoords\"}],\"pie\":[{\"automargin\":true,\"type\":\"pie\"}],\"scatter3d\":[{\"line\":{\"colorbar\":{\"outlinewidth\":0,\"ticks\":\"\"}},\"marker\":{\"colorbar\":{\"outlinewidth\":0,\"ticks\":\"\"}},\"type\":\"scatter3d\"}],\"scattercarpet\":[{\"marker\":{\"colorbar\":{\"outlinewidth\":0,\"ticks\":\"\"}},\"type\":\"scattercarpet\"}],\"scattergeo\":[{\"marker\":{\"colorbar\":{\"outlinewidth\":0,\"ticks\":\"\"}},\"type\":\"scattergeo\"}],\"scattergl\":[{\"marker\":{\"colorbar\":{\"outlinewidth\":0,\"ticks\":\"\"}},\"type\":\"scattergl\"}],\"scattermapbox\":[{\"marker\":{\"colorbar\":{\"outlinewidth\":0,\"ticks\":\"\"}},\"type\":\"scattermapbox\"}],\"scatterpolargl\":[{\"marker\":{\"colorbar\":{\"outlinewidth\":0,\"ticks\":\"\"}},\"type\":\"scatterpolargl\"}],\"scatterpolar\":[{\"marker\":{\"colorbar\":{\"outlinewidth\":0,\"ticks\":\"\"}},\"type\":\"scatterpolar\"}],\"scatter\":[{\"fillpattern\":{\"fillmode\":\"overlay\",\"size\":10,\"solidity\":0.2},\"type\":\"scatter\"}],\"scatterternary\":[{\"marker\":{\"colorbar\":{\"outlinewidth\":0,\"ticks\":\"\"}},\"type\":\"scatterternary\"}],\"surface\":[{\"colorbar\":{\"outlinewidth\":0,\"ticks\":\"\"},\"colorscale\":[[0.0,\"#0d0887\"],[0.1111111111111111,\"#46039f\"],[0.2222222222222222,\"#7201a8\"],[0.3333333333333333,\"#9c179e\"],[0.4444444444444444,\"#bd3786\"],[0.5555555555555556,\"#d8576b\"],[0.6666666666666666,\"#ed7953\"],[0.7777777777777778,\"#fb9f3a\"],[0.8888888888888888,\"#fdca26\"],[1.0,\"#f0f921\"]],\"type\":\"surface\"}],\"table\":[{\"cells\":{\"fill\":{\"color\":\"#EBF0F8\"},\"line\":{\"color\":\"white\"}},\"header\":{\"fill\":{\"color\":\"#C8D4E3\"},\"line\":{\"color\":\"white\"}},\"type\":\"table\"}]},\"layout\":{\"annotationdefaults\":{\"arrowcolor\":\"#2a3f5f\",\"arrowhead\":0,\"arrowwidth\":1},\"autotypenumbers\":\"strict\",\"coloraxis\":{\"colorbar\":{\"outlinewidth\":0,\"ticks\":\"\"}},\"colorscale\":{\"diverging\":[[0,\"#8e0152\"],[0.1,\"#c51b7d\"],[0.2,\"#de77ae\"],[0.3,\"#f1b6da\"],[0.4,\"#fde0ef\"],[0.5,\"#f7f7f7\"],[0.6,\"#e6f5d0\"],[0.7,\"#b8e186\"],[0.8,\"#7fbc41\"],[0.9,\"#4d9221\"],[1,\"#276419\"]],\"sequential\":[[0.0,\"#0d0887\"],[0.1111111111111111,\"#46039f\"],[0.2222222222222222,\"#7201a8\"],[0.3333333333333333,\"#9c179e\"],[0.4444444444444444,\"#bd3786\"],[0.5555555555555556,\"#d8576b\"],[0.6666666666666666,\"#ed7953\"],[0.7777777777777778,\"#fb9f3a\"],[0.8888888888888888,\"#fdca26\"],[1.0,\"#f0f921\"]],\"sequentialminus\":[[0.0,\"#0d0887\"],[0.1111111111111111,\"#46039f\"],[0.2222222222222222,\"#7201a8\"],[0.3333333333333333,\"#9c179e\"],[0.4444444444444444,\"#bd3786\"],[0.5555555555555556,\"#d8576b\"],[0.6666666666666666,\"#ed7953\"],[0.7777777777777778,\"#fb9f3a\"],[0.8888888888888888,\"#fdca26\"],[1.0,\"#f0f921\"]]},\"colorway\":[\"#636efa\",\"#EF553B\",\"#00cc96\",\"#ab63fa\",\"#FFA15A\",\"#19d3f3\",\"#FF6692\",\"#B6E880\",\"#FF97FF\",\"#FECB52\"],\"font\":{\"color\":\"#2a3f5f\"},\"geo\":{\"bgcolor\":\"white\",\"lakecolor\":\"white\",\"landcolor\":\"#E5ECF6\",\"showlakes\":true,\"showland\":true,\"subunitcolor\":\"white\"},\"hoverlabel\":{\"align\":\"left\"},\"hovermode\":\"closest\",\"mapbox\":{\"style\":\"light\"},\"paper_bgcolor\":\"white\",\"plot_bgcolor\":\"#E5ECF6\",\"polar\":{\"angularaxis\":{\"gridcolor\":\"white\",\"linecolor\":\"white\",\"ticks\":\"\"},\"bgcolor\":\"#E5ECF6\",\"radialaxis\":{\"gridcolor\":\"white\",\"linecolor\":\"white\",\"ticks\":\"\"}},\"scene\":{\"xaxis\":{\"backgroundcolor\":\"#E5ECF6\",\"gridcolor\":\"white\",\"gridwidth\":2,\"linecolor\":\"white\",\"showbackground\":true,\"ticks\":\"\",\"zerolinecolor\":\"white\"},\"yaxis\":{\"backgroundcolor\":\"#E5ECF6\",\"gridcolor\":\"white\",\"gridwidth\":2,\"linecolor\":\"white\",\"showbackground\":true,\"ticks\":\"\",\"zerolinecolor\":\"white\"},\"zaxis\":{\"backgroundcolor\":\"#E5ECF6\",\"gridcolor\":\"white\",\"gridwidth\":2,\"linecolor\":\"white\",\"showbackground\":true,\"ticks\":\"\",\"zerolinecolor\":\"white\"}},\"shapedefaults\":{\"line\":{\"color\":\"#2a3f5f\"}},\"ternary\":{\"aaxis\":{\"gridcolor\":\"white\",\"linecolor\":\"white\",\"ticks\":\"\"},\"baxis\":{\"gridcolor\":\"white\",\"linecolor\":\"white\",\"ticks\":\"\"},\"bgcolor\":\"#E5ECF6\",\"caxis\":{\"gridcolor\":\"white\",\"linecolor\":\"white\",\"ticks\":\"\"}},\"title\":{\"x\":0.05},\"xaxis\":{\"automargin\":true,\"gridcolor\":\"white\",\"linecolor\":\"white\",\"ticks\":\"\",\"title\":{\"standoff\":15},\"zerolinecolor\":\"white\",\"zerolinewidth\":2},\"yaxis\":{\"automargin\":true,\"gridcolor\":\"white\",\"linecolor\":\"white\",\"ticks\":\"\",\"title\":{\"standoff\":15},\"zerolinecolor\":\"white\",\"zerolinewidth\":2}}},\"title\":{\"font\":{\"color\":\"#4D5663\"},\"text\":\"Topic 0: Top 100 words after removing stop words\"},\"xaxis\":{\"gridcolor\":\"#E1E5ED\",\"linecolor\":\"black\",\"showgrid\":true,\"tickfont\":{\"color\":\"#4D5663\"},\"title\":{\"font\":{\"color\":\"#4D5663\"},\"text\":\"\"},\"zerolinecolor\":\"#E1E5ED\"},\"yaxis\":{\"gridcolor\":\"#E1E5ED\",\"linecolor\":\"black\",\"showgrid\":true,\"tickfont\":{\"color\":\"#4D5663\"},\"title\":{\"font\":{\"color\":\"#4D5663\"},\"text\":\"Count\"},\"zerolinecolor\":\"#E1E5ED\"}},                        {\"showLink\": true, \"linkText\": \"Export to plot.ly\", \"plotlyServerURL\": \"https://plot.ly\", \"responsive\": true}                    ).then(function(){\n",
              "                            \n",
              "var gd = document.getElementById('1abb1adf-9e7d-42cd-aaee-a69044a551e2');\n",
              "var x = new MutationObserver(function (mutations, observer) {{\n",
              "        var display = window.getComputedStyle(gd).display;\n",
              "        if (!display || display === 'none') {{\n",
              "            console.log([gd, 'removed!']);\n",
              "            Plotly.purge(gd);\n",
              "            observer.disconnect();\n",
              "        }}\n",
              "}});\n",
              "\n",
              "// Listen for the removal of the full notebook cells\n",
              "var notebookContainer = gd.closest('#notebook-container');\n",
              "if (notebookContainer) {{\n",
              "    x.observe(notebookContainer, {childList: true});\n",
              "}}\n",
              "\n",
              "// Listen for the clearing of the current output cell\n",
              "var outputEl = gd.closest('.output');\n",
              "if (outputEl) {{\n",
              "    x.observe(outputEl, {childList: true});\n",
              "}}\n",
              "\n",
              "                        })                };                });            </script>        </div>"
            ]
          },
          "metadata": {},
          "output_type": "display_data"
        }
      ],
      "source": [
        "plot_model(nmf)"
      ]
    },
    {
      "cell_type": "markdown",
      "id": "c3d21a68",
      "metadata": {
        "id": "c3d21a68"
      },
      "source": [
        "### Top 100 Bigrams on Entire Corpus"
      ]
    },
    {
      "cell_type": "code",
      "execution_count": null,
      "id": "01eca6c3",
      "metadata": {
        "id": "01eca6c3",
        "outputId": "c33ecd39-92d0-4e18-dab5-ce67e9d49160"
      },
      "outputs": [
        {
          "data": {
            "text/html": [
              "        <script type=\"text/javascript\">\n",
              "        window.PlotlyConfig = {MathJaxConfig: 'local'};\n",
              "        if (window.MathJax && window.MathJax.Hub && window.MathJax.Hub.Config) {window.MathJax.Hub.Config({SVG: {font: \"STIX-Web\"}});}\n",
              "        if (typeof require !== 'undefined') {\n",
              "        require.undef(\"plotly\");\n",
              "        requirejs.config({\n",
              "            paths: {\n",
              "                'plotly': ['https://cdn.plot.ly/plotly-2.18.2.min']\n",
              "            }\n",
              "        });\n",
              "        require(['plotly'], function(Plotly) {\n",
              "            window._Plotly = Plotly;\n",
              "        });\n",
              "        }\n",
              "        </script>\n",
              "        "
            ]
          },
          "metadata": {},
          "output_type": "display_data"
        },
        {
          "data": {
            "application/vnd.plotly.v1+json": {
              "config": {
                "linkText": "Export to plot.ly",
                "plotlyServerURL": "https://plot.ly",
                "showLink": true
              },
              "data": [
                {
                  "marker": {
                    "color": "rgba(255, 153, 51, 0.6)",
                    "line": {
                      "color": "rgba(255, 153, 51, 1.0)",
                      "width": 1
                    }
                  },
                  "name": "count",
                  "orientation": "v",
                  "text": "",
                  "type": "bar",
                  "x": [
                    "asexual_gender_queer personal_story_useful",
                    "ever_write_time thing_felt_comfortable_stranger",
                    "family_means_nonbinary asexual_gender_queer",
                    "gay_fanfiction_facing_trauma pap_smears_starte",
                    "last_comic_would ever_write_time",
                    "means_think_advocate friends_humans_everywhere",
                    "mortification_confusion_adolescent_crushe society_bonding_friends_erotic",
                    "pap_smears_starte family_means_nonbinary",
                    "personal_story_useful touching_guide_gender_identity",
                    "queer_maia_intensely_cathartic self_identity_include",
                    "reading_statistics_would last_comic_would",
                    "self_identity_include mortification_confusion_adolescent_crushe",
                    "society_bonding_friends_erotic gay_fanfiction_facing_trauma",
                    "thing_felt_comfortable_stranger queer_maia_intensely_cathartic",
                    "touching_guide_gender_identity means_think_advocate"
                  ],
                  "y": [
                    41,
                    41,
                    41,
                    41,
                    41,
                    41,
                    41,
                    41,
                    41,
                    41,
                    41,
                    41,
                    41,
                    41,
                    41
                  ]
                }
              ],
              "layout": {
                "legend": {
                  "bgcolor": "#F5F6F9",
                  "font": {
                    "color": "#4D5663"
                  }
                },
                "paper_bgcolor": "#F5F6F9",
                "plot_bgcolor": "#F5F6F9",
                "template": {
                  "data": {
                    "bar": [
                      {
                        "error_x": {
                          "color": "#2a3f5f"
                        },
                        "error_y": {
                          "color": "#2a3f5f"
                        },
                        "marker": {
                          "line": {
                            "color": "#E5ECF6",
                            "width": 0.5
                          },
                          "pattern": {
                            "fillmode": "overlay",
                            "size": 10,
                            "solidity": 0.2
                          }
                        },
                        "type": "bar"
                      }
                    ],
                    "barpolar": [
                      {
                        "marker": {
                          "line": {
                            "color": "#E5ECF6",
                            "width": 0.5
                          },
                          "pattern": {
                            "fillmode": "overlay",
                            "size": 10,
                            "solidity": 0.2
                          }
                        },
                        "type": "barpolar"
                      }
                    ],
                    "carpet": [
                      {
                        "aaxis": {
                          "endlinecolor": "#2a3f5f",
                          "gridcolor": "white",
                          "linecolor": "white",
                          "minorgridcolor": "white",
                          "startlinecolor": "#2a3f5f"
                        },
                        "baxis": {
                          "endlinecolor": "#2a3f5f",
                          "gridcolor": "white",
                          "linecolor": "white",
                          "minorgridcolor": "white",
                          "startlinecolor": "#2a3f5f"
                        },
                        "type": "carpet"
                      }
                    ],
                    "choropleth": [
                      {
                        "colorbar": {
                          "outlinewidth": 0,
                          "ticks": ""
                        },
                        "type": "choropleth"
                      }
                    ],
                    "contour": [
                      {
                        "colorbar": {
                          "outlinewidth": 0,
                          "ticks": ""
                        },
                        "colorscale": [
                          [
                            0,
                            "#0d0887"
                          ],
                          [
                            0.1111111111111111,
                            "#46039f"
                          ],
                          [
                            0.2222222222222222,
                            "#7201a8"
                          ],
                          [
                            0.3333333333333333,
                            "#9c179e"
                          ],
                          [
                            0.4444444444444444,
                            "#bd3786"
                          ],
                          [
                            0.5555555555555556,
                            "#d8576b"
                          ],
                          [
                            0.6666666666666666,
                            "#ed7953"
                          ],
                          [
                            0.7777777777777778,
                            "#fb9f3a"
                          ],
                          [
                            0.8888888888888888,
                            "#fdca26"
                          ],
                          [
                            1,
                            "#f0f921"
                          ]
                        ],
                        "type": "contour"
                      }
                    ],
                    "contourcarpet": [
                      {
                        "colorbar": {
                          "outlinewidth": 0,
                          "ticks": ""
                        },
                        "type": "contourcarpet"
                      }
                    ],
                    "heatmap": [
                      {
                        "colorbar": {
                          "outlinewidth": 0,
                          "ticks": ""
                        },
                        "colorscale": [
                          [
                            0,
                            "#0d0887"
                          ],
                          [
                            0.1111111111111111,
                            "#46039f"
                          ],
                          [
                            0.2222222222222222,
                            "#7201a8"
                          ],
                          [
                            0.3333333333333333,
                            "#9c179e"
                          ],
                          [
                            0.4444444444444444,
                            "#bd3786"
                          ],
                          [
                            0.5555555555555556,
                            "#d8576b"
                          ],
                          [
                            0.6666666666666666,
                            "#ed7953"
                          ],
                          [
                            0.7777777777777778,
                            "#fb9f3a"
                          ],
                          [
                            0.8888888888888888,
                            "#fdca26"
                          ],
                          [
                            1,
                            "#f0f921"
                          ]
                        ],
                        "type": "heatmap"
                      }
                    ],
                    "heatmapgl": [
                      {
                        "colorbar": {
                          "outlinewidth": 0,
                          "ticks": ""
                        },
                        "colorscale": [
                          [
                            0,
                            "#0d0887"
                          ],
                          [
                            0.1111111111111111,
                            "#46039f"
                          ],
                          [
                            0.2222222222222222,
                            "#7201a8"
                          ],
                          [
                            0.3333333333333333,
                            "#9c179e"
                          ],
                          [
                            0.4444444444444444,
                            "#bd3786"
                          ],
                          [
                            0.5555555555555556,
                            "#d8576b"
                          ],
                          [
                            0.6666666666666666,
                            "#ed7953"
                          ],
                          [
                            0.7777777777777778,
                            "#fb9f3a"
                          ],
                          [
                            0.8888888888888888,
                            "#fdca26"
                          ],
                          [
                            1,
                            "#f0f921"
                          ]
                        ],
                        "type": "heatmapgl"
                      }
                    ],
                    "histogram": [
                      {
                        "marker": {
                          "pattern": {
                            "fillmode": "overlay",
                            "size": 10,
                            "solidity": 0.2
                          }
                        },
                        "type": "histogram"
                      }
                    ],
                    "histogram2d": [
                      {
                        "colorbar": {
                          "outlinewidth": 0,
                          "ticks": ""
                        },
                        "colorscale": [
                          [
                            0,
                            "#0d0887"
                          ],
                          [
                            0.1111111111111111,
                            "#46039f"
                          ],
                          [
                            0.2222222222222222,
                            "#7201a8"
                          ],
                          [
                            0.3333333333333333,
                            "#9c179e"
                          ],
                          [
                            0.4444444444444444,
                            "#bd3786"
                          ],
                          [
                            0.5555555555555556,
                            "#d8576b"
                          ],
                          [
                            0.6666666666666666,
                            "#ed7953"
                          ],
                          [
                            0.7777777777777778,
                            "#fb9f3a"
                          ],
                          [
                            0.8888888888888888,
                            "#fdca26"
                          ],
                          [
                            1,
                            "#f0f921"
                          ]
                        ],
                        "type": "histogram2d"
                      }
                    ],
                    "histogram2dcontour": [
                      {
                        "colorbar": {
                          "outlinewidth": 0,
                          "ticks": ""
                        },
                        "colorscale": [
                          [
                            0,
                            "#0d0887"
                          ],
                          [
                            0.1111111111111111,
                            "#46039f"
                          ],
                          [
                            0.2222222222222222,
                            "#7201a8"
                          ],
                          [
                            0.3333333333333333,
                            "#9c179e"
                          ],
                          [
                            0.4444444444444444,
                            "#bd3786"
                          ],
                          [
                            0.5555555555555556,
                            "#d8576b"
                          ],
                          [
                            0.6666666666666666,
                            "#ed7953"
                          ],
                          [
                            0.7777777777777778,
                            "#fb9f3a"
                          ],
                          [
                            0.8888888888888888,
                            "#fdca26"
                          ],
                          [
                            1,
                            "#f0f921"
                          ]
                        ],
                        "type": "histogram2dcontour"
                      }
                    ],
                    "mesh3d": [
                      {
                        "colorbar": {
                          "outlinewidth": 0,
                          "ticks": ""
                        },
                        "type": "mesh3d"
                      }
                    ],
                    "parcoords": [
                      {
                        "line": {
                          "colorbar": {
                            "outlinewidth": 0,
                            "ticks": ""
                          }
                        },
                        "type": "parcoords"
                      }
                    ],
                    "pie": [
                      {
                        "automargin": true,
                        "type": "pie"
                      }
                    ],
                    "scatter": [
                      {
                        "fillpattern": {
                          "fillmode": "overlay",
                          "size": 10,
                          "solidity": 0.2
                        },
                        "type": "scatter"
                      }
                    ],
                    "scatter3d": [
                      {
                        "line": {
                          "colorbar": {
                            "outlinewidth": 0,
                            "ticks": ""
                          }
                        },
                        "marker": {
                          "colorbar": {
                            "outlinewidth": 0,
                            "ticks": ""
                          }
                        },
                        "type": "scatter3d"
                      }
                    ],
                    "scattercarpet": [
                      {
                        "marker": {
                          "colorbar": {
                            "outlinewidth": 0,
                            "ticks": ""
                          }
                        },
                        "type": "scattercarpet"
                      }
                    ],
                    "scattergeo": [
                      {
                        "marker": {
                          "colorbar": {
                            "outlinewidth": 0,
                            "ticks": ""
                          }
                        },
                        "type": "scattergeo"
                      }
                    ],
                    "scattergl": [
                      {
                        "marker": {
                          "colorbar": {
                            "outlinewidth": 0,
                            "ticks": ""
                          }
                        },
                        "type": "scattergl"
                      }
                    ],
                    "scattermapbox": [
                      {
                        "marker": {
                          "colorbar": {
                            "outlinewidth": 0,
                            "ticks": ""
                          }
                        },
                        "type": "scattermapbox"
                      }
                    ],
                    "scatterpolar": [
                      {
                        "marker": {
                          "colorbar": {
                            "outlinewidth": 0,
                            "ticks": ""
                          }
                        },
                        "type": "scatterpolar"
                      }
                    ],
                    "scatterpolargl": [
                      {
                        "marker": {
                          "colorbar": {
                            "outlinewidth": 0,
                            "ticks": ""
                          }
                        },
                        "type": "scatterpolargl"
                      }
                    ],
                    "scatterternary": [
                      {
                        "marker": {
                          "colorbar": {
                            "outlinewidth": 0,
                            "ticks": ""
                          }
                        },
                        "type": "scatterternary"
                      }
                    ],
                    "surface": [
                      {
                        "colorbar": {
                          "outlinewidth": 0,
                          "ticks": ""
                        },
                        "colorscale": [
                          [
                            0,
                            "#0d0887"
                          ],
                          [
                            0.1111111111111111,
                            "#46039f"
                          ],
                          [
                            0.2222222222222222,
                            "#7201a8"
                          ],
                          [
                            0.3333333333333333,
                            "#9c179e"
                          ],
                          [
                            0.4444444444444444,
                            "#bd3786"
                          ],
                          [
                            0.5555555555555556,
                            "#d8576b"
                          ],
                          [
                            0.6666666666666666,
                            "#ed7953"
                          ],
                          [
                            0.7777777777777778,
                            "#fb9f3a"
                          ],
                          [
                            0.8888888888888888,
                            "#fdca26"
                          ],
                          [
                            1,
                            "#f0f921"
                          ]
                        ],
                        "type": "surface"
                      }
                    ],
                    "table": [
                      {
                        "cells": {
                          "fill": {
                            "color": "#EBF0F8"
                          },
                          "line": {
                            "color": "white"
                          }
                        },
                        "header": {
                          "fill": {
                            "color": "#C8D4E3"
                          },
                          "line": {
                            "color": "white"
                          }
                        },
                        "type": "table"
                      }
                    ]
                  },
                  "layout": {
                    "annotationdefaults": {
                      "arrowcolor": "#2a3f5f",
                      "arrowhead": 0,
                      "arrowwidth": 1
                    },
                    "autotypenumbers": "strict",
                    "coloraxis": {
                      "colorbar": {
                        "outlinewidth": 0,
                        "ticks": ""
                      }
                    },
                    "colorscale": {
                      "diverging": [
                        [
                          0,
                          "#8e0152"
                        ],
                        [
                          0.1,
                          "#c51b7d"
                        ],
                        [
                          0.2,
                          "#de77ae"
                        ],
                        [
                          0.3,
                          "#f1b6da"
                        ],
                        [
                          0.4,
                          "#fde0ef"
                        ],
                        [
                          0.5,
                          "#f7f7f7"
                        ],
                        [
                          0.6,
                          "#e6f5d0"
                        ],
                        [
                          0.7,
                          "#b8e186"
                        ],
                        [
                          0.8,
                          "#7fbc41"
                        ],
                        [
                          0.9,
                          "#4d9221"
                        ],
                        [
                          1,
                          "#276419"
                        ]
                      ],
                      "sequential": [
                        [
                          0,
                          "#0d0887"
                        ],
                        [
                          0.1111111111111111,
                          "#46039f"
                        ],
                        [
                          0.2222222222222222,
                          "#7201a8"
                        ],
                        [
                          0.3333333333333333,
                          "#9c179e"
                        ],
                        [
                          0.4444444444444444,
                          "#bd3786"
                        ],
                        [
                          0.5555555555555556,
                          "#d8576b"
                        ],
                        [
                          0.6666666666666666,
                          "#ed7953"
                        ],
                        [
                          0.7777777777777778,
                          "#fb9f3a"
                        ],
                        [
                          0.8888888888888888,
                          "#fdca26"
                        ],
                        [
                          1,
                          "#f0f921"
                        ]
                      ],
                      "sequentialminus": [
                        [
                          0,
                          "#0d0887"
                        ],
                        [
                          0.1111111111111111,
                          "#46039f"
                        ],
                        [
                          0.2222222222222222,
                          "#7201a8"
                        ],
                        [
                          0.3333333333333333,
                          "#9c179e"
                        ],
                        [
                          0.4444444444444444,
                          "#bd3786"
                        ],
                        [
                          0.5555555555555556,
                          "#d8576b"
                        ],
                        [
                          0.6666666666666666,
                          "#ed7953"
                        ],
                        [
                          0.7777777777777778,
                          "#fb9f3a"
                        ],
                        [
                          0.8888888888888888,
                          "#fdca26"
                        ],
                        [
                          1,
                          "#f0f921"
                        ]
                      ]
                    },
                    "colorway": [
                      "#636efa",
                      "#EF553B",
                      "#00cc96",
                      "#ab63fa",
                      "#FFA15A",
                      "#19d3f3",
                      "#FF6692",
                      "#B6E880",
                      "#FF97FF",
                      "#FECB52"
                    ],
                    "font": {
                      "color": "#2a3f5f"
                    },
                    "geo": {
                      "bgcolor": "white",
                      "lakecolor": "white",
                      "landcolor": "#E5ECF6",
                      "showlakes": true,
                      "showland": true,
                      "subunitcolor": "white"
                    },
                    "hoverlabel": {
                      "align": "left"
                    },
                    "hovermode": "closest",
                    "mapbox": {
                      "style": "light"
                    },
                    "paper_bgcolor": "white",
                    "plot_bgcolor": "#E5ECF6",
                    "polar": {
                      "angularaxis": {
                        "gridcolor": "white",
                        "linecolor": "white",
                        "ticks": ""
                      },
                      "bgcolor": "#E5ECF6",
                      "radialaxis": {
                        "gridcolor": "white",
                        "linecolor": "white",
                        "ticks": ""
                      }
                    },
                    "scene": {
                      "xaxis": {
                        "backgroundcolor": "#E5ECF6",
                        "gridcolor": "white",
                        "gridwidth": 2,
                        "linecolor": "white",
                        "showbackground": true,
                        "ticks": "",
                        "zerolinecolor": "white"
                      },
                      "yaxis": {
                        "backgroundcolor": "#E5ECF6",
                        "gridcolor": "white",
                        "gridwidth": 2,
                        "linecolor": "white",
                        "showbackground": true,
                        "ticks": "",
                        "zerolinecolor": "white"
                      },
                      "zaxis": {
                        "backgroundcolor": "#E5ECF6",
                        "gridcolor": "white",
                        "gridwidth": 2,
                        "linecolor": "white",
                        "showbackground": true,
                        "ticks": "",
                        "zerolinecolor": "white"
                      }
                    },
                    "shapedefaults": {
                      "line": {
                        "color": "#2a3f5f"
                      }
                    },
                    "ternary": {
                      "aaxis": {
                        "gridcolor": "white",
                        "linecolor": "white",
                        "ticks": ""
                      },
                      "baxis": {
                        "gridcolor": "white",
                        "linecolor": "white",
                        "ticks": ""
                      },
                      "bgcolor": "#E5ECF6",
                      "caxis": {
                        "gridcolor": "white",
                        "linecolor": "white",
                        "ticks": ""
                      }
                    },
                    "title": {
                      "x": 0.05
                    },
                    "xaxis": {
                      "automargin": true,
                      "gridcolor": "white",
                      "linecolor": "white",
                      "ticks": "",
                      "title": {
                        "standoff": 15
                      },
                      "zerolinecolor": "white",
                      "zerolinewidth": 2
                    },
                    "yaxis": {
                      "automargin": true,
                      "gridcolor": "white",
                      "linecolor": "white",
                      "ticks": "",
                      "title": {
                        "standoff": 15
                      },
                      "zerolinecolor": "white",
                      "zerolinewidth": 2
                    }
                  }
                },
                "title": {
                  "font": {
                    "color": "#4D5663"
                  },
                  "text": "Topic 0: Top 100 bigrams after removing stop words"
                },
                "xaxis": {
                  "gridcolor": "#E1E5ED",
                  "linecolor": "black",
                  "showgrid": true,
                  "tickfont": {
                    "color": "#4D5663"
                  },
                  "title": {
                    "font": {
                      "color": "#4D5663"
                    },
                    "text": ""
                  },
                  "zerolinecolor": "#E1E5ED"
                },
                "yaxis": {
                  "gridcolor": "#E1E5ED",
                  "linecolor": "black",
                  "showgrid": true,
                  "tickfont": {
                    "color": "#4D5663"
                  },
                  "title": {
                    "font": {
                      "color": "#4D5663"
                    },
                    "text": "Count"
                  },
                  "zerolinecolor": "#E1E5ED"
                }
              }
            },
            "text/html": [
              "<div>                            <div id=\"9ad99cd5-4c09-4f1d-9f01-db2f806ee54e\" class=\"plotly-graph-div\" style=\"height:525px; width:100%;\"></div>            <script type=\"text/javascript\">                require([\"plotly\"], function(Plotly) {                    window.PLOTLYENV=window.PLOTLYENV || {};\n",
              "                    window.PLOTLYENV.BASE_URL='https://plot.ly';                                    if (document.getElementById(\"9ad99cd5-4c09-4f1d-9f01-db2f806ee54e\")) {                    Plotly.newPlot(                        \"9ad99cd5-4c09-4f1d-9f01-db2f806ee54e\",                        [{\"marker\":{\"color\":\"rgba(255, 153, 51, 0.6)\",\"line\":{\"color\":\"rgba(255, 153, 51, 1.0)\",\"width\":1}},\"name\":\"count\",\"orientation\":\"v\",\"text\":\"\",\"x\":[\"asexual_gender_queer personal_story_useful\",\"ever_write_time thing_felt_comfortable_stranger\",\"family_means_nonbinary asexual_gender_queer\",\"gay_fanfiction_facing_trauma pap_smears_starte\",\"last_comic_would ever_write_time\",\"means_think_advocate friends_humans_everywhere\",\"mortification_confusion_adolescent_crushe society_bonding_friends_erotic\",\"pap_smears_starte family_means_nonbinary\",\"personal_story_useful touching_guide_gender_identity\",\"queer_maia_intensely_cathartic self_identity_include\",\"reading_statistics_would last_comic_would\",\"self_identity_include mortification_confusion_adolescent_crushe\",\"society_bonding_friends_erotic gay_fanfiction_facing_trauma\",\"thing_felt_comfortable_stranger queer_maia_intensely_cathartic\",\"touching_guide_gender_identity means_think_advocate\"],\"y\":[41,41,41,41,41,41,41,41,41,41,41,41,41,41,41],\"type\":\"bar\"}],                        {\"legend\":{\"bgcolor\":\"#F5F6F9\",\"font\":{\"color\":\"#4D5663\"}},\"paper_bgcolor\":\"#F5F6F9\",\"plot_bgcolor\":\"#F5F6F9\",\"template\":{\"data\":{\"barpolar\":[{\"marker\":{\"line\":{\"color\":\"#E5ECF6\",\"width\":0.5},\"pattern\":{\"fillmode\":\"overlay\",\"size\":10,\"solidity\":0.2}},\"type\":\"barpolar\"}],\"bar\":[{\"error_x\":{\"color\":\"#2a3f5f\"},\"error_y\":{\"color\":\"#2a3f5f\"},\"marker\":{\"line\":{\"color\":\"#E5ECF6\",\"width\":0.5},\"pattern\":{\"fillmode\":\"overlay\",\"size\":10,\"solidity\":0.2}},\"type\":\"bar\"}],\"carpet\":[{\"aaxis\":{\"endlinecolor\":\"#2a3f5f\",\"gridcolor\":\"white\",\"linecolor\":\"white\",\"minorgridcolor\":\"white\",\"startlinecolor\":\"#2a3f5f\"},\"baxis\":{\"endlinecolor\":\"#2a3f5f\",\"gridcolor\":\"white\",\"linecolor\":\"white\",\"minorgridcolor\":\"white\",\"startlinecolor\":\"#2a3f5f\"},\"type\":\"carpet\"}],\"choropleth\":[{\"colorbar\":{\"outlinewidth\":0,\"ticks\":\"\"},\"type\":\"choropleth\"}],\"contourcarpet\":[{\"colorbar\":{\"outlinewidth\":0,\"ticks\":\"\"},\"type\":\"contourcarpet\"}],\"contour\":[{\"colorbar\":{\"outlinewidth\":0,\"ticks\":\"\"},\"colorscale\":[[0.0,\"#0d0887\"],[0.1111111111111111,\"#46039f\"],[0.2222222222222222,\"#7201a8\"],[0.3333333333333333,\"#9c179e\"],[0.4444444444444444,\"#bd3786\"],[0.5555555555555556,\"#d8576b\"],[0.6666666666666666,\"#ed7953\"],[0.7777777777777778,\"#fb9f3a\"],[0.8888888888888888,\"#fdca26\"],[1.0,\"#f0f921\"]],\"type\":\"contour\"}],\"heatmapgl\":[{\"colorbar\":{\"outlinewidth\":0,\"ticks\":\"\"},\"colorscale\":[[0.0,\"#0d0887\"],[0.1111111111111111,\"#46039f\"],[0.2222222222222222,\"#7201a8\"],[0.3333333333333333,\"#9c179e\"],[0.4444444444444444,\"#bd3786\"],[0.5555555555555556,\"#d8576b\"],[0.6666666666666666,\"#ed7953\"],[0.7777777777777778,\"#fb9f3a\"],[0.8888888888888888,\"#fdca26\"],[1.0,\"#f0f921\"]],\"type\":\"heatmapgl\"}],\"heatmap\":[{\"colorbar\":{\"outlinewidth\":0,\"ticks\":\"\"},\"colorscale\":[[0.0,\"#0d0887\"],[0.1111111111111111,\"#46039f\"],[0.2222222222222222,\"#7201a8\"],[0.3333333333333333,\"#9c179e\"],[0.4444444444444444,\"#bd3786\"],[0.5555555555555556,\"#d8576b\"],[0.6666666666666666,\"#ed7953\"],[0.7777777777777778,\"#fb9f3a\"],[0.8888888888888888,\"#fdca26\"],[1.0,\"#f0f921\"]],\"type\":\"heatmap\"}],\"histogram2dcontour\":[{\"colorbar\":{\"outlinewidth\":0,\"ticks\":\"\"},\"colorscale\":[[0.0,\"#0d0887\"],[0.1111111111111111,\"#46039f\"],[0.2222222222222222,\"#7201a8\"],[0.3333333333333333,\"#9c179e\"],[0.4444444444444444,\"#bd3786\"],[0.5555555555555556,\"#d8576b\"],[0.6666666666666666,\"#ed7953\"],[0.7777777777777778,\"#fb9f3a\"],[0.8888888888888888,\"#fdca26\"],[1.0,\"#f0f921\"]],\"type\":\"histogram2dcontour\"}],\"histogram2d\":[{\"colorbar\":{\"outlinewidth\":0,\"ticks\":\"\"},\"colorscale\":[[0.0,\"#0d0887\"],[0.1111111111111111,\"#46039f\"],[0.2222222222222222,\"#7201a8\"],[0.3333333333333333,\"#9c179e\"],[0.4444444444444444,\"#bd3786\"],[0.5555555555555556,\"#d8576b\"],[0.6666666666666666,\"#ed7953\"],[0.7777777777777778,\"#fb9f3a\"],[0.8888888888888888,\"#fdca26\"],[1.0,\"#f0f921\"]],\"type\":\"histogram2d\"}],\"histogram\":[{\"marker\":{\"pattern\":{\"fillmode\":\"overlay\",\"size\":10,\"solidity\":0.2}},\"type\":\"histogram\"}],\"mesh3d\":[{\"colorbar\":{\"outlinewidth\":0,\"ticks\":\"\"},\"type\":\"mesh3d\"}],\"parcoords\":[{\"line\":{\"colorbar\":{\"outlinewidth\":0,\"ticks\":\"\"}},\"type\":\"parcoords\"}],\"pie\":[{\"automargin\":true,\"type\":\"pie\"}],\"scatter3d\":[{\"line\":{\"colorbar\":{\"outlinewidth\":0,\"ticks\":\"\"}},\"marker\":{\"colorbar\":{\"outlinewidth\":0,\"ticks\":\"\"}},\"type\":\"scatter3d\"}],\"scattercarpet\":[{\"marker\":{\"colorbar\":{\"outlinewidth\":0,\"ticks\":\"\"}},\"type\":\"scattercarpet\"}],\"scattergeo\":[{\"marker\":{\"colorbar\":{\"outlinewidth\":0,\"ticks\":\"\"}},\"type\":\"scattergeo\"}],\"scattergl\":[{\"marker\":{\"colorbar\":{\"outlinewidth\":0,\"ticks\":\"\"}},\"type\":\"scattergl\"}],\"scattermapbox\":[{\"marker\":{\"colorbar\":{\"outlinewidth\":0,\"ticks\":\"\"}},\"type\":\"scattermapbox\"}],\"scatterpolargl\":[{\"marker\":{\"colorbar\":{\"outlinewidth\":0,\"ticks\":\"\"}},\"type\":\"scatterpolargl\"}],\"scatterpolar\":[{\"marker\":{\"colorbar\":{\"outlinewidth\":0,\"ticks\":\"\"}},\"type\":\"scatterpolar\"}],\"scatter\":[{\"fillpattern\":{\"fillmode\":\"overlay\",\"size\":10,\"solidity\":0.2},\"type\":\"scatter\"}],\"scatterternary\":[{\"marker\":{\"colorbar\":{\"outlinewidth\":0,\"ticks\":\"\"}},\"type\":\"scatterternary\"}],\"surface\":[{\"colorbar\":{\"outlinewidth\":0,\"ticks\":\"\"},\"colorscale\":[[0.0,\"#0d0887\"],[0.1111111111111111,\"#46039f\"],[0.2222222222222222,\"#7201a8\"],[0.3333333333333333,\"#9c179e\"],[0.4444444444444444,\"#bd3786\"],[0.5555555555555556,\"#d8576b\"],[0.6666666666666666,\"#ed7953\"],[0.7777777777777778,\"#fb9f3a\"],[0.8888888888888888,\"#fdca26\"],[1.0,\"#f0f921\"]],\"type\":\"surface\"}],\"table\":[{\"cells\":{\"fill\":{\"color\":\"#EBF0F8\"},\"line\":{\"color\":\"white\"}},\"header\":{\"fill\":{\"color\":\"#C8D4E3\"},\"line\":{\"color\":\"white\"}},\"type\":\"table\"}]},\"layout\":{\"annotationdefaults\":{\"arrowcolor\":\"#2a3f5f\",\"arrowhead\":0,\"arrowwidth\":1},\"autotypenumbers\":\"strict\",\"coloraxis\":{\"colorbar\":{\"outlinewidth\":0,\"ticks\":\"\"}},\"colorscale\":{\"diverging\":[[0,\"#8e0152\"],[0.1,\"#c51b7d\"],[0.2,\"#de77ae\"],[0.3,\"#f1b6da\"],[0.4,\"#fde0ef\"],[0.5,\"#f7f7f7\"],[0.6,\"#e6f5d0\"],[0.7,\"#b8e186\"],[0.8,\"#7fbc41\"],[0.9,\"#4d9221\"],[1,\"#276419\"]],\"sequential\":[[0.0,\"#0d0887\"],[0.1111111111111111,\"#46039f\"],[0.2222222222222222,\"#7201a8\"],[0.3333333333333333,\"#9c179e\"],[0.4444444444444444,\"#bd3786\"],[0.5555555555555556,\"#d8576b\"],[0.6666666666666666,\"#ed7953\"],[0.7777777777777778,\"#fb9f3a\"],[0.8888888888888888,\"#fdca26\"],[1.0,\"#f0f921\"]],\"sequentialminus\":[[0.0,\"#0d0887\"],[0.1111111111111111,\"#46039f\"],[0.2222222222222222,\"#7201a8\"],[0.3333333333333333,\"#9c179e\"],[0.4444444444444444,\"#bd3786\"],[0.5555555555555556,\"#d8576b\"],[0.6666666666666666,\"#ed7953\"],[0.7777777777777778,\"#fb9f3a\"],[0.8888888888888888,\"#fdca26\"],[1.0,\"#f0f921\"]]},\"colorway\":[\"#636efa\",\"#EF553B\",\"#00cc96\",\"#ab63fa\",\"#FFA15A\",\"#19d3f3\",\"#FF6692\",\"#B6E880\",\"#FF97FF\",\"#FECB52\"],\"font\":{\"color\":\"#2a3f5f\"},\"geo\":{\"bgcolor\":\"white\",\"lakecolor\":\"white\",\"landcolor\":\"#E5ECF6\",\"showlakes\":true,\"showland\":true,\"subunitcolor\":\"white\"},\"hoverlabel\":{\"align\":\"left\"},\"hovermode\":\"closest\",\"mapbox\":{\"style\":\"light\"},\"paper_bgcolor\":\"white\",\"plot_bgcolor\":\"#E5ECF6\",\"polar\":{\"angularaxis\":{\"gridcolor\":\"white\",\"linecolor\":\"white\",\"ticks\":\"\"},\"bgcolor\":\"#E5ECF6\",\"radialaxis\":{\"gridcolor\":\"white\",\"linecolor\":\"white\",\"ticks\":\"\"}},\"scene\":{\"xaxis\":{\"backgroundcolor\":\"#E5ECF6\",\"gridcolor\":\"white\",\"gridwidth\":2,\"linecolor\":\"white\",\"showbackground\":true,\"ticks\":\"\",\"zerolinecolor\":\"white\"},\"yaxis\":{\"backgroundcolor\":\"#E5ECF6\",\"gridcolor\":\"white\",\"gridwidth\":2,\"linecolor\":\"white\",\"showbackground\":true,\"ticks\":\"\",\"zerolinecolor\":\"white\"},\"zaxis\":{\"backgroundcolor\":\"#E5ECF6\",\"gridcolor\":\"white\",\"gridwidth\":2,\"linecolor\":\"white\",\"showbackground\":true,\"ticks\":\"\",\"zerolinecolor\":\"white\"}},\"shapedefaults\":{\"line\":{\"color\":\"#2a3f5f\"}},\"ternary\":{\"aaxis\":{\"gridcolor\":\"white\",\"linecolor\":\"white\",\"ticks\":\"\"},\"baxis\":{\"gridcolor\":\"white\",\"linecolor\":\"white\",\"ticks\":\"\"},\"bgcolor\":\"#E5ECF6\",\"caxis\":{\"gridcolor\":\"white\",\"linecolor\":\"white\",\"ticks\":\"\"}},\"title\":{\"x\":0.05},\"xaxis\":{\"automargin\":true,\"gridcolor\":\"white\",\"linecolor\":\"white\",\"ticks\":\"\",\"title\":{\"standoff\":15},\"zerolinecolor\":\"white\",\"zerolinewidth\":2},\"yaxis\":{\"automargin\":true,\"gridcolor\":\"white\",\"linecolor\":\"white\",\"ticks\":\"\",\"title\":{\"standoff\":15},\"zerolinecolor\":\"white\",\"zerolinewidth\":2}}},\"title\":{\"font\":{\"color\":\"#4D5663\"},\"text\":\"Topic 0: Top 100 bigrams after removing stop words\"},\"xaxis\":{\"gridcolor\":\"#E1E5ED\",\"linecolor\":\"black\",\"showgrid\":true,\"tickfont\":{\"color\":\"#4D5663\"},\"title\":{\"font\":{\"color\":\"#4D5663\"},\"text\":\"\"},\"zerolinecolor\":\"#E1E5ED\"},\"yaxis\":{\"gridcolor\":\"#E1E5ED\",\"linecolor\":\"black\",\"showgrid\":true,\"tickfont\":{\"color\":\"#4D5663\"},\"title\":{\"font\":{\"color\":\"#4D5663\"},\"text\":\"Count\"},\"zerolinecolor\":\"#E1E5ED\"}},                        {\"showLink\": true, \"linkText\": \"Export to plot.ly\", \"plotlyServerURL\": \"https://plot.ly\", \"responsive\": true}                    ).then(function(){\n",
              "                            \n",
              "var gd = document.getElementById('9ad99cd5-4c09-4f1d-9f01-db2f806ee54e');\n",
              "var x = new MutationObserver(function (mutations, observer) {{\n",
              "        var display = window.getComputedStyle(gd).display;\n",
              "        if (!display || display === 'none') {{\n",
              "            console.log([gd, 'removed!']);\n",
              "            Plotly.purge(gd);\n",
              "            observer.disconnect();\n",
              "        }}\n",
              "}});\n",
              "\n",
              "// Listen for the removal of the full notebook cells\n",
              "var notebookContainer = gd.closest('#notebook-container');\n",
              "if (notebookContainer) {{\n",
              "    x.observe(notebookContainer, {childList: true});\n",
              "}}\n",
              "\n",
              "// Listen for the clearing of the current output cell\n",
              "var outputEl = gd.closest('.output');\n",
              "if (outputEl) {{\n",
              "    x.observe(outputEl, {childList: true});\n",
              "}}\n",
              "\n",
              "                        })                };                });            </script>        </div>"
            ]
          },
          "metadata": {},
          "output_type": "display_data"
        }
      ],
      "source": [
        "plot_model(nmf, plot = 'bigram')"
      ]
    },
    {
      "cell_type": "markdown",
      "id": "62a355dc",
      "metadata": {
        "id": "62a355dc"
      },
      "source": [
        "### Topic Distribution"
      ]
    },
    {
      "cell_type": "code",
      "execution_count": null,
      "id": "060f384e",
      "metadata": {
        "id": "060f384e",
        "outputId": "2cbe7ea6-a2a9-4ae9-f531-8b4cea7c958f"
      },
      "outputs": [
        {
          "data": {
            "text/html": [
              "        <script type=\"text/javascript\">\n",
              "        window.PlotlyConfig = {MathJaxConfig: 'local'};\n",
              "        if (window.MathJax && window.MathJax.Hub && window.MathJax.Hub.Config) {window.MathJax.Hub.Config({SVG: {font: \"STIX-Web\"}});}\n",
              "        if (typeof require !== 'undefined') {\n",
              "        require.undef(\"plotly\");\n",
              "        requirejs.config({\n",
              "            paths: {\n",
              "                'plotly': ['https://cdn.plot.ly/plotly-2.18.2.min']\n",
              "            }\n",
              "        });\n",
              "        require(['plotly'], function(Plotly) {\n",
              "            window._Plotly = Plotly;\n",
              "        });\n",
              "        }\n",
              "        </script>\n",
              "        "
            ]
          },
          "metadata": {},
          "output_type": "display_data"
        },
        {
          "data": {
            "application/vnd.plotly.v1+json": {
              "config": {
                "plotlyServerURL": "https://plot.ly"
              },
              "data": [
                {
                  "alignmentgroup": "True",
                  "customdata": [
                    [
                      "N, A"
                    ],
                    [
                      "N, A"
                    ],
                    [
                      "N, A"
                    ],
                    [
                      "N, A"
                    ],
                    [
                      "N, A"
                    ],
                    [
                      "N, A"
                    ],
                    [
                      "N, A"
                    ],
                    [
                      "N, A"
                    ]
                  ],
                  "hovertemplate": "Topic=%{x}<br>Documents=%{y}<br>Keyword=%{customdata[0]}<extra></extra>",
                  "legendgroup": "",
                  "marker": {
                    "color": "#636efa",
                    "pattern": {
                      "shape": ""
                    }
                  },
                  "name": "",
                  "offsetgroup": "",
                  "orientation": "v",
                  "showlegend": false,
                  "textposition": "auto",
                  "type": "bar",
                  "x": [
                    "Topic 0",
                    "Topic 1",
                    "Topic 2",
                    "Topic 3",
                    "Topic 4",
                    "Topic 5",
                    "Topic 6",
                    "Topic 7"
                  ],
                  "xaxis": "x",
                  "y": [
                    41,
                    2301,
                    29,
                    52,
                    37,
                    23,
                    32,
                    17
                  ],
                  "yaxis": "y"
                }
              ],
              "layout": {
                "barmode": "relative",
                "legend": {
                  "tracegroupgap": 0
                },
                "template": {
                  "data": {
                    "bar": [
                      {
                        "error_x": {
                          "color": "#2a3f5f"
                        },
                        "error_y": {
                          "color": "#2a3f5f"
                        },
                        "marker": {
                          "line": {
                            "color": "#E5ECF6",
                            "width": 0.5
                          },
                          "pattern": {
                            "fillmode": "overlay",
                            "size": 10,
                            "solidity": 0.2
                          }
                        },
                        "type": "bar"
                      }
                    ],
                    "barpolar": [
                      {
                        "marker": {
                          "line": {
                            "color": "#E5ECF6",
                            "width": 0.5
                          },
                          "pattern": {
                            "fillmode": "overlay",
                            "size": 10,
                            "solidity": 0.2
                          }
                        },
                        "type": "barpolar"
                      }
                    ],
                    "carpet": [
                      {
                        "aaxis": {
                          "endlinecolor": "#2a3f5f",
                          "gridcolor": "white",
                          "linecolor": "white",
                          "minorgridcolor": "white",
                          "startlinecolor": "#2a3f5f"
                        },
                        "baxis": {
                          "endlinecolor": "#2a3f5f",
                          "gridcolor": "white",
                          "linecolor": "white",
                          "minorgridcolor": "white",
                          "startlinecolor": "#2a3f5f"
                        },
                        "type": "carpet"
                      }
                    ],
                    "choropleth": [
                      {
                        "colorbar": {
                          "outlinewidth": 0,
                          "ticks": ""
                        },
                        "type": "choropleth"
                      }
                    ],
                    "contour": [
                      {
                        "colorbar": {
                          "outlinewidth": 0,
                          "ticks": ""
                        },
                        "colorscale": [
                          [
                            0,
                            "#0d0887"
                          ],
                          [
                            0.1111111111111111,
                            "#46039f"
                          ],
                          [
                            0.2222222222222222,
                            "#7201a8"
                          ],
                          [
                            0.3333333333333333,
                            "#9c179e"
                          ],
                          [
                            0.4444444444444444,
                            "#bd3786"
                          ],
                          [
                            0.5555555555555556,
                            "#d8576b"
                          ],
                          [
                            0.6666666666666666,
                            "#ed7953"
                          ],
                          [
                            0.7777777777777778,
                            "#fb9f3a"
                          ],
                          [
                            0.8888888888888888,
                            "#fdca26"
                          ],
                          [
                            1,
                            "#f0f921"
                          ]
                        ],
                        "type": "contour"
                      }
                    ],
                    "contourcarpet": [
                      {
                        "colorbar": {
                          "outlinewidth": 0,
                          "ticks": ""
                        },
                        "type": "contourcarpet"
                      }
                    ],
                    "heatmap": [
                      {
                        "colorbar": {
                          "outlinewidth": 0,
                          "ticks": ""
                        },
                        "colorscale": [
                          [
                            0,
                            "#0d0887"
                          ],
                          [
                            0.1111111111111111,
                            "#46039f"
                          ],
                          [
                            0.2222222222222222,
                            "#7201a8"
                          ],
                          [
                            0.3333333333333333,
                            "#9c179e"
                          ],
                          [
                            0.4444444444444444,
                            "#bd3786"
                          ],
                          [
                            0.5555555555555556,
                            "#d8576b"
                          ],
                          [
                            0.6666666666666666,
                            "#ed7953"
                          ],
                          [
                            0.7777777777777778,
                            "#fb9f3a"
                          ],
                          [
                            0.8888888888888888,
                            "#fdca26"
                          ],
                          [
                            1,
                            "#f0f921"
                          ]
                        ],
                        "type": "heatmap"
                      }
                    ],
                    "heatmapgl": [
                      {
                        "colorbar": {
                          "outlinewidth": 0,
                          "ticks": ""
                        },
                        "colorscale": [
                          [
                            0,
                            "#0d0887"
                          ],
                          [
                            0.1111111111111111,
                            "#46039f"
                          ],
                          [
                            0.2222222222222222,
                            "#7201a8"
                          ],
                          [
                            0.3333333333333333,
                            "#9c179e"
                          ],
                          [
                            0.4444444444444444,
                            "#bd3786"
                          ],
                          [
                            0.5555555555555556,
                            "#d8576b"
                          ],
                          [
                            0.6666666666666666,
                            "#ed7953"
                          ],
                          [
                            0.7777777777777778,
                            "#fb9f3a"
                          ],
                          [
                            0.8888888888888888,
                            "#fdca26"
                          ],
                          [
                            1,
                            "#f0f921"
                          ]
                        ],
                        "type": "heatmapgl"
                      }
                    ],
                    "histogram": [
                      {
                        "marker": {
                          "pattern": {
                            "fillmode": "overlay",
                            "size": 10,
                            "solidity": 0.2
                          }
                        },
                        "type": "histogram"
                      }
                    ],
                    "histogram2d": [
                      {
                        "colorbar": {
                          "outlinewidth": 0,
                          "ticks": ""
                        },
                        "colorscale": [
                          [
                            0,
                            "#0d0887"
                          ],
                          [
                            0.1111111111111111,
                            "#46039f"
                          ],
                          [
                            0.2222222222222222,
                            "#7201a8"
                          ],
                          [
                            0.3333333333333333,
                            "#9c179e"
                          ],
                          [
                            0.4444444444444444,
                            "#bd3786"
                          ],
                          [
                            0.5555555555555556,
                            "#d8576b"
                          ],
                          [
                            0.6666666666666666,
                            "#ed7953"
                          ],
                          [
                            0.7777777777777778,
                            "#fb9f3a"
                          ],
                          [
                            0.8888888888888888,
                            "#fdca26"
                          ],
                          [
                            1,
                            "#f0f921"
                          ]
                        ],
                        "type": "histogram2d"
                      }
                    ],
                    "histogram2dcontour": [
                      {
                        "colorbar": {
                          "outlinewidth": 0,
                          "ticks": ""
                        },
                        "colorscale": [
                          [
                            0,
                            "#0d0887"
                          ],
                          [
                            0.1111111111111111,
                            "#46039f"
                          ],
                          [
                            0.2222222222222222,
                            "#7201a8"
                          ],
                          [
                            0.3333333333333333,
                            "#9c179e"
                          ],
                          [
                            0.4444444444444444,
                            "#bd3786"
                          ],
                          [
                            0.5555555555555556,
                            "#d8576b"
                          ],
                          [
                            0.6666666666666666,
                            "#ed7953"
                          ],
                          [
                            0.7777777777777778,
                            "#fb9f3a"
                          ],
                          [
                            0.8888888888888888,
                            "#fdca26"
                          ],
                          [
                            1,
                            "#f0f921"
                          ]
                        ],
                        "type": "histogram2dcontour"
                      }
                    ],
                    "mesh3d": [
                      {
                        "colorbar": {
                          "outlinewidth": 0,
                          "ticks": ""
                        },
                        "type": "mesh3d"
                      }
                    ],
                    "parcoords": [
                      {
                        "line": {
                          "colorbar": {
                            "outlinewidth": 0,
                            "ticks": ""
                          }
                        },
                        "type": "parcoords"
                      }
                    ],
                    "pie": [
                      {
                        "automargin": true,
                        "type": "pie"
                      }
                    ],
                    "scatter": [
                      {
                        "fillpattern": {
                          "fillmode": "overlay",
                          "size": 10,
                          "solidity": 0.2
                        },
                        "type": "scatter"
                      }
                    ],
                    "scatter3d": [
                      {
                        "line": {
                          "colorbar": {
                            "outlinewidth": 0,
                            "ticks": ""
                          }
                        },
                        "marker": {
                          "colorbar": {
                            "outlinewidth": 0,
                            "ticks": ""
                          }
                        },
                        "type": "scatter3d"
                      }
                    ],
                    "scattercarpet": [
                      {
                        "marker": {
                          "colorbar": {
                            "outlinewidth": 0,
                            "ticks": ""
                          }
                        },
                        "type": "scattercarpet"
                      }
                    ],
                    "scattergeo": [
                      {
                        "marker": {
                          "colorbar": {
                            "outlinewidth": 0,
                            "ticks": ""
                          }
                        },
                        "type": "scattergeo"
                      }
                    ],
                    "scattergl": [
                      {
                        "marker": {
                          "colorbar": {
                            "outlinewidth": 0,
                            "ticks": ""
                          }
                        },
                        "type": "scattergl"
                      }
                    ],
                    "scattermapbox": [
                      {
                        "marker": {
                          "colorbar": {
                            "outlinewidth": 0,
                            "ticks": ""
                          }
                        },
                        "type": "scattermapbox"
                      }
                    ],
                    "scatterpolar": [
                      {
                        "marker": {
                          "colorbar": {
                            "outlinewidth": 0,
                            "ticks": ""
                          }
                        },
                        "type": "scatterpolar"
                      }
                    ],
                    "scatterpolargl": [
                      {
                        "marker": {
                          "colorbar": {
                            "outlinewidth": 0,
                            "ticks": ""
                          }
                        },
                        "type": "scatterpolargl"
                      }
                    ],
                    "scatterternary": [
                      {
                        "marker": {
                          "colorbar": {
                            "outlinewidth": 0,
                            "ticks": ""
                          }
                        },
                        "type": "scatterternary"
                      }
                    ],
                    "surface": [
                      {
                        "colorbar": {
                          "outlinewidth": 0,
                          "ticks": ""
                        },
                        "colorscale": [
                          [
                            0,
                            "#0d0887"
                          ],
                          [
                            0.1111111111111111,
                            "#46039f"
                          ],
                          [
                            0.2222222222222222,
                            "#7201a8"
                          ],
                          [
                            0.3333333333333333,
                            "#9c179e"
                          ],
                          [
                            0.4444444444444444,
                            "#bd3786"
                          ],
                          [
                            0.5555555555555556,
                            "#d8576b"
                          ],
                          [
                            0.6666666666666666,
                            "#ed7953"
                          ],
                          [
                            0.7777777777777778,
                            "#fb9f3a"
                          ],
                          [
                            0.8888888888888888,
                            "#fdca26"
                          ],
                          [
                            1,
                            "#f0f921"
                          ]
                        ],
                        "type": "surface"
                      }
                    ],
                    "table": [
                      {
                        "cells": {
                          "fill": {
                            "color": "#EBF0F8"
                          },
                          "line": {
                            "color": "white"
                          }
                        },
                        "header": {
                          "fill": {
                            "color": "#C8D4E3"
                          },
                          "line": {
                            "color": "white"
                          }
                        },
                        "type": "table"
                      }
                    ]
                  },
                  "layout": {
                    "annotationdefaults": {
                      "arrowcolor": "#2a3f5f",
                      "arrowhead": 0,
                      "arrowwidth": 1
                    },
                    "autotypenumbers": "strict",
                    "coloraxis": {
                      "colorbar": {
                        "outlinewidth": 0,
                        "ticks": ""
                      }
                    },
                    "colorscale": {
                      "diverging": [
                        [
                          0,
                          "#8e0152"
                        ],
                        [
                          0.1,
                          "#c51b7d"
                        ],
                        [
                          0.2,
                          "#de77ae"
                        ],
                        [
                          0.3,
                          "#f1b6da"
                        ],
                        [
                          0.4,
                          "#fde0ef"
                        ],
                        [
                          0.5,
                          "#f7f7f7"
                        ],
                        [
                          0.6,
                          "#e6f5d0"
                        ],
                        [
                          0.7,
                          "#b8e186"
                        ],
                        [
                          0.8,
                          "#7fbc41"
                        ],
                        [
                          0.9,
                          "#4d9221"
                        ],
                        [
                          1,
                          "#276419"
                        ]
                      ],
                      "sequential": [
                        [
                          0,
                          "#0d0887"
                        ],
                        [
                          0.1111111111111111,
                          "#46039f"
                        ],
                        [
                          0.2222222222222222,
                          "#7201a8"
                        ],
                        [
                          0.3333333333333333,
                          "#9c179e"
                        ],
                        [
                          0.4444444444444444,
                          "#bd3786"
                        ],
                        [
                          0.5555555555555556,
                          "#d8576b"
                        ],
                        [
                          0.6666666666666666,
                          "#ed7953"
                        ],
                        [
                          0.7777777777777778,
                          "#fb9f3a"
                        ],
                        [
                          0.8888888888888888,
                          "#fdca26"
                        ],
                        [
                          1,
                          "#f0f921"
                        ]
                      ],
                      "sequentialminus": [
                        [
                          0,
                          "#0d0887"
                        ],
                        [
                          0.1111111111111111,
                          "#46039f"
                        ],
                        [
                          0.2222222222222222,
                          "#7201a8"
                        ],
                        [
                          0.3333333333333333,
                          "#9c179e"
                        ],
                        [
                          0.4444444444444444,
                          "#bd3786"
                        ],
                        [
                          0.5555555555555556,
                          "#d8576b"
                        ],
                        [
                          0.6666666666666666,
                          "#ed7953"
                        ],
                        [
                          0.7777777777777778,
                          "#fb9f3a"
                        ],
                        [
                          0.8888888888888888,
                          "#fdca26"
                        ],
                        [
                          1,
                          "#f0f921"
                        ]
                      ]
                    },
                    "colorway": [
                      "#636efa",
                      "#EF553B",
                      "#00cc96",
                      "#ab63fa",
                      "#FFA15A",
                      "#19d3f3",
                      "#FF6692",
                      "#B6E880",
                      "#FF97FF",
                      "#FECB52"
                    ],
                    "font": {
                      "color": "#2a3f5f"
                    },
                    "geo": {
                      "bgcolor": "white",
                      "lakecolor": "white",
                      "landcolor": "#E5ECF6",
                      "showlakes": true,
                      "showland": true,
                      "subunitcolor": "white"
                    },
                    "hoverlabel": {
                      "align": "left"
                    },
                    "hovermode": "closest",
                    "mapbox": {
                      "style": "light"
                    },
                    "paper_bgcolor": "white",
                    "plot_bgcolor": "#E5ECF6",
                    "polar": {
                      "angularaxis": {
                        "gridcolor": "white",
                        "linecolor": "white",
                        "ticks": ""
                      },
                      "bgcolor": "#E5ECF6",
                      "radialaxis": {
                        "gridcolor": "white",
                        "linecolor": "white",
                        "ticks": ""
                      }
                    },
                    "scene": {
                      "xaxis": {
                        "backgroundcolor": "#E5ECF6",
                        "gridcolor": "white",
                        "gridwidth": 2,
                        "linecolor": "white",
                        "showbackground": true,
                        "ticks": "",
                        "zerolinecolor": "white"
                      },
                      "yaxis": {
                        "backgroundcolor": "#E5ECF6",
                        "gridcolor": "white",
                        "gridwidth": 2,
                        "linecolor": "white",
                        "showbackground": true,
                        "ticks": "",
                        "zerolinecolor": "white"
                      },
                      "zaxis": {
                        "backgroundcolor": "#E5ECF6",
                        "gridcolor": "white",
                        "gridwidth": 2,
                        "linecolor": "white",
                        "showbackground": true,
                        "ticks": "",
                        "zerolinecolor": "white"
                      }
                    },
                    "shapedefaults": {
                      "line": {
                        "color": "#2a3f5f"
                      }
                    },
                    "ternary": {
                      "aaxis": {
                        "gridcolor": "white",
                        "linecolor": "white",
                        "ticks": ""
                      },
                      "baxis": {
                        "gridcolor": "white",
                        "linecolor": "white",
                        "ticks": ""
                      },
                      "bgcolor": "#E5ECF6",
                      "caxis": {
                        "gridcolor": "white",
                        "linecolor": "white",
                        "ticks": ""
                      }
                    },
                    "title": {
                      "x": 0.05
                    },
                    "xaxis": {
                      "automargin": true,
                      "gridcolor": "white",
                      "linecolor": "white",
                      "ticks": "",
                      "title": {
                        "standoff": 15
                      },
                      "zerolinecolor": "white",
                      "zerolinewidth": 2
                    },
                    "yaxis": {
                      "automargin": true,
                      "gridcolor": "white",
                      "linecolor": "white",
                      "ticks": "",
                      "title": {
                        "standoff": 15
                      },
                      "zerolinecolor": "white",
                      "zerolinewidth": 2
                    }
                  }
                },
                "title": {
                  "text": "Document Distribution by Topics"
                },
                "xaxis": {
                  "anchor": "y",
                  "domain": [
                    0,
                    1
                  ],
                  "title": {
                    "text": "Topic"
                  }
                },
                "yaxis": {
                  "anchor": "x",
                  "domain": [
                    0,
                    1
                  ],
                  "title": {
                    "text": "Documents"
                  }
                }
              }
            },
            "text/html": [
              "<div>                            <div id=\"607b1766-5419-4715-a20e-9657338f865c\" class=\"plotly-graph-div\" style=\"height:525px; width:100%;\"></div>            <script type=\"text/javascript\">                require([\"plotly\"], function(Plotly) {                    window.PLOTLYENV=window.PLOTLYENV || {};                                    if (document.getElementById(\"607b1766-5419-4715-a20e-9657338f865c\")) {                    Plotly.newPlot(                        \"607b1766-5419-4715-a20e-9657338f865c\",                        [{\"alignmentgroup\":\"True\",\"customdata\":[[\"N, A\"],[\"N, A\"],[\"N, A\"],[\"N, A\"],[\"N, A\"],[\"N, A\"],[\"N, A\"],[\"N, A\"]],\"hovertemplate\":\"Topic=%{x}<br>Documents=%{y}<br>Keyword=%{customdata[0]}<extra></extra>\",\"legendgroup\":\"\",\"marker\":{\"color\":\"#636efa\",\"pattern\":{\"shape\":\"\"}},\"name\":\"\",\"offsetgroup\":\"\",\"orientation\":\"v\",\"showlegend\":false,\"textposition\":\"auto\",\"x\":[\"Topic 0\",\"Topic 1\",\"Topic 2\",\"Topic 3\",\"Topic 4\",\"Topic 5\",\"Topic 6\",\"Topic 7\"],\"xaxis\":\"x\",\"y\":[41,2301,29,52,37,23,32,17],\"yaxis\":\"y\",\"type\":\"bar\"}],                        {\"template\":{\"data\":{\"histogram2dcontour\":[{\"type\":\"histogram2dcontour\",\"colorbar\":{\"outlinewidth\":0,\"ticks\":\"\"},\"colorscale\":[[0.0,\"#0d0887\"],[0.1111111111111111,\"#46039f\"],[0.2222222222222222,\"#7201a8\"],[0.3333333333333333,\"#9c179e\"],[0.4444444444444444,\"#bd3786\"],[0.5555555555555556,\"#d8576b\"],[0.6666666666666666,\"#ed7953\"],[0.7777777777777778,\"#fb9f3a\"],[0.8888888888888888,\"#fdca26\"],[1.0,\"#f0f921\"]]}],\"choropleth\":[{\"type\":\"choropleth\",\"colorbar\":{\"outlinewidth\":0,\"ticks\":\"\"}}],\"histogram2d\":[{\"type\":\"histogram2d\",\"colorbar\":{\"outlinewidth\":0,\"ticks\":\"\"},\"colorscale\":[[0.0,\"#0d0887\"],[0.1111111111111111,\"#46039f\"],[0.2222222222222222,\"#7201a8\"],[0.3333333333333333,\"#9c179e\"],[0.4444444444444444,\"#bd3786\"],[0.5555555555555556,\"#d8576b\"],[0.6666666666666666,\"#ed7953\"],[0.7777777777777778,\"#fb9f3a\"],[0.8888888888888888,\"#fdca26\"],[1.0,\"#f0f921\"]]}],\"heatmap\":[{\"type\":\"heatmap\",\"colorbar\":{\"outlinewidth\":0,\"ticks\":\"\"},\"colorscale\":[[0.0,\"#0d0887\"],[0.1111111111111111,\"#46039f\"],[0.2222222222222222,\"#7201a8\"],[0.3333333333333333,\"#9c179e\"],[0.4444444444444444,\"#bd3786\"],[0.5555555555555556,\"#d8576b\"],[0.6666666666666666,\"#ed7953\"],[0.7777777777777778,\"#fb9f3a\"],[0.8888888888888888,\"#fdca26\"],[1.0,\"#f0f921\"]]}],\"heatmapgl\":[{\"type\":\"heatmapgl\",\"colorbar\":{\"outlinewidth\":0,\"ticks\":\"\"},\"colorscale\":[[0.0,\"#0d0887\"],[0.1111111111111111,\"#46039f\"],[0.2222222222222222,\"#7201a8\"],[0.3333333333333333,\"#9c179e\"],[0.4444444444444444,\"#bd3786\"],[0.5555555555555556,\"#d8576b\"],[0.6666666666666666,\"#ed7953\"],[0.7777777777777778,\"#fb9f3a\"],[0.8888888888888888,\"#fdca26\"],[1.0,\"#f0f921\"]]}],\"contourcarpet\":[{\"type\":\"contourcarpet\",\"colorbar\":{\"outlinewidth\":0,\"ticks\":\"\"}}],\"contour\":[{\"type\":\"contour\",\"colorbar\":{\"outlinewidth\":0,\"ticks\":\"\"},\"colorscale\":[[0.0,\"#0d0887\"],[0.1111111111111111,\"#46039f\"],[0.2222222222222222,\"#7201a8\"],[0.3333333333333333,\"#9c179e\"],[0.4444444444444444,\"#bd3786\"],[0.5555555555555556,\"#d8576b\"],[0.6666666666666666,\"#ed7953\"],[0.7777777777777778,\"#fb9f3a\"],[0.8888888888888888,\"#fdca26\"],[1.0,\"#f0f921\"]]}],\"surface\":[{\"type\":\"surface\",\"colorbar\":{\"outlinewidth\":0,\"ticks\":\"\"},\"colorscale\":[[0.0,\"#0d0887\"],[0.1111111111111111,\"#46039f\"],[0.2222222222222222,\"#7201a8\"],[0.3333333333333333,\"#9c179e\"],[0.4444444444444444,\"#bd3786\"],[0.5555555555555556,\"#d8576b\"],[0.6666666666666666,\"#ed7953\"],[0.7777777777777778,\"#fb9f3a\"],[0.8888888888888888,\"#fdca26\"],[1.0,\"#f0f921\"]]}],\"mesh3d\":[{\"type\":\"mesh3d\",\"colorbar\":{\"outlinewidth\":0,\"ticks\":\"\"}}],\"scatter\":[{\"fillpattern\":{\"fillmode\":\"overlay\",\"size\":10,\"solidity\":0.2},\"type\":\"scatter\"}],\"parcoords\":[{\"type\":\"parcoords\",\"line\":{\"colorbar\":{\"outlinewidth\":0,\"ticks\":\"\"}}}],\"scatterpolargl\":[{\"type\":\"scatterpolargl\",\"marker\":{\"colorbar\":{\"outlinewidth\":0,\"ticks\":\"\"}}}],\"bar\":[{\"error_x\":{\"color\":\"#2a3f5f\"},\"error_y\":{\"color\":\"#2a3f5f\"},\"marker\":{\"line\":{\"color\":\"#E5ECF6\",\"width\":0.5},\"pattern\":{\"fillmode\":\"overlay\",\"size\":10,\"solidity\":0.2}},\"type\":\"bar\"}],\"scattergeo\":[{\"type\":\"scattergeo\",\"marker\":{\"colorbar\":{\"outlinewidth\":0,\"ticks\":\"\"}}}],\"scatterpolar\":[{\"type\":\"scatterpolar\",\"marker\":{\"colorbar\":{\"outlinewidth\":0,\"ticks\":\"\"}}}],\"histogram\":[{\"marker\":{\"pattern\":{\"fillmode\":\"overlay\",\"size\":10,\"solidity\":0.2}},\"type\":\"histogram\"}],\"scattergl\":[{\"type\":\"scattergl\",\"marker\":{\"colorbar\":{\"outlinewidth\":0,\"ticks\":\"\"}}}],\"scatter3d\":[{\"type\":\"scatter3d\",\"line\":{\"colorbar\":{\"outlinewidth\":0,\"ticks\":\"\"}},\"marker\":{\"colorbar\":{\"outlinewidth\":0,\"ticks\":\"\"}}}],\"scattermapbox\":[{\"type\":\"scattermapbox\",\"marker\":{\"colorbar\":{\"outlinewidth\":0,\"ticks\":\"\"}}}],\"scatterternary\":[{\"type\":\"scatterternary\",\"marker\":{\"colorbar\":{\"outlinewidth\":0,\"ticks\":\"\"}}}],\"scattercarpet\":[{\"type\":\"scattercarpet\",\"marker\":{\"colorbar\":{\"outlinewidth\":0,\"ticks\":\"\"}}}],\"carpet\":[{\"aaxis\":{\"endlinecolor\":\"#2a3f5f\",\"gridcolor\":\"white\",\"linecolor\":\"white\",\"minorgridcolor\":\"white\",\"startlinecolor\":\"#2a3f5f\"},\"baxis\":{\"endlinecolor\":\"#2a3f5f\",\"gridcolor\":\"white\",\"linecolor\":\"white\",\"minorgridcolor\":\"white\",\"startlinecolor\":\"#2a3f5f\"},\"type\":\"carpet\"}],\"table\":[{\"cells\":{\"fill\":{\"color\":\"#EBF0F8\"},\"line\":{\"color\":\"white\"}},\"header\":{\"fill\":{\"color\":\"#C8D4E3\"},\"line\":{\"color\":\"white\"}},\"type\":\"table\"}],\"barpolar\":[{\"marker\":{\"line\":{\"color\":\"#E5ECF6\",\"width\":0.5},\"pattern\":{\"fillmode\":\"overlay\",\"size\":10,\"solidity\":0.2}},\"type\":\"barpolar\"}],\"pie\":[{\"automargin\":true,\"type\":\"pie\"}]},\"layout\":{\"autotypenumbers\":\"strict\",\"colorway\":[\"#636efa\",\"#EF553B\",\"#00cc96\",\"#ab63fa\",\"#FFA15A\",\"#19d3f3\",\"#FF6692\",\"#B6E880\",\"#FF97FF\",\"#FECB52\"],\"font\":{\"color\":\"#2a3f5f\"},\"hovermode\":\"closest\",\"hoverlabel\":{\"align\":\"left\"},\"paper_bgcolor\":\"white\",\"plot_bgcolor\":\"#E5ECF6\",\"polar\":{\"bgcolor\":\"#E5ECF6\",\"angularaxis\":{\"gridcolor\":\"white\",\"linecolor\":\"white\",\"ticks\":\"\"},\"radialaxis\":{\"gridcolor\":\"white\",\"linecolor\":\"white\",\"ticks\":\"\"}},\"ternary\":{\"bgcolor\":\"#E5ECF6\",\"aaxis\":{\"gridcolor\":\"white\",\"linecolor\":\"white\",\"ticks\":\"\"},\"baxis\":{\"gridcolor\":\"white\",\"linecolor\":\"white\",\"ticks\":\"\"},\"caxis\":{\"gridcolor\":\"white\",\"linecolor\":\"white\",\"ticks\":\"\"}},\"coloraxis\":{\"colorbar\":{\"outlinewidth\":0,\"ticks\":\"\"}},\"colorscale\":{\"sequential\":[[0.0,\"#0d0887\"],[0.1111111111111111,\"#46039f\"],[0.2222222222222222,\"#7201a8\"],[0.3333333333333333,\"#9c179e\"],[0.4444444444444444,\"#bd3786\"],[0.5555555555555556,\"#d8576b\"],[0.6666666666666666,\"#ed7953\"],[0.7777777777777778,\"#fb9f3a\"],[0.8888888888888888,\"#fdca26\"],[1.0,\"#f0f921\"]],\"sequentialminus\":[[0.0,\"#0d0887\"],[0.1111111111111111,\"#46039f\"],[0.2222222222222222,\"#7201a8\"],[0.3333333333333333,\"#9c179e\"],[0.4444444444444444,\"#bd3786\"],[0.5555555555555556,\"#d8576b\"],[0.6666666666666666,\"#ed7953\"],[0.7777777777777778,\"#fb9f3a\"],[0.8888888888888888,\"#fdca26\"],[1.0,\"#f0f921\"]],\"diverging\":[[0,\"#8e0152\"],[0.1,\"#c51b7d\"],[0.2,\"#de77ae\"],[0.3,\"#f1b6da\"],[0.4,\"#fde0ef\"],[0.5,\"#f7f7f7\"],[0.6,\"#e6f5d0\"],[0.7,\"#b8e186\"],[0.8,\"#7fbc41\"],[0.9,\"#4d9221\"],[1,\"#276419\"]]},\"xaxis\":{\"gridcolor\":\"white\",\"linecolor\":\"white\",\"ticks\":\"\",\"title\":{\"standoff\":15},\"zerolinecolor\":\"white\",\"automargin\":true,\"zerolinewidth\":2},\"yaxis\":{\"gridcolor\":\"white\",\"linecolor\":\"white\",\"ticks\":\"\",\"title\":{\"standoff\":15},\"zerolinecolor\":\"white\",\"automargin\":true,\"zerolinewidth\":2},\"scene\":{\"xaxis\":{\"backgroundcolor\":\"#E5ECF6\",\"gridcolor\":\"white\",\"linecolor\":\"white\",\"showbackground\":true,\"ticks\":\"\",\"zerolinecolor\":\"white\",\"gridwidth\":2},\"yaxis\":{\"backgroundcolor\":\"#E5ECF6\",\"gridcolor\":\"white\",\"linecolor\":\"white\",\"showbackground\":true,\"ticks\":\"\",\"zerolinecolor\":\"white\",\"gridwidth\":2},\"zaxis\":{\"backgroundcolor\":\"#E5ECF6\",\"gridcolor\":\"white\",\"linecolor\":\"white\",\"showbackground\":true,\"ticks\":\"\",\"zerolinecolor\":\"white\",\"gridwidth\":2}},\"shapedefaults\":{\"line\":{\"color\":\"#2a3f5f\"}},\"annotationdefaults\":{\"arrowcolor\":\"#2a3f5f\",\"arrowhead\":0,\"arrowwidth\":1},\"geo\":{\"bgcolor\":\"white\",\"landcolor\":\"#E5ECF6\",\"subunitcolor\":\"white\",\"showland\":true,\"showlakes\":true,\"lakecolor\":\"white\"},\"title\":{\"x\":0.05},\"mapbox\":{\"style\":\"light\"}}},\"xaxis\":{\"anchor\":\"y\",\"domain\":[0.0,1.0],\"title\":{\"text\":\"Topic\"}},\"yaxis\":{\"anchor\":\"x\",\"domain\":[0.0,1.0],\"title\":{\"text\":\"Documents\"}},\"legend\":{\"tracegroupgap\":0},\"title\":{\"text\":\"Document Distribution by Topics\"},\"barmode\":\"relative\"},                        {\"responsive\": true}                    ).then(function(){\n",
              "                            \n",
              "var gd = document.getElementById('607b1766-5419-4715-a20e-9657338f865c');\n",
              "var x = new MutationObserver(function (mutations, observer) {{\n",
              "        var display = window.getComputedStyle(gd).display;\n",
              "        if (!display || display === 'none') {{\n",
              "            console.log([gd, 'removed!']);\n",
              "            Plotly.purge(gd);\n",
              "            observer.disconnect();\n",
              "        }}\n",
              "}});\n",
              "\n",
              "// Listen for the removal of the full notebook cells\n",
              "var notebookContainer = gd.closest('#notebook-container');\n",
              "if (notebookContainer) {{\n",
              "    x.observe(notebookContainer, {childList: true});\n",
              "}}\n",
              "\n",
              "// Listen for the clearing of the current output cell\n",
              "var outputEl = gd.closest('.output');\n",
              "if (outputEl) {{\n",
              "    x.observe(outputEl, {childList: true});\n",
              "}}\n",
              "\n",
              "                        })                };                });            </script>        </div>"
            ]
          },
          "metadata": {},
          "output_type": "display_data"
        }
      ],
      "source": [
        "plot_model(nmf, plot = 'topic_distribution')"
      ]
    },
    {
      "cell_type": "markdown",
      "id": "e84315b0",
      "metadata": {
        "id": "e84315b0"
      },
      "source": [
        "### Frequency Distribution of Topic 1\n",
        "Based on our results above, it looks like majority of the documents are clustered into \"Topic 1\". Let's use the plot_model() function to view the top words under this topic."
      ]
    },
    {
      "cell_type": "code",
      "execution_count": null,
      "id": "8ce85991",
      "metadata": {
        "id": "8ce85991",
        "outputId": "abf15e1b-c52e-4f7f-f2a8-508d0f056849"
      },
      "outputs": [
        {
          "data": {
            "text/html": [
              "        <script type=\"text/javascript\">\n",
              "        window.PlotlyConfig = {MathJaxConfig: 'local'};\n",
              "        if (window.MathJax && window.MathJax.Hub && window.MathJax.Hub.Config) {window.MathJax.Hub.Config({SVG: {font: \"STIX-Web\"}});}\n",
              "        if (typeof require !== 'undefined') {\n",
              "        require.undef(\"plotly\");\n",
              "        requirejs.config({\n",
              "            paths: {\n",
              "                'plotly': ['https://cdn.plot.ly/plotly-2.18.2.min']\n",
              "            }\n",
              "        });\n",
              "        require(['plotly'], function(Plotly) {\n",
              "            window._Plotly = Plotly;\n",
              "        });\n",
              "        }\n",
              "        </script>\n",
              "        "
            ]
          },
          "metadata": {},
          "output_type": "display_data"
        },
        {
          "data": {
            "application/vnd.plotly.v1+json": {
              "config": {
                "linkText": "Export to plot.ly",
                "plotlyServerURL": "https://plot.ly",
                "showLink": true
              },
              "data": [
                {
                  "marker": {
                    "color": "rgba(255, 153, 51, 0.6)",
                    "line": {
                      "color": "rgba(255, 153, 51, 1.0)",
                      "width": 1
                    }
                  },
                  "name": "count",
                  "orientation": "v",
                  "text": "",
                  "type": "bar",
                  "x": [
                    "love",
                    "life",
                    "family",
                    "story",
                    "school",
                    "know",
                    "girl",
                    "find",
                    "make",
                    "new",
                    "friend",
                    "world",
                    "come",
                    "boy",
                    "time",
                    "even",
                    "first",
                    "way",
                    "people",
                    "go",
                    "get",
                    "book",
                    "want",
                    "year",
                    "thing",
                    "day",
                    "live",
                    "help",
                    "take",
                    "tell",
                    "never",
                    "child",
                    "young",
                    "may",
                    "good",
                    "novel",
                    "feel",
                    "become",
                    "see",
                    "author",
                    "mother",
                    "learn",
                    "parent",
                    "secret",
                    "change",
                    "ever",
                    "reader",
                    "high",
                    "meet",
                    "home",
                    "start",
                    "leave",
                    "look",
                    "must",
                    "work",
                    "face",
                    "begin",
                    "well",
                    "think",
                    "keep",
                    "fall",
                    "try",
                    "woman",
                    "turn",
                    "teen",
                    "always",
                    "grow",
                    "black",
                    "different",
                    "history",
                    "really",
                    "together",
                    "place",
                    "true",
                    "could",
                    "also",
                    "mean",
                    "heart",
                    "need",
                    "would",
                    "long",
                    "name",
                    "say",
                    "move",
                    "many",
                    "lose",
                    "back",
                    "kid",
                    "little",
                    "include",
                    "bring",
                    "dream",
                    "real",
                    "great",
                    "hard",
                    "call",
                    "right",
                    "old",
                    "student",
                    "man"
                  ],
                  "y": [
                    1163,
                    1157,
                    954,
                    856,
                    825,
                    821,
                    791,
                    723,
                    721,
                    702,
                    668,
                    611,
                    611,
                    585,
                    562,
                    557,
                    537,
                    536,
                    531,
                    526,
                    516,
                    508,
                    480,
                    461,
                    459,
                    447,
                    445,
                    435,
                    434,
                    410,
                    398,
                    384,
                    360,
                    355,
                    345,
                    345,
                    344,
                    342,
                    337,
                    336,
                    336,
                    335,
                    335,
                    330,
                    330,
                    327,
                    305,
                    304,
                    296,
                    289,
                    288,
                    285,
                    283,
                    282,
                    278,
                    272,
                    271,
                    269,
                    269,
                    268,
                    265,
                    262,
                    262,
                    259,
                    257,
                    256,
                    255,
                    254,
                    253,
                    251,
                    248,
                    248,
                    242,
                    241,
                    239,
                    237,
                    236,
                    233,
                    233,
                    232,
                    232,
                    228,
                    221,
                    221,
                    220,
                    220,
                    218,
                    214,
                    210,
                    209,
                    208,
                    207,
                    207,
                    205,
                    203,
                    202,
                    196,
                    196,
                    195,
                    194
                  ]
                }
              ],
              "layout": {
                "legend": {
                  "bgcolor": "#F5F6F9",
                  "font": {
                    "color": "#4D5663"
                  }
                },
                "paper_bgcolor": "#F5F6F9",
                "plot_bgcolor": "#F5F6F9",
                "template": {
                  "data": {
                    "bar": [
                      {
                        "error_x": {
                          "color": "#2a3f5f"
                        },
                        "error_y": {
                          "color": "#2a3f5f"
                        },
                        "marker": {
                          "line": {
                            "color": "#E5ECF6",
                            "width": 0.5
                          },
                          "pattern": {
                            "fillmode": "overlay",
                            "size": 10,
                            "solidity": 0.2
                          }
                        },
                        "type": "bar"
                      }
                    ],
                    "barpolar": [
                      {
                        "marker": {
                          "line": {
                            "color": "#E5ECF6",
                            "width": 0.5
                          },
                          "pattern": {
                            "fillmode": "overlay",
                            "size": 10,
                            "solidity": 0.2
                          }
                        },
                        "type": "barpolar"
                      }
                    ],
                    "carpet": [
                      {
                        "aaxis": {
                          "endlinecolor": "#2a3f5f",
                          "gridcolor": "white",
                          "linecolor": "white",
                          "minorgridcolor": "white",
                          "startlinecolor": "#2a3f5f"
                        },
                        "baxis": {
                          "endlinecolor": "#2a3f5f",
                          "gridcolor": "white",
                          "linecolor": "white",
                          "minorgridcolor": "white",
                          "startlinecolor": "#2a3f5f"
                        },
                        "type": "carpet"
                      }
                    ],
                    "choropleth": [
                      {
                        "colorbar": {
                          "outlinewidth": 0,
                          "ticks": ""
                        },
                        "type": "choropleth"
                      }
                    ],
                    "contour": [
                      {
                        "colorbar": {
                          "outlinewidth": 0,
                          "ticks": ""
                        },
                        "colorscale": [
                          [
                            0,
                            "#0d0887"
                          ],
                          [
                            0.1111111111111111,
                            "#46039f"
                          ],
                          [
                            0.2222222222222222,
                            "#7201a8"
                          ],
                          [
                            0.3333333333333333,
                            "#9c179e"
                          ],
                          [
                            0.4444444444444444,
                            "#bd3786"
                          ],
                          [
                            0.5555555555555556,
                            "#d8576b"
                          ],
                          [
                            0.6666666666666666,
                            "#ed7953"
                          ],
                          [
                            0.7777777777777778,
                            "#fb9f3a"
                          ],
                          [
                            0.8888888888888888,
                            "#fdca26"
                          ],
                          [
                            1,
                            "#f0f921"
                          ]
                        ],
                        "type": "contour"
                      }
                    ],
                    "contourcarpet": [
                      {
                        "colorbar": {
                          "outlinewidth": 0,
                          "ticks": ""
                        },
                        "type": "contourcarpet"
                      }
                    ],
                    "heatmap": [
                      {
                        "colorbar": {
                          "outlinewidth": 0,
                          "ticks": ""
                        },
                        "colorscale": [
                          [
                            0,
                            "#0d0887"
                          ],
                          [
                            0.1111111111111111,
                            "#46039f"
                          ],
                          [
                            0.2222222222222222,
                            "#7201a8"
                          ],
                          [
                            0.3333333333333333,
                            "#9c179e"
                          ],
                          [
                            0.4444444444444444,
                            "#bd3786"
                          ],
                          [
                            0.5555555555555556,
                            "#d8576b"
                          ],
                          [
                            0.6666666666666666,
                            "#ed7953"
                          ],
                          [
                            0.7777777777777778,
                            "#fb9f3a"
                          ],
                          [
                            0.8888888888888888,
                            "#fdca26"
                          ],
                          [
                            1,
                            "#f0f921"
                          ]
                        ],
                        "type": "heatmap"
                      }
                    ],
                    "heatmapgl": [
                      {
                        "colorbar": {
                          "outlinewidth": 0,
                          "ticks": ""
                        },
                        "colorscale": [
                          [
                            0,
                            "#0d0887"
                          ],
                          [
                            0.1111111111111111,
                            "#46039f"
                          ],
                          [
                            0.2222222222222222,
                            "#7201a8"
                          ],
                          [
                            0.3333333333333333,
                            "#9c179e"
                          ],
                          [
                            0.4444444444444444,
                            "#bd3786"
                          ],
                          [
                            0.5555555555555556,
                            "#d8576b"
                          ],
                          [
                            0.6666666666666666,
                            "#ed7953"
                          ],
                          [
                            0.7777777777777778,
                            "#fb9f3a"
                          ],
                          [
                            0.8888888888888888,
                            "#fdca26"
                          ],
                          [
                            1,
                            "#f0f921"
                          ]
                        ],
                        "type": "heatmapgl"
                      }
                    ],
                    "histogram": [
                      {
                        "marker": {
                          "pattern": {
                            "fillmode": "overlay",
                            "size": 10,
                            "solidity": 0.2
                          }
                        },
                        "type": "histogram"
                      }
                    ],
                    "histogram2d": [
                      {
                        "colorbar": {
                          "outlinewidth": 0,
                          "ticks": ""
                        },
                        "colorscale": [
                          [
                            0,
                            "#0d0887"
                          ],
                          [
                            0.1111111111111111,
                            "#46039f"
                          ],
                          [
                            0.2222222222222222,
                            "#7201a8"
                          ],
                          [
                            0.3333333333333333,
                            "#9c179e"
                          ],
                          [
                            0.4444444444444444,
                            "#bd3786"
                          ],
                          [
                            0.5555555555555556,
                            "#d8576b"
                          ],
                          [
                            0.6666666666666666,
                            "#ed7953"
                          ],
                          [
                            0.7777777777777778,
                            "#fb9f3a"
                          ],
                          [
                            0.8888888888888888,
                            "#fdca26"
                          ],
                          [
                            1,
                            "#f0f921"
                          ]
                        ],
                        "type": "histogram2d"
                      }
                    ],
                    "histogram2dcontour": [
                      {
                        "colorbar": {
                          "outlinewidth": 0,
                          "ticks": ""
                        },
                        "colorscale": [
                          [
                            0,
                            "#0d0887"
                          ],
                          [
                            0.1111111111111111,
                            "#46039f"
                          ],
                          [
                            0.2222222222222222,
                            "#7201a8"
                          ],
                          [
                            0.3333333333333333,
                            "#9c179e"
                          ],
                          [
                            0.4444444444444444,
                            "#bd3786"
                          ],
                          [
                            0.5555555555555556,
                            "#d8576b"
                          ],
                          [
                            0.6666666666666666,
                            "#ed7953"
                          ],
                          [
                            0.7777777777777778,
                            "#fb9f3a"
                          ],
                          [
                            0.8888888888888888,
                            "#fdca26"
                          ],
                          [
                            1,
                            "#f0f921"
                          ]
                        ],
                        "type": "histogram2dcontour"
                      }
                    ],
                    "mesh3d": [
                      {
                        "colorbar": {
                          "outlinewidth": 0,
                          "ticks": ""
                        },
                        "type": "mesh3d"
                      }
                    ],
                    "parcoords": [
                      {
                        "line": {
                          "colorbar": {
                            "outlinewidth": 0,
                            "ticks": ""
                          }
                        },
                        "type": "parcoords"
                      }
                    ],
                    "pie": [
                      {
                        "automargin": true,
                        "type": "pie"
                      }
                    ],
                    "scatter": [
                      {
                        "fillpattern": {
                          "fillmode": "overlay",
                          "size": 10,
                          "solidity": 0.2
                        },
                        "type": "scatter"
                      }
                    ],
                    "scatter3d": [
                      {
                        "line": {
                          "colorbar": {
                            "outlinewidth": 0,
                            "ticks": ""
                          }
                        },
                        "marker": {
                          "colorbar": {
                            "outlinewidth": 0,
                            "ticks": ""
                          }
                        },
                        "type": "scatter3d"
                      }
                    ],
                    "scattercarpet": [
                      {
                        "marker": {
                          "colorbar": {
                            "outlinewidth": 0,
                            "ticks": ""
                          }
                        },
                        "type": "scattercarpet"
                      }
                    ],
                    "scattergeo": [
                      {
                        "marker": {
                          "colorbar": {
                            "outlinewidth": 0,
                            "ticks": ""
                          }
                        },
                        "type": "scattergeo"
                      }
                    ],
                    "scattergl": [
                      {
                        "marker": {
                          "colorbar": {
                            "outlinewidth": 0,
                            "ticks": ""
                          }
                        },
                        "type": "scattergl"
                      }
                    ],
                    "scattermapbox": [
                      {
                        "marker": {
                          "colorbar": {
                            "outlinewidth": 0,
                            "ticks": ""
                          }
                        },
                        "type": "scattermapbox"
                      }
                    ],
                    "scatterpolar": [
                      {
                        "marker": {
                          "colorbar": {
                            "outlinewidth": 0,
                            "ticks": ""
                          }
                        },
                        "type": "scatterpolar"
                      }
                    ],
                    "scatterpolargl": [
                      {
                        "marker": {
                          "colorbar": {
                            "outlinewidth": 0,
                            "ticks": ""
                          }
                        },
                        "type": "scatterpolargl"
                      }
                    ],
                    "scatterternary": [
                      {
                        "marker": {
                          "colorbar": {
                            "outlinewidth": 0,
                            "ticks": ""
                          }
                        },
                        "type": "scatterternary"
                      }
                    ],
                    "surface": [
                      {
                        "colorbar": {
                          "outlinewidth": 0,
                          "ticks": ""
                        },
                        "colorscale": [
                          [
                            0,
                            "#0d0887"
                          ],
                          [
                            0.1111111111111111,
                            "#46039f"
                          ],
                          [
                            0.2222222222222222,
                            "#7201a8"
                          ],
                          [
                            0.3333333333333333,
                            "#9c179e"
                          ],
                          [
                            0.4444444444444444,
                            "#bd3786"
                          ],
                          [
                            0.5555555555555556,
                            "#d8576b"
                          ],
                          [
                            0.6666666666666666,
                            "#ed7953"
                          ],
                          [
                            0.7777777777777778,
                            "#fb9f3a"
                          ],
                          [
                            0.8888888888888888,
                            "#fdca26"
                          ],
                          [
                            1,
                            "#f0f921"
                          ]
                        ],
                        "type": "surface"
                      }
                    ],
                    "table": [
                      {
                        "cells": {
                          "fill": {
                            "color": "#EBF0F8"
                          },
                          "line": {
                            "color": "white"
                          }
                        },
                        "header": {
                          "fill": {
                            "color": "#C8D4E3"
                          },
                          "line": {
                            "color": "white"
                          }
                        },
                        "type": "table"
                      }
                    ]
                  },
                  "layout": {
                    "annotationdefaults": {
                      "arrowcolor": "#2a3f5f",
                      "arrowhead": 0,
                      "arrowwidth": 1
                    },
                    "autotypenumbers": "strict",
                    "coloraxis": {
                      "colorbar": {
                        "outlinewidth": 0,
                        "ticks": ""
                      }
                    },
                    "colorscale": {
                      "diverging": [
                        [
                          0,
                          "#8e0152"
                        ],
                        [
                          0.1,
                          "#c51b7d"
                        ],
                        [
                          0.2,
                          "#de77ae"
                        ],
                        [
                          0.3,
                          "#f1b6da"
                        ],
                        [
                          0.4,
                          "#fde0ef"
                        ],
                        [
                          0.5,
                          "#f7f7f7"
                        ],
                        [
                          0.6,
                          "#e6f5d0"
                        ],
                        [
                          0.7,
                          "#b8e186"
                        ],
                        [
                          0.8,
                          "#7fbc41"
                        ],
                        [
                          0.9,
                          "#4d9221"
                        ],
                        [
                          1,
                          "#276419"
                        ]
                      ],
                      "sequential": [
                        [
                          0,
                          "#0d0887"
                        ],
                        [
                          0.1111111111111111,
                          "#46039f"
                        ],
                        [
                          0.2222222222222222,
                          "#7201a8"
                        ],
                        [
                          0.3333333333333333,
                          "#9c179e"
                        ],
                        [
                          0.4444444444444444,
                          "#bd3786"
                        ],
                        [
                          0.5555555555555556,
                          "#d8576b"
                        ],
                        [
                          0.6666666666666666,
                          "#ed7953"
                        ],
                        [
                          0.7777777777777778,
                          "#fb9f3a"
                        ],
                        [
                          0.8888888888888888,
                          "#fdca26"
                        ],
                        [
                          1,
                          "#f0f921"
                        ]
                      ],
                      "sequentialminus": [
                        [
                          0,
                          "#0d0887"
                        ],
                        [
                          0.1111111111111111,
                          "#46039f"
                        ],
                        [
                          0.2222222222222222,
                          "#7201a8"
                        ],
                        [
                          0.3333333333333333,
                          "#9c179e"
                        ],
                        [
                          0.4444444444444444,
                          "#bd3786"
                        ],
                        [
                          0.5555555555555556,
                          "#d8576b"
                        ],
                        [
                          0.6666666666666666,
                          "#ed7953"
                        ],
                        [
                          0.7777777777777778,
                          "#fb9f3a"
                        ],
                        [
                          0.8888888888888888,
                          "#fdca26"
                        ],
                        [
                          1,
                          "#f0f921"
                        ]
                      ]
                    },
                    "colorway": [
                      "#636efa",
                      "#EF553B",
                      "#00cc96",
                      "#ab63fa",
                      "#FFA15A",
                      "#19d3f3",
                      "#FF6692",
                      "#B6E880",
                      "#FF97FF",
                      "#FECB52"
                    ],
                    "font": {
                      "color": "#2a3f5f"
                    },
                    "geo": {
                      "bgcolor": "white",
                      "lakecolor": "white",
                      "landcolor": "#E5ECF6",
                      "showlakes": true,
                      "showland": true,
                      "subunitcolor": "white"
                    },
                    "hoverlabel": {
                      "align": "left"
                    },
                    "hovermode": "closest",
                    "mapbox": {
                      "style": "light"
                    },
                    "paper_bgcolor": "white",
                    "plot_bgcolor": "#E5ECF6",
                    "polar": {
                      "angularaxis": {
                        "gridcolor": "white",
                        "linecolor": "white",
                        "ticks": ""
                      },
                      "bgcolor": "#E5ECF6",
                      "radialaxis": {
                        "gridcolor": "white",
                        "linecolor": "white",
                        "ticks": ""
                      }
                    },
                    "scene": {
                      "xaxis": {
                        "backgroundcolor": "#E5ECF6",
                        "gridcolor": "white",
                        "gridwidth": 2,
                        "linecolor": "white",
                        "showbackground": true,
                        "ticks": "",
                        "zerolinecolor": "white"
                      },
                      "yaxis": {
                        "backgroundcolor": "#E5ECF6",
                        "gridcolor": "white",
                        "gridwidth": 2,
                        "linecolor": "white",
                        "showbackground": true,
                        "ticks": "",
                        "zerolinecolor": "white"
                      },
                      "zaxis": {
                        "backgroundcolor": "#E5ECF6",
                        "gridcolor": "white",
                        "gridwidth": 2,
                        "linecolor": "white",
                        "showbackground": true,
                        "ticks": "",
                        "zerolinecolor": "white"
                      }
                    },
                    "shapedefaults": {
                      "line": {
                        "color": "#2a3f5f"
                      }
                    },
                    "ternary": {
                      "aaxis": {
                        "gridcolor": "white",
                        "linecolor": "white",
                        "ticks": ""
                      },
                      "baxis": {
                        "gridcolor": "white",
                        "linecolor": "white",
                        "ticks": ""
                      },
                      "bgcolor": "#E5ECF6",
                      "caxis": {
                        "gridcolor": "white",
                        "linecolor": "white",
                        "ticks": ""
                      }
                    },
                    "title": {
                      "x": 0.05
                    },
                    "xaxis": {
                      "automargin": true,
                      "gridcolor": "white",
                      "linecolor": "white",
                      "ticks": "",
                      "title": {
                        "standoff": 15
                      },
                      "zerolinecolor": "white",
                      "zerolinewidth": 2
                    },
                    "yaxis": {
                      "automargin": true,
                      "gridcolor": "white",
                      "linecolor": "white",
                      "ticks": "",
                      "title": {
                        "standoff": 15
                      },
                      "zerolinecolor": "white",
                      "zerolinewidth": 2
                    }
                  }
                },
                "title": {
                  "font": {
                    "color": "#4D5663"
                  },
                  "text": "Topic 1: Top 100 words after removing stop words"
                },
                "xaxis": {
                  "gridcolor": "#E1E5ED",
                  "linecolor": "black",
                  "showgrid": true,
                  "tickfont": {
                    "color": "#4D5663"
                  },
                  "title": {
                    "font": {
                      "color": "#4D5663"
                    },
                    "text": ""
                  },
                  "zerolinecolor": "#E1E5ED"
                },
                "yaxis": {
                  "gridcolor": "#E1E5ED",
                  "linecolor": "black",
                  "showgrid": true,
                  "tickfont": {
                    "color": "#4D5663"
                  },
                  "title": {
                    "font": {
                      "color": "#4D5663"
                    },
                    "text": "Count"
                  },
                  "zerolinecolor": "#E1E5ED"
                }
              }
            },
            "text/html": [
              "<div>                            <div id=\"86dfb9fe-f7d4-4b89-bf12-0ddc45edda1f\" class=\"plotly-graph-div\" style=\"height:525px; width:100%;\"></div>            <script type=\"text/javascript\">                require([\"plotly\"], function(Plotly) {                    window.PLOTLYENV=window.PLOTLYENV || {};\n",
              "                    window.PLOTLYENV.BASE_URL='https://plot.ly';                                    if (document.getElementById(\"86dfb9fe-f7d4-4b89-bf12-0ddc45edda1f\")) {                    Plotly.newPlot(                        \"86dfb9fe-f7d4-4b89-bf12-0ddc45edda1f\",                        [{\"marker\":{\"color\":\"rgba(255, 153, 51, 0.6)\",\"line\":{\"color\":\"rgba(255, 153, 51, 1.0)\",\"width\":1}},\"name\":\"count\",\"orientation\":\"v\",\"text\":\"\",\"x\":[\"love\",\"life\",\"family\",\"story\",\"school\",\"know\",\"girl\",\"find\",\"make\",\"new\",\"friend\",\"world\",\"come\",\"boy\",\"time\",\"even\",\"first\",\"way\",\"people\",\"go\",\"get\",\"book\",\"want\",\"year\",\"thing\",\"day\",\"live\",\"help\",\"take\",\"tell\",\"never\",\"child\",\"young\",\"may\",\"good\",\"novel\",\"feel\",\"become\",\"see\",\"author\",\"mother\",\"learn\",\"parent\",\"secret\",\"change\",\"ever\",\"reader\",\"high\",\"meet\",\"home\",\"start\",\"leave\",\"look\",\"must\",\"work\",\"face\",\"begin\",\"well\",\"think\",\"keep\",\"fall\",\"try\",\"woman\",\"turn\",\"teen\",\"always\",\"grow\",\"black\",\"different\",\"history\",\"really\",\"together\",\"place\",\"true\",\"could\",\"also\",\"mean\",\"heart\",\"need\",\"would\",\"long\",\"name\",\"say\",\"move\",\"many\",\"lose\",\"back\",\"kid\",\"little\",\"include\",\"bring\",\"dream\",\"real\",\"great\",\"hard\",\"call\",\"right\",\"old\",\"student\",\"man\"],\"y\":[1163,1157,954,856,825,821,791,723,721,702,668,611,611,585,562,557,537,536,531,526,516,508,480,461,459,447,445,435,434,410,398,384,360,355,345,345,344,342,337,336,336,335,335,330,330,327,305,304,296,289,288,285,283,282,278,272,271,269,269,268,265,262,262,259,257,256,255,254,253,251,248,248,242,241,239,237,236,233,233,232,232,228,221,221,220,220,218,214,210,209,208,207,207,205,203,202,196,196,195,194],\"type\":\"bar\"}],                        {\"legend\":{\"bgcolor\":\"#F5F6F9\",\"font\":{\"color\":\"#4D5663\"}},\"paper_bgcolor\":\"#F5F6F9\",\"plot_bgcolor\":\"#F5F6F9\",\"template\":{\"data\":{\"barpolar\":[{\"marker\":{\"line\":{\"color\":\"#E5ECF6\",\"width\":0.5},\"pattern\":{\"fillmode\":\"overlay\",\"size\":10,\"solidity\":0.2}},\"type\":\"barpolar\"}],\"bar\":[{\"error_x\":{\"color\":\"#2a3f5f\"},\"error_y\":{\"color\":\"#2a3f5f\"},\"marker\":{\"line\":{\"color\":\"#E5ECF6\",\"width\":0.5},\"pattern\":{\"fillmode\":\"overlay\",\"size\":10,\"solidity\":0.2}},\"type\":\"bar\"}],\"carpet\":[{\"aaxis\":{\"endlinecolor\":\"#2a3f5f\",\"gridcolor\":\"white\",\"linecolor\":\"white\",\"minorgridcolor\":\"white\",\"startlinecolor\":\"#2a3f5f\"},\"baxis\":{\"endlinecolor\":\"#2a3f5f\",\"gridcolor\":\"white\",\"linecolor\":\"white\",\"minorgridcolor\":\"white\",\"startlinecolor\":\"#2a3f5f\"},\"type\":\"carpet\"}],\"choropleth\":[{\"colorbar\":{\"outlinewidth\":0,\"ticks\":\"\"},\"type\":\"choropleth\"}],\"contourcarpet\":[{\"colorbar\":{\"outlinewidth\":0,\"ticks\":\"\"},\"type\":\"contourcarpet\"}],\"contour\":[{\"colorbar\":{\"outlinewidth\":0,\"ticks\":\"\"},\"colorscale\":[[0.0,\"#0d0887\"],[0.1111111111111111,\"#46039f\"],[0.2222222222222222,\"#7201a8\"],[0.3333333333333333,\"#9c179e\"],[0.4444444444444444,\"#bd3786\"],[0.5555555555555556,\"#d8576b\"],[0.6666666666666666,\"#ed7953\"],[0.7777777777777778,\"#fb9f3a\"],[0.8888888888888888,\"#fdca26\"],[1.0,\"#f0f921\"]],\"type\":\"contour\"}],\"heatmapgl\":[{\"colorbar\":{\"outlinewidth\":0,\"ticks\":\"\"},\"colorscale\":[[0.0,\"#0d0887\"],[0.1111111111111111,\"#46039f\"],[0.2222222222222222,\"#7201a8\"],[0.3333333333333333,\"#9c179e\"],[0.4444444444444444,\"#bd3786\"],[0.5555555555555556,\"#d8576b\"],[0.6666666666666666,\"#ed7953\"],[0.7777777777777778,\"#fb9f3a\"],[0.8888888888888888,\"#fdca26\"],[1.0,\"#f0f921\"]],\"type\":\"heatmapgl\"}],\"heatmap\":[{\"colorbar\":{\"outlinewidth\":0,\"ticks\":\"\"},\"colorscale\":[[0.0,\"#0d0887\"],[0.1111111111111111,\"#46039f\"],[0.2222222222222222,\"#7201a8\"],[0.3333333333333333,\"#9c179e\"],[0.4444444444444444,\"#bd3786\"],[0.5555555555555556,\"#d8576b\"],[0.6666666666666666,\"#ed7953\"],[0.7777777777777778,\"#fb9f3a\"],[0.8888888888888888,\"#fdca26\"],[1.0,\"#f0f921\"]],\"type\":\"heatmap\"}],\"histogram2dcontour\":[{\"colorbar\":{\"outlinewidth\":0,\"ticks\":\"\"},\"colorscale\":[[0.0,\"#0d0887\"],[0.1111111111111111,\"#46039f\"],[0.2222222222222222,\"#7201a8\"],[0.3333333333333333,\"#9c179e\"],[0.4444444444444444,\"#bd3786\"],[0.5555555555555556,\"#d8576b\"],[0.6666666666666666,\"#ed7953\"],[0.7777777777777778,\"#fb9f3a\"],[0.8888888888888888,\"#fdca26\"],[1.0,\"#f0f921\"]],\"type\":\"histogram2dcontour\"}],\"histogram2d\":[{\"colorbar\":{\"outlinewidth\":0,\"ticks\":\"\"},\"colorscale\":[[0.0,\"#0d0887\"],[0.1111111111111111,\"#46039f\"],[0.2222222222222222,\"#7201a8\"],[0.3333333333333333,\"#9c179e\"],[0.4444444444444444,\"#bd3786\"],[0.5555555555555556,\"#d8576b\"],[0.6666666666666666,\"#ed7953\"],[0.7777777777777778,\"#fb9f3a\"],[0.8888888888888888,\"#fdca26\"],[1.0,\"#f0f921\"]],\"type\":\"histogram2d\"}],\"histogram\":[{\"marker\":{\"pattern\":{\"fillmode\":\"overlay\",\"size\":10,\"solidity\":0.2}},\"type\":\"histogram\"}],\"mesh3d\":[{\"colorbar\":{\"outlinewidth\":0,\"ticks\":\"\"},\"type\":\"mesh3d\"}],\"parcoords\":[{\"line\":{\"colorbar\":{\"outlinewidth\":0,\"ticks\":\"\"}},\"type\":\"parcoords\"}],\"pie\":[{\"automargin\":true,\"type\":\"pie\"}],\"scatter3d\":[{\"line\":{\"colorbar\":{\"outlinewidth\":0,\"ticks\":\"\"}},\"marker\":{\"colorbar\":{\"outlinewidth\":0,\"ticks\":\"\"}},\"type\":\"scatter3d\"}],\"scattercarpet\":[{\"marker\":{\"colorbar\":{\"outlinewidth\":0,\"ticks\":\"\"}},\"type\":\"scattercarpet\"}],\"scattergeo\":[{\"marker\":{\"colorbar\":{\"outlinewidth\":0,\"ticks\":\"\"}},\"type\":\"scattergeo\"}],\"scattergl\":[{\"marker\":{\"colorbar\":{\"outlinewidth\":0,\"ticks\":\"\"}},\"type\":\"scattergl\"}],\"scattermapbox\":[{\"marker\":{\"colorbar\":{\"outlinewidth\":0,\"ticks\":\"\"}},\"type\":\"scattermapbox\"}],\"scatterpolargl\":[{\"marker\":{\"colorbar\":{\"outlinewidth\":0,\"ticks\":\"\"}},\"type\":\"scatterpolargl\"}],\"scatterpolar\":[{\"marker\":{\"colorbar\":{\"outlinewidth\":0,\"ticks\":\"\"}},\"type\":\"scatterpolar\"}],\"scatter\":[{\"fillpattern\":{\"fillmode\":\"overlay\",\"size\":10,\"solidity\":0.2},\"type\":\"scatter\"}],\"scatterternary\":[{\"marker\":{\"colorbar\":{\"outlinewidth\":0,\"ticks\":\"\"}},\"type\":\"scatterternary\"}],\"surface\":[{\"colorbar\":{\"outlinewidth\":0,\"ticks\":\"\"},\"colorscale\":[[0.0,\"#0d0887\"],[0.1111111111111111,\"#46039f\"],[0.2222222222222222,\"#7201a8\"],[0.3333333333333333,\"#9c179e\"],[0.4444444444444444,\"#bd3786\"],[0.5555555555555556,\"#d8576b\"],[0.6666666666666666,\"#ed7953\"],[0.7777777777777778,\"#fb9f3a\"],[0.8888888888888888,\"#fdca26\"],[1.0,\"#f0f921\"]],\"type\":\"surface\"}],\"table\":[{\"cells\":{\"fill\":{\"color\":\"#EBF0F8\"},\"line\":{\"color\":\"white\"}},\"header\":{\"fill\":{\"color\":\"#C8D4E3\"},\"line\":{\"color\":\"white\"}},\"type\":\"table\"}]},\"layout\":{\"annotationdefaults\":{\"arrowcolor\":\"#2a3f5f\",\"arrowhead\":0,\"arrowwidth\":1},\"autotypenumbers\":\"strict\",\"coloraxis\":{\"colorbar\":{\"outlinewidth\":0,\"ticks\":\"\"}},\"colorscale\":{\"diverging\":[[0,\"#8e0152\"],[0.1,\"#c51b7d\"],[0.2,\"#de77ae\"],[0.3,\"#f1b6da\"],[0.4,\"#fde0ef\"],[0.5,\"#f7f7f7\"],[0.6,\"#e6f5d0\"],[0.7,\"#b8e186\"],[0.8,\"#7fbc41\"],[0.9,\"#4d9221\"],[1,\"#276419\"]],\"sequential\":[[0.0,\"#0d0887\"],[0.1111111111111111,\"#46039f\"],[0.2222222222222222,\"#7201a8\"],[0.3333333333333333,\"#9c179e\"],[0.4444444444444444,\"#bd3786\"],[0.5555555555555556,\"#d8576b\"],[0.6666666666666666,\"#ed7953\"],[0.7777777777777778,\"#fb9f3a\"],[0.8888888888888888,\"#fdca26\"],[1.0,\"#f0f921\"]],\"sequentialminus\":[[0.0,\"#0d0887\"],[0.1111111111111111,\"#46039f\"],[0.2222222222222222,\"#7201a8\"],[0.3333333333333333,\"#9c179e\"],[0.4444444444444444,\"#bd3786\"],[0.5555555555555556,\"#d8576b\"],[0.6666666666666666,\"#ed7953\"],[0.7777777777777778,\"#fb9f3a\"],[0.8888888888888888,\"#fdca26\"],[1.0,\"#f0f921\"]]},\"colorway\":[\"#636efa\",\"#EF553B\",\"#00cc96\",\"#ab63fa\",\"#FFA15A\",\"#19d3f3\",\"#FF6692\",\"#B6E880\",\"#FF97FF\",\"#FECB52\"],\"font\":{\"color\":\"#2a3f5f\"},\"geo\":{\"bgcolor\":\"white\",\"lakecolor\":\"white\",\"landcolor\":\"#E5ECF6\",\"showlakes\":true,\"showland\":true,\"subunitcolor\":\"white\"},\"hoverlabel\":{\"align\":\"left\"},\"hovermode\":\"closest\",\"mapbox\":{\"style\":\"light\"},\"paper_bgcolor\":\"white\",\"plot_bgcolor\":\"#E5ECF6\",\"polar\":{\"angularaxis\":{\"gridcolor\":\"white\",\"linecolor\":\"white\",\"ticks\":\"\"},\"bgcolor\":\"#E5ECF6\",\"radialaxis\":{\"gridcolor\":\"white\",\"linecolor\":\"white\",\"ticks\":\"\"}},\"scene\":{\"xaxis\":{\"backgroundcolor\":\"#E5ECF6\",\"gridcolor\":\"white\",\"gridwidth\":2,\"linecolor\":\"white\",\"showbackground\":true,\"ticks\":\"\",\"zerolinecolor\":\"white\"},\"yaxis\":{\"backgroundcolor\":\"#E5ECF6\",\"gridcolor\":\"white\",\"gridwidth\":2,\"linecolor\":\"white\",\"showbackground\":true,\"ticks\":\"\",\"zerolinecolor\":\"white\"},\"zaxis\":{\"backgroundcolor\":\"#E5ECF6\",\"gridcolor\":\"white\",\"gridwidth\":2,\"linecolor\":\"white\",\"showbackground\":true,\"ticks\":\"\",\"zerolinecolor\":\"white\"}},\"shapedefaults\":{\"line\":{\"color\":\"#2a3f5f\"}},\"ternary\":{\"aaxis\":{\"gridcolor\":\"white\",\"linecolor\":\"white\",\"ticks\":\"\"},\"baxis\":{\"gridcolor\":\"white\",\"linecolor\":\"white\",\"ticks\":\"\"},\"bgcolor\":\"#E5ECF6\",\"caxis\":{\"gridcolor\":\"white\",\"linecolor\":\"white\",\"ticks\":\"\"}},\"title\":{\"x\":0.05},\"xaxis\":{\"automargin\":true,\"gridcolor\":\"white\",\"linecolor\":\"white\",\"ticks\":\"\",\"title\":{\"standoff\":15},\"zerolinecolor\":\"white\",\"zerolinewidth\":2},\"yaxis\":{\"automargin\":true,\"gridcolor\":\"white\",\"linecolor\":\"white\",\"ticks\":\"\",\"title\":{\"standoff\":15},\"zerolinecolor\":\"white\",\"zerolinewidth\":2}}},\"title\":{\"font\":{\"color\":\"#4D5663\"},\"text\":\"Topic 1: Top 100 words after removing stop words\"},\"xaxis\":{\"gridcolor\":\"#E1E5ED\",\"linecolor\":\"black\",\"showgrid\":true,\"tickfont\":{\"color\":\"#4D5663\"},\"title\":{\"font\":{\"color\":\"#4D5663\"},\"text\":\"\"},\"zerolinecolor\":\"#E1E5ED\"},\"yaxis\":{\"gridcolor\":\"#E1E5ED\",\"linecolor\":\"black\",\"showgrid\":true,\"tickfont\":{\"color\":\"#4D5663\"},\"title\":{\"font\":{\"color\":\"#4D5663\"},\"text\":\"Count\"},\"zerolinecolor\":\"#E1E5ED\"}},                        {\"showLink\": true, \"linkText\": \"Export to plot.ly\", \"plotlyServerURL\": \"https://plot.ly\", \"responsive\": true}                    ).then(function(){\n",
              "                            \n",
              "var gd = document.getElementById('86dfb9fe-f7d4-4b89-bf12-0ddc45edda1f');\n",
              "var x = new MutationObserver(function (mutations, observer) {{\n",
              "        var display = window.getComputedStyle(gd).display;\n",
              "        if (!display || display === 'none') {{\n",
              "            console.log([gd, 'removed!']);\n",
              "            Plotly.purge(gd);\n",
              "            observer.disconnect();\n",
              "        }}\n",
              "}});\n",
              "\n",
              "// Listen for the removal of the full notebook cells\n",
              "var notebookContainer = gd.closest('#notebook-container');\n",
              "if (notebookContainer) {{\n",
              "    x.observe(notebookContainer, {childList: true});\n",
              "}}\n",
              "\n",
              "// Listen for the clearing of the current output cell\n",
              "var outputEl = gd.closest('.output');\n",
              "if (outputEl) {{\n",
              "    x.observe(outputEl, {childList: true});\n",
              "}}\n",
              "\n",
              "                        })                };                });            </script>        </div>"
            ]
          },
          "metadata": {},
          "output_type": "display_data"
        }
      ],
      "source": [
        "plot_model(nmf, plot = 'frequency', topic_num = 'Topic 1')"
      ]
    },
    {
      "cell_type": "markdown",
      "id": "1c0bef63",
      "metadata": {
        "id": "1c0bef63"
      },
      "source": [
        "### T-distributed Stochastic Neighbor Embedding (t-SNE)"
      ]
    },
    {
      "cell_type": "code",
      "execution_count": null,
      "id": "042f92be",
      "metadata": {
        "id": "042f92be",
        "outputId": "de20eb5b-4e98-4dec-a37f-c864f80e8225"
      },
      "outputs": [
        {
          "data": {
            "text/html": [
              "        <script type=\"text/javascript\">\n",
              "        window.PlotlyConfig = {MathJaxConfig: 'local'};\n",
              "        if (window.MathJax && window.MathJax.Hub && window.MathJax.Hub.Config) {window.MathJax.Hub.Config({SVG: {font: \"STIX-Web\"}});}\n",
              "        if (typeof require !== 'undefined') {\n",
              "        require.undef(\"plotly\");\n",
              "        requirejs.config({\n",
              "            paths: {\n",
              "                'plotly': ['https://cdn.plot.ly/plotly-2.18.2.min']\n",
              "            }\n",
              "        });\n",
              "        require(['plotly'], function(Plotly) {\n",
              "            window._Plotly = Plotly;\n",
              "        });\n",
              "        }\n",
              "        </script>\n",
              "        "
            ]
          },
          "metadata": {},
          "output_type": "display_data"
        },
        {
          "data": {
            "application/vnd.plotly.v1+json": {
              "config": {
                "plotlyServerURL": "https://plot.ly"
              },
              "data": [
                {
                  "hovertemplate": "Dominant_Topic=Topic 0<br>0=%{x}<br>1=%{y}<br>2=%{z}<extra></extra>",
                  "legendgroup": "Topic 0",
                  "marker": {
                    "color": "#636efa",
                    "opacity": 0.7,
                    "symbol": "circle"
                  },
                  "mode": "markers",
                  "name": "Topic 0",
                  "scene": "scene",
                  "showlegend": true,
                  "type": "scatter3d",
                  "x": [
                    2.9069769382476807,
                    3.7629785537719727,
                    3.7523179054260254,
                    3.5729386806488037,
                    2.7619290351867676,
                    3.3542628288269043,
                    4.092728137969971,
                    3.1938540935516357,
                    2.4387786388397217,
                    2.888834238052368,
                    2.9393723011016846,
                    3.357332706451416,
                    3.8332786560058594,
                    3.8515913486480713,
                    3.0074281692504883,
                    2.269411563873291,
                    2.885915994644165,
                    3.8970718383789062,
                    2.9569737911224365,
                    3.510753870010376,
                    2.5830304622650146,
                    4.104394912719727,
                    3.548374652862549,
                    1.956728219985962,
                    1.8728686571121216,
                    2.348222017288208,
                    2.072566032409668,
                    3.114086389541626,
                    2.4644949436187744,
                    3.079547882080078,
                    2.281708002090454,
                    2.3628077507019043,
                    3.169375419616699,
                    3.030494451522827,
                    2.681408643722534,
                    2.240058660507202,
                    3.028128147125244,
                    3.7217187881469727,
                    1.9631768465042114,
                    4.022449970245361,
                    2.033501148223877
                  ],
                  "y": [
                    -23.76656150817871,
                    -22.47794532775879,
                    -22.170988082885742,
                    -22.80289649963379,
                    -23.113534927368164,
                    -23.502910614013672,
                    -22.24761390686035,
                    -22.348726272583008,
                    -22.236337661743164,
                    -23.319217681884766,
                    -22.48008155822754,
                    -23.069454193115234,
                    -21.914583206176758,
                    -23.168148040771484,
                    -22.798654556274414,
                    -23.18036651611328,
                    -21.5767765045166,
                    -23.277347564697266,
                    -21.56338119506836,
                    -21.50775718688965,
                    -22.42205810546875,
                    -22.680343627929688,
                    -23.587284088134766,
                    -23.142608642578125,
                    -22.574771881103516,
                    -23.42146110534668,
                    -21.921987533569336,
                    -23.58403968811035,
                    -23.597089767456055,
                    -22.508644104003906,
                    -21.981115341186523,
                    -22.901317596435547,
                    -21.77079963684082,
                    -22.61760902404785,
                    -21.478473663330078,
                    -21.78236198425293,
                    -21.94744300842285,
                    -21.792524337768555,
                    -22.435653686523438,
                    -22.80030632019043,
                    -22.65052032470703
                  ],
                  "z": [
                    -0.6227049827575684,
                    -1.647826910018921,
                    0.07874932140111923,
                    0.2804447412490845,
                    -1.7739843130111694,
                    -0.05901075154542923,
                    -0.6826938390731812,
                    -1.7863590717315674,
                    0.20116984844207764,
                    0.15953737497329712,
                    -0.894302487373352,
                    -1.7370880842208862,
                    -1.2285535335540771,
                    -1.309200644493103,
                    -0.677643895149231,
                    -1.395771861076355,
                    -1.2195758819580078,
                    -0.48716428875923157,
                    -0.17273734509944916,
                    -0.7620204091072083,
                    -1.8481663465499878,
                    -1.0394463539123535,
                    -0.8417930006980896,
                    -0.5751057863235474,
                    -0.8094345927238464,
                    -0.2732027769088745,
                    -0.8980700373649597,
                    -1.332661747932434,
                    -1.0192077159881592,
                    -0.5553742051124573,
                    -1.4692133665084839,
                    0.19027695059776306,
                    -1.5909076929092407,
                    0.4319605231285095,
                    -0.7349061965942383,
                    -0.30652257800102234,
                    0.25371426343917847,
                    -0.32976338267326355,
                    -0.19742818176746368,
                    -0.23999078571796417,
                    -1.3733623027801514
                  ]
                },
                {
                  "hovertemplate": "Dominant_Topic=Topic 1<br>0=%{x}<br>1=%{y}<br>2=%{z}<extra></extra>",
                  "legendgroup": "Topic 1",
                  "marker": {
                    "color": "#EF553B",
                    "opacity": 0.7,
                    "symbol": "circle"
                  },
                  "mode": "markers",
                  "name": "Topic 1",
                  "scene": "scene",
                  "showlegend": true,
                  "type": "scatter3d",
                  "x": [
                    -0.4300519824028015,
                    -0.24831001460552216,
                    -0.4831247925758362,
                    0.4709084928035736,
                    0.6954436302185059,
                    -0.14092205464839935,
                    6.859241485595703,
                    -13.04076862335205,
                    -5.050593852996826,
                    -2.247702121734619,
                    0.5670197606086731,
                    6.859241008758545,
                    1.6122043132781982,
                    0.16009879112243652,
                    -0.7647525668144226,
                    0.4436367452144623,
                    6.6343607902526855,
                    7.561701774597168,
                    0.25983428955078125,
                    -0.5561059713363647,
                    2.28463077545166,
                    -4.643978118896484,
                    -0.6097548007965088,
                    -0.7647525668144226,
                    -0.6097548007965088,
                    -12.940448760986328,
                    -12.940448760986328,
                    12.212600708007812,
                    12.453428268432617,
                    -12.379029273986816,
                    0.7089157104492188,
                    -10.970531463623047,
                    -7.995904445648193,
                    14.638044357299805,
                    13.50131893157959,
                    -6.186247825622559,
                    -6.186247825622559,
                    -13.102696418762207,
                    -13.102721214294434,
                    -13.102696418762207,
                    -13.102696418762207,
                    -6.186247825622559,
                    8.282712936401367,
                    -13.13994026184082,
                    13.557562828063965,
                    -10.064599990844727,
                    2.868215322494507,
                    4.477639675140381,
                    0.8217107653617859,
                    -9.773146629333496,
                    2.2990024089813232,
                    -6.186247825622559,
                    -6.186247825622559,
                    -11.482796669006348,
                    2.037228584289551,
                    -11.241599082946777,
                    2.2140941619873047,
                    -9.284610748291016,
                    -4.270679473876953,
                    -0.7647525668144226,
                    -5.327843189239502,
                    1.3774629831314087,
                    1.1243425607681274,
                    -15.123720169067383,
                    9.861396789550781,
                    9.861397743225098,
                    9.861403465270996,
                    1.3770766258239746,
                    -0.4066820740699768,
                    12.379873275756836,
                    -9.464859008789062,
                    -12.38544750213623,
                    -2.655689001083374,
                    -12.239433288574219,
                    -6.094301700592041,
                    -6.094278812408447,
                    -13.662283897399902,
                    -8.096960067749023,
                    -1.3072466850280762,
                    -6.988110065460205,
                    -11.213151931762695,
                    9.192741394042969,
                    10.583257675170898,
                    0.7375353574752808,
                    8.7366943359375,
                    8.209189414978027,
                    5.40676212310791,
                    -12.991991996765137,
                    -13.887432098388672,
                    -12.523656845092773,
                    -11.963118553161621,
                    -14.702493667602539,
                    -9.852144241333008,
                    -9.852144241333008,
                    11.09423828125,
                    -12.818522453308105,
                    9.175623893737793,
                    -8.415465354919434,
                    -8.415513038635254,
                    -15.419082641601562,
                    6.788229942321777,
                    6.789236068725586,
                    9.175623893737793,
                    8.961848258972168,
                    14.36584758758545,
                    14.36584758758545,
                    8.70738697052002,
                    -2.4539308547973633,
                    -9.550593376159668,
                    11.712392807006836,
                    11.713071823120117,
                    -7.126685619354248,
                    6.01480770111084,
                    6.014778137207031,
                    14.210442543029785,
                    -12.66352367401123,
                    3.6455869674682617,
                    0.898368239402771,
                    -7.6532511711120605,
                    9.489911079406738,
                    5.135832786560059,
                    2.8898301124572754,
                    7.476880073547363,
                    -8.667606353759766,
                    4.332946300506592,
                    9.57790756225586,
                    7.220671653747559,
                    12.001835823059082,
                    13.292431831359863,
                    14.36584758758545,
                    9.536974906921387,
                    10.629446983337402,
                    11.262124061584473,
                    4.594369411468506,
                    7.223812103271484,
                    -11.005005836486816,
                    14.684329986572266,
                    9.795694351196289,
                    12.990401268005371,
                    0.37887483835220337,
                    -0.7168575525283813,
                    -14.162676811218262,
                    -14.162676811218262,
                    -14.16254711151123,
                    -12.951672554016113,
                    -7.405889511108398,
                    11.426048278808594,
                    -17.35057258605957,
                    -7.844318389892578,
                    14.317789077758789,
                    13.065701484680176,
                    -10.170073509216309,
                    -10.170071601867676,
                    -10.170071601867676,
                    7.387997150421143,
                    7.3881120681762695,
                    2.4316036701202393,
                    8.98922061920166,
                    5.224132061004639,
                    -3.11933970451355,
                    0.8641387224197388,
                    -7.060086250305176,
                    12.422983169555664,
                    12.422883033752441,
                    4.616726875305176,
                    -2.201115131378174,
                    8.341264724731445,
                    8.341264724731445,
                    2.239473581314087,
                    -1.4460468292236328,
                    11.943446159362793,
                    6.153548240661621,
                    -11.28659439086914,
                    4.405256271362305,
                    0.837485671043396,
                    -13.938898086547852,
                    4.064685821533203,
                    13.571556091308594,
                    8.70302677154541,
                    8.702963829040527,
                    6.631954193115234,
                    10.999600410461426,
                    0.011718184687197208,
                    -4.300669193267822,
                    14.695268630981445,
                    10.93029499053955,
                    7.510900020599365,
                    8.954132080078125,
                    14.034095764160156,
                    14.03406810760498,
                    14.03406810760498,
                    14.034067153930664,
                    14.034050941467285,
                    -13.938898086547852,
                    -14.688995361328125,
                    -14.688732147216797,
                    13.786072731018066,
                    2.591217279434204,
                    2.590977430343628,
                    6.387668609619141,
                    -16.014278411865234,
                    4.900874614715576,
                    4.900875091552734,
                    14.034037590026855,
                    14.033011436462402,
                    14.034079551696777,
                    14.03306770324707,
                    3.775210380554199,
                    4.405256271362305,
                    14.325757026672363,
                    -9.578516960144043,
                    4.641152381896973,
                    -2.4317007064819336,
                    5.909989833831787,
                    -6.883451461791992,
                    -0.5331993699073792,
                    -10.796774864196777,
                    4.695790767669678,
                    -2.8517980575561523,
                    -6.364216327667236,
                    -6.364216327667236,
                    -8.041025161743164,
                    10.490313529968262,
                    -7.442806720733643,
                    1.999191403388977,
                    -12.119295120239258,
                    -12.119295120239258,
                    -12.119295120239258,
                    -14.575370788574219,
                    -7.617710590362549,
                    -7.617706298828125,
                    -7.617706298828125,
                    -4.273091793060303,
                    1.0579373836517334,
                    4.641158103942871,
                    7.392845153808594,
                    1.56791090965271,
                    2.6614267826080322,
                    -11.705754280090332,
                    0.5363156199455261,
                    8.428515434265137,
                    -8.593255043029785,
                    -8.59306812286377,
                    -2.3043158054351807,
                    11.799751281738281,
                    11.799751281738281,
                    1.9758003950119019,
                    -6.530241012573242,
                    -6.530241012573242,
                    0.9442113637924194,
                    -0.030780192464590073,
                    14.162707328796387,
                    1.9758518934249878,
                    -0.8862111568450928,
                    11.689181327819824,
                    -2.1060051918029785,
                    0.600812554359436,
                    -14.143993377685547,
                    10.274781227111816,
                    -10.410676956176758,
                    -0.706977128982544,
                    12.990401268005371,
                    -13.824175834655762,
                    -5.813640594482422,
                    14.406474113464355,
                    -10.316555976867676,
                    3.5882976055145264,
                    -2.484159231185913,
                    -0.29333770275115967,
                    -5.822055816650391,
                    -11.783889770507812,
                    -1.571845531463623,
                    8.572108268737793,
                    8.57210922241211,
                    5.666738033294678,
                    5.66672945022583,
                    5.666848182678223,
                    -5.00798225402832,
                    -10.833417892456055,
                    -10.820281982421875,
                    0.7418287396430969,
                    -14.181057929992676,
                    -15.142279624938965,
                    -7.446363925933838,
                    1.6804218292236328,
                    11.645648002624512,
                    -1.1759275197982788,
                    10.96670150756836,
                    4.737306118011475,
                    12.888605117797852,
                    1.39378023147583,
                    11.20985221862793,
                    9.593706130981445,
                    10.462566375732422,
                    -4.161402225494385,
                    2.015957832336426,
                    1.3612215518951416,
                    -15.986023902893066,
                    -14.384167671203613,
                    4.583197593688965,
                    -1.3194547891616821,
                    -1.3194419145584106,
                    8.809590339660645,
                    8.809590339660645,
                    -1.0352303981781006,
                    -14.491204261779785,
                    -8.419386863708496,
                    0.3574167490005493,
                    0.3574167490005493,
                    11.395753860473633,
                    11.395730018615723,
                    2.5955650806427,
                    -1.3006322383880615,
                    -8.820050239562988,
                    2.160067081451416,
                    -14.585267066955566,
                    -5.543272972106934,
                    -16.036170959472656,
                    -13.983785629272461,
                    -9.019433975219727,
                    -9.018990516662598,
                    2.969956874847412,
                    2.969951629638672,
                    2.969951629638672,
                    -8.92019271850586,
                    -4.559462547302246,
                    -1.5533568859100342,
                    -5.17456579208374,
                    5.122313499450684,
                    -7.585628986358643,
                    9.888205528259277,
                    9.888235092163086,
                    7.139388084411621,
                    7.139388084411621,
                    -5.543259620666504,
                    -10.994685173034668,
                    -13.443830490112305,
                    -14.27475357055664,
                    -14.27475357055664,
                    -14.27475357055664,
                    -5.543241024017334,
                    -14.274758338928223,
                    -4.47127628326416,
                    6.505980491638184,
                    6.506096363067627,
                    6.505646228790283,
                    9.745390892028809,
                    7.458831310272217,
                    -14.274824142456055,
                    -13.983786582946777,
                    13.298727035522461,
                    3.8924872875213623,
                    -4.072117328643799,
                    -13.3916597366333,
                    -13.3916597366333,
                    -14.674822807312012,
                    11.682482719421387,
                    11.22359561920166,
                    11.223601341247559,
                    11.680571556091309,
                    -1.9393565654754639,
                    -1.938722014427185,
                    -9.963254928588867,
                    -9.963254928588867,
                    1.7449145317077637,
                    -0.1934828907251358,
                    -13.725595474243164,
                    2.3373377323150635,
                    -15.023309707641602,
                    -6.079565048217773,
                    -6.079565048217773,
                    -12.934117317199707,
                    -3.1454122066497803,
                    8.520320892333984,
                    8.520329475402832,
                    4.466693878173828,
                    10.37449836730957,
                    -9.457413673400879,
                    -11.190802574157715,
                    -11.190802574157715,
                    -12.301868438720703,
                    12.768702507019043,
                    -5.6136932373046875,
                    13.094154357910156,
                    5.714587688446045,
                    -2.4638421535491943,
                    13.48974323272705,
                    2.475188970565796,
                    11.144203186035156,
                    -0.34343957901000977,
                    -14.335899353027344,
                    5.6401190757751465,
                    0.7665960788726807,
                    1.1291955709457397,
                    11.099066734313965,
                    7.836872100830078,
                    -1.4575469493865967,
                    -11.261054039001465,
                    -11.261065483093262,
                    -10.62927532196045,
                    5.250136852264404,
                    1.4231746196746826,
                    -6.1026835441589355,
                    1.9078466892242432,
                    15.441232681274414,
                    15.441232681274414,
                    15.441232681274414,
                    15.441232681274414,
                    15.441232681274414,
                    15.441232681274414,
                    2.101300001144409,
                    15.441232681274414,
                    15.441232681274414,
                    15.441232681274414,
                    15.441232681274414,
                    -11.753236770629883,
                    -15.579507827758789,
                    11.963618278503418,
                    15.441232681274414,
                    -13.983797073364258,
                    -13.983799934387207,
                    -16.036983489990234,
                    0.4200040102005005,
                    12.685273170471191,
                    0.8184632062911987,
                    -6.065090179443359,
                    -12.82752799987793,
                    -12.827584266662598,
                    -12.827518463134766,
                    -12.82758617401123,
                    -12.828478813171387,
                    -12.828410148620605,
                    -7.597443103790283,
                    4.860044002532959,
                    -13.930794715881348,
                    -13.930803298950195,
                    -5.498890399932861,
                    6.278905868530273,
                    -15.408744812011719,
                    14.5602445602417,
                    2.5045740604400635,
                    0.3783072233200073,
                    -3.5351150035858154,
                    1.4238580465316772,
                    4.59805965423584,
                    0.4200001657009125,
                    -13.115019798278809,
                    10.675323486328125,
                    -7.961887836456299,
                    -8.179252624511719,
                    8.550759315490723,
                    -6.264832973480225,
                    13.245713233947754,
                    8.296348571777344,
                    13.208431243896484,
                    0.4200001657009125,
                    -4.947851181030273,
                    11.454864501953125,
                    5.049190044403076,
                    3.056871175765991,
                    3.056871175765991,
                    -10.633805274963379,
                    -10.633805274963379,
                    -10.774502754211426,
                    -10.774330139160156,
                    -6.111787796020508,
                    -8.549210548400879,
                    0.44553378224372864,
                    12.29992389678955,
                    2.244907855987549,
                    8.831403732299805,
                    5.746086597442627,
                    -14.971996307373047,
                    -0.6998817324638367,
                    -4.947851181030273,
                    -1.9210941791534424,
                    -1.9208848476409912,
                    -1.9208884239196777,
                    -1.9210941791534424,
                    -1.9211452007293701,
                    0.4200001657009125,
                    -1.9210941791534424,
                    12.714649200439453,
                    12.714649200439453,
                    -12.592863082885742,
                    1.6226589679718018,
                    9.578563690185547,
                    -0.7326626777648926,
                    -1.9210941791534424,
                    -10.856572151184082,
                    4.821985721588135,
                    4.821985244750977,
                    0.23941855132579803,
                    -12.30858039855957,
                    -12.30831527709961,
                    -4.559643745422363,
                    -4.559643745422363,
                    9.776613235473633,
                    -1.8879203796386719,
                    -1.8879203796386719,
                    3.415825843811035,
                    -5.343870639801025,
                    8.37686538696289,
                    4.0899505615234375,
                    4.0899457931518555,
                    -1.4641212224960327,
                    2.096996307373047,
                    10.102540016174316,
                    -4.84520149230957,
                    -15.729625701904297,
                    -15.729625701904297,
                    -16.036170959472656,
                    -15.729625701904297,
                    -11.976215362548828,
                    -11.976215362548828,
                    0.8982272148132324,
                    8.684504508972168,
                    2.5619657039642334,
                    5.909633636474609,
                    5.909633636474609,
                    2.528578519821167,
                    11.280660629272461,
                    4.063383102416992,
                    2.5619657039642334,
                    -5.383886814117432,
                    13.531624794006348,
                    13.531960487365723,
                    -11.47610092163086,
                    -12.308544158935547,
                    6.970274448394775,
                    6.970274448394775,
                    10.805632591247559,
                    -7.512883186340332,
                    -11.636763572692871,
                    14.544533729553223,
                    6.8491597175598145,
                    6.747513294219971,
                    -8.236000061035156,
                    -2.736989736557007,
                    -1.2042827606201172,
                    -7.714164733886719,
                    -6.262449741363525,
                    -14.181057929992676,
                    -11.325443267822266,
                    -11.819416046142578,
                    14.476569175720215,
                    -0.3703065812587738,
                    2.9631147384643555,
                    2.9631147384643555,
                    -4.699221611022949,
                    1.4755629301071167,
                    -11.431721687316895,
                    1.4755628108978271,
                    -11.35842514038086,
                    -12.341777801513672,
                    -11.994720458984375,
                    -12.091592788696289,
                    -12.07717227935791,
                    -12.282852172851562,
                    7.439240455627441,
                    -6.342944145202637,
                    -5.969997406005859,
                    -5.733431339263916,
                    -3.6413230895996094,
                    8.741591453552246,
                    14.431245803833008,
                    -4.781179904937744,
                    -13.161359786987305,
                    -3.258333206176758,
                    -15.991639137268066,
                    -11.637072563171387,
                    2.402489423751831,
                    -9.583141326904297,
                    -9.373290061950684,
                    14.207944869995117,
                    14.20794677734375,
                    0.478191077709198,
                    2.4025371074676514,
                    1.9289896488189697,
                    -5.217036724090576,
                    -5.217038154602051,
                    -15.311458587646484,
                    9.266968727111816,
                    2.6944406032562256,
                    -14.749049186706543,
                    -2.0009796619415283,
                    14.567976951599121,
                    -0.46717697381973267,
                    -0.4682885408401489,
                    -0.46719834208488464,
                    -0.7575956583023071,
                    -10.754541397094727,
                    10.310916900634766,
                    10.310916900634766,
                    -2.1596994400024414,
                    -5.217038154602051,
                    -1.446118712425232,
                    -1.4514294862747192,
                    -1.2481712102890015,
                    -1.244422435760498,
                    -15.118057250976562,
                    10.910388946533203,
                    -8.695891380310059,
                    9.726225852966309,
                    -15.7404146194458,
                    -6.443744659423828,
                    2.53212571144104,
                    3.432307481765747,
                    -7.635371685028076,
                    3.844510793685913,
                    3.844510793685913,
                    3.8444814682006836,
                    4.050530910491943,
                    -4.102895736694336,
                    1.3149704933166504,
                    -7.966312408447266,
                    -14.033109664916992,
                    -7.393266677856445,
                    -7.966312408447266,
                    -0.35600998997688293,
                    -0.3559902608394623,
                    -7.966312408447266,
                    -7.995014667510986,
                    -7.966312408447266,
                    -7.966312408447266,
                    -8.069185256958008,
                    -7.995014667510986,
                    -7.966312408447266,
                    -7.966312408447266,
                    -8.069185256958008,
                    -7.966312408447266,
                    -7.966312408447266,
                    -7.393266677856445,
                    -7.995014667510986,
                    -7.966312408447266,
                    -9.5478515625,
                    -14.033109664916992,
                    7.842034339904785,
                    -8.751842498779297,
                    -0.18328990042209625,
                    -0.18346883356571198,
                    -7.339153289794922,
                    -2.1412253379821777,
                    3.1073660850524902,
                    -10.143542289733887,
                    11.280570983886719,
                    0.07983347028493881,
                    0.07983347028493881,
                    0.07983347028493881,
                    -5.907039642333984,
                    -6.985891342163086,
                    -6.985891342163086,
                    0.07983347028493881,
                    -1.181199312210083,
                    -1.181199312210083,
                    11.582149505615234,
                    13.167829513549805,
                    2.7903053760528564,
                    10.69636058807373,
                    2.344864845275879,
                    -8.309209823608398,
                    -8.309101104736328,
                    -8.309089660644531,
                    4.726457595825195,
                    4.726457595825195,
                    -13.594390869140625,
                    -13.594390869140625,
                    -7.71297550201416,
                    -7.71298360824585,
                    -7.713014602661133,
                    -13.765592575073242,
                    15.492330551147461,
                    15.492330551147461,
                    15.492330551147461,
                    -7.964180946350098,
                    5.398975372314453,
                    0.5580123066902161,
                    6.245447158813477,
                    -3.9509716033935547,
                    10.636418342590332,
                    -15.600141525268555,
                    -0.9235974550247192,
                    6.811522006988525,
                    6.895714282989502,
                    6.929290771484375,
                    6.854137420654297,
                    6.808596134185791,
                    6.857676029205322,
                    6.863687515258789,
                    -13.407074928283691,
                    5.398975372314453,
                    1.7565946578979492,
                    -6.406446933746338,
                    -0.5783907175064087,
                    -9.57124137878418,
                    -0.7155547142028809,
                    -14.758655548095703,
                    0.7506255507469177,
                    -1.1573798656463623,
                    -0.5597535967826843,
                    1.6148438453674316,
                    1.6148438453674316,
                    1.6148438453674316,
                    11.616024017333984,
                    11.561006546020508,
                    14.148199081420898,
                    6.9730224609375,
                    1.8795262575149536,
                    2.5022473335266113,
                    0.2886185348033905,
                    2.730414867401123,
                    2.730414867401123,
                    0.6941577196121216,
                    0.695615828037262,
                    11.711236953735352,
                    -3.0585134029388428,
                    10.683334350585938,
                    -13.104887962341309,
                    -0.0206757802516222,
                    1.945292353630066,
                    8.655534744262695,
                    -13.643289566040039,
                    6.887053489685059,
                    6.887054920196533,
                    -12.6795654296875,
                    14.673398971557617,
                    10.6455717086792,
                    8.171670913696289,
                    0.14183709025382996,
                    -11.334534645080566,
                    11.453317642211914,
                    -8.007377624511719,
                    11.060665130615234,
                    11.060665130615234,
                    11.060606956481934,
                    -11.538878440856934,
                    -5.791746139526367,
                    13.897672653198242,
                    8.971725463867188,
                    8.971725463867188,
                    -14.833632469177246,
                    7.342095375061035,
                    6.8902435302734375,
                    4.332920074462891,
                    -13.063724517822266,
                    11.453316688537598,
                    -10.463523864746094,
                    6.920746326446533,
                    -9.461706161499023,
                    7.126296520233154,
                    0.04946810379624367,
                    4.085565567016602,
                    4.085569858551025,
                    -4.993868827819824,
                    0.09245738387107849,
                    -4.6192522048950195,
                    -13.592667579650879,
                    -2.0930774211883545,
                    7.187298774719238,
                    -13.990311622619629,
                    -6.504875183105469,
                    -11.886945724487305,
                    -2.94260311126709,
                    -1.1973273754119873,
                    -13.046026229858398,
                    -11.462906837463379,
                    6.872984409332275,
                    -10.741682052612305,
                    -10.33187198638916,
                    -8.627196311950684,
                    11.410625457763672,
                    5.2240309715271,
                    -4.999846458435059,
                    -9.580302238464355,
                    -14.422959327697754,
                    -10.457185745239258,
                    2.552675247192383,
                    2.5526375770568848,
                    -10.295475006103516,
                    -3.8434462547302246,
                    3.011267900466919,
                    3.011267900466919,
                    3.6119754314422607,
                    -7.535084247589111,
                    2.2573964595794678,
                    6.872984409332275,
                    -3.3102550506591797,
                    1.5194729566574097,
                    6.879746913909912,
                    8.350503921508789,
                    -9.101789474487305,
                    7.644388198852539,
                    -10.698397636413574,
                    0.49699023365974426,
                    5.475720405578613,
                    1.3698539733886719,
                    -9.772254943847656,
                    -9.772235870361328,
                    -2.986518383026123,
                    -2.986518383026123,
                    6.799779891967773,
                    -2.528610944747925,
                    -0.38759294152259827,
                    -4.643947124481201,
                    -1.5541421175003052,
                    7.828503608703613,
                    9.655311584472656,
                    -7.720730304718018,
                    -4.51288366317749,
                    -0.7566435933113098,
                    -13.49685001373291,
                    -13.49685001373291,
                    10.143184661865234,
                    7.495222568511963,
                    -4.8592209815979,
                    -4.834749221801758,
                    -4.834749221801758,
                    -4.834749221801758,
                    12.428474426269531,
                    1.7238324880599976,
                    -5.947970867156982,
                    4.250772953033447,
                    -13.170422554016113,
                    13.27385425567627,
                    -11.179977416992188,
                    -3.032886505126953,
                    -13.689099311828613,
                    7.03445291519165,
                    -0.1346534639596939,
                    6.86515998840332,
                    -1.2167623043060303,
                    -13.892416954040527,
                    -1.126916766166687,
                    -5.970192909240723,
                    -4.142874717712402,
                    -12.52286434173584,
                    10.762151718139648,
                    -3.6666417121887207,
                    -3.0297162532806396,
                    -11.44012451171875,
                    -6.409974575042725,
                    2.318605422973633,
                    -4.443026542663574,
                    14.653120994567871,
                    14.653446197509766,
                    -3.032886505126953,
                    13.075235366821289,
                    8.698030471801758,
                    8.698030471801758,
                    -12.027917861938477,
                    4.282981872558594,
                    4.282981872558594,
                    3.7010598182678223,
                    3.2417664527893066,
                    8.105366706848145,
                    5.728277683258057,
                    13.605902671813965,
                    12.826427459716797,
                    14.653167724609375,
                    14.653191566467285,
                    14.653120994567871,
                    -5.613230228424072,
                    1.5564643144607544,
                    14.261931419372559,
                    0.5898064374923706,
                    7.27176570892334,
                    12.147231101989746,
                    -8.376016616821289,
                    -8.376189231872559,
                    11.050679206848145,
                    10.481002807617188,
                    -6.071192264556885,
                    -0.17625561356544495,
                    -1.8066127300262451,
                    -1.7861684560775757,
                    -1.8066127300262451,
                    -1.7861684560775757,
                    -1.7861684560775757,
                    -6.07119607925415,
                    10.481002807617188,
                    10.481002807617188,
                    2.915917158126831,
                    7.896884441375732,
                    -5.594398021697998,
                    -5.594416618347168,
                    -5.594398021697998,
                    -9.430965423583984,
                    5.529155254364014,
                    -1.9608509540557861,
                    4.30977725982666,
                    -7.772181034088135,
                    -8.289952278137207,
                    -8.38150691986084,
                    9.71263599395752,
                    13.454107284545898,
                    -0.10999735444784164,
                    8.644418716430664,
                    -1.8066127300262451,
                    -1.8066127300262451,
                    -1.8066127300262451,
                    -1.8066127300262451,
                    -12.985574722290039,
                    -12.985575675964355,
                    -12.985572814941406,
                    7.474392414093018,
                    7.475091457366943,
                    1.9198158979415894,
                    1.9197458028793335,
                    1.1617145538330078,
                    -2.532388687133789,
                    -13.699125289916992,
                    -1.7936604022979736,
                    -1.7935072183609009,
                    2.7647929191589355,
                    -6.702709674835205,
                    -3.611576795578003,
                    -13.499031066894531,
                    0.9425736665725708,
                    -13.499031066894531,
                    -2.841522693634033,
                    -1.8066127300262451,
                    4.2299675941467285,
                    9.645648956298828,
                    -2.029883861541748,
                    6.279526233673096,
                    5.5227837562561035,
                    0.18502280116081238,
                    0.0952024757862091,
                    -13.59273624420166,
                    -13.593295097351074,
                    -13.593295097351074,
                    -13.593295097351074,
                    -13.593295097351074,
                    -7.546282768249512,
                    4.0665812492370605,
                    11.849671363830566,
                    7.972870349884033,
                    11.664213180541992,
                    11.41915225982666,
                    -8.123454093933105,
                    -8.123457908630371,
                    -7.707169532775879,
                    -7.707064628601074,
                    -7.707064628601074,
                    -7.707064628601074,
                    -12.343033790588379,
                    14.272153854370117,
                    -1.361961841583252,
                    -3.679424285888672,
                    -10.904879570007324,
                    11.288259506225586,
                    13.705191612243652,
                    12.859503746032715,
                    -0.8396390676498413,
                    0.48234838247299194,
                    -0.8396390676498413,
                    1.4853215217590332,
                    -7.131174564361572,
                    -5.733431339263916,
                    -5.733431339263916,
                    -13.028221130371094,
                    11.738813400268555,
                    -4.342051029205322,
                    12.673640251159668,
                    12.865479469299316,
                    6.926246643066406,
                    6.926246643066406,
                    0.592947244644165,
                    5.809312343597412,
                    -3.7137277126312256,
                    -10.38081169128418,
                    -7.131270408630371,
                    -7.131174564361572,
                    1.4854099750518799,
                    -2.1593892574310303,
                    -0.8396390676498413,
                    5.5070037841796875,
                    -6.790340900421143,
                    -12.693033218383789,
                    -2.3342363834381104,
                    -6.686825275421143,
                    -1.8733774423599243,
                    -6.6869401931762695,
                    -6.686825275421143,
                    -6.686824798583984,
                    -9.216992378234863,
                    -11.140657424926758,
                    -11.140657424926758,
                    -11.140748023986816,
                    -11.140748023986816,
                    -11.140677452087402,
                    6.085573196411133,
                    13.96391773223877,
                    3.7333173751831055,
                    13.963735580444336,
                    13.96391773223877,
                    -9.42924976348877,
                    10.69266414642334,
                    14.627483367919922,
                    12.747572898864746,
                    0.7811365127563477,
                    -15.415486335754395,
                    -15.455076217651367,
                    -15.455076217651367,
                    -0.14108681678771973,
                    -10.429187774658203,
                    -2.0372138023376465,
                    12.75791072845459,
                    -7.02436637878418,
                    -4.517030239105225,
                    13.963735580444336,
                    13.96391773223877,
                    -5.733431339263916,
                    -5.83173942565918,
                    -10.265303611755371,
                    0.28425756096839905,
                    -0.6481277942657471,
                    -1.2845040559768677,
                    -8.390949249267578,
                    -5.3995232582092285,
                    5.686591625213623,
                    2.130695343017578,
                    -7.42253303527832,
                    10.689343452453613,
                    9.25232219696045,
                    9.252321243286133,
                    2.3291780948638916,
                    2.4050745964050293,
                    2.2208313941955566,
                    -7.422532558441162,
                    5.357236862182617,
                    5.357236862182617,
                    -1.2052106857299805,
                    -0.44785308837890625,
                    -5.513308048248291,
                    1.7186914682388306,
                    13.403097152709961,
                    -4.065536022186279,
                    -7.298260688781738,
                    6.63802433013916,
                    14.341554641723633,
                    -5.966020584106445,
                    7.408979892730713,
                    7.408979892730713,
                    8.867118835449219,
                    -6.127233982086182,
                    -5.868617057800293,
                    -8.968158721923828,
                    2.4423534870147705,
                    2.4010369777679443,
                    2.2213058471679688,
                    2.2856152057647705,
                    4.410703182220459,
                    4.410703182220459,
                    4.410703182220459,
                    4.410703182220459,
                    4.410703182220459,
                    -11.837423324584961,
                    -11.837423324584961,
                    3.952418327331543,
                    -6.6575846672058105,
                    -14.997001647949219,
                    -5.604340553283691,
                    -5.604340553283691,
                    -3.7224652767181396,
                    -11.780387878417969,
                    14.262214660644531,
                    4.410703182220459,
                    -5.497368812561035,
                    4.410703182220459,
                    -1.0496736764907837,
                    2.2863268852233887,
                    -12.506953239440918,
                    -12.506455421447754,
                    -12.506455421447754,
                    3.4243500232696533,
                    3.4243500232696533,
                    -12.577630996704102,
                    -1.2964155673980713,
                    13.179616928100586,
                    13.17961597442627,
                    -6.032889366149902,
                    -7.793022632598877,
                    14.25880241394043,
                    4.9304280281066895,
                    4.625690460205078,
                    4.410703182220459,
                    6.55445671081543,
                    6.546177864074707,
                    6.55445671081543,
                    10.683747291564941,
                    -10.991220474243164,
                    -10.991220474243164,
                    -10.991218566894531,
                    -10.991220474243164,
                    10.18957233428955,
                    -5.171555519104004,
                    -6.8743462562561035,
                    -13.827316284179688,
                    9.213863372802734,
                    -11.840584754943848,
                    0.09233375638723373,
                    -1.109429955482483,
                    0.140907883644104,
                    -0.7003749012947083,
                    6.171624660491943,
                    -0.7003748416900635,
                    -13.471497535705566,
                    -13.471474647521973,
                    -10.265304565429688,
                    -10.265304565429688,
                    -10.265303611755371,
                    -10.265304565429688,
                    -11.66161060333252,
                    11.674135208129883,
                    -3.183624744415283,
                    -3.183713912963867,
                    -3.183713912963867,
                    -14.305537223815918,
                    10.241793632507324,
                    1.486481785774231,
                    5.891084671020508,
                    8.279696464538574,
                    -13.471474647521973,
                    -13.471487998962402,
                    1.0663095712661743,
                    13.229035377502441,
                    -10.858942985534668,
                    -13.751771926879883,
                    -13.751771926879883,
                    6.556084632873535,
                    -5.084091663360596,
                    -1.3529458045959473,
                    3.6856274604797363,
                    8.005313873291016,
                    8.0053129196167,
                    7.382303714752197,
                    -6.607359886169434,
                    -5.063591480255127,
                    13.899723052978516,
                    7.906165599822998,
                    6.55445671081543,
                    6.546177864074707,
                    -13.751771926879883,
                    13.229035377502441,
                    -13.751771926879883,
                    -5.828105449676514,
                    -5.051698207855225,
                    -3.5205750465393066,
                    14.060355186462402,
                    14.060355186462402,
                    -13.045780181884766,
                    -13.045875549316406,
                    -0.7427453994750977,
                    5.185680389404297,
                    10.801093101501465,
                    -7.278905868530273,
                    8.406975746154785,
                    -7.653318405151367,
                    -10.762656211853027,
                    1.0743516683578491,
                    -4.1183624267578125,
                    -14.024497032165527,
                    -6.342995643615723,
                    -13.72543716430664,
                    -12.22810173034668,
                    14.15428352355957,
                    14.154281616210938,
                    10.630714416503906,
                    10.630722045898438,
                    10.630722045898438,
                    10.970017433166504,
                    5.704455375671387,
                    1.844832181930542,
                    10.910654067993164,
                    -11.52479076385498,
                    -11.52475643157959,
                    -6.179923057556152,
                    2.6766481399536133,
                    4.597969055175781,
                    7.583359241485596,
                    -8.551325798034668,
                    -10.830408096313477,
                    4.130623817443848,
                    -14.7125825881958,
                    -0.5943719148635864,
                    -3.114874839782715,
                    10.69895076751709,
                    -14.472410202026367,
                    1.3103104829788208,
                    1.3102412223815918,
                    9.966017723083496,
                    7.269185543060303,
                    -15.160494804382324,
                    -15.160494804382324,
                    -15.160494804382324,
                    -1.8424155712127686,
                    -12.54871940612793,
                    -12.359676361083984,
                    -8.684962272644043,
                    0.7941976189613342,
                    -8.913298606872559,
                    -8.913298606872559,
                    2.248974084854126,
                    -14.633805274963379,
                    -14.862237930297852,
                    -14.862237930297852,
                    -14.862237930297852,
                    -14.667869567871094,
                    -14.667869567871094,
                    -14.862237930297852,
                    -14.862237930297852,
                    -14.862237930297852,
                    -8.545510292053223,
                    -7.720252990722656,
                    -10.303229331970215,
                    13.449088096618652,
                    1.033668041229248,
                    1.033665418624878,
                    -14.862237930297852,
                    -0.662477970123291,
                    -0.6626337766647339,
                    4.18581485748291,
                    10.043203353881836,
                    11.292311668395996,
                    11.292021751403809,
                    11.771646499633789,
                    -6.082588195800781,
                    -6.082588195800781,
                    -10.878008842468262,
                    7.453493595123291,
                    -8.139092445373535,
                    -8.139092445373535,
                    -5.120031356811523,
                    -5.120031356811523,
                    -5.120031356811523,
                    -5.120031356811523,
                    14.065449714660645,
                    10.837778091430664,
                    -8.139086723327637,
                    -5.595145225524902,
                    -5.595145225524902,
                    7.231809139251709,
                    9.988468170166016,
                    4.605565071105957,
                    -6.822678089141846,
                    -0.7025368213653564,
                    11.920488357543945,
                    8.32062816619873,
                    13.16832160949707,
                    5.194969654083252,
                    6.750643730163574,
                    1.7358899116516113,
                    1.5614714622497559,
                    3.1650266647338867,
                    7.563154220581055,
                    -3.9146628379821777,
                    9.547107696533203,
                    9.388771057128906,
                    6.662173748016357,
                    -10.274445533752441,
                    -10.274433135986328,
                    -1.6049329042434692,
                    7.201120853424072,
                    7.201121807098389,
                    -8.577264785766602,
                    -8.577264785766602,
                    6.335855007171631,
                    10.751736640930176,
                    8.068092346191406,
                    12.641058921813965,
                    -5.5384087562561035,
                    10.5017671585083,
                    -10.75097942352295,
                    6.8308939933776855,
                    -7.9482808113098145,
                    8.578204154968262,
                    8.578327178955078,
                    14.39756965637207,
                    8.698075294494629,
                    6.769481182098389,
                    -13.613872528076172,
                    9.619964599609375,
                    12.777101516723633,
                    12.777101516723633,
                    8.057538986206055,
                    14.707635879516602,
                    14.707635879516602,
                    14.707661628723145,
                    -17.144744873046875,
                    -5.034933567047119,
                    6.3560686111450195,
                    -4.76619291305542,
                    -16.888282775878906,
                    9.674318313598633,
                    1.383042812347412,
                    7.386116027832031,
                    9.619842529296875,
                    9.61994743347168,
                    9.61987018585205,
                    -11.411911010742188,
                    -13.613703727722168,
                    -13.614001274108887,
                    -13.613720893859863,
                    -13.614091873168945,
                    -13.613720893859863,
                    -13.614070892333984,
                    0.9070641994476318,
                    -13.61361026763916,
                    -14.739232063293457,
                    11.776098251342773,
                    -9.586052894592285,
                    -11.355191230773926,
                    -7.185609817504883,
                    -4.811371326446533,
                    -7.710445880889893,
                    -7.710324764251709,
                    -9.645264625549316,
                    -1.7518484592437744,
                    -7.2555646896362305,
                    -7.7062225341796875,
                    -0.09098530560731888,
                    6.3897857666015625,
                    -7.482512950897217,
                    4.271974563598633,
                    -12.128483772277832,
                    13.82280158996582,
                    13.82280158996582,
                    1.9923627376556396,
                    9.787181854248047,
                    -12.139781951904297,
                    -12.139781951904297,
                    7.702880859375,
                    7.3482136726379395,
                    9.317852020263672,
                    8.65485954284668,
                    13.647018432617188,
                    10.251214027404785,
                    10.251214027404785,
                    10.251214027404785,
                    3.0322227478027344,
                    3.0321803092956543,
                    0.9289430975914001,
                    4.823272228240967,
                    5.5357136726379395,
                    -11.31190299987793,
                    6.873385906219482,
                    -1.7482504844665527,
                    6.773870468139648,
                    6.7454352378845215,
                    6.647822380065918,
                    -5.868810176849365,
                    0.30292069911956787,
                    -1.5727778673171997,
                    10.251214027404785,
                    10.251091003417969,
                    -12.636001586914062,
                    0.9547918438911438,
                    -6.342959880828857,
                    -10.625432014465332,
                    -2.6559524536132812,
                    -2.289050817489624,
                    -2.08664870262146,
                    -2.156205177307129,
                    -2.156205177307129,
                    -2.6335456371307373,
                    -2.6335456371307373,
                    -2.3620026111602783,
                    -2.3620026111602783,
                    -14.493837356567383,
                    3.269569158554077,
                    9.132702827453613,
                    8.63595962524414,
                    -10.008101463317871,
                    -10.008085250854492,
                    -2.80871319770813,
                    -2.6335456371307373,
                    -2.80871319770813,
                    -2.0071959495544434,
                    -3.745109796524048,
                    -3.745109796524048,
                    8.587028503417969,
                    7.196608066558838,
                    -2.1619718074798584,
                    2.352473020553589,
                    13.02650260925293,
                    6.67802095413208,
                    -11.839508056640625,
                    0.35649093985557556,
                    0.3564908504486084,
                    -11.244453430175781,
                    -2.3620026111602783,
                    -2.6559524536132812,
                    -2.6335456371307373,
                    -2.80871319770813,
                    -2.9451582431793213,
                    -9.339590072631836,
                    6.999666690826416,
                    3.32063364982605,
                    3.650104284286499,
                    3.650104284286499,
                    -1.7665637731552124,
                    12.729790687561035,
                    10.140871047973633,
                    4.503582000732422,
                    -11.516982078552246,
                    -0.06234943866729736,
                    12.829818725585938,
                    5.1398773193359375,
                    -2.938448429107666,
                    5.7252197265625,
                    -8.672932624816895,
                    2.890507221221924,
                    -4.819694995880127,
                    -9.807178497314453,
                    -6.106194972991943,
                    8.078958511352539,
                    2.852421998977661,
                    -7.398911476135254,
                    -7.347080707550049,
                    -7.347080707550049,
                    -7.284690856933594,
                    -7.243669509887695,
                    -7.656676292419434,
                    -7.7062225341796875,
                    -4.819693565368652,
                    -7.702568054199219,
                    5.044431209564209,
                    -7.710506916046143,
                    9.651754379272461,
                    -5.558575630187988,
                    14.419158935546875,
                    -5.759322166442871,
                    2.852421998977661,
                    -7.3973188400268555,
                    3.32063364982605,
                    -7.774614334106445,
                    2.4480624198913574,
                    11.165459632873535,
                    -10.511937141418457,
                    8.177874565124512,
                    11.002418518066406,
                    0.7628535628318787,
                    9.821073532104492,
                    1.3097869157791138,
                    -9.911722183227539,
                    -8.559853553771973,
                    8.861288070678711,
                    10.582169532775879,
                    1.2949023246765137,
                    -11.010000228881836,
                    3.32063364982605,
                    3.32063364982605,
                    3.1507203578948975,
                    2.6619701385498047,
                    4.147860050201416,
                    -13.371241569519043,
                    0.335572749376297,
                    6.001216888427734,
                    0.7114380598068237,
                    12.006562232971191,
                    0.9445624947547913,
                    7.091465473175049,
                    -13.842992782592773,
                    2.4480624198913574,
                    -2.38967227935791,
                    1.6847892999649048,
                    9.714523315429688,
                    -0.30637282133102417,
                    7.579711437225342,
                    14.302530288696289,
                    7.347187042236328,
                    -4.083611488342285,
                    -6.940445423126221,
                    -7.133121013641357,
                    -11.145001411437988,
                    2.145162582397461,
                    -6.593372821807861,
                    -1.2984658479690552,
                    -1.2986476421356201,
                    -1.2984658479690552,
                    -8.31059741973877,
                    1.5035709142684937,
                    1.4631751775741577,
                    1.5035709142684937,
                    1.5035709142684937,
                    1.5035709142684937,
                    1.5035709142684937,
                    1.5035709142684937,
                    1.5035709142684937,
                    1.5035709142684937,
                    1.5035709142684937,
                    -12.991847038269043,
                    1.5035709142684937,
                    -12.991887092590332,
                    -2.232621908187866,
                    10.851851463317871,
                    10.852197647094727,
                    10.85185718536377,
                    -2.348972797393799,
                    4.25661039352417,
                    12.947831153869629,
                    -6.376053333282471,
                    -6.376053333282471,
                    10.699530601501465,
                    10.625497817993164,
                    13.973262786865234,
                    0.5952305197715759,
                    -9.459359169006348,
                    -4.905377388000488,
                    -6.155065059661865,
                    -5.575497150421143,
                    1.5035709142684937,
                    8.382582664489746,
                    -1.8187929391860962,
                    -13.454298973083496,
                    10.735807418823242,
                    2.6821515560150146,
                    2.6820294857025146,
                    12.192221641540527,
                    -12.630257606506348,
                    -3.3287436962127686,
                    9.688515663146973,
                    11.85719108581543,
                    -11.750304222106934,
                    -17.10999870300293,
                    13.144980430603027,
                    12.343962669372559,
                    6.02307653427124,
                    7.429800987243652,
                    -14.08380126953125,
                    -14.083868980407715,
                    4.69468879699707,
                    -2.1848208904266357,
                    -1.8187929391860962,
                    -1.8187929391860962,
                    9.057449340820312,
                    8.92632007598877,
                    8.97664737701416,
                    8.967114448547363,
                    9.225374221801758,
                    -0.4925881624221802,
                    8.941073417663574,
                    9.008293151855469,
                    8.782965660095215,
                    8.49332046508789,
                    8.49332046508789,
                    8.49332046508789,
                    8.49332046508789,
                    -2.184875011444092,
                    9.147017478942871,
                    -0.18269473314285278,
                    -0.7236770391464233,
                    -0.42867720127105713,
                    8.140103340148926,
                    -7.912201404571533,
                    2.1453492641448975,
                    -10.98713493347168,
                    -10.98713493347168,
                    -11.468611717224121,
                    12.806868553161621,
                    12.806868553161621,
                    12.806807518005371,
                    0.4291021525859833,
                    0.4291212558746338,
                    0.4291021525859833,
                    -2.6452057361602783,
                    -2.6452057361602783,
                    -2.6452057361602783,
                    8.140142440795898,
                    -1.6671545505523682,
                    -1.6671545505523682,
                    -1.7692800760269165,
                    7.833010196685791,
                    -6.107285022735596,
                    -6.107285022735596,
                    -6.107285022735596,
                    -6.107305526733398,
                    14.4472017288208,
                    -1.1348183155059814,
                    0.1932673454284668,
                    -12.61640739440918,
                    8.455284118652344,
                    -10.057796478271484,
                    11.855155944824219,
                    -10.038734436035156,
                    -5.887320041656494,
                    -5.492813587188721,
                    -5.492802619934082,
                    -0.18549133837223053,
                    2.9818115234375,
                    7.632701873779297,
                    6.489487171173096,
                    -6.300729274749756,
                    -6.300605773925781,
                    -6.3008246421813965,
                    5.687332630157471,
                    -2.3595120906829834,
                    0.5412905812263489,
                    0.4817538559436798,
                    0.1564989537000656,
                    -0.5928196310997009,
                    0.1592433750629425,
                    -0.6699951887130737,
                    0.3088204264640808,
                    -0.8784050345420837,
                    -0.11426166445016861,
                    -0.11760290712118149,
                    -6.300826072692871,
                    -6.3005852699279785,
                    -6.300819396972656,
                    -6.300800800323486,
                    6.489471435546875,
                    -7.7140116691589355,
                    10.773025512695312,
                    -13.076976776123047,
                    11.090450286865234,
                    -9.198540687561035,
                    -0.5321980714797974,
                    6.489487171173096,
                    4.391878128051758,
                    0.630448579788208,
                    -7.51432991027832,
                    9.922428131103516,
                    -1.5658520460128784,
                    6.840534687042236,
                    -6.300628185272217,
                    -6.300605773925781,
                    11.51419734954834,
                    1.9405957460403442,
                    1.940584659576416,
                    1.9405816793441772,
                    7.544628143310547,
                    7.780966758728027,
                    -14.063863754272461,
                    -12.111035346984863,
                    1.4327011108398438,
                    1.4323278665542603,
                    1.4323278665542603,
                    11.268088340759277,
                    10.942015647888184,
                    10.884641647338867,
                    -2.0199882984161377,
                    1.7862368822097778,
                    -2.9804227352142334,
                    10.928593635559082,
                    6.436712741851807,
                    3.523521661758423,
                    3.5235226154327393,
                    10.218117713928223,
                    8.9265718460083,
                    -3.155928373336792,
                    -5.8601508140563965,
                    0.5043119788169861,
                    10.935094833374023,
                    -11.467060089111328,
                    -9.75301742553711,
                    -0.8690505623817444,
                    -0.7821137309074402,
                    13.256609916687012,
                    -10.665459632873535,
                    5.063599109649658,
                    -6.357796669006348,
                    -7.898612976074219,
                    0.38763314485549927,
                    -7.292304992675781,
                    13.960206985473633,
                    -9.691043853759766,
                    13.951709747314453,
                    -0.7821136713027954,
                    -10.303644180297852,
                    -4.838470935821533,
                    -4.888627529144287,
                    7.35392951965332,
                    0.15126565098762512,
                    13.691666603088379,
                    9.491071701049805,
                    -15.588665962219238,
                    10.94688892364502,
                    -10.674243927001953,
                    1.1455949544906616,
                    -13.43985366821289,
                    5.6389899253845215,
                    13.679393768310547,
                    -11.799887657165527,
                    2.270535945892334,
                    -4.838470935821533,
                    -13.305205345153809,
                    -13.657526969909668,
                    -4.523349285125732,
                    -13.227954864501953,
                    -8.693647384643555,
                    12.028984069824219,
                    -6.34454870223999,
                    -11.19832706451416,
                    7.4029107093811035,
                    6.992214679718018,
                    -13.342419624328613,
                    -6.393021583557129,
                    11.058624267578125,
                    -10.825931549072266,
                    12.504810333251953,
                    3.349843978881836,
                    7.796189785003662,
                    -3.928921937942505,
                    0.2179502248764038,
                    -0.7273815274238586,
                    -11.145001411437988,
                    -8.856973648071289,
                    -10.819242477416992,
                    14.135674476623535,
                    0.4070892035961151,
                    14.598240852355957,
                    -1.1253563165664673,
                    -1.1253691911697388,
                    12.924051284790039,
                    12.924051284790039,
                    12.924281120300293,
                    12.924281120300293,
                    14.544093132019043,
                    1.262062907218933,
                    9.269190788269043,
                    9.269036293029785,
                    9.269194602966309,
                    14.538402557373047,
                    14.574620246887207,
                    14.132943153381348,
                    14.574620246887207,
                    14.574620246887207,
                    1.9405663013458252,
                    13.474956512451172,
                    12.27376651763916,
                    6.781578540802002,
                    -14.066621780395508,
                    -7.289835453033447,
                    -3.6267282962799072,
                    14.538402557373047,
                    -3.6267282962799072,
                    -10.212465286254883,
                    5.911417484283447,
                    -15.68261432647705,
                    14.577099800109863,
                    14.574620246887207,
                    14.132943153381348,
                    14.135674476623535,
                    -3.626828193664551,
                    -10.819242477416992,
                    -8.093636512756348,
                    6.378108024597168,
                    6.9098334312438965,
                    6.912684440612793,
                    6.911336898803711,
                    -11.837939262390137,
                    -11.784728050231934,
                    -11.869675636291504,
                    1.9334893226623535,
                    8.352230072021484,
                    8.352557182312012,
                    8.352559089660645,
                    -14.818266868591309,
                    -4.971765995025635,
                    -3.4734301567077637,
                    -10.819242477416992,
                    -10.819242477416992,
                    6.466501712799072,
                    6.466501712799072,
                    -0.26403114199638367,
                    4.031473636627197,
                    6.37997579574585,
                    -7.549569129943848,
                    -8.788520812988281,
                    -5.830634593963623,
                    6.919647216796875,
                    6.920870304107666,
                    6.920870304107666,
                    15.16446590423584,
                    6.919647216796875,
                    -13.875262260437012,
                    -13.875272750854492,
                    -13.87525749206543,
                    -6.392154693603516,
                    6.794651985168457,
                    6.54000186920166,
                    12.493035316467285,
                    4.5916900634765625,
                    -6.652963638305664,
                    2.154266595840454,
                    7.529941082000732,
                    -4.500010013580322,
                    -15.437366485595703,
                    -14.797240257263184,
                    -14.797209739685059,
                    -15.220980644226074,
                    -15.57162094116211,
                    -9.53878116607666,
                    -15.349522590637207,
                    -14.886073112487793,
                    -15.348838806152344,
                    -14.886073112487793,
                    -14.886093139648438,
                    -14.880186080932617,
                    -4.429136276245117,
                    -15.249217987060547,
                    -9.539388656616211,
                    -10.264018058776855,
                    -12.629149436950684,
                    1.8312764167785645,
                    1.8317792415618896,
                    6.190298080444336,
                    6.190298080444336,
                    6.190298080444336,
                    6.190298080444336,
                    -15.42510986328125,
                    -15.424968719482422,
                    -15.42510986328125,
                    -15.424739837646484,
                    -15.424964904785156,
                    -15.42510986328125,
                    -15.42510986328125,
                    -15.424968719482422,
                    -5.267097473144531,
                    1.819108009338379,
                    8.305883407592773,
                    8.307814598083496,
                    -5.0451459884643555,
                    11.208123207092285,
                    10.91305160522461,
                    10.913140296936035,
                    11.47191047668457,
                    -1.4634889364242554,
                    -1.4634889364242554,
                    -12.965353012084961,
                    10.043503761291504,
                    10.043512344360352,
                    -0.14418576657772064,
                    12.383508682250977,
                    2.852020502090454,
                    2.852020502090454,
                    12.802107810974121,
                    0.15403228998184204,
                    11.467460632324219,
                    -9.677552223205566,
                    -0.3110712766647339,
                    -0.31112784147262573,
                    -5.044705390930176,
                    -8.198576927185059,
                    14.313546180725098,
                    3.6655542850494385,
                    14.425146102905273,
                    5.48735237121582,
                    5.48735237121582,
                    1.603096604347229,
                    -9.405853271484375,
                    -11.656872749328613,
                    3.6655542850494385,
                    3.6655542850494385,
                    3.6655542850494385,
                    3.6655542850494385,
                    9.566184997558594,
                    -0.3111279010772705,
                    -9.677552223205566,
                    -5.64043664932251,
                    -0.4276767671108246,
                    -10.293892860412598,
                    -15.985542297363281,
                    8.34279727935791,
                    8.01440143585205,
                    8.679450035095215,
                    -7.895502090454102,
                    6.422789096832275,
                    6.422789096832275,
                    6.422789096832275,
                    -2.290972948074341,
                    -4.430073261260986,
                    6.610053539276123,
                    2.793926954269409,
                    11.275729179382324,
                    1.4503973722457886,
                    7.666771411895752,
                    -14.85534954071045,
                    7.666771411895752,
                    -8.993406295776367,
                    -13.118005752563477,
                    -13.118000030517578,
                    -13.118019104003906,
                    -12.794994354248047,
                    -0.7491135597229004,
                    -0.7490527033805847,
                    -7.0054144859313965,
                    6.702376842498779,
                    13.938637733459473,
                    0.6067376732826233,
                    0.6067376732826233,
                    0.6067488789558411,
                    -9.7476806640625,
                    -9.7476806640625,
                    -7.550913333892822,
                    6.208309650421143,
                    -7.289403438568115,
                    4.6945085525512695,
                    -12.737427711486816,
                    6.407482624053955,
                    6.404099941253662,
                    6.149220943450928,
                    5.977596759796143,
                    6.1241350173950195,
                    6.124166965484619,
                    -3.7859156131744385,
                    4.923793315887451,
                    4.923793315887451,
                    -3.89697003364563,
                    -3.89697003364563,
                    13.578984260559082,
                    13.300140380859375,
                    1.4692012071609497,
                    1.4692012071609497,
                    6.407482624053955,
                    7.799448013305664,
                    6.570765018463135,
                    6.4429030418396,
                    -12.655535697937012,
                    -10.251452445983887,
                    1.1935648918151855,
                    0.1435956358909607,
                    -10.414254188537598,
                    0.29120030999183655,
                    0.29120030999183655,
                    13.139412879943848,
                    10.246194839477539,
                    -2.1065967082977295,
                    -2.106595993041992,
                    6.050281524658203,
                    5.977596759796143,
                    6.048305511474609,
                    6.187273979187012,
                    6.569816589355469,
                    0.22317193448543549,
                    -2.396634817123413,
                    -15.775136947631836,
                    5.296178817749023,
                    5.603273868560791,
                    -1.1893868446350098,
                    -12.217513084411621,
                    -1.0315388441085815,
                    3.510544538497925,
                    -4.7757768630981445,
                    10.176605224609375,
                    7.8566179275512695,
                    7.053703308105469,
                    -14.744404792785645,
                    -7.8225603103637695,
                    -7.822547435760498,
                    -7.822518825531006,
                    10.176605224609375,
                    2.152817964553833,
                    -3.269869804382324,
                    -14.86413288116455,
                    -2.1971986293792725,
                    11.039859771728516,
                    5.275266647338867,
                    -8.375651359558105,
                    -0.3542307913303375,
                    -6.63742733001709,
                    -6.123880386352539,
                    -15.641091346740723,
                    10.341375350952148,
                    6.975820064544678,
                    -3.982522964477539,
                    5.435793876647949,
                    -5.404140472412109,
                    -5.448862552642822,
                    -12.884830474853516,
                    -7.822564601898193,
                    -7.822518825531006,
                    -7.8225202560424805,
                    -7.781466960906982,
                    -10.173569679260254,
                    0.1658816635608673,
                    -4.192081928253174,
                    0.6757760047912598,
                    -10.254890441894531,
                    -10.169272422790527,
                    0.647054135799408,
                    5.5440192222595215,
                    -0.4074220061302185,
                    3.0623326301574707,
                    3.0622520446777344,
                    3.0622801780700684,
                    3.0622735023498535,
                    13.91476058959961,
                    9.183150291442871,
                    -5.831575870513916,
                    -9.991194725036621,
                    6.839977741241455,
                    -0.6236134171485901,
                    -7.78175687789917,
                    5.279692649841309,
                    5.279692649841309,
                    5.279692649841309,
                    13.065071105957031,
                    -11.958664894104004,
                    6.912259578704834,
                    -9.08094596862793,
                    14.171649932861328,
                    14.171649932861328,
                    14.171649932861328,
                    14.171649932861328,
                    14.171554565429688,
                    -0.623603105545044,
                    -0.623603105545044,
                    -0.6236134171485901,
                    -3.699673652648926,
                    14.35673999786377,
                    3.3631591796875,
                    2.7916691303253174,
                    2.7916691303253174,
                    -13.48580551147461,
                    -13.48580551147461,
                    -13.485764503479004,
                    -13.485764503479004,
                    -13.48580551147461,
                    -5.599728107452393,
                    11.676987648010254,
                    13.296003341674805,
                    13.296003341674805,
                    13.296003341674805,
                    13.296003341674805,
                    -7.278268814086914,
                    -4.728754997253418,
                    2.7916259765625,
                    0.19878624379634857,
                    2.7916176319122314,
                    2.7916691303253174,
                    -15.775415420532227,
                    -15.775147438049316,
                    -15.77538013458252,
                    -15.775383949279785,
                    -15.775115013122559,
                    1.4956638813018799,
                    -14.632827758789062,
                    -14.632826805114746,
                    -8.260964393615723,
                    12.482300758361816,
                    11.953582763671875,
                    -8.426443099975586,
                    -2.268454074859619,
                    -0.0589873231947422,
                    -0.9245505928993225,
                    2.791660785675049,
                    -15.775125503540039,
                    0.4884427785873413,
                    0.4884427785873413,
                    9.122315406799316,
                    -6.443921089172363,
                    -5.844339370727539,
                    9.907676696777344,
                    -0.5922682285308838,
                    -12.62314510345459,
                    14.299538612365723,
                    0.875002920627594,
                    -2.9165055751800537,
                    2.0326952934265137,
                    0.3580652177333832,
                    2.3481366634368896,
                    -10.686431884765625,
                    3.3631503582000732,
                    3.3631591796875,
                    11.196935653686523,
                    0.4884427785873413,
                    5.8249993324279785,
                    -5.574159622192383,
                    0.623194694519043,
                    0.623194694519043,
                    0.623194694519043,
                    0.623194694519043,
                    0.4884427785873413,
                    0.4884427785873413,
                    14.110958099365234,
                    10.813887596130371,
                    5.228865623474121,
                    5.228865146636963,
                    -15.879680633544922,
                    -7.755958080291748,
                    2.0395047664642334,
                    6.762880325317383,
                    3.614696502685547,
                    -5.574240684509277,
                    0.22317193448543549,
                    -0.5738309621810913,
                    -14.564962387084961,
                    0.5029315948486328,
                    1.2586101293563843,
                    -8.251358032226562,
                    2.817155361175537,
                    3.5355679988861084,
                    4.831836700439453,
                    -14.203691482543945,
                    -14.58078670501709,
                    -14.58078670501709,
                    -14.203691482543945,
                    -14.58078670501709,
                    0.8779589533805847,
                    -6.9839982986450195,
                    -6.9839982986450195,
                    -9.263555526733398,
                    -8.565749168395996,
                    11.218096733093262,
                    1.3383917808532715,
                    1.3384135961532593,
                    1.3384227752685547,
                    1.3384244441986084,
                    1.3384244441986084,
                    -13.898151397705078,
                    -14.203691482543945,
                    -14.203691482543945,
                    -9.051881790161133,
                    4.916243553161621,
                    -4.660521030426025,
                    0.839653491973877,
                    5.7992424964904785,
                    -1.9724169969558716,
                    -1.9724169969558716,
                    -1.8633240461349487,
                    -5.011572360992432,
                    -11.292043685913086,
                    -15.748988151550293,
                    -15.736387252807617,
                    -15.733409881591797,
                    -15.74137020111084,
                    2.4553306102752686,
                    6.812445640563965,
                    -14.58078670501709,
                    8.212140083312988,
                    -10.761618614196777,
                    12.729185104370117,
                    -16.894689559936523,
                    -16.894834518432617,
                    -12.168006896972656,
                    2.2982594966888428,
                    -4.910244941711426,
                    -4.909969329833984,
                    -14.203691482543945,
                    -13.898151397705078,
                    -5.722523212432861,
                    -5.722523212432861,
                    8.21213436126709,
                    9.36489200592041,
                    3.296440362930298,
                    1.3384244441986084,
                    14.292052268981934,
                    13.266010284423828,
                    1.164663314819336,
                    2.0030200481414795,
                    1.164663314819336,
                    -13.191116333007812,
                    9.839305877685547,
                    -13.552056312561035,
                    -13.55192756652832,
                    -11.996092796325684,
                    7.823048114776611,
                    7.549269676208496,
                    7.54920768737793,
                    13.093284606933594,
                    -7.085132122039795,
                    -15.136659622192383,
                    8.772613525390625,
                    7.568751811981201,
                    12.72965145111084,
                    12.774333000183105,
                    12.774333000183105,
                    2.473848342895508,
                    -8.551806449890137,
                    7.187981605529785,
                    7.187981605529785,
                    14.292060852050781,
                    14.28569221496582,
                    -1.0574417114257812,
                    11.283880233764648,
                    -14.564962387084961,
                    -14.55835247039795,
                    -14.564962387084961,
                    8.179567337036133,
                    -4.10306978225708,
                    -9.830246925354004,
                    -9.830246925354004,
                    -1.0849205255508423,
                    1.3383888006210327,
                    -1.0846993923187256,
                    11.188312530517578,
                    1.732530117034912,
                    -6.309162616729736,
                    -5.918135166168213,
                    -5.918099880218506,
                    -5.9180006980896,
                    2.5808613300323486,
                    -5.851701259613037,
                    0.2769200801849365,
                    5.407631874084473,
                    -5.758845806121826,
                    -5.273117542266846,
                    -1.3501523733139038,
                    2.4573447704315186,
                    9.418742179870605,
                    3.889721393585205,
                    -5.918193340301514,
                    -15.58513069152832,
                    4.729275226593018,
                    7.2622971534729,
                    2.1218907833099365,
                    14.073586463928223,
                    14.073543548583984,
                    14.073558807373047,
                    -2.2775394916534424,
                    -2.2775394916534424,
                    -9.85253620147705,
                    -9.316841125488281,
                    -2.537149429321289,
                    -2.2775394916534424,
                    -2.5852205753326416,
                    -2.2775394916534424,
                    -2.2775394916534424,
                    -2.2775394916534424,
                    -2.2775394916534424,
                    -2.2775394916534424,
                    13.34701919555664,
                    -9.855936050415039,
                    -9.855990409851074,
                    12.15518569946289,
                    11.46886157989502,
                    -0.16408981382846832,
                    12.375246047973633,
                    -4.1478071212768555,
                    11.41616153717041,
                    7.5265398025512695,
                    7.526625156402588,
                    3.8385820388793945,
                    14.073528289794922,
                    -0.18203331530094147,
                    -13.180992126464844,
                    7.010319232940674,
                    -0.0856480523943901,
                    1.8567993640899658,
                    4.536365032196045,
                    -6.5958170890808105,
                    -6.5958170890808105,
                    8.544903755187988,
                    13.907780647277832,
                    -14.152405738830566,
                    1.2854089736938477,
                    -7.269724369049072,
                    5.3281965255737305,
                    5.328305244445801,
                    7.526625156402588,
                    5.328197002410889,
                    7.447212219238281,
                    -1.1445190906524658,
                    6.342925071716309,
                    6.342925071716309,
                    9.541626930236816,
                    9.541621208190918,
                    -3.7771501541137695,
                    -11.242379188537598,
                    0.4355296194553375,
                    0.4355296194553375,
                    10.595831871032715,
                    -11.990644454956055,
                    -0.8836474418640137,
                    5.328197002410889,
                    -7.9373087882995605,
                    -2.2775394916534424,
                    -0.5251409411430359,
                    -4.042239189147949,
                    10.805122375488281,
                    10.805007934570312,
                    8.872310638427734,
                    8.662745475769043,
                    7.683934688568115,
                    7.683934688568115,
                    -6.32320499420166,
                    13.411896705627441,
                    13.411896705627441,
                    11.89361572265625,
                    -8.52320671081543,
                    11.026108741760254,
                    7.747396469116211,
                    0.12029987573623657,
                    -9.332242965698242,
                    11.268712043762207,
                    -13.264284133911133,
                    6.998486042022705,
                    -13.660791397094727,
                    11.910179138183594,
                    9.426486015319824,
                    -7.345500469207764,
                    6.242337703704834,
                    -9.708430290222168,
                    -9.708429336547852,
                    7.454259872436523,
                    11.424266815185547,
                    -9.708430290222168,
                    -4.723731517791748
                  ],
                  "y": [
                    5.505221366882324,
                    6.616854190826416,
                    6.334052085876465,
                    5.523038387298584,
                    5.819645404815674,
                    5.35114049911499,
                    2.19515323638916,
                    5.942777156829834,
                    12.680768013000488,
                    11.445500373840332,
                    6.4586710929870605,
                    2.1951546669006348,
                    -9.024364471435547,
                    6.677479267120361,
                    10.07966423034668,
                    10.773111343383789,
                    -7.296530246734619,
                    -6.494666576385498,
                    5.405706882476807,
                    5.952529430389404,
                    -4.375014781951904,
                    12.39263916015625,
                    5.274324893951416,
                    10.07966423034668,
                    5.274324893951416,
                    8.536322593688965,
                    8.536322593688965,
                    11.261284828186035,
                    6.015099048614502,
                    2.8497421741485596,
                    6.121231555938721,
                    6.268054962158203,
                    5.380602836608887,
                    4.650001525878906,
                    6.517072677612305,
                    -10.370479583740234,
                    -10.370479583740234,
                    9.725655555725098,
                    9.725678443908691,
                    9.725655555725098,
                    9.725655555725098,
                    -10.370479583740234,
                    2.3416805267333984,
                    4.203020095825195,
                    5.823486804962158,
                    -7.860731601715088,
                    -7.282839775085449,
                    -3.578442096710205,
                    -9.69997501373291,
                    -0.9708676934242249,
                    7.550076961517334,
                    -10.370479583740234,
                    -10.370479583740234,
                    2.2599105834960938,
                    5.857128143310547,
                    10.155623435974121,
                    6.98562479019165,
                    7.374852180480957,
                    -8.810885429382324,
                    10.07966423034668,
                    10.585906982421875,
                    11.694241523742676,
                    1.8171690702438354,
                    -10.96792221069336,
                    6.365878105163574,
                    6.365878105163574,
                    6.36587381362915,
                    11.69736385345459,
                    8.615589141845703,
                    10.967924118041992,
                    9.078104972839355,
                    7.917140007019043,
                    -8.891669273376465,
                    -10.343449592590332,
                    -5.681241035461426,
                    -5.681170463562012,
                    -1.7938976287841797,
                    -7.2475080490112305,
                    12.122528076171875,
                    8.36637020111084,
                    -9.889286041259766,
                    0.7336754202842712,
                    10.678879737854004,
                    -10.081693649291992,
                    11.016074180603027,
                    6.189165115356445,
                    -7.847845077514648,
                    0.07694663852453232,
                    2.9491472244262695,
                    2.22800350189209,
                    2.548739433288574,
                    4.067555904388428,
                    -6.4457197189331055,
                    -6.4457197189331055,
                    9.96453857421875,
                    -1.8780938386917114,
                    8.625560760498047,
                    8.365838050842285,
                    8.366284370422363,
                    -9.785653114318848,
                    -0.7790899872779846,
                    -0.7764031291007996,
                    8.625560760498047,
                    7.725180625915527,
                    5.41822624206543,
                    5.41822624206543,
                    6.947795867919922,
                    12.181037902832031,
                    9.534683227539062,
                    11.486812591552734,
                    11.486936569213867,
                    7.3603105545043945,
                    -7.864260196685791,
                    -7.864290714263916,
                    -6.6249165534973145,
                    7.694488048553467,
                    4.161198616027832,
                    8.035609245300293,
                    10.668898582458496,
                    6.313745021820068,
                    -3.971768617630005,
                    7.669150352478027,
                    7.851695537567139,
                    -1.1290371417999268,
                    3.684652328491211,
                    3.3535571098327637,
                    3.5045154094696045,
                    6.469661235809326,
                    9.484359741210938,
                    5.41822624206543,
                    9.657437324523926,
                    10.82706069946289,
                    9.100699424743652,
                    -6.306711196899414,
                    7.931528091430664,
                    -8.371875762939453,
                    5.737397193908691,
                    7.672161102294922,
                    -4.843813419342041,
                    -8.860544204711914,
                    5.734813690185547,
                    9.314435005187988,
                    9.314435005187988,
                    9.314223289489746,
                    -9.671760559082031,
                    -7.003537654876709,
                    10.949064254760742,
                    -10.770323753356934,
                    8.877151489257812,
                    0.09978250414133072,
                    10.305459976196289,
                    6.669315814971924,
                    6.669321060180664,
                    6.669318675994873,
                    -6.050048351287842,
                    -6.049936294555664,
                    -10.031905174255371,
                    4.143877029418945,
                    5.346898555755615,
                    11.423385620117188,
                    10.286559104919434,
                    8.690082550048828,
                    -4.461113929748535,
                    -4.461291313171387,
                    5.562025547027588,
                    -9.1939697265625,
                    3.346403121948242,
                    3.346403121948242,
                    2.172673463821411,
                    11.193975448608398,
                    6.371243953704834,
                    -2.9100871086120605,
                    -8.329693794250488,
                    -7.399355411529541,
                    -10.492036819458008,
                    9.040358543395996,
                    -3.0599172115325928,
                    5.632388591766357,
                    6.388720989227295,
                    6.388680458068848,
                    -3.7341229915618896,
                    -4.772645473480225,
                    10.419857025146484,
                    10.350028038024902,
                    12.121779441833496,
                    11.111551284790039,
                    3.6629745960235596,
                    -6.208040237426758,
                    4.155663967132568,
                    4.155677795410156,
                    4.155677795410156,
                    4.1556782722473145,
                    4.155694484710693,
                    9.040358543395996,
                    -5.384072303771973,
                    -5.384175777435303,
                    8.57557487487793,
                    3.748159170150757,
                    3.747060775756836,
                    5.094273567199707,
                    -9.739654541015625,
                    -6.786681175231934,
                    -6.786680698394775,
                    4.155689716339111,
                    4.155584335327148,
                    4.155690670013428,
                    4.155556678771973,
                    6.236666202545166,
                    -7.399355411529541,
                    -2.435755968093872,
                    -6.230883598327637,
                    -6.887115001678467,
                    -8.802244186401367,
                    -8.198121070861816,
                    8.098858833312988,
                    11.288540840148926,
                    5.41705322265625,
                    -7.485119342803955,
                    13.982209205627441,
                    12.324355125427246,
                    12.324355125427246,
                    4.6837029457092285,
                    -3.6649410724639893,
                    -6.505721092224121,
                    -6.266978740692139,
                    3.175123453140259,
                    3.175123453140259,
                    3.175123453140259,
                    4.529379844665527,
                    5.054805278778076,
                    5.0548248291015625,
                    5.0548248291015625,
                    2.0307765007019043,
                    9.335432052612305,
                    -6.886993408203125,
                    -3.295208215713501,
                    -9.368678092956543,
                    12.753976821899414,
                    -2.1833176612854004,
                    -10.323067665100098,
                    9.671346664428711,
                    2.9249818325042725,
                    2.924961805343628,
                    11.872551918029785,
                    8.074628829956055,
                    8.074628829956055,
                    13.369154930114746,
                    10.642593383789062,
                    10.642593383789062,
                    -9.246033668518066,
                    -10.372535705566406,
                    7.192685127258301,
                    13.369172096252441,
                    11.116829872131348,
                    9.938814163208008,
                    -1.8826837539672852,
                    -6.365102291107178,
                    4.520962238311768,
                    7.428539276123047,
                    5.8903069496154785,
                    5.731459140777588,
                    -4.843813419342041,
                    -1.5261865854263306,
                    -8.727462768554688,
                    1.5639439821243286,
                    -7.388954162597656,
                    -4.454214572906494,
                    -9.282512664794922,
                    -7.071793556213379,
                    -6.217221260070801,
                    3.6209566593170166,
                    -7.441347122192383,
                    5.4680705070495605,
                    5.468069076538086,
                    9.86594009399414,
                    9.865944862365723,
                    9.865910530090332,
                    2.338430404663086,
                    -6.536581993103027,
                    -1.1580606698989868,
                    7.3649163246154785,
                    -1.3452261686325073,
                    5.6063337326049805,
                    5.9278435707092285,
                    5.582554340362549,
                    7.948809623718262,
                    -7.478187561035156,
                    9.438201904296875,
                    8.069704055786133,
                    10.35053825378418,
                    6.185967445373535,
                    11.386456489562988,
                    8.44366455078125,
                    10.491575241088867,
                    -7.428106307983398,
                    -5.74564790725708,
                    -10.29067611694336,
                    -10.163328170776367,
                    -7.4888811111450195,
                    8.061893463134766,
                    -3.556154727935791,
                    -3.556130886077881,
                    12.427692413330078,
                    12.427781105041504,
                    -7.716580390930176,
                    4.474024295806885,
                    -6.003352165222168,
                    12.189859390258789,
                    12.189859390258789,
                    5.572150230407715,
                    5.572183609008789,
                    -10.863153457641602,
                    0.1493431180715561,
                    3.0883355140686035,
                    -4.459211349487305,
                    -5.763561725616455,
                    3.3195319175720215,
                    -9.950469970703125,
                    -2.971818447113037,
                    3.94030499458313,
                    3.940129518508911,
                    -4.827616214752197,
                    -4.827610492706299,
                    -4.827610492706299,
                    8.21118450164795,
                    -3.1639060974121094,
                    -7.509698390960693,
                    10.493160247802734,
                    -4.472463607788086,
                    11.082585334777832,
                    11.75737190246582,
                    11.757393836975098,
                    0.4961335062980652,
                    0.4961335062980652,
                    3.319528102874756,
                    -8.387362480163574,
                    -2.791616201400757,
                    -10.931845664978027,
                    -10.931845664978027,
                    -10.931845664978027,
                    3.3195302486419678,
                    -10.931852340698242,
                    -7.113520622253418,
                    -5.850799083709717,
                    -5.851034641265869,
                    -5.850558280944824,
                    1.8558878898620605,
                    1.5201410055160522,
                    -10.93189811706543,
                    -2.971818685531616,
                    5.739622592926025,
                    6.208226680755615,
                    -2.7331745624542236,
                    -0.8873526453971863,
                    -0.8873526453971863,
                    -7.415003299713135,
                    7.660333156585693,
                    7.462271690368652,
                    7.46227502822876,
                    7.661082744598389,
                    -7.790685176849365,
                    -7.796727657318115,
                    1.4646077156066895,
                    1.4646077156066895,
                    -6.572046279907227,
                    11.06213665008545,
                    -2.0726706981658936,
                    -12.213637351989746,
                    -11.106626510620117,
                    -2.917818546295166,
                    -2.917818546295166,
                    1.7708361148834229,
                    11.076629638671875,
                    1.2003281116485596,
                    1.200319766998291,
                    3.916719436645508,
                    -6.884835243225098,
                    7.027687072753906,
                    -7.235325813293457,
                    -7.235246658325195,
                    2.4947032928466797,
                    8.91847038269043,
                    -3.9625120162963867,
                    11.087103843688965,
                    5.336680889129639,
                    11.770206451416016,
                    6.26410436630249,
                    7.858840465545654,
                    5.811171531677246,
                    2.6625609397888184,
                    -11.473959922790527,
                    2.5250003337860107,
                    0.003073757514357567,
                    11.14742374420166,
                    5.675748348236084,
                    6.60191535949707,
                    12.042086601257324,
                    -7.1960062980651855,
                    -7.195998668670654,
                    -12.680614471435547,
                    -8.718860626220703,
                    8.481282234191895,
                    -4.623908042907715,
                    0.09470132738351822,
                    -7.4434943199157715,
                    -7.4434943199157715,
                    -7.4434943199157715,
                    -7.4434943199157715,
                    -7.4434943199157715,
                    -7.4434943199157715,
                    10.116374969482422,
                    -7.4434943199157715,
                    -7.4434943199157715,
                    -7.4434943199157715,
                    -7.4434943199157715,
                    -1.1415282487869263,
                    -10.747832298278809,
                    8.269994735717773,
                    -7.4434943199157715,
                    -2.9718117713928223,
                    -2.9718260765075684,
                    -9.950729370117188,
                    1.5975069999694824,
                    6.211028575897217,
                    -2.5701472759246826,
                    9.379703521728516,
                    -12.087964057922363,
                    -12.088303565979004,
                    -12.088496208190918,
                    -12.088303565979004,
                    -12.0908203125,
                    -12.091012001037598,
                    -7.924977779388428,
                    -7.2972092628479,
                    4.00810432434082,
                    4.008096694946289,
                    8.685354232788086,
                    1.306765079498291,
                    6.635707378387451,
                    6.16632604598999,
                    -5.673801898956299,
                    -8.860335350036621,
                    10.904133796691895,
                    6.387032985687256,
                    3.144710063934326,
                    1.597509741783142,
                    -11.413023948669434,
                    -6.27943754196167,
                    -8.357243537902832,
                    -8.157773971557617,
                    6.150849342346191,
                    7.341653347015381,
                    9.402995109558105,
                    6.239742755889893,
                    10.121246337890625,
                    1.597509741783142,
                    -3.25761342048645,
                    7.809861183166504,
                    5.495603561401367,
                    2.4273059368133545,
                    2.4273059368133545,
                    -6.413492679595947,
                    -6.413492679595947,
                    -8.45891284942627,
                    -8.459051132202148,
                    13.483572959899902,
                    3.519022226333618,
                    -7.850909233093262,
                    8.514041900634766,
                    10.633255004882812,
                    -6.242964744567871,
                    -5.763896942138672,
                    -7.036143779754639,
                    -4.904705047607422,
                    -3.25761342048645,
                    -5.234949588775635,
                    -5.234601974487305,
                    -5.23461389541626,
                    -5.234949588775635,
                    -5.234858512878418,
                    1.597509741783142,
                    -5.234949588775635,
                    -4.355223178863525,
                    -4.355223178863525,
                    0.5840204954147339,
                    2.1115834712982178,
                    1.7622865438461304,
                    10.636188507080078,
                    -5.234949588775635,
                    3.941218852996826,
                    2.922745704650879,
                    2.9227454662323,
                    -0.1030677929520607,
                    -12.090517044067383,
                    -12.089838027954102,
                    -10.369258880615234,
                    -10.369258880615234,
                    9.45157527923584,
                    11.410900115966797,
                    11.410900115966797,
                    2.3577046394348145,
                    -3.665024757385254,
                    9.434383392333984,
                    -6.480003356933594,
                    -6.479975700378418,
                    13.295182228088379,
                    10.322053909301758,
                    4.929638385772705,
                    -8.80592155456543,
                    -9.947554588317871,
                    -9.947554588317871,
                    -9.950469970703125,
                    -9.947554588317871,
                    -3.0350394248962402,
                    -3.0350394248962402,
                    10.290664672851562,
                    3.9328765869140625,
                    12.503535270690918,
                    4.8616943359375,
                    4.8616943359375,
                    -10.497344970703125,
                    5.368660926818848,
                    4.1415324211120605,
                    12.503535270690918,
                    -9.771681785583496,
                    9.385141372680664,
                    9.385175704956055,
                    -9.842679977416992,
                    -9.659982681274414,
                    3.2287495136260986,
                    3.2287495136260986,
                    10.396316528320312,
                    11.72606372833252,
                    -9.65605354309082,
                    5.422494888305664,
                    -4.39578104019165,
                    -4.35297966003418,
                    -6.628779888153076,
                    -8.748650550842285,
                    0.13727056980133057,
                    -6.438459873199463,
                    7.411144733428955,
                    -1.3452261686325073,
                    -10.373648643493652,
                    -10.559830665588379,
                    4.710134983062744,
                    10.869182586669922,
                    2.002708673477173,
                    2.002708673477173,
                    12.300427436828613,
                    12.030717849731445,
                    -10.487823486328125,
                    12.030716896057129,
                    -10.114931106567383,
                    -9.941221237182617,
                    -9.542415618896484,
                    -9.557136535644531,
                    -10.455350875854492,
                    -10.123638153076172,
                    5.601468086242676,
                    -4.840773105621338,
                    -3.093824863433838,
                    -8.388124465942383,
                    11.012496948242188,
                    11.994924545288086,
                    -2.097792863845825,
                    -5.579785346984863,
                    9.176982879638672,
                    -1.470766544342041,
                    -11.354588508605957,
                    5.885473251342773,
                    13.603229522705078,
                    -6.828627586364746,
                    -6.213522911071777,
                    0.9414888024330139,
                    0.941493570804596,
                    -0.3100571036338806,
                    13.60324478149414,
                    2.296271324157715,
                    12.782841682434082,
                    12.782844543457031,
                    6.333323001861572,
                    4.263849258422852,
                    -11.044148445129395,
                    -7.14054012298584,
                    -4.042182445526123,
                    4.141952991485596,
                    -6.579937934875488,
                    -6.580404281616211,
                    -6.580008506774902,
                    4.1554274559021,
                    5.038234233856201,
                    -4.612427711486816,
                    -4.612427711486816,
                    -0.9198949337005615,
                    12.782844543457031,
                    -7.776700496673584,
                    -7.732497215270996,
                    -8.009196281433105,
                    -8.005517959594727,
                    -11.569137573242188,
                    -4.882644176483154,
                    -5.551987648010254,
                    12.83139705657959,
                    -11.83107852935791,
                    -6.789530277252197,
                    0.8940559029579163,
                    -6.682879447937012,
                    11.059163093566895,
                    -6.382533550262451,
                    -6.382533550262451,
                    -6.382537364959717,
                    4.160886287689209,
                    11.165220260620117,
                    6.068974018096924,
                    -8.936484336853027,
                    -11.434313774108887,
                    -8.72421646118164,
                    -8.936484336853027,
                    6.0201239585876465,
                    6.020088195800781,
                    -8.936484336853027,
                    -8.269304275512695,
                    -8.936484336853027,
                    -8.936484336853027,
                    -8.922341346740723,
                    -8.269304275512695,
                    -8.936484336853027,
                    -8.936484336853027,
                    -8.922341346740723,
                    -8.936484336853027,
                    -8.936484336853027,
                    -8.72421646118164,
                    -8.269304275512695,
                    -8.936484336853027,
                    -6.820580005645752,
                    -11.434293746948242,
                    11.424236297607422,
                    -5.897878646850586,
                    12.636720657348633,
                    12.636557579040527,
                    -6.5553483963012695,
                    -8.759247779846191,
                    -6.21766471862793,
                    1.4677655696868896,
                    6.689383029937744,
                    11.534893989562988,
                    11.534893989562988,
                    11.534893989562988,
                    10.364447593688965,
                    -10.274422645568848,
                    -10.274422645568848,
                    11.534893989562988,
                    0.24118687212467194,
                    0.24118684232234955,
                    -5.500553131103516,
                    9.319050788879395,
                    -10.952625274658203,
                    5.202019691467285,
                    10.537294387817383,
                    12.154672622680664,
                    12.154106140136719,
                    12.1541109085083,
                    -6.060489654541016,
                    -6.060489654541016,
                    -1.2742637395858765,
                    -1.2742637395858765,
                    4.55772066116333,
                    4.557712078094482,
                    4.557681560516357,
                    0.7369677424430847,
                    6.097268581390381,
                    6.097268581390381,
                    6.097268581390381,
                    -6.291105270385742,
                    -3.5040993690490723,
                    0.8040225505828857,
                    -7.674473285675049,
                    12.237977981567383,
                    10.376042366027832,
                    -11.284722328186035,
                    4.296428680419922,
                    7.70420503616333,
                    7.8809685707092285,
                    8.262194633483887,
                    7.699808597564697,
                    7.7508649826049805,
                    8.150579452514648,
                    8.172572135925293,
                    -3.7317841053009033,
                    -3.5040993690490723,
                    6.590633869171143,
                    -10.47926139831543,
                    -3.2942800521850586,
                    6.738903522491455,
                    13.121594429016113,
                    -7.842363357543945,
                    8.998930931091309,
                    -8.877492904663086,
                    3.754089593887329,
                    12.726790428161621,
                    12.726790428161621,
                    12.726790428161621,
                    8.68145751953125,
                    8.592713356018066,
                    5.044407844543457,
                    1.1604353189468384,
                    -5.914435863494873,
                    7.267979145050049,
                    0.006800418719649315,
                    1.2350391149520874,
                    1.2350391149520874,
                    -0.007603716105222702,
                    1.915541648864746,
                    10.816610336303711,
                    -3.948423147201538,
                    10.308725357055664,
                    -5.263166427612305,
                    7.981200218200684,
                    8.650108337402344,
                    4.039889812469482,
                    -9.501688957214355,
                    2.448312759399414,
                    2.448309898376465,
                    -3.1143436431884766,
                    -0.6042421460151672,
                    -5.235236644744873,
                    12.598823547363281,
                    11.551557540893555,
                    -1.2594422101974487,
                    6.381375312805176,
                    8.915258407592773,
                    0.9482980370521545,
                    0.9482980370521545,
                    0.9483047127723694,
                    7.681328773498535,
                    10.025153160095215,
                    8.110623359680176,
                    3.6811041831970215,
                    3.6811041831970215,
                    -10.283775329589844,
                    -3.795853614807129,
                    5.523906230926514,
                    9.008047103881836,
                    -11.483236312866211,
                    6.381375312805176,
                    2.081820487976074,
                    0.8598901033401489,
                    4.019657611846924,
                    -7.273202419281006,
                    -7.988341808319092,
                    -2.817291498184204,
                    -2.817307949066162,
                    5.052051067352295,
                    -7.494510173797607,
                    10.820818901062012,
                    -0.7923082709312439,
                    -9.475593566894531,
                    0.44493165612220764,
                    -3.5932295322418213,
                    8.775203704833984,
                    5.196956634521484,
                    -9.317429542541504,
                    11.589714050292969,
                    9.362815856933594,
                    5.4847798347473145,
                    0.569966733455658,
                    -7.578583717346191,
                    -7.806746959686279,
                    7.4045915603637695,
                    -5.462383270263672,
                    8.784210205078125,
                    -3.2651712894439697,
                    8.698281288146973,
                    -6.837527751922607,
                    2.467270851135254,
                    -5.319880485534668,
                    -5.319868087768555,
                    0.377229779958725,
                    -9.415799140930176,
                    7.831830024719238,
                    7.831830024719238,
                    7.949893474578857,
                    -7.3700103759765625,
                    -10.288100242614746,
                    0.569966733455658,
                    11.378973960876465,
                    -7.29721736907959,
                    2.4862029552459717,
                    7.844934940338135,
                    9.51069450378418,
                    7.773044109344482,
                    2.3765757083892822,
                    2.6471455097198486,
                    8.095664978027344,
                    1.7912298440933228,
                    -6.952876567840576,
                    -6.952856540679932,
                    -2.1258554458618164,
                    -2.1258554458618164,
                    -0.006544093601405621,
                    -1.733749270439148,
                    1.5760984420776367,
                    4.718698501586914,
                    -0.24804577231407166,
                    9.616703033447266,
                    9.15421199798584,
                    2.5877225399017334,
                    -10.204853057861328,
                    11.259682655334473,
                    -4.138986587524414,
                    -4.138986587524414,
                    -5.524232387542725,
                    -5.639102458953857,
                    -6.07614278793335,
                    5.097993850708008,
                    5.097993850708008,
                    5.097993850708008,
                    9.127559661865234,
                    8.580082893371582,
                    -8.979124069213867,
                    4.378357410430908,
                    -2.2847790718078613,
                    9.299139976501465,
                    2.8853437900543213,
                    -2.6470961570739746,
                    -1.7436121702194214,
                    -3.867619037628174,
                    -6.168825626373291,
                    -6.893065929412842,
                    12.134415626525879,
                    -7.265064716339111,
                    -7.210361480712891,
                    7.842833995819092,
                    7.650014400482178,
                    -11.59933853149414,
                    7.6669840812683105,
                    11.476466178894043,
                    1.9649956226348877,
                    -10.276335716247559,
                    12.927781105041504,
                    -6.278566360473633,
                    -8.713676452636719,
                    5.654676914215088,
                    5.655246734619141,
                    -2.6470961570739746,
                    10.288737297058105,
                    7.087063312530518,
                    7.087063312530518,
                    2.416769027709961,
                    -5.626233100891113,
                    -5.626211166381836,
                    4.51383113861084,
                    7.690682411193848,
                    7.698091506958008,
                    4.398012638092041,
                    0.9043362140655518,
                    10.040229797363281,
                    5.655270576477051,
                    5.655364990234375,
                    5.654676914215088,
                    -6.877076625823975,
                    10.365985870361328,
                    0.9705018997192383,
                    6.190298557281494,
                    6.578881740570068,
                    10.986103057861328,
                    -5.530553340911865,
                    -5.530235767364502,
                    7.684980392456055,
                    9.384697914123535,
                    13.461492538452148,
                    10.021613121032715,
                    -12.09819221496582,
                    -12.129415512084961,
                    -12.09819221496582,
                    -12.129415512084961,
                    -12.129415512084961,
                    13.46150016784668,
                    9.384697914123535,
                    9.384697914123535,
                    12.963191986083984,
                    6.973206996917725,
                    -3.964038610458374,
                    -3.9640467166900635,
                    -3.964038610458374,
                    6.108125686645508,
                    -6.352233409881592,
                    11.88936710357666,
                    -6.398273468017578,
                    -6.424922943115234,
                    1.923420786857605,
                    -2.067854642868042,
                    2.0323097705841064,
                    1.7938408851623535,
                    12.21021556854248,
                    4.064219951629639,
                    -12.09819221496582,
                    -12.09819221496582,
                    -12.09819221496582,
                    -12.09819221496582,
                    -5.091719627380371,
                    -5.091719627380371,
                    -5.091678142547607,
                    5.641053199768066,
                    5.640015125274658,
                    2.314303398132324,
                    2.314237594604492,
                    -7.066423416137695,
                    -1.7302463054656982,
                    -4.842675685882568,
                    -4.024895191192627,
                    -4.0248122215271,
                    1.3814753293991089,
                    10.896891593933105,
                    10.847503662109375,
                    -1.3937114477157593,
                    -7.311018943786621,
                    -1.3937114477157593,
                    -4.385289669036865,
                    -12.09819221496582,
                    -8.38207721710205,
                    4.522205352783203,
                    -9.101607322692871,
                    2.3146440982818604,
                    -3.4650731086730957,
                    -6.177941799163818,
                    0.6486653685569763,
                    0.6225839257240295,
                    0.623570442199707,
                    0.623570442199707,
                    0.623570442199707,
                    0.623570442199707,
                    -3.7914083003997803,
                    4.519988536834717,
                    4.628785610198975,
                    7.339121341705322,
                    10.928133964538574,
                    8.857426643371582,
                    2.111564874649048,
                    2.111567735671997,
                    5.985071659088135,
                    5.985044956207275,
                    5.985044956207275,
                    5.985044956207275,
                    -10.525068283081055,
                    0.7003275752067566,
                    -8.075820922851562,
                    10.765583992004395,
                    4.171992301940918,
                    -6.425349712371826,
                    1.2557251453399658,
                    10.573238372802734,
                    12.336094856262207,
                    -11.083722114562988,
                    12.336094856262207,
                    -0.04546268284320831,
                    7.263600826263428,
                    -8.388124465942383,
                    -8.388124465942383,
                    -1.0723682641983032,
                    4.684305191040039,
                    -2.8403403759002686,
                    5.524055004119873,
                    5.536753177642822,
                    1.949019432067871,
                    1.949019432067871,
                    -6.462682723999023,
                    5.057668685913086,
                    -1.7593616247177124,
                    -7.871801376342773,
                    7.263832092285156,
                    7.263600826263428,
                    -0.045501288026571274,
                    -6.401480674743652,
                    12.336094856262207,
                    5.081410884857178,
                    -3.874652624130249,
                    -2.3338301181793213,
                    -1.048044204711914,
                    13.897416114807129,
                    -1.2491278648376465,
                    13.897534370422363,
                    13.897416114807129,
                    13.897459030151367,
                    5.159083843231201,
                    5.772671222686768,
                    5.772671222686768,
                    5.772528171539307,
                    5.772528171539307,
                    5.772649765014648,
                    2.1048977375030518,
                    -1.7821868658065796,
                    4.083380699157715,
                    -1.7820069789886475,
                    -1.7821868658065796,
                    7.108776092529297,
                    11.565009117126465,
                    3.9227421283721924,
                    8.898162841796875,
                    -7.323202610015869,
                    -10.770469665527344,
                    -10.761927604675293,
                    -10.761927604675293,
                    8.285232543945312,
                    8.016894340515137,
                    -4.798318386077881,
                    10.663655281066895,
                    10.670917510986328,
                    -3.2977564334869385,
                    -1.7820069789886475,
                    -1.7821868658065796,
                    -8.388124465942383,
                    8.126214981079102,
                    8.369429588317871,
                    11.539752006530762,
                    0.670547366142273,
                    -1.1040890216827393,
                    8.27183723449707,
                    -8.882512092590332,
                    8.124342918395996,
                    1.5947375297546387,
                    -3.888645887374878,
                    11.339651107788086,
                    7.22698974609375,
                    7.226988792419434,
                    -7.271853446960449,
                    -7.399317264556885,
                    -6.937017917633057,
                    -3.888643980026245,
                    -3.850170135498047,
                    -3.850170135498047,
                    0.23175166547298431,
                    -7.646989822387695,
                    -7.124912261962891,
                    -9.531352043151855,
                    9.752728462219238,
                    -6.635735511779785,
                    6.7700700759887695,
                    -5.052703380584717,
                    -1.3300355672836304,
                    7.911574840545654,
                    -3.4429690837860107,
                    -3.4429690837860107,
                    6.744625568389893,
                    2.9024035930633545,
                    -5.5902886390686035,
                    -4.7071075439453125,
                    -7.317891597747803,
                    -7.020211219787598,
                    -6.937958717346191,
                    -6.691229820251465,
                    -8.861294746398926,
                    -8.861294746398926,
                    -8.861294746398926,
                    -8.861294746398926,
                    -8.861294746398926,
                    -9.133932113647461,
                    -9.133932113647461,
                    6.307206153869629,
                    10.009098052978516,
                    -11.322742462158203,
                    -11.29692268371582,
                    -11.29692268371582,
                    -1.7031396627426147,
                    5.582805156707764,
                    0.9704936742782593,
                    -8.861294746398926,
                    10.338165283203125,
                    -8.861294746398926,
                    10.284477233886719,
                    -6.692794322967529,
                    -2.3208508491516113,
                    -2.3207056522369385,
                    -2.3207056522369385,
                    -7.5186333656311035,
                    -7.5186333656311035,
                    -1.797116756439209,
                    0.8929330706596375,
                    5.872185707092285,
                    5.872178554534912,
                    -2.8445332050323486,
                    9.874419212341309,
                    -1.7418733835220337,
                    4.044404983520508,
                    4.556527614593506,
                    -8.861294746398926,
                    5.0375847816467285,
                    5.047895431518555,
                    5.0375847816467285,
                    10.30819034576416,
                    -1.6462442874908447,
                    -1.6462442874908447,
                    -1.6462455987930298,
                    -1.6462442874908447,
                    4.812931537628174,
                    10.460569381713867,
                    10.895389556884766,
                    -4.520689010620117,
                    4.821540832519531,
                    -11.070016860961914,
                    1.2185972929000854,
                    1.022019624710083,
                    10.502120018005371,
                    10.979241371154785,
                    -5.479091167449951,
                    10.979242324829102,
                    -6.986749649047852,
                    -6.986995220184326,
                    8.369431495666504,
                    8.369431495666504,
                    8.369429588317871,
                    8.369431495666504,
                    -8.751530647277832,
                    11.22330093383789,
                    3.910534381866455,
                    3.9110333919525146,
                    3.9110333919525146,
                    -5.272298336029053,
                    -6.586159706115723,
                    6.412327289581299,
                    -5.67216682434082,
                    8.064769744873047,
                    -6.986994743347168,
                    -6.986982345581055,
                    -6.231192111968994,
                    -6.710107326507568,
                    -8.35898208618164,
                    -2.2744100093841553,
                    -2.2744100093841553,
                    5.035345077514648,
                    -3.1841955184936523,
                    -8.726128578186035,
                    7.958413600921631,
                    6.1180009841918945,
                    6.118001461029053,
                    3.4725804328918457,
                    -6.819846153259277,
                    -3.128399133682251,
                    -4.062932968139648,
                    3.4041621685028076,
                    5.0375847816467285,
                    5.047895431518555,
                    -2.2744100093841553,
                    -6.710107326507568,
                    -2.2744100093841553,
                    9.033287048339844,
                    -3.5263495445251465,
                    -7.467019557952881,
                    0.5415334105491638,
                    0.5415332317352295,
                    -0.7982943654060364,
                    -0.798290491104126,
                    9.536580085754395,
                    0.220781147480011,
                    -6.434403419494629,
                    11.325654029846191,
                    9.926551818847656,
                    -8.196452140808105,
                    -9.76269245147705,
                    -6.219387054443359,
                    11.124469757080078,
                    -1.224155306816101,
                    -4.840726852416992,
                    -2.0729613304138184,
                    -10.335461616516113,
                    1.2591607570648193,
                    1.2591615915298462,
                    1.4657173156738281,
                    1.4657245874404907,
                    1.4657245874404907,
                    -6.660233497619629,
                    3.8295156955718994,
                    -6.698760509490967,
                    -7.2274065017700195,
                    7.831727981567383,
                    7.831707954406738,
                    10.8759126663208,
                    -7.376455307006836,
                    -4.823505878448486,
                    5.700793266296387,
                    10.477633476257324,
                    -6.598001956939697,
                    3.392172336578369,
                    -4.016446113586426,
                    11.160555839538574,
                    10.98466968536377,
                    10.294089317321777,
                    -9.501994132995605,
                    -6.110593318939209,
                    -6.110562801361084,
                    -7.319406986236572,
                    8.063263893127441,
                    -11.031805038452148,
                    -11.031805038452148,
                    -11.031805038452148,
                    12.38880729675293,
                    -4.967820644378662,
                    -0.16021667420864105,
                    7.014745235443115,
                    1.6920634508132935,
                    3.991323232650757,
                    3.991323232650757,
                    -8.255218505859375,
                    0.39581558108329773,
                    0.37089356780052185,
                    0.37089356780052185,
                    0.37089356780052185,
                    0.49482232332229614,
                    0.49482232332229614,
                    0.37089356780052185,
                    0.37089356780052185,
                    0.37089356780052185,
                    -7.127279281616211,
                    4.934447765350342,
                    2.620023727416992,
                    9.747457504272461,
                    -2.0187816619873047,
                    -2.01877498626709,
                    0.37089356780052185,
                    -7.67883825302124,
                    -7.679086685180664,
                    4.113436698913574,
                    6.101034164428711,
                    7.920712471008301,
                    7.920727729797363,
                    8.0292387008667,
                    10.980535507202148,
                    10.980535507202148,
                    -6.02834415435791,
                    12.685769081115723,
                    -2.6217362880706787,
                    -2.6217362880706787,
                    -9.879830360412598,
                    -9.879830360412598,
                    -9.879830360412598,
                    -9.879830360412598,
                    -5.176473140716553,
                    7.706399440765381,
                    -2.621690511703491,
                    10.834419250488281,
                    10.834419250488281,
                    1.8344446420669556,
                    8.841724395751953,
                    -9.486159324645996,
                    10.108842849731445,
                    0.601891815662384,
                    8.128517150878906,
                    9.969449043273926,
                    2.08086895942688,
                    4.885604381561279,
                    1.6200917959213257,
                    -6.961536884307861,
                    12.529520034790039,
                    -6.8046064376831055,
                    7.526851654052734,
                    11.106999397277832,
                    -5.602853775024414,
                    7.849095344543457,
                    -3.795200824737549,
                    -0.2893047630786896,
                    -0.2893194556236267,
                    -6.3638410568237305,
                    5.934269428253174,
                    5.933785438537598,
                    3.0378849506378174,
                    3.037856101989746,
                    5.3264970779418945,
                    10.968952178955078,
                    -6.5845627784729,
                    6.926665782928467,
                    3.833594799041748,
                    5.098013877868652,
                    2.325044631958008,
                    -3.1367108821868896,
                    -5.333953857421875,
                    -6.365403175354004,
                    -6.365488052368164,
                    -0.2296951562166214,
                    7.0870561599731445,
                    -0.3811676800251007,
                    0.0435110479593277,
                    7.953760623931885,
                    9.50158977508545,
                    9.501617431640625,
                    7.2098493576049805,
                    12.137903213500977,
                    12.137903213500977,
                    12.137840270996094,
                    -10.800822257995605,
                    9.66995906829834,
                    0.16589336097240448,
                    -7.189170837402344,
                    -10.83413028717041,
                    2.039242744445801,
                    -6.044940948486328,
                    -3.221989870071411,
                    7.9538373947143555,
                    7.95375394821167,
                    7.953908920288086,
                    7.858843803405762,
                    0.042760077863931656,
                    0.04394903406500816,
                    0.04310471564531326,
                    0.04353434219956398,
                    0.04310475289821625,
                    0.043636221438646317,
                    12.760580062866211,
                    0.04280441999435425,
                    5.124093532562256,
                    8.056740760803223,
                    6.971993446350098,
                    5.881353855133057,
                    5.758407115936279,
                    -8.91960334777832,
                    -5.794096946716309,
                    -5.794118404388428,
                    -6.286548137664795,
                    -1.0856035947799683,
                    10.419191360473633,
                    10.653783798217773,
                    8.266672134399414,
                    -4.789882183074951,
                    -6.468991279602051,
                    -6.412125587463379,
                    -0.027580948546528816,
                    10.678923606872559,
                    10.678923606872559,
                    12.700711250305176,
                    7.672544479370117,
                    7.458526611328125,
                    7.458526611328125,
                    7.012773513793945,
                    13.050971984863281,
                    7.713608741760254,
                    8.450392723083496,
                    -4.265030384063721,
                    -4.697314739227295,
                    -4.697314739227295,
                    -4.697314739227295,
                    1.4273722171783447,
                    1.427405595779419,
                    -9.582085609436035,
                    -8.728372573852539,
                    3.867687940597534,
                    -9.308109283447266,
                    -7.631476879119873,
                    -0.8247606754302979,
                    -4.885540008544922,
                    -2.7773349285125732,
                    7.914755344390869,
                    13.29994010925293,
                    6.372293949127197,
                    11.470538139343262,
                    -4.697314739227295,
                    -4.697248458862305,
                    -9.94238567352295,
                    -0.7615874409675598,
                    -4.840746879577637,
                    2.6511950492858887,
                    -1.656079649925232,
                    -0.8359099626541138,
                    -0.9845387935638428,
                    -1.383370280265808,
                    -1.383370280265808,
                    -1.085761547088623,
                    -1.085761547088623,
                    -1.7410849332809448,
                    -1.7410849332809448,
                    -11.442277908325195,
                    -9.331573486328125,
                    12.963760375976562,
                    10.573626518249512,
                    -3.3868744373321533,
                    -3.3869216442108154,
                    -1.057588815689087,
                    -1.085761547088623,
                    -1.057588815689087,
                    -1.320231318473816,
                    1.6586138010025024,
                    1.6586138010025024,
                    7.111237049102783,
                    1.523824691772461,
                    -4.548712253570557,
                    10.07273006439209,
                    4.524615287780762,
                    2.7630326747894287,
                    7.65261697769165,
                    0.7886247038841248,
                    0.7886330485343933,
                    -0.6476098895072937,
                    -1.7410849332809448,
                    -1.656079649925232,
                    -1.085761547088623,
                    -1.057588815689087,
                    12.002833366394043,
                    -5.695368766784668,
                    2.310321092605591,
                    7.838492393493652,
                    -8.456070899963379,
                    -8.456070899963379,
                    10.061089515686035,
                    5.5556440353393555,
                    13.009212493896484,
                    8.053336143493652,
                    -8.59355354309082,
                    5.99887752532959,
                    -7.812769889831543,
                    0.2383558601140976,
                    -8.758130073547363,
                    8.112091064453125,
                    -5.917231559753418,
                    7.691993236541748,
                    -6.392874717712402,
                    -3.9341049194335938,
                    -4.647045135498047,
                    11.57647705078125,
                    7.632961273193359,
                    10.856961250305176,
                    10.339900970458984,
                    10.339900970458984,
                    10.389723777770996,
                    10.445631980895996,
                    10.695981979370117,
                    10.653783798217773,
                    -6.392876625061035,
                    10.65998649597168,
                    8.14328384399414,
                    -7.580721378326416,
                    10.267132759094238,
                    -3.8946688175201416,
                    5.186088562011719,
                    -8.76724910736084,
                    7.632961273193359,
                    10.854728698730469,
                    7.838487148284912,
                    -8.090436935424805,
                    -11.966090202331543,
                    7.698201656341553,
                    -8.054718971252441,
                    7.622134685516357,
                    -6.807626724243164,
                    -9.078780174255371,
                    4.662992477416992,
                    8.093724250793457,
                    3.567295789718628,
                    -5.8309149742126465,
                    0.25954434275627136,
                    10.515270233154297,
                    13.009782791137695,
                    4.313225269317627,
                    7.838492393493652,
                    7.838487148284912,
                    -6.787859916687012,
                    -10.650768280029297,
                    -6.616639614105225,
                    -3.588685989379883,
                    -2.526397943496704,
                    4.892342567443848,
                    2.070204257965088,
                    8.294953346252441,
                    5.670029163360596,
                    1.4038610458374023,
                    -2.0128462314605713,
                    -11.966090202331543,
                    -3.9239625930786133,
                    -10.172146797180176,
                    1.3378245830535889,
                    -9.425301551818848,
                    8.24508285522461,
                    -1.3555710315704346,
                    -2.873168468475342,
                    -9.620673179626465,
                    -6.662757396697998,
                    -7.617489337921143,
                    -5.38782262802124,
                    9.6685152053833,
                    -3.5725035667419434,
                    -1.2518497705459595,
                    -1.2520122528076172,
                    -1.2518497705459595,
                    -7.193665504455566,
                    2.673563003540039,
                    2.7786643505096436,
                    2.673563003540039,
                    2.673563003540039,
                    2.673563003540039,
                    2.673563003540039,
                    2.673563003540039,
                    2.673563003540039,
                    2.673563003540039,
                    2.673563003540039,
                    6.070753574371338,
                    2.673563003540039,
                    6.070740699768066,
                    -7.278704643249512,
                    5.30251407623291,
                    5.30237340927124,
                    5.302456855773926,
                    -9.086626052856445,
                    8.021814346313477,
                    8.030291557312012,
                    7.071678638458252,
                    7.071678638458252,
                    -5.270131587982178,
                    -5.337488174438477,
                    -4.843531131744385,
                    -7.366396903991699,
                    7.249836444854736,
                    -6.478757381439209,
                    2.9300858974456787,
                    8.612299919128418,
                    2.673563003540039,
                    -6.428571701049805,
                    11.245229721069336,
                    -4.960302352905273,
                    -4.707627773284912,
                    -7.161872386932373,
                    -7.161800861358643,
                    8.40493392944336,
                    -2.972667694091797,
                    10.507305145263672,
                    12.057493209838867,
                    11.16694450378418,
                    -10.042030334472656,
                    -10.806170463562012,
                    10.94232177734375,
                    10.987236976623535,
                    -2.9710450172424316,
                    -4.305414199829102,
                    -9.703726768493652,
                    -9.70391845703125,
                    4.58220100402832,
                    11.9400634765625,
                    11.245229721069336,
                    11.245229721069336,
                    7.183980464935303,
                    6.720107078552246,
                    6.722237586975098,
                    7.153392791748047,
                    7.0948100090026855,
                    5.343456268310547,
                    6.722500324249268,
                    6.726657390594482,
                    6.936077117919922,
                    7.990708351135254,
                    7.990708351135254,
                    7.990708351135254,
                    7.990708351135254,
                    11.940072059631348,
                    7.162997245788574,
                    6.234365940093994,
                    5.5087432861328125,
                    5.733465671539307,
                    7.477994918823242,
                    -3.9447405338287354,
                    -5.665643215179443,
                    -12.597173690795898,
                    -12.597173690795898,
                    6.415200233459473,
                    10.079355239868164,
                    10.079355239868164,
                    10.079307556152344,
                    -0.27757033705711365,
                    -0.2776316702365875,
                    -0.27757033705711365,
                    -8.257370948791504,
                    -8.257370948791504,
                    -8.257370948791504,
                    7.478032112121582,
                    -8.728557586669922,
                    -8.728557586669922,
                    0.21656230092048645,
                    3.192816972732544,
                    7.583369731903076,
                    7.583369731903076,
                    7.583369731903076,
                    7.583371162414551,
                    1.1014798879623413,
                    11.17572021484375,
                    -10.765976905822754,
                    -5.297878265380859,
                    6.862209320068359,
                    -7.314098834991455,
                    9.445486068725586,
                    -3.288743495941162,
                    -10.833673477172852,
                    -5.277263164520264,
                    -5.277271747589111,
                    12.412870407104492,
                    -6.86263370513916,
                    12.819966316223145,
                    12.286150932312012,
                    5.175197124481201,
                    5.175159931182861,
                    5.175208568572998,
                    4.515773773193359,
                    -0.7060496807098389,
                    5.436225891113281,
                    5.957998275756836,
                    5.718651294708252,
                    6.502482891082764,
                    5.229917049407959,
                    6.169746398925781,
                    6.377835273742676,
                    5.962357997894287,
                    6.635461807250977,
                    5.123085975646973,
                    5.175209999084473,
                    5.175146102905273,
                    5.175205707550049,
                    5.175189971923828,
                    12.286178588867188,
                    -6.439206123352051,
                    5.248857021331787,
                    0.6532353758811951,
                    -4.91949987411499,
                    -6.02592658996582,
                    3.1579301357269287,
                    12.286150932312012,
                    -6.37199592590332,
                    -10.21438217163086,
                    10.545766830444336,
                    10.077781677246094,
                    11.686758995056152,
                    12.465347290039062,
                    5.175180912017822,
                    5.175159931182861,
                    11.431035041809082,
                    10.117250442504883,
                    10.11766529083252,
                    10.117263793945312,
                    2.5240066051483154,
                    2.308990716934204,
                    -10.5020112991333,
                    -11.005474090576172,
                    12.187594413757324,
                    12.18735122680664,
                    12.18735122680664,
                    10.949530601501465,
                    11.089494705200195,
                    9.994637489318848,
                    -7.546682834625244,
                    -7.410308837890625,
                    -4.364190101623535,
                    9.903020858764648,
                    5.196600914001465,
                    9.498090744018555,
                    9.498196601867676,
                    10.204424858093262,
                    8.894641876220703,
                    11.374345779418945,
                    -8.66584300994873,
                    11.539344787597656,
                    9.887557029724121,
                    -8.573234558105469,
                    4.889180660247803,
                    10.14256763458252,
                    12.237048149108887,
                    10.082825660705566,
                    6.5247273445129395,
                    5.845760822296143,
                    -4.337455749511719,
                    -7.124238014221191,
                    2.1695001125335693,
                    11.924560546875,
                    -3.465569019317627,
                    9.866291046142578,
                    8.23107624053955,
                    12.237048149108887,
                    4.358614921569824,
                    9.838678359985352,
                    -7.343287467956543,
                    6.084358215332031,
                    -9.187464714050293,
                    8.891912460327148,
                    7.7000885009765625,
                    -10.614567756652832,
                    5.387309551239014,
                    -8.319913864135742,
                    -7.262338638305664,
                    -3.7827694416046143,
                    8.1152982711792,
                    8.650155067443848,
                    -7.755847454071045,
                    -8.661563873291016,
                    9.838678359985352,
                    -3.300990581512451,
                    -1.4907220602035522,
                    -7.403304100036621,
                    -2.919121503829956,
                    -6.561062812805176,
                    11.121922492980957,
                    7.082555294036865,
                    7.920585632324219,
                    2.1880900859832764,
                    7.7768707275390625,
                    -3.47277569770813,
                    11.088387489318848,
                    -6.5853190422058105,
                    5.370584964752197,
                    7.263530254364014,
                    7.910857677459717,
                    2.835010528564453,
                    12.268937110900879,
                    11.962313652038574,
                    0.4246124029159546,
                    -5.38782262802124,
                    -6.288379669189453,
                    -6.162045955657959,
                    -1.0668174028396606,
                    12.49804401397705,
                    3.9149057865142822,
                    -3.1991190910339355,
                    -3.199122667312622,
                    -7.297101020812988,
                    -7.297101020812988,
                    -7.297992706298828,
                    -7.297992706298828,
                    -2.6976940631866455,
                    -10.192840576171875,
                    9.376224517822266,
                    9.376251220703125,
                    9.376221656799316,
                    6.292231559753418,
                    -1.1051788330078125,
                    -1.0573614835739136,
                    -1.1051788330078125,
                    -1.1051788330078125,
                    10.117280006408691,
                    3.031841516494751,
                    8.4923734664917,
                    1.2893232107162476,
                    -3.44795560836792,
                    5.741466522216797,
                    1.5459620952606201,
                    6.292231559753418,
                    1.5459620952606201,
                    -0.6904377937316895,
                    3.640347719192505,
                    -7.483529567718506,
                    -1.0983686447143555,
                    -1.1051788330078125,
                    -1.0573614835739136,
                    -1.0668174028396606,
                    1.5464969873428345,
                    -6.162045955657959,
                    4.157218933105469,
                    -7.436202049255371,
                    -0.8672387003898621,
                    -0.8675926327705383,
                    -0.869068443775177,
                    -1.3106836080551147,
                    -9.678353309631348,
                    -9.338410377502441,
                    0.27287331223487854,
                    6.879721164703369,
                    6.879044055938721,
                    6.879053115844727,
                    -10.18755054473877,
                    -7.320751190185547,
                    -1.9311168193817139,
                    -6.162045955657959,
                    -6.162045955657959,
                    5.418806552886963,
                    5.418806552886963,
                    1.7332143783569336,
                    1.5076192617416382,
                    -7.436197280883789,
                    -5.873045921325684,
                    -5.890347003936768,
                    -7.089531421661377,
                    -3.026303768157959,
                    -3.025599718093872,
                    -3.025599718093872,
                    5.55596399307251,
                    -3.026303768157959,
                    -4.592683792114258,
                    -4.592624187469482,
                    -4.592750072479248,
                    9.0465087890625,
                    2.8173859119415283,
                    -3.417229413986206,
                    10.75271224975586,
                    5.918103218078613,
                    -4.178711891174316,
                    8.56482219696045,
                    -4.146533489227295,
                    -7.403476715087891,
                    -6.591684818267822,
                    -6.794887542724609,
                    -6.794958591461182,
                    -6.526375770568848,
                    -6.841883659362793,
                    2.1183626651763916,
                    -7.284317493438721,
                    -7.322122097015381,
                    -7.285170078277588,
                    -7.322122097015381,
                    -7.322134494781494,
                    -6.6736860275268555,
                    -9.931146621704102,
                    -6.527454853057861,
                    2.117523670196533,
                    2.4986793994903564,
                    3.1206014156341553,
                    11.624505996704102,
                    11.624566078186035,
                    1.4926997423171997,
                    1.4926997423171997,
                    1.4926997423171997,
                    1.4926997423171997,
                    4.861141681671143,
                    4.861282825469971,
                    4.861141681671143,
                    4.8613972663879395,
                    4.861289978027344,
                    4.861141681671143,
                    4.861141681671143,
                    4.861282825469971,
                    2.4848134517669678,
                    11.721744537353516,
                    3.1474103927612305,
                    3.146043300628662,
                    -3.2924532890319824,
                    8.396149635314941,
                    8.21335506439209,
                    8.213562965393066,
                    8.447851181030273,
                    11.48144245147705,
                    11.48144245147705,
                    -2.0325281620025635,
                    -4.426033020019531,
                    -4.426024436950684,
                    9.952309608459473,
                    5.888258934020996,
                    1.6443023681640625,
                    1.6443023681640625,
                    9.754117012023926,
                    0.19017824530601501,
                    8.447643280029297,
                    -7.473409652709961,
                    -2.5930397510528564,
                    -2.593289852142334,
                    -3.2924883365631104,
                    5.158711910247803,
                    -1.3904837369918823,
                    -12.482731819152832,
                    1.3674468994140625,
                    4.836788654327393,
                    4.836788654327393,
                    1.963619351387024,
                    7.46438455581665,
                    -8.012307167053223,
                    -12.482731819152832,
                    -12.482731819152832,
                    -12.482731819152832,
                    -12.482731819152832,
                    5.821034908294678,
                    -2.593290328979492,
                    -7.473409652709961,
                    -6.974091053009033,
                    12.447193145751953,
                    0.3150405287742615,
                    -10.409470558166504,
                    5.369430065155029,
                    2.6308560371398926,
                    7.124327659606934,
                    -8.886358261108398,
                    5.402425765991211,
                    5.402425765991211,
                    5.402425765991211,
                    -1.1935292482376099,
                    -2.779787540435791,
                    12.363029479980469,
                    -7.498721599578857,
                    8.73318099975586,
                    -1.9453150033950806,
                    3.9284958839416504,
                    -4.23936653137207,
                    3.9284958839416504,
                    -6.8865647315979,
                    -11.605215072631836,
                    -11.605250358581543,
                    -11.605273246765137,
                    -7.371006965637207,
                    12.493067741394043,
                    12.493091583251953,
                    -10.308516502380371,
                    13.363450050354004,
                    5.4827799797058105,
                    -10.189005851745605,
                    -10.189005851745605,
                    -10.189007759094238,
                    -7.04578971862793,
                    -7.04578971862793,
                    -6.585617542266846,
                    -4.957884311676025,
                    9.54202651977539,
                    -8.917635917663574,
                    -0.21770545840263367,
                    -3.7746050357818604,
                    -3.7750015258789062,
                    -3.0418360233306885,
                    -3.1885719299316406,
                    -7.347353458404541,
                    -7.347354412078857,
                    1.5459150075912476,
                    -5.505218505859375,
                    -5.505218505859375,
                    -2.9736227989196777,
                    -2.9736227989196777,
                    9.599251747131348,
                    9.823259353637695,
                    -6.670986175537109,
                    -6.670986175537109,
                    -3.7746050357818604,
                    7.028956890106201,
                    -3.5049185752868652,
                    -3.194535255432129,
                    -1.6990607976913452,
                    -0.09999497979879379,
                    6.309376239776611,
                    -9.258021354675293,
                    5.649693012237549,
                    -2.1813912391662598,
                    -2.1813912391662598,
                    9.346471786499023,
                    13.04111385345459,
                    -10.218716621398926,
                    -10.218743324279785,
                    -3.5252652168273926,
                    -3.1885719299316406,
                    -3.5199790000915527,
                    -3.0425524711608887,
                    -3.4953529834747314,
                    6.582917213439941,
                    11.31985855102539,
                    -10.135198593139648,
                    -5.189742565155029,
                    -3.5284600257873535,
                    -9.361332893371582,
                    -10.504373550415039,
                    -9.03814697265625,
                    -8.5364408493042,
                    -10.126072883605957,
                    -5.503690719604492,
                    7.164621829986572,
                    3.5811445713043213,
                    -6.036998748779297,
                    -6.366629600524902,
                    -6.366389751434326,
                    -6.366605281829834,
                    -5.503690719604492,
                    11.44375991821289,
                    -8.737685203552246,
                    -10.639636993408203,
                    -7.6031622886657715,
                    11.310474395751953,
                    -8.47125244140625,
                    -7.165407180786133,
                    0.25081300735473633,
                    -3.6074721813201904,
                    2.7314558029174805,
                    -12.782689094543457,
                    -3.9238810539245605,
                    -0.731202244758606,
                    -3.1214993000030518,
                    8.101911544799805,
                    10.348278999328613,
                    -7.134047985076904,
                    -10.926533699035645,
                    -6.366574287414551,
                    -6.366605281829834,
                    -6.36660099029541,
                    -5.218400478363037,
                    2.69927716255188,
                    12.169709205627441,
                    11.041290283203125,
                    10.789831161499023,
                    1.8866242170333862,
                    -7.931495189666748,
                    1.9781471490859985,
                    -5.886295795440674,
                    -2.664283037185669,
                    -5.118441581726074,
                    -5.118316173553467,
                    -5.118345737457275,
                    -5.118344306945801,
                    -7.438473224639893,
                    6.171245098114014,
                    10.034689903259277,
                    -7.105892658233643,
                    1.947034478187561,
                    8.544936180114746,
                    -5.218072891235352,
                    4.816171169281006,
                    4.816171169281006,
                    4.816171169281006,
                    8.943111419677734,
                    -12.064163208007812,
                    1.805640459060669,
                    10.200925827026367,
                    -3.8418033123016357,
                    -3.8418033123016357,
                    -3.8418033123016357,
                    -3.8418033123016357,
                    -3.8418028354644775,
                    8.544929504394531,
                    8.544929504394531,
                    8.544936180114746,
                    -7.453464031219482,
                    -1.7096376419067383,
                    13.12487506866455,
                    -13.445348739624023,
                    -13.445348739624023,
                    -0.6847071647644043,
                    -0.6847071647644043,
                    -0.6848438382148743,
                    -0.6848438382148743,
                    -0.6847071647644043,
                    10.606193542480469,
                    4.6573100090026855,
                    -6.601365089416504,
                    -6.601365089416504,
                    -6.601365089416504,
                    -6.601365089416504,
                    6.012838840484619,
                    11.255596160888672,
                    -13.445374488830566,
                    0.5986896753311157,
                    -13.445371627807617,
                    -13.445348739624023,
                    -10.135374069213867,
                    -10.135211944580078,
                    -10.135310173034668,
                    -10.135313987731934,
                    -10.135165214538574,
                    6.154248237609863,
                    -11.071074485778809,
                    -11.071074485778809,
                    -8.095091819763184,
                    10.501660346984863,
                    -5.051812648773193,
                    -1.8598177433013916,
                    -9.156051635742188,
                    -6.296416759490967,
                    4.3239827156066895,
                    -13.445344924926758,
                    -10.135171890258789,
                    -10.534589767456055,
                    -10.534589767456055,
                    0.22126425802707672,
                    -9.666329383850098,
                    6.267459869384766,
                    -5.727741718292236,
                    -2.4294495582580566,
                    -2.7696382999420166,
                    0.9796763062477112,
                    11.672667503356934,
                    -8.756808280944824,
                    -10.11722469329834,
                    -10.876551628112793,
                    -4.9968791007995605,
                    5.419583797454834,
                    13.1248779296875,
                    13.12487506866455,
                    7.564958572387695,
                    -10.534589767456055,
                    4.763593673706055,
                    -7.120005130767822,
                    -10.594108581542969,
                    -10.594108581542969,
                    -10.594108581542969,
                    -10.594108581542969,
                    -10.534589767456055,
                    -10.534589767456055,
                    -7.211868762969971,
                    11.020421028137207,
                    8.818082809448242,
                    8.81808853149414,
                    -10.807331085205078,
                    -8.390305519104004,
                    -4.467666149139404,
                    8.074824333190918,
                    -8.236978530883789,
                    -7.120184421539307,
                    6.582917213439941,
                    11.884479522705078,
                    -5.7168779373168945,
                    6.175300598144531,
                    -11.3563871383667,
                    -6.944688320159912,
                    -9.38467788696289,
                    1.4575204849243164,
                    -7.367892742156982,
                    -0.5944027304649353,
                    -1.0110430717468262,
                    -1.0110430717468262,
                    -0.5944027304649353,
                    -1.0110430717468262,
                    -9.071447372436523,
                    6.379536151885986,
                    6.379536151885986,
                    -5.542733192443848,
                    3.055745840072632,
                    7.079140663146973,
                    1.7879427671432495,
                    1.7879213094711304,
                    1.7876954078674316,
                    1.7876935005187988,
                    1.7876935005187988,
                    -0.9378670454025269,
                    -0.5944027304649353,
                    -0.5944027304649353,
                    -5.95039176940918,
                    -8.53240966796875,
                    -8.600457191467285,
                    12.601486206054688,
                    -7.763636589050293,
                    9.88362979888916,
                    9.88362979888916,
                    -8.743942260742188,
                    -3.5899240970611572,
                    -9.45152759552002,
                    -7.436173915863037,
                    -7.226561546325684,
                    -7.227728366851807,
                    -7.277553558349609,
                    -6.601552963256836,
                    1.321488380432129,
                    -1.0110430717468262,
                    8.638482093811035,
                    7.980058193206787,
                    -5.344027042388916,
                    -8.965112686157227,
                    -8.965171813964844,
                    -10.174825668334961,
                    10.350255012512207,
                    -11.070389747619629,
                    -11.070911407470703,
                    -0.5944027304649353,
                    -0.9378670454025269,
                    6.2085137367248535,
                    6.2085137367248535,
                    8.63846206665039,
                    -5.8874688148498535,
                    -4.814191818237305,
                    1.7876935005187988,
                    0.8525704741477966,
                    5.62396764755249,
                    12.59415340423584,
                    -12.557418823242188,
                    12.59415340423584,
                    4.235065460205078,
                    12.90936279296875,
                    -6.752049446105957,
                    -6.752107620239258,
                    -4.006209373474121,
                    7.840034484863281,
                    7.98289155960083,
                    7.982870101928711,
                    9.282560348510742,
                    4.291864395141602,
                    -6.652093410491943,
                    10.926546096801758,
                    8.247314453125,
                    10.689313888549805,
                    -6.98443078994751,
                    -6.98443078994751,
                    -12.627842903137207,
                    -7.10856819152832,
                    -4.145638942718506,
                    -4.145639419555664,
                    0.8525373935699463,
                    1.1953307390213013,
                    13.703858375549316,
                    6.827436923980713,
                    -5.7168779373168945,
                    -5.720742225646973,
                    -5.7168779373168945,
                    11.296693801879883,
                    7.793652534484863,
                    -6.425015449523926,
                    -6.425015449523926,
                    -7.525054931640625,
                    1.787702202796936,
                    -7.524830341339111,
                    1.6672159433364868,
                    4.718853950500488,
                    8.842169761657715,
                    -8.077157974243164,
                    -8.077173233032227,
                    -8.077149391174316,
                    -11.507524490356445,
                    -8.542051315307617,
                    -7.433254718780518,
                    -3.9821808338165283,
                    10.312439918518066,
                    -7.205246925354004,
                    11.489031791687012,
                    2.763012647628784,
                    4.233280181884766,
                    3.0409929752349854,
                    -8.07717514038086,
                    -6.842398643493652,
                    7.204146862030029,
                    -4.701448440551758,
                    2.4132728576660156,
                    5.760601043701172,
                    5.760667324066162,
                    5.760684490203857,
                    -2.739316701889038,
                    -2.739316701889038,
                    -7.720750331878662,
                    -6.1357808113098145,
                    -2.5511274337768555,
                    -2.739316701889038,
                    -2.8362088203430176,
                    -2.739316701889038,
                    -2.739316701889038,
                    -2.739316701889038,
                    -2.739316701889038,
                    -2.739316701889038,
                    -3.6504764556884766,
                    10.274443626403809,
                    10.274788856506348,
                    11.266311645507812,
                    -6.001118183135986,
                    0.5693680047988892,
                    10.972627639770508,
                    11.650465965270996,
                    11.125988960266113,
                    5.754722595214844,
                    5.7549519538879395,
                    -0.34937235713005066,
                    5.760656356811523,
                    10.264594078063965,
                    -7.192461013793945,
                    5.765438556671143,
                    0.48817119002342224,
                    6.677339553833008,
                    6.042855739593506,
                    3.6695351600646973,
                    3.6695351600646973,
                    0.7445268630981445,
                    -6.948263645172119,
                    -3.143270969390869,
                    6.002509593963623,
                    11.397868156433105,
                    6.195199012756348,
                    6.19535493850708,
                    5.7549519538879395,
                    6.195199012756348,
                    3.7904820442199707,
                    -1.3714869022369385,
                    5.566645622253418,
                    5.566645622253418,
                    -5.921788692474365,
                    -5.921792984008789,
                    -2.2910687923431396,
                    -9.119722366333008,
                    -6.687950134277344,
                    -6.687950134277344,
                    -6.333594799041748,
                    -10.824028015136719,
                    9.894896507263184,
                    6.195199012756348,
                    2.215907335281372,
                    -2.739316701889038,
                    3.7938413619995117,
                    -7.434114933013916,
                    4.257957458496094,
                    4.2580485343933105,
                    7.334806442260742,
                    9.159456253051758,
                    5.782374382019043,
                    5.782374382019043,
                    -6.931615352630615,
                    -6.613438606262207,
                    -6.613438606262207,
                    4.590007781982422,
                    -7.65714693069458,
                    9.7301664352417,
                    7.7704386711120605,
                    12.472552299499512,
                    9.31099796295166,
                    6.535543918609619,
                    -3.1574156284332275,
                    -4.872912406921387,
                    -1.7935103178024292,
                    8.206460952758789,
                    4.2425537109375,
                    14.592928886413574,
                    -2.82266902923584,
                    -0.43825864791870117,
                    -0.43825864791870117,
                    2.3524913787841797,
                    7.923051357269287,
                    -0.43825864791870117,
                    -10.1270751953125
                  ],
                  "z": [
                    13.381749153137207,
                    13.625622749328613,
                    13.456403732299805,
                    13.683476448059082,
                    13.844137191772461,
                    13.395569801330566,
                    -4.049557209014893,
                    3.4727895259857178,
                    -4.148218154907227,
                    -3.4508633613586426,
                    13.957680702209473,
                    -4.049554824829102,
                    -9.06569766998291,
                    13.828932762145996,
                    7.852715492248535,
                    5.724337577819824,
                    -13.07445240020752,
                    -9.721654891967773,
                    13.561659812927246,
                    13.383528709411621,
                    -6.2699666023254395,
                    -5.352451324462891,
                    15.8861665725708,
                    7.852715492248535,
                    15.8861665725708,
                    6.487354755401611,
                    6.487354755401611,
                    -1.2915775775909424,
                    -8.269292831420898,
                    1.4103922843933105,
                    13.969197273254395,
                    3.2374680042266846,
                    -2.854412317276001,
                    -2.4679248332977295,
                    -1.2172383069992065,
                    -4.57893705368042,
                    -4.57893705368042,
                    6.255878448486328,
                    6.255873680114746,
                    6.255878448486328,
                    6.255878448486328,
                    -4.57893705368042,
                    -14.320302963256836,
                    3.1966662406921387,
                    -0.5534189343452454,
                    4.794148921966553,
                    -7.382088661193848,
                    5.092896461486816,
                    -8.872942924499512,
                    2.0641629695892334,
                    9.997499465942383,
                    -4.57893705368042,
                    -4.57893705368042,
                    -0.4035457372665405,
                    10.807037353515625,
                    6.626972675323486,
                    10.301426887512207,
                    1.1274079084396362,
                    -0.7068649530410767,
                    7.852715492248535,
                    -0.9184678792953491,
                    -3.847869634628296,
                    -5.39822244644165,
                    2.2304751873016357,
                    4.560401439666748,
                    4.560401439666748,
                    4.560400485992432,
                    -3.8477084636688232,
                    -11.09306526184082,
                    -0.7420687079429626,
                    4.07131290435791,
                    5.207429885864258,
                    1.1780949831008911,
                    -2.9228432178497314,
                    -3.7112958431243896,
                    -3.711301326751709,
                    13.869305610656738,
                    5.9458208084106445,
                    0.3013690412044525,
                    -1.3868200778961182,
                    -3.1382927894592285,
                    -8.157283782958984,
                    -4.973911762237549,
                    -8.338951110839844,
                    1.8289974927902222,
                    4.649954319000244,
                    -6.374148368835449,
                    1.7944650650024414,
                    4.122411251068115,
                    1.1742759943008423,
                    0.431338906288147,
                    4.955265522003174,
                    0.9165852665901184,
                    0.9165852665901184,
                    2.4586918354034424,
                    1.5661665201187134,
                    -10.57148551940918,
                    1.1009628772735596,
                    1.100878119468689,
                    3.062459707260132,
                    -13.785998344421387,
                    -13.77511215209961,
                    -10.57148551940918,
                    7.980463981628418,
                    -3.239795207977295,
                    -3.239795207977295,
                    -12.999200820922852,
                    4.234410285949707,
                    4.880581855773926,
                    -2.027327299118042,
                    -2.027635097503662,
                    -3.1355931758880615,
                    -9.459617614746094,
                    -9.459593772888184,
                    -3.5497543811798096,
                    6.1236772537231445,
                    -4.616724967956543,
                    -9.633243560791016,
                    4.276576995849609,
                    4.4583306312561035,
                    4.213218688964844,
                    9.479899406433105,
                    4.223932266235352,
                    -0.3889990746974945,
                    -6.201624870300293,
                    -11.908886909484863,
                    -11.226357460021973,
                    -8.544868469238281,
                    3.080467939376831,
                    -3.239795207977295,
                    -4.828925132751465,
                    -4.5319929122924805,
                    -7.356848239898682,
                    -13.42862606048584,
                    4.923921585083008,
                    5.440047740936279,
                    -1.1433786153793335,
                    7.67673921585083,
                    -0.8565506935119629,
                    -10.627164840698242,
                    1.4696106910705566,
                    6.504204273223877,
                    6.504204273223877,
                    6.504186153411865,
                    0.3745206296443939,
                    -9.040321350097656,
                    -2.219223737716675,
                    0.10984653234481812,
                    -0.7552245855331421,
                    5.108964443206787,
                    0.8407856225967407,
                    3.2556865215301514,
                    3.255683660507202,
                    3.2556893825531006,
                    -10.614580154418945,
                    -10.61465835571289,
                    1.9772264957427979,
                    -12.548562049865723,
                    4.064496040344238,
                    -3.310441255569458,
                    -10.995473861694336,
                    -1.7609821557998657,
                    -1.4447656869888306,
                    -1.4448992013931274,
                    -2.3919897079467773,
                    -5.888563632965088,
                    -13.618240356445312,
                    -13.618240356445312,
                    -7.48114013671875,
                    -4.160953044891357,
                    6.088769912719727,
                    -11.221757888793945,
                    -0.37250828742980957,
                    6.3995208740234375,
                    2.3800015449523926,
                    5.680744171142578,
                    -8.325021743774414,
                    -5.925169467926025,
                    5.271302223205566,
                    5.271174907684326,
                    6.58066463470459,
                    -5.38545036315918,
                    2.8964664936065674,
                    -4.352768421173096,
                    -0.3806476593017578,
                    -3.612311601638794,
                    1.4482831954956055,
                    -7.267615795135498,
                    5.254188537597656,
                    5.2542009353637695,
                    5.2542009353637695,
                    5.254201889038086,
                    5.254222869873047,
                    5.680744171142578,
                    6.041801929473877,
                    6.04177188873291,
                    1.3089333772659302,
                    -10.646017074584961,
                    -10.645763397216797,
                    -1.2210456132888794,
                    4.793367385864258,
                    -5.118013858795166,
                    -5.118013858795166,
                    5.254220962524414,
                    5.254750728607178,
                    5.254208564758301,
                    5.254724979400635,
                    -3.6297101974487305,
                    6.3995208740234375,
                    1.9205995798110962,
                    0.7166885733604431,
                    -8.748831748962402,
                    -1.9426400661468506,
                    -9.406054496765137,
                    -3.167173147201538,
                    5.173999786376953,
                    3.0542383193969727,
                    -5.768280029296875,
                    -4.679731369018555,
                    1.688499093055725,
                    1.688499093055725,
                    -2.4500069618225098,
                    -6.119108200073242,
                    -1.862804651260376,
                    -0.30233484506607056,
                    1.260813593864441,
                    1.260813593864441,
                    1.260813593864441,
                    4.728940963745117,
                    -5.704922199249268,
                    -5.704903602600098,
                    -5.704903602600098,
                    -5.4996771812438965,
                    -10.392589569091797,
                    -8.748832702636719,
                    -13.097042083740234,
                    1.9166932106018066,
                    -0.4000718593597412,
                    3.1073057651519775,
                    2.243122100830078,
                    3.8539419174194336,
                    -6.989210605621338,
                    -6.989267826080322,
                    1.283969759941101,
                    5.692409992218018,
                    5.692409992218018,
                    3.770855188369751,
                    1.1948378086090088,
                    1.1948378086090088,
                    -9.69384479522705,
                    -6.784729480743408,
                    -0.275968074798584,
                    3.770888328552246,
                    7.820383548736572,
                    2.408909797668457,
                    -11.831576347351074,
                    -0.544594943523407,
                    4.112060546875,
                    7.6887664794921875,
                    4.147377967834473,
                    1.4684057235717773,
                    -0.8565506935119629,
                    14.290616035461426,
                    -0.3766810894012451,
                    -1.8239308595657349,
                    6.384359359741211,
                    -7.493892192840576,
                    1.6716887950897217,
                    0.47850239276885986,
                    -10.462152481079102,
                    1.167229413986206,
                    -11.686508178710938,
                    3.353489637374878,
                    3.353489398956299,
                    9.046092987060547,
                    9.046095848083496,
                    9.046181678771973,
                    -5.771755695343018,
                    0.22293145954608917,
                    2.3539602756500244,
                    -9.704355239868164,
                    15.876398086547852,
                    5.927394390106201,
                    -4.926292896270752,
                    11.749491691589355,
                    6.015037536621094,
                    -11.518796920776367,
                    -7.763813018798828,
                    7.873656272888184,
                    -6.580849647521973,
                    11.499143600463867,
                    -3.288006544113159,
                    -1.6843185424804688,
                    -4.974471569061279,
                    -11.108487129211426,
                    -9.788871765136719,
                    -8.19736099243164,
                    4.714276313781738,
                    6.2835845947265625,
                    8.80920124053955,
                    -9.253891944885254,
                    -9.253883361816406,
                    7.1368327140808105,
                    7.136849880218506,
                    -11.48084545135498,
                    4.550149917602539,
                    -6.947963714599609,
                    2.8242697715759277,
                    2.8242697715759277,
                    4.864078044891357,
                    4.8640570640563965,
                    -6.80869197845459,
                    -5.812658309936523,
                    -6.5394697189331055,
                    -7.027044296264648,
                    9.827447891235352,
                    -5.169984817504883,
                    4.207503795623779,
                    4.568451404571533,
                    -6.258379936218262,
                    -6.258179664611816,
                    -14.32276725769043,
                    -14.322754859924316,
                    -14.322754859924316,
                    2.4255940914154053,
                    -5.974365711212158,
                    -10.85507583618164,
                    -1.7186349630355835,
                    3.6001877784729004,
                    5.665098667144775,
                    -5.503777980804443,
                    -5.503695964813232,
                    -13.996129989624023,
                    -13.996129989624023,
                    -5.17000675201416,
                    5.40446662902832,
                    10.517181396484375,
                    1.1886906623840332,
                    1.1886906623840332,
                    1.1886906623840332,
                    -5.170017719268799,
                    1.1886816024780273,
                    -11.088455200195312,
                    -11.86019229888916,
                    -11.86022663116455,
                    -11.859719276428223,
                    -8.20999526977539,
                    -13.922845840454102,
                    1.188635230064392,
                    4.568451404571533,
                    4.254275798797607,
                    -2.5054335594177246,
                    -5.886885643005371,
                    3.0954737663269043,
                    3.0954737663269043,
                    6.476880073547363,
                    -8.738834381103516,
                    -8.447834968566895,
                    -8.44784164428711,
                    -8.740285873413086,
                    -11.37458610534668,
                    -11.373310089111328,
                    -1.276689052581787,
                    -1.276689052581787,
                    -6.618313789367676,
                    -9.613276481628418,
                    8.258946418762207,
                    -5.346917629241943,
                    7.727875232696533,
                    -7.7418622970581055,
                    -7.7418622970581055,
                    1.5336618423461914,
                    -4.709280014038086,
                    -15.06232738494873,
                    -15.062334060668945,
                    -7.879021167755127,
                    -3.970801591873169,
                    1.0953751802444458,
                    7.054299354553223,
                    7.054294586181641,
                    0.946427047252655,
                    4.2471466064453125,
                    -4.721210956573486,
                    -4.784433364868164,
                    3.342151165008545,
                    -2.825782060623169,
                    -0.8385287523269653,
                    -11.518789291381836,
                    -10.141282081604004,
                    -14.607877731323242,
                    1.2644180059432983,
                    8.563105583190918,
                    -2.504779577255249,
                    5.759027004241943,
                    -10.296347618103027,
                    -6.739315986633301,
                    0.44012242555618286,
                    7.145726680755615,
                    7.145742893218994,
                    2.2789993286132812,
                    -7.350828170776367,
                    -11.142361640930176,
                    -1.8284995555877686,
                    -9.650069236755371,
                    1.466284155845642,
                    1.466284155845642,
                    1.466284155845642,
                    1.466284155845642,
                    1.466284155845642,
                    1.466284155845642,
                    -8.883570671081543,
                    1.466284155845642,
                    1.466284155845642,
                    1.466284155845642,
                    1.466284155845642,
                    -2.097280740737915,
                    2.7399790287017822,
                    5.631972312927246,
                    1.466284155845642,
                    4.568450450897217,
                    4.568459987640381,
                    4.207462787628174,
                    -14.650291442871094,
                    -0.5740712881088257,
                    -12.53956413269043,
                    -2.569941520690918,
                    2.855252742767334,
                    2.8552496433258057,
                    2.8547751903533936,
                    2.855250120162964,
                    2.8541293144226074,
                    2.853663921356201,
                    -8.90234375,
                    -5.697686195373535,
                    3.9919114112854004,
                    3.991914987564087,
                    -5.376393795013428,
                    -6.150911808013916,
                    7.2213215827941895,
                    -0.733856737613678,
                    -14.212662696838379,
                    -10.627528190612793,
                    -5.709987163543701,
                    11.30247688293457,
                    9.237875938415527,
                    -14.650294303894043,
                    5.641873836517334,
                    -2.7639901638031006,
                    -8.21225357055664,
                    1.3712213039398193,
                    4.540661811828613,
                    -6.248054027557373,
                    3.1423327922821045,
                    0.025267383083701134,
                    1.355757713317871,
                    -14.650294303894043,
                    -4.165882110595703,
                    6.262164115905762,
                    9.155096054077148,
                    -7.637693405151367,
                    -7.637693405151367,
                    0.22026009857654572,
                    0.22026009857654572,
                    -4.087213516235352,
                    -4.087082386016846,
                    -5.682694911956787,
                    -5.112578392028809,
                    -0.7286339998245239,
                    5.035653114318848,
                    -8.706254959106445,
                    -7.989072322845459,
                    -13.152878761291504,
                    9.974528312683105,
                    -12.127649307250977,
                    -4.165882110595703,
                    -4.744442939758301,
                    -4.744482040405273,
                    -4.744487285614014,
                    -4.744442939758301,
                    -4.744200706481934,
                    -14.650294303894043,
                    -4.744442939758301,
                    -1.0595401525497437,
                    -1.0595401525497437,
                    0.34507954120635986,
                    -6.914677619934082,
                    -8.556990623474121,
                    -9.828125953674316,
                    -4.744442939758301,
                    -0.4499228596687317,
                    9.080524444580078,
                    9.080524444580078,
                    -0.7675246000289917,
                    2.6986052989959717,
                    2.699000120162964,
                    3.7416718006134033,
                    3.7416718006134033,
                    -9.556282997131348,
                    -3.7129125595092773,
                    -3.7129125595092773,
                    -8.307578086853027,
                    -2.7313320636749268,
                    3.7877728939056396,
                    -13.579546928405762,
                    -13.579522132873535,
                    -0.931389570236206,
                    6.66377067565918,
                    -11.643485069274902,
                    -0.07583700120449066,
                    4.289093971252441,
                    4.289093971252441,
                    4.207503795623779,
                    4.289093971252441,
                    12.303629875183105,
                    12.303629875183105,
                    -10.939102172851562,
                    -12.765848159790039,
                    -0.4772244095802307,
                    -2.0535740852355957,
                    -2.0535740852355957,
                    -6.501716136932373,
                    -10.796717643737793,
                    9.637862205505371,
                    -0.4772244095802307,
                    -3.2434160709381104,
                    1.167122483253479,
                    1.1671675443649292,
                    -2.838301658630371,
                    -3.2418017387390137,
                    -11.320125579833984,
                    -11.320125579833984,
                    -2.8202762603759766,
                    5.541980266571045,
                    -2.8536176681518555,
                    -1.7654517889022827,
                    -13.187830924987793,
                    -12.766357421875,
                    -6.2672319412231445,
                    -2.6408164501190186,
                    -4.851299285888672,
                    -8.448698997497559,
                    -5.948498725891113,
                    15.876398086547852,
                    -3.14385724067688,
                    -3.52132248878479,
                    -3.528657913208008,
                    -0.772910475730896,
                    -10.079116821289062,
                    -10.079116821289062,
                    -5.263023853302002,
                    -8.460601806640625,
                    -3.3232789039611816,
                    -8.460601806640625,
                    -2.9052324295043945,
                    -3.5466792583465576,
                    -2.9663829803466797,
                    -3.0131118297576904,
                    -3.58596134185791,
                    -3.6424784660339355,
                    1.551203966140747,
                    -3.885890483856201,
                    -9.384485244750977,
                    6.2469658851623535,
                    -5.796105861663818,
                    7.392151832580566,
                    5.518372058868408,
                    -12.761175155639648,
                    5.784710884094238,
                    -11.607497215270996,
                    3.5457420349121094,
                    2.969233989715576,
                    2.2993249893188477,
                    -1.9544682502746582,
                    -5.190992832183838,
                    2.3120110034942627,
                    2.3119707107543945,
                    -8.750972747802734,
                    2.2993850708007812,
                    -4.6272735595703125,
                    -4.113487720489502,
                    -4.11348819732666,
                    6.742921352386475,
                    -12.498824119567871,
                    -6.780858516693115,
                    9.171407699584961,
                    -11.984973907470703,
                    -3.485969066619873,
                    -12.442460060119629,
                    -12.443740844726562,
                    -12.442564964294434,
                    -7.13051700592041,
                    -2.7573609352111816,
                    -1.0386123657226562,
                    -1.0386123657226562,
                    -4.6674675941467285,
                    -4.11348819732666,
                    -11.953409194946289,
                    -11.957931518554688,
                    -11.573004722595215,
                    -11.56463623046875,
                    2.4269301891326904,
                    -5.484134197235107,
                    -6.9875922203063965,
                    6.212035179138184,
                    2.8070530891418457,
                    -9.928000450134277,
                    -9.759101867675781,
                    -8.710768699645996,
                    5.441321849822998,
                    -0.27473387122154236,
                    -0.27473387122154236,
                    -0.2746875286102295,
                    0.08559116721153259,
                    5.303276062011719,
                    10.3312349319458,
                    12.58188533782959,
                    3.8634724617004395,
                    13.035758972167969,
                    12.58188533782959,
                    -8.968012809753418,
                    -8.968013763427734,
                    12.58188533782959,
                    12.950273513793945,
                    12.58188533782959,
                    12.58188533782959,
                    13.335942268371582,
                    12.950273513793945,
                    12.58188533782959,
                    12.58188533782959,
                    13.335942268371582,
                    12.58188533782959,
                    12.58188533782959,
                    13.035758972167969,
                    12.950273513793945,
                    12.58188533782959,
                    -1.9904911518096924,
                    3.863476037979126,
                    1.821273684501648,
                    -6.378902435302734,
                    -4.048417568206787,
                    -4.048424243927002,
                    -2.1469340324401855,
                    -2.847325086593628,
                    -0.6652260422706604,
                    -2.9241695404052734,
                    -9.270838737487793,
                    4.79707670211792,
                    4.79707670211792,
                    4.79707670211792,
                    -2.5144660472869873,
                    -4.245991230010986,
                    -4.245991230010986,
                    4.79707670211792,
                    -5.513400554656982,
                    -5.513400554656982,
                    -2.94313383102417,
                    2.591850519180298,
                    -6.832587242126465,
                    -11.158897399902344,
                    -8.721888542175293,
                    1.6264359951019287,
                    1.626441478729248,
                    1.6263872385025024,
                    5.343482971191406,
                    5.343482971191406,
                    4.8036909103393555,
                    4.8036909103393555,
                    -7.6059088706970215,
                    -7.605892181396484,
                    -7.605894088745117,
                    7.352129936218262,
                    -6.020376682281494,
                    -6.020376682281494,
                    -6.020376682281494,
                    -7.9794158935546875,
                    2.3440418243408203,
                    -7.447913646697998,
                    -9.440840721130371,
                    2.209822416305542,
                    -5.85276460647583,
                    2.8278536796569824,
                    -7.367496490478516,
                    8.517047882080078,
                    8.990850448608398,
                    8.772782325744629,
                    8.849774360656738,
                    8.460169792175293,
                    8.413206100463867,
                    8.430450439453125,
                    11.742850303649902,
                    2.3440418243408203,
                    10.895529747009277,
                    -4.446231842041016,
                    -12.076087951660156,
                    3.7319324016571045,
                    -1.6106419563293457,
                    8.965153694152832,
                    8.920811653137207,
                    -1.438183069229126,
                    -6.161179542541504,
                    1.4864346981048584,
                    1.4864346981048584,
                    1.4864346981048584,
                    -7.834181308746338,
                    -7.724668025970459,
                    4.883327960968018,
                    -14.355367660522461,
                    -0.5093317627906799,
                    9.896345138549805,
                    -8.420921325683594,
                    -9.377479553222656,
                    -9.377479553222656,
                    -2.495654344558716,
                    -12.311644554138184,
                    -2.1291661262512207,
                    -12.31435489654541,
                    -6.047186851501465,
                    12.277488708496094,
                    -10.962594985961914,
                    -8.951301574707031,
                    -13.180318832397461,
                    -3.3960273265838623,
                    -4.557191848754883,
                    -4.557195663452148,
                    1.3756452798843384,
                    1.0649960041046143,
                    -5.763798713684082,
                    7.560829162597656,
                    4.536464214324951,
                    2.6009976863861084,
                    -1.6418709754943848,
                    0.7685309052467346,
                    -6.474821090698242,
                    -6.474821090698242,
                    -6.474813461303711,
                    4.658527851104736,
                    -2.4287257194519043,
                    0.2638453245162964,
                    -13.156357765197754,
                    -13.156357765197754,
                    8.834205627441406,
                    -13.215185165405273,
                    -7.288881778717041,
                    9.247979164123535,
                    5.504456043243408,
                    -1.6418712139129639,
                    -2.112802267074585,
                    -14.306453704833984,
                    -7.391291618347168,
                    -8.661497116088867,
                    -9.06186580657959,
                    -8.334992408752441,
                    -8.334988594055176,
                    -3.4763224124908447,
                    -12.53078556060791,
                    -1.8574354648590088,
                    6.326706409454346,
                    -0.6985555291175842,
                    -6.965851306915283,
                    5.209881782531738,
                    -2.7041354179382324,
                    2.895552158355713,
                    1.7319384813308716,
                    3.622277021408081,
                    4.928905963897705,
                    2.5509238243103027,
                    -14.240659713745117,
                    -0.3694850206375122,
                    -4.276214122772217,
                    -2.8165066242218018,
                    -3.4235854148864746,
                    -10.559803009033203,
                    -2.350109815597534,
                    3.582934856414795,
                    8.05644416809082,
                    -1.8908716440200806,
                    -14.301214218139648,
                    -14.301187515258789,
                    -3.026059150695801,
                    1.9319294691085815,
                    -11.621782302856445,
                    -11.621782302856445,
                    9.136119842529297,
                    6.293153285980225,
                    -6.242130279541016,
                    -14.240659713745117,
                    -3.1620163917541504,
                    -13.66430377960205,
                    -4.67366886138916,
                    -11.448867797851562,
                    4.443814277648926,
                    8.53185749053955,
                    -1.3535408973693848,
                    -14.358576774597168,
                    8.73769760131836,
                    -3.966191053390503,
                    -4.620402812957764,
                    -4.620430946350098,
                    -4.086813449859619,
                    -4.086813449859619,
                    -14.055638313293457,
                    -11.785440444946289,
                    -12.459074020385742,
                    -2.9293861389160156,
                    -4.224251747131348,
                    4.0737504959106445,
                    -9.928252220153809,
                    -5.786625862121582,
                    3.620424509048462,
                    5.234622001647949,
                    11.35384464263916,
                    11.35384464263916,
                    -7.5863213539123535,
                    -10.9512357711792,
                    -12.374017715454102,
                    1.931764841079712,
                    1.931764841079712,
                    1.931764841079712,
                    4.020784854888916,
                    -9.074925422668457,
                    -0.702001690864563,
                    9.591588973999023,
                    8.29637622833252,
                    2.6044037342071533,
                    -0.5178287625312805,
                    -11.860198020935059,
                    13.944269180297852,
                    -13.212142944335938,
                    -8.849824905395508,
                    -10.12543773651123,
                    -0.01856197975575924,
                    9.05756664276123,
                    -10.959280967712402,
                    -6.878228187561035,
                    -6.596617698669434,
                    5.006834983825684,
                    6.96703577041626,
                    0.7966605424880981,
                    -4.08383846282959,
                    -3.7433152198791504,
                    -3.714402914047241,
                    -6.598371982574463,
                    -1.558833122253418,
                    -1.2493523359298706,
                    -1.2494840621948242,
                    -11.860198020935059,
                    0.8845667839050293,
                    -12.887084007263184,
                    -12.887084007263184,
                    0.45008111000061035,
                    -8.711423873901367,
                    -8.711423873901367,
                    9.92772102355957,
                    9.229190826416016,
                    -2.894347667694092,
                    -7.378698348999023,
                    6.533538341522217,
                    1.7390931844711304,
                    -1.2496384382247925,
                    -1.2496591806411743,
                    -1.2493523359298706,
                    -3.81667160987854,
                    -9.011300086975098,
                    4.728448390960693,
                    12.52912425994873,
                    3.544536590576172,
                    -0.8471470475196838,
                    -5.214914798736572,
                    -5.214960098266602,
                    6.715341567993164,
                    4.314781188964844,
                    -5.819473743438721,
                    7.544264316558838,
                    4.808493137359619,
                    4.803084850311279,
                    4.808493137359619,
                    4.803084850311279,
                    4.803084850311279,
                    -5.81948184967041,
                    4.314781188964844,
                    4.314781188964844,
                    0.2336844503879547,
                    6.8515448570251465,
                    -4.2646660804748535,
                    -4.264674186706543,
                    -4.2646660804748535,
                    1.7590405941009521,
                    -11.835814476013184,
                    1.4051979780197144,
                    -13.500040054321289,
                    -8.393804550170898,
                    -6.087679386138916,
                    -0.20197953283786774,
                    -8.55171012878418,
                    6.504368782043457,
                    2.75264573097229,
                    -13.091846466064453,
                    4.808493137359619,
                    4.808493137359619,
                    4.808493137359619,
                    4.808493137359619,
                    12.294795989990234,
                    12.294795036315918,
                    12.294803619384766,
                    -0.1624949723482132,
                    -0.16250081360340118,
                    -5.214698314666748,
                    -5.214764595031738,
                    -13.196575164794922,
                    -11.791180610656738,
                    10.71738052368164,
                    -9.033203125,
                    -9.033010482788086,
                    -9.033926963806152,
                    4.4327874183654785,
                    -4.589515686035156,
                    7.607555866241455,
                    -13.04963493347168,
                    7.607555866241455,
                    -12.914329528808594,
                    4.808493137359619,
                    3.533958911895752,
                    -12.323719024658203,
                    0.41061514616012573,
                    -11.652410507202148,
                    3.2515528202056885,
                    -0.7246984243392944,
                    -7.094849586486816,
                    1.870642900466919,
                    1.8701177835464478,
                    1.8701177835464478,
                    1.8701177835464478,
                    1.8701177835464478,
                    -0.15842409431934357,
                    -6.057409286499023,
                    -12.508950233459473,
                    -5.062490463256836,
                    -1.712043046951294,
                    4.826966285705566,
                    -6.228298664093018,
                    -6.22830057144165,
                    -2.8909542560577393,
                    -2.8910465240478516,
                    -2.8910465240478516,
                    -2.8910465240478516,
                    -2.0225400924682617,
                    4.929166793823242,
                    0.9574123024940491,
                    -5.17336368560791,
                    0.3514954745769501,
                    -3.0824358463287354,
                    6.140209197998047,
                    0.19835524260997772,
                    -1.0858345031738281,
                    2.2710394859313965,
                    -1.0858345031738281,
                    -9.713418960571289,
                    -3.2578046321868896,
                    6.2469658851623535,
                    6.2469658851623535,
                    2.1680619716644287,
                    -12.396408081054688,
                    -5.943108081817627,
                    5.261327266693115,
                    5.084059715270996,
                    -6.95357608795166,
                    -6.95357608795166,
                    -9.386228561401367,
                    -2.8599209785461426,
                    -11.495977401733398,
                    -4.2593278884887695,
                    -3.2578916549682617,
                    -3.2578046321868896,
                    -9.713495254516602,
                    -6.046105861663818,
                    -1.0858345031738281,
                    9.12402057647705,
                    -8.471855163574219,
                    2.1780571937561035,
                    -4.765591144561768,
                    -4.338455677032471,
                    -11.737822532653809,
                    -4.338472366333008,
                    -4.338455677032471,
                    -4.338527202606201,
                    -5.473897457122803,
                    -2.4465458393096924,
                    -2.4465458393096924,
                    -2.446411609649658,
                    -2.446411609649658,
                    -2.4466607570648193,
                    -11.650175094604492,
                    0.9831603169441223,
                    -4.945580959320068,
                    0.9832064509391785,
                    0.9831603169441223,
                    -2.8959803581237793,
                    -2.5676591396331787,
                    -3.1990041732788086,
                    4.288885593414307,
                    -12.998821258544922,
                    2.86368989944458,
                    2.84494686126709,
                    2.84494686126709,
                    -11.080965042114258,
                    3.1323227882385254,
                    -12.1563081741333,
                    -0.017953472211956978,
                    1.5678540468215942,
                    -6.304891586303711,
                    0.9832064509391785,
                    0.9831603169441223,
                    6.2469658851623535,
                    -7.859322547912598,
                    2.988011121749878,
                    -7.302052974700928,
                    -7.900908946990967,
                    -6.991683006286621,
                    0.8165348768234253,
                    -0.09304989129304886,
                    8.696293830871582,
                    -8.2465181350708,
                    -8.853777885437012,
                    -1.3628935813903809,
                    -0.5007165670394897,
                    -0.5007179975509644,
                    -13.976602554321289,
                    -13.720291137695312,
                    -14.055448532104492,
                    -8.853779792785645,
                    3.282926321029663,
                    3.282926321029663,
                    -5.323886394500732,
                    -12.180734634399414,
                    -10.720540046691895,
                    -9.829854965209961,
                    2.280517578125,
                    -11.29552936553955,
                    -3.2704684734344482,
                    -13.057756423950195,
                    1.0801331996917725,
                    -5.918442726135254,
                    -12.649734497070312,
                    -12.649734497070312,
                    -7.506642818450928,
                    -2.005459785461426,
                    -10.389238357543945,
                    -7.202324390411377,
                    -13.419451713562012,
                    -13.24252700805664,
                    -14.055657386779785,
                    -13.360614776611328,
                    2.79162859916687,
                    2.79162859916687,
                    2.79162859916687,
                    2.79162859916687,
                    2.79162859916687,
                    -0.46327218413352966,
                    -0.46327218413352966,
                    0.8871625661849976,
                    0.03553459048271179,
                    7.585036754608154,
                    -4.741062641143799,
                    -4.741062641143799,
                    -0.35028380155563354,
                    3.2872605323791504,
                    4.728357315063477,
                    2.79162859916687,
                    -1.451866626739502,
                    2.79162859916687,
                    -10.40195369720459,
                    -13.358489036560059,
                    2.237152099609375,
                    2.2377235889434814,
                    2.2377235889434814,
                    2.7067418098449707,
                    2.7067418098449707,
                    1.8004627227783203,
                    -13.27005672454834,
                    -6.797266960144043,
                    -6.797266960144043,
                    -7.7181830406188965,
                    1.3886009454727173,
                    6.238354206085205,
                    -6.813930511474609,
                    0.41537660360336304,
                    2.79162859916687,
                    0.07063242048025131,
                    0.07260258495807648,
                    0.07063242048025131,
                    -6.04871940612793,
                    -3.2539048194885254,
                    -3.2539048194885254,
                    -3.2539310455322266,
                    -3.2539048194885254,
                    -12.035553932189941,
                    -1.8677818775177002,
                    4.166878700256348,
                    10.960960388183594,
                    -12.69189167022705,
                    -2.5015106201171875,
                    -8.273234367370605,
                    -13.269818305969238,
                    2.8578524589538574,
                    -2.385469913482666,
                    -13.097729682922363,
                    -2.385470151901245,
                    12.698561668395996,
                    12.698774337768555,
                    2.9880125522613525,
                    2.9880125522613525,
                    2.988011121749878,
                    2.9880125522613525,
                    -0.25036385655403137,
                    -2.7521188259124756,
                    -0.7999498844146729,
                    -0.8002276420593262,
                    -0.8002276420593262,
                    10.273221969604492,
                    -4.416622161865234,
                    11.22481632232666,
                    -13.133976936340332,
                    -2.6798276901245117,
                    12.698773384094238,
                    12.69874382019043,
                    -9.105608940124512,
                    -0.2836958169937134,
                    5.214146137237549,
                    8.859366416931152,
                    8.859366416931152,
                    0.07006097584962845,
                    -3.044508695602417,
                    -1.4330838918685913,
                    9.106145858764648,
                    -0.346820592880249,
                    -0.3468206524848938,
                    1.3402506113052368,
                    -9.793210983276367,
                    -1.5353498458862305,
                    0.03265852853655815,
                    -12.882246017456055,
                    0.07063242048025131,
                    0.0726025253534317,
                    8.859366416931152,
                    -0.2836958169937134,
                    8.859366416931152,
                    -6.403733730316162,
                    -1.933379888534546,
                    -11.191812515258789,
                    1.8638081550598145,
                    1.8638081550598145,
                    1.682806134223938,
                    1.6831496953964233,
                    -10.590957641601562,
                    -14.863336563110352,
                    -3.005582332611084,
                    5.837176322937012,
                    3.5583488941192627,
                    0.5697861909866333,
                    -3.9553303718566895,
                    -9.205010414123535,
                    5.690931797027588,
                    14.749394416809082,
                    -3.885904550552368,
                    8.258852005004883,
                    -2.887965202331543,
                    5.189884185791016,
                    5.189883708953857,
                    -7.326193809509277,
                    -7.32620096206665,
                    -7.32620096206665,
                    -3.5040719509124756,
                    -8.137150764465332,
                    -13.564200401306152,
                    -3.383096694946289,
                    4.040013790130615,
                    4.0399322509765625,
                    1.2805148363113403,
                    2.809654951095581,
                    4.889969825744629,
                    1.6892300844192505,
                    5.4494194984436035,
                    8.202621459960938,
                    -7.233685493469238,
                    5.272209644317627,
                    5.467240810394287,
                    5.877252578735352,
                    -6.09475040435791,
                    9.073598861694336,
                    -10.26140022277832,
                    -10.26150131225586,
                    -4.219570159912109,
                    8.850634574890137,
                    2.0370266437530518,
                    2.0370266437530518,
                    2.0370266437530518,
                    -2.754711627960205,
                    11.453594207763672,
                    8.264832496643066,
                    -3.6096205711364746,
                    -5.297561168670654,
                    -6.387971878051758,
                    -6.387971878051758,
                    -8.952170372009277,
                    10.773780822753906,
                    10.706046104431152,
                    10.706046104431152,
                    10.706046104431152,
                    10.74797248840332,
                    10.74797248840332,
                    10.706046104431152,
                    10.706046104431152,
                    10.706046104431152,
                    3.4058449268341064,
                    -5.1471662521362305,
                    -5.4845099449157715,
                    2.3571510314941406,
                    -11.979781150817871,
                    -11.979787826538086,
                    10.706046104431152,
                    -12.008647918701172,
                    -12.009654998779297,
                    9.357586860656738,
                    -0.4741825461387634,
                    -7.787267684936523,
                    -7.787330627441406,
                    -7.963124752044678,
                    1.5652910470962524,
                    1.5652910470962524,
                    9.176401138305664,
                    8.050429344177246,
                    -0.17219512164592743,
                    -0.17219512164592743,
                    5.319663047790527,
                    5.319663047790527,
                    5.319663047790527,
                    5.319663047790527,
                    1.2004514932632446,
                    -9.325305938720703,
                    -0.1722172200679779,
                    3.1003992557525635,
                    3.1003992557525635,
                    -14.19309139251709,
                    -9.666589736938477,
                    3.630354642868042,
                    0.536808431148529,
                    -5.353405475616455,
                    -8.293200492858887,
                    3.593247652053833,
                    6.908877849578857,
                    1.2516342401504517,
                    -3.913159132003784,
                    -13.879920959472656,
                    -8.421167373657227,
                    -13.61691665649414,
                    -13.080697059631348,
                    5.709272861480713,
                    -1.784416675567627,
                    -1.1412464380264282,
                    7.055265426635742,
                    2.7915194034576416,
                    2.7915141582489014,
                    -11.923503875732422,
                    -7.02226448059082,
                    -7.02182149887085,
                    -6.847287178039551,
                    -6.847176551818848,
                    -2.4718403816223145,
                    -4.13629150390625,
                    -8.7410306930542,
                    -7.184744358062744,
                    -5.019340991973877,
                    -11.408831596374512,
                    -1.4302020072937012,
                    6.766414642333984,
                    -5.224488258361816,
                    -8.361040115356445,
                    -8.361125946044922,
                    2.519641637802124,
                    -12.887109756469727,
                    -13.928595542907715,
                    7.97546911239624,
                    -0.8746954202651978,
                    -2.152517080307007,
                    -2.1525609493255615,
                    -5.997389793395996,
                    -0.39877691864967346,
                    -0.39877691864967346,
                    -0.39877161383628845,
                    0.08547922968864441,
                    -4.257369041442871,
                    -12.958892822265625,
                    -10.148898124694824,
                    0.5625287890434265,
                    -8.442556381225586,
                    -10.27822494506836,
                    -13.042816162109375,
                    -0.8746531009674072,
                    -0.8747008442878723,
                    -0.8744910359382629,
                    4.252246379852295,
                    7.976566314697266,
                    7.975436687469482,
                    7.977038860321045,
                    7.976147651672363,
                    7.977038860321045,
                    7.975947856903076,
                    2.1950268745422363,
                    7.976447582244873,
                    4.110140800476074,
                    5.735192775726318,
                    4.4382004737854,
                    3.2098681926727295,
                    -6.437779426574707,
                    0.5618277788162231,
                    -8.469415664672852,
                    -8.469308853149414,
                    0.24861998856067657,
                    -3.2016656398773193,
                    2.535701274871826,
                    2.373643636703491,
                    -11.031882286071777,
                    -12.366412162780762,
                    -8.821996688842773,
                    -13.508410453796387,
                    4.400881290435791,
                    1.1749740839004517,
                    1.1749740839004517,
                    1.5049114227294922,
                    7.68221378326416,
                    3.195775032043457,
                    3.195775032043457,
                    -4.123505115509033,
                    8.129566192626953,
                    7.90945291519165,
                    -5.058297157287598,
                    0.25661903619766235,
                    -6.6133036613464355,
                    -6.6133036613464355,
                    -6.6133036613464355,
                    -9.798043251037598,
                    -9.797945022583008,
                    -9.043100357055664,
                    -8.715789794921875,
                    -7.923625946044922,
                    -3.767580270767212,
                    -13.021549224853516,
                    -5.810680389404297,
                    -12.975948333740234,
                    -13.033612251281738,
                    5.466346263885498,
                    -5.621181011199951,
                    13.456300735473633,
                    4.617361068725586,
                    -6.6133036613464355,
                    -6.613361358642578,
                    0.025682080537080765,
                    -10.364015579223633,
                    -3.885871171951294,
                    -4.635666847229004,
                    0.2237188071012497,
                    0.059124164283275604,
                    -0.10908195376396179,
                    0.25577494502067566,
                    0.25577494502067566,
                    -0.4921486973762512,
                    -0.4921486973762512,
                    -0.319034218788147,
                    -0.319034218788147,
                    1.418297290802002,
                    2.144465684890747,
                    6.598413467407227,
                    2.590367078781128,
                    -4.904356956481934,
                    -4.904360294342041,
                    0.20142832398414612,
                    -0.4921486973762512,
                    0.20142832398414612,
                    -0.30864351987838745,
                    -4.461519241333008,
                    -4.461519241333008,
                    -13.024360656738281,
                    -14.195371627807617,
                    -12.038407325744629,
                    6.957671642303467,
                    4.379603862762451,
                    -11.64758014678955,
                    4.650007724761963,
                    -7.79751443862915,
                    -7.797697067260742,
                    3.40210223197937,
                    -0.319034218788147,
                    0.2237188071012497,
                    -0.4921486973762512,
                    0.20142832398414612,
                    0.5923122763633728,
                    -5.814979553222656,
                    -7.6061296463012695,
                    -11.655508995056152,
                    -8.006392478942871,
                    -8.006392478942871,
                    7.5745344161987305,
                    5.1316070556640625,
                    5.6222944259643555,
                    8.825798988342285,
                    -0.2827162444591522,
                    13.235221862792969,
                    -1.2926366329193115,
                    -14.885424613952637,
                    -2.151610851287842,
                    8.793083190917969,
                    -6.506239891052246,
                    9.492158889770508,
                    5.892364501953125,
                    -5.082716941833496,
                    -1.8506826162338257,
                    1.0319044589996338,
                    9.507750511169434,
                    2.430455446243286,
                    2.5034890174865723,
                    2.5034890174865723,
                    2.5261013507843018,
                    2.5401525497436523,
                    2.2856106758117676,
                    2.373643636703491,
                    5.892362594604492,
                    2.3615643978118896,
                    8.74302864074707,
                    -8.711414337158203,
                    -8.846976280212402,
                    -6.062597751617432,
                    -0.7628311514854431,
                    -0.617867648601532,
                    9.507750511169434,
                    2.4314098358154297,
                    -11.655508995056152,
                    0.5617160797119141,
                    -5.820300579071045,
                    6.605504989624023,
                    -4.199180603027344,
                    8.223043441772461,
                    -3.3748350143432617,
                    -10.16345500946045,
                    -12.153180122375488,
                    -9.03762149810791,
                    -6.389463424682617,
                    -6.881220817565918,
                    -7.283438682556152,
                    -5.45057487487793,
                    3.7045998573303223,
                    -1.3764482736587524,
                    -11.655508995056152,
                    -11.655508995056152,
                    -13.753353118896484,
                    -7.145874977111816,
                    0.1107487753033638,
                    11.809006690979004,
                    -12.243056297302246,
                    -0.8729390501976013,
                    -14.788195610046387,
                    5.54432487487793,
                    9.265767097473145,
                    -14.263975143432617,
                    5.4430131912231445,
                    -5.820300579071045,
                    -8.482841491699219,
                    -5.409417629241943,
                    -8.04896354675293,
                    0.545847475528717,
                    2.305096387863159,
                    5.936950206756592,
                    -13.087011337280273,
                    2.350064754486084,
                    -9.453103065490723,
                    -0.9700681567192078,
                    0.632980465888977,
                    -8.690203666687012,
                    -8.282615661621094,
                    -3.6589901447296143,
                    -3.659069061279297,
                    -3.6589901447296143,
                    5.695897102355957,
                    1.733497142791748,
                    1.3397226333618164,
                    1.733497142791748,
                    1.733497142791748,
                    1.733497142791748,
                    1.733497142791748,
                    1.733497142791748,
                    1.733497142791748,
                    1.733497142791748,
                    1.733497142791748,
                    3.5501210689544678,
                    1.733497142791748,
                    3.550107002258301,
                    1.4226771593093872,
                    -10.86835765838623,
                    -10.868476867675781,
                    -10.8683500289917,
                    0.5846430659294128,
                    8.89199447631836,
                    5.426734924316406,
                    -7.209065914154053,
                    -7.209065914154053,
                    -5.525717258453369,
                    -7.590013027191162,
                    1.2171598672866821,
                    -12.876250267028809,
                    4.3250017166137695,
                    -11.004992485046387,
                    -2.094552993774414,
                    -5.846482753753662,
                    1.733497142791748,
                    -8.582125663757324,
                    -9.559141159057617,
                    12.570446014404297,
                    -1.1851805448532104,
                    -7.602698802947998,
                    -7.602715492248535,
                    5.210906028747559,
                    1.1028934717178345,
                    -4.906161785125732,
                    -5.6756978034973145,
                    -1.3729901313781738,
                    -3.952224016189575,
                    0.10943448543548584,
                    -5.221570014953613,
                    -0.76520174741745,
                    -11.052644729614258,
                    -13.071436882019043,
                    1.1790374517440796,
                    1.1786997318267822,
                    0.3471284806728363,
                    0.976071834564209,
                    -9.559141159057617,
                    -9.559141159057617,
                    9.34973430633545,
                    9.043343544006348,
                    9.027156829833984,
                    9.376209259033203,
                    9.246405601501465,
                    14.170968055725098,
                    9.0361328125,
                    9.020800590515137,
                    9.336264610290527,
                    8.196033477783203,
                    8.196033477783203,
                    8.196033477783203,
                    8.196033477783203,
                    0.9759358763694763,
                    9.305066108703613,
                    14.626960754394531,
                    14.01048469543457,
                    14.51899242401123,
                    -5.64307165145874,
                    -8.571866035461426,
                    -10.090348243713379,
                    2.407407522201538,
                    2.407407522201538,
                    -2.600910186767578,
                    -6.996624946594238,
                    -6.996624946594238,
                    -6.996602535247803,
                    -8.700959205627441,
                    -8.700888633728027,
                    -8.700959205627441,
                    -6.324679851531982,
                    -6.324679851531982,
                    -6.324679851531982,
                    -5.643058776855469,
                    -2.797497272491455,
                    -2.797497272491455,
                    -12.585197448730469,
                    -13.830713272094727,
                    -7.223106861114502,
                    -7.223106861114502,
                    -7.223106861114502,
                    -7.223079204559326,
                    -1.4365506172180176,
                    -4.379172325134277,
                    -6.216931343078613,
                    12.396925926208496,
                    -7.081370830535889,
                    -3.7551679611206055,
                    3.659531354904175,
                    -4.879732608795166,
                    -4.618680477142334,
                    -2.809744358062744,
                    -2.809755563735962,
                    0.6239331364631653,
                    -13.885726928710938,
                    7.901263236999512,
                    8.697164535522461,
                    3.033088207244873,
                    3.033076047897339,
                    3.033085346221924,
                    -7.147558689117432,
                    -4.927433967590332,
                    14.345036506652832,
                    14.584928512573242,
                    14.67241382598877,
                    14.100366592407227,
                    14.322498321533203,
                    14.391144752502441,
                    14.542195320129395,
                    13.958977699279785,
                    14.37149429321289,
                    14.075030326843262,
                    3.0330851078033447,
                    3.033073663711548,
                    3.0330843925476074,
                    3.0330801010131836,
                    8.697183609008789,
                    -8.45138168334961,
                    -11.008021354675293,
                    1.7550067901611328,
                    -4.948141098022461,
                    -5.524535179138184,
                    -14.48176383972168,
                    8.697164535522461,
                    -13.481169700622559,
                    -7.8742289543151855,
                    5.057544231414795,
                    -8.776946067810059,
                    3.512834072113037,
                    8.465764999389648,
                    3.0330729484558105,
                    3.033076047897339,
                    -2.5413856506347656,
                    6.943442344665527,
                    6.94306755065918,
                    6.943443775177002,
                    -13.919188499450684,
                    -13.722926139831543,
                    1.03298819065094,
                    4.641729354858398,
                    -8.346355438232422,
                    -8.346673965454102,
                    -8.346673965454102,
                    -3.313908815383911,
                    -3.1872060298919678,
                    -6.627176761627197,
                    -11.403213500976562,
                    -13.371400833129883,
                    -12.819648742675781,
                    -6.734870910644531,
                    -1.5988115072250366,
                    -10.088685035705566,
                    -10.088667869567871,
                    -8.124022483825684,
                    -4.864094257354736,
                    -3.44879150390625,
                    -0.33965951204299927,
                    -7.573130130767822,
                    -6.749838352203369,
                    -0.37841328978538513,
                    -0.8742389678955078,
                    7.840839862823486,
                    -1.73150634765625,
                    1.4853073358535767,
                    -2.644423246383667,
                    4.82380485534668,
                    -6.259863376617432,
                    -5.958247184753418,
                    -13.684885025024414,
                    3.5105550289154053,
                    0.9531741738319397,
                    5.495035171508789,
                    3.448625326156616,
                    -1.73150634765625,
                    -0.7223469018936157,
                    -4.343574047088623,
                    -11.028094291687012,
                    -1.9122511148452759,
                    4.128115177154541,
                    1.2423993349075317,
                    7.842466831207275,
                    3.4246907234191895,
                    -10.690311431884766,
                    -4.126748561859131,
                    -13.258112907409668,
                    11.642644882202148,
                    8.674077987670898,
                    0.08569615334272385,
                    -5.705495834350586,
                    1.9722117185592651,
                    -4.343574047088623,
                    12.069673538208008,
                    6.838111877441406,
                    -11.064760208129883,
                    12.461969375610352,
                    -5.061476707458496,
                    -2.301957130432129,
                    -7.564054012298584,
                    4.685272693634033,
                    -14.10954475402832,
                    4.671069145202637,
                    11.913274765014648,
                    6.0583815574646,
                    -3.3413259983062744,
                    -2.0787220001220703,
                    -7.171372890472412,
                    9.245596885681152,
                    -13.854133605957031,
                    2.475599527359009,
                    3.599895715713501,
                    -6.741661548614502,
                    0.632980465888977,
                    1.4481693506240845,
                    8.98324966430664,
                    1.9829405546188354,
                    1.4553014039993286,
                    -3.4258382320404053,
                    -12.019137382507324,
                    -12.01913070678711,
                    -1.2218095064163208,
                    -1.2218095064163208,
                    -1.2221232652664185,
                    -1.2221232652664185,
                    5.013010025024414,
                    -4.805572986602783,
                    -4.680392265319824,
                    -4.680621147155762,
                    -4.680394649505615,
                    -0.6128921508789062,
                    1.9219202995300293,
                    1.9731075763702393,
                    1.9219202995300293,
                    1.9219202995300293,
                    6.943445682525635,
                    6.384243488311768,
                    5.069149017333984,
                    -13.653593063354492,
                    4.509908676147461,
                    -5.561593055725098,
                    -5.421219348907471,
                    -0.6128921508789062,
                    -5.421219348907471,
                    -3.4356822967529297,
                    -8.673890113830566,
                    6.948478698730469,
                    1.9147355556488037,
                    1.9219202995300293,
                    1.9731075763702393,
                    1.9829405546188354,
                    -5.422039985656738,
                    8.98324966430664,
                    -5.4183349609375,
                    -9.938691139221191,
                    -13.687259674072266,
                    -13.68836784362793,
                    -13.693222045898438,
                    -2.0455849170684814,
                    -3.9343817234039307,
                    -3.5894808769226074,
                    -9.695551872253418,
                    -6.964298248291016,
                    -6.964280605316162,
                    -6.964278697967529,
                    8.869416236877441,
                    -10.993045806884766,
                    -0.392630398273468,
                    8.98324966430664,
                    8.98324966430664,
                    8.984888076782227,
                    8.984888076782227,
                    -11.916845321655273,
                    -10.535877227783203,
                    -9.93848705291748,
                    -8.696520805358887,
                    -6.324424743652344,
                    -10.484538078308105,
                    5.26123571395874,
                    5.259703159332275,
                    5.259703159332275,
                    1.659601092338562,
                    5.26123571395874,
                    10.891921997070312,
                    10.891927719116211,
                    10.891921043395996,
                    -2.491044282913208,
                    -4.210077285766602,
                    -12.585428237915039,
                    0.27806636691093445,
                    -4.930746555328369,
                    -8.830310821533203,
                    8.781155586242676,
                    -12.75412368774414,
                    -11.056140899658203,
                    7.694290637969971,
                    7.498881816864014,
                    7.498891353607178,
                    7.584030628204346,
                    7.8555216789245605,
                    -3.4566709995269775,
                    7.952976703643799,
                    7.728270530700684,
                    7.952561378479004,
                    7.728270530700684,
                    7.7282867431640625,
                    7.49973201751709,
                    3.423581123352051,
                    7.5922980308532715,
                    -3.4568369388580322,
                    -2.1092894077301025,
                    1.958432674407959,
                    -3.10459041595459,
                    -3.104656219482422,
                    7.978501796722412,
                    7.978501796722412,
                    7.978501796722412,
                    7.978501796722412,
                    5.8419365882873535,
                    5.842206954956055,
                    5.8419365882873535,
                    5.841969013214111,
                    5.842212200164795,
                    5.8419365882873535,
                    5.8419365882873535,
                    5.842206954956055,
                    -5.823633193969727,
                    -2.763563394546509,
                    -13.061838150024414,
                    -13.062129974365234,
                    -2.4203221797943115,
                    -8.575371742248535,
                    -8.323777198791504,
                    -8.324057579040527,
                    -8.651863098144531,
                    4.5736083984375,
                    4.5736083984375,
                    2.6326842308044434,
                    -0.8001658916473389,
                    -0.8001847267150879,
                    7.68274450302124,
                    5.4443135261535645,
                    -9.115632057189941,
                    -9.115632057189941,
                    -7.3644022941589355,
                    -7.837815761566162,
                    -8.651894569396973,
                    5.573313236236572,
                    -12.042723655700684,
                    -12.042418479919434,
                    -2.4203481674194336,
                    -2.7807564735412598,
                    5.885238170623779,
                    -7.840059280395508,
                    -1.6881780624389648,
                    -1.7607842683792114,
                    -1.7607842683792114,
                    -3.8338828086853027,
                    4.525827884674072,
                    -5.288549900054932,
                    -7.840059280395508,
                    -7.840059280395508,
                    -7.840059280395508,
                    -7.840059280395508,
                    -12.385651588439941,
                    -12.042418479919434,
                    5.573313236236572,
                    -3.78609299659729,
                    -3.3599112033843994,
                    -3.018496513366699,
                    4.36784553527832,
                    -0.4221799373626709,
                    -13.714735984802246,
                    -12.883634567260742,
                    -8.256145477294922,
                    2.204944133758545,
                    2.204944133758545,
                    2.204944133758545,
                    -11.65392780303955,
                    -4.31799840927124,
                    8.60816478729248,
                    2.5917305946350098,
                    -7.512931823730469,
                    -12.114498138427734,
                    -6.122225761413574,
                    5.039668560028076,
                    -6.122225761413574,
                    -2.0862507820129395,
                    1.2981796264648438,
                    1.2981668710708618,
                    1.298173189163208,
                    7.351823329925537,
                    -2.06839919090271,
                    -2.06840443611145,
                    -4.214898109436035,
                    8.625414848327637,
                    -5.00581693649292,
                    -4.259715557098389,
                    -4.259715557098389,
                    -4.2597246170043945,
                    1.567903995513916,
                    1.567903995513916,
                    -8.798470497131348,
                    6.960995674133301,
                    0.3142050504684448,
                    3.2585678100585938,
                    0.4852798581123352,
                    4.776004314422607,
                    4.780674457550049,
                    4.632702827453613,
                    4.893464088439941,
                    -11.80463695526123,
                    -11.80463695526123,
                    -4.310253620147705,
                    4.458090782165527,
                    4.458090782165527,
                    -11.741880416870117,
                    -11.741880416870117,
                    2.5670864582061768,
                    2.621037006378174,
                    -0.2287936806678772,
                    -0.2287936806678772,
                    4.776004314422607,
                    6.983677387237549,
                    4.471832752227783,
                    4.440466403961182,
                    7.970770359039307,
                    -3.1588294506073,
                    11.627944946289062,
                    4.0491437911987305,
                    0.8779559135437012,
                    0.8779019713401794,
                    0.8779019713401794,
                    2.564551591873169,
                    5.488921642303467,
                    -5.073758125305176,
                    -5.073755741119385,
                    5.010878086090088,
                    4.893464088439941,
                    5.010532379150391,
                    4.598537445068359,
                    4.466188430786133,
                    -9.312275886535645,
                    -4.089982986450195,
                    6.8416619300842285,
                    4.367561340332031,
                    3.490704298019409,
                    1.7801532745361328,
                    0.341598778963089,
                    0.1598823368549347,
                    2.1936843395233154,
                    4.3493852615356445,
                    -7.560027599334717,
                    -4.041034698486328,
                    -10.802735328674316,
                    9.427926063537598,
                    -3.7685909271240234,
                    -3.768512487411499,
                    -3.768625497817993,
                    -7.560027599334717,
                    -2.9297637939453125,
                    -2.0888218879699707,
                    8.830793380737305,
                    -11.356605529785156,
                    -3.3423595428466797,
                    -8.777996063232422,
                    5.607736110687256,
                    -2.4195146560668945,
                    -8.316802978515625,
                    -1.801741123199463,
                    2.2429230213165283,
                    -6.407666206359863,
                    -13.931530952453613,
                    -11.971750259399414,
                    8.721785545349121,
                    -1.628112554550171,
                    -10.831473350524902,
                    -0.5510940551757812,
                    -3.768662452697754,
                    -3.768625497817993,
                    -3.7686147689819336,
                    -6.057721138000488,
                    -5.600427627563477,
                    3.048784017562866,
                    -1.8195178508758545,
                    -9.222990989685059,
                    -2.542607307434082,
                    4.797932147979736,
                    -12.28835678100586,
                    -13.188407897949219,
                    -12.008145332336426,
                    -9.633281707763672,
                    -9.633501052856445,
                    -9.633472442626953,
                    -9.633466720581055,
                    -1.22098708152771,
                    -12.627155303955078,
                    -1.3863186836242676,
                    -1.7086436748504639,
                    -7.206009387969971,
                    10.19316291809082,
                    -6.057725429534912,
                    -2.69614839553833,
                    -2.69614839553833,
                    -2.69614839553833,
                    3.789616823196411,
                    1.9741203784942627,
                    -7.111507892608643,
                    5.430135726928711,
                    1.5054938793182373,
                    1.5054938793182373,
                    1.5054938793182373,
                    1.5054938793182373,
                    1.5055500268936157,
                    10.193160057067871,
                    10.193160057067871,
                    10.19316291809082,
                    -11.170958518981934,
                    5.7986979484558105,
                    0.2071513533592224,
                    -5.011539936065674,
                    -5.011539936065674,
                    5.356710910797119,
                    5.356710910797119,
                    5.356914520263672,
                    5.356914520263672,
                    5.356710910797119,
                    -6.22990608215332,
                    -12.45532512664795,
                    -1.3202705383300781,
                    -1.3202705383300781,
                    -1.3202705383300781,
                    -1.3202705383300781,
                    -5.60825777053833,
                    1.4796111583709717,
                    -5.011556148529053,
                    -7.347796440124512,
                    -5.0115461349487305,
                    -5.011539936065674,
                    6.8416852951049805,
                    6.841651916503906,
                    6.841723918914795,
                    6.841723442077637,
                    6.8416924476623535,
                    9.453808784484863,
                    6.532858848571777,
                    6.532858848571777,
                    1.015204668045044,
                    -1.333789348602295,
                    -2.057215690612793,
                    -0.28289148211479187,
                    0.24877291917800903,
                    -8.953798294067383,
                    -7.407010078430176,
                    -5.011529445648193,
                    6.841679573059082,
                    2.9740657806396484,
                    2.9740657806396484,
                    -7.381839752197266,
                    -5.1096906661987305,
                    -3.785707712173462,
                    -7.9497904777526855,
                    -10.275585174560547,
                    1.8746219873428345,
                    4.320448875427246,
                    2.836491823196411,
                    -2.2650890350341797,
                    -6.04679536819458,
                    -5.965449810028076,
                    -6.719159126281738,
                    1.0956109762191772,
                    0.20715287327766418,
                    0.2071513533592224,
                    -8.143501281738281,
                    2.9740657806396484,
                    -1.9060333967208862,
                    -10.537224769592285,
                    3.004626750946045,
                    3.004626750946045,
                    3.004626750946045,
                    3.004626750946045,
                    2.9740657806396484,
                    2.9740657806396484,
                    -2.4780216217041016,
                    -3.9310193061828613,
                    -10.522035598754883,
                    -10.522039413452148,
                    3.766353130340576,
                    -8.826462745666504,
                    -7.180484771728516,
                    8.972192764282227,
                    1.9786782264709473,
                    -10.53732681274414,
                    -9.312275886535645,
                    2.6048412322998047,
                    9.87391471862793,
                    12.725096702575684,
                    -5.2136454582214355,
                    5.217982769012451,
                    -4.98106050491333,
                    -10.061354637145996,
                    -5.602461814880371,
                    15.198805809020996,
                    15.19542407989502,
                    15.19542407989502,
                    15.198805809020996,
                    15.19542407989502,
                    -9.344825744628906,
                    -5.362499237060547,
                    -5.362499237060547,
                    -6.06964635848999,
                    -6.446396827697754,
                    7.584356307983398,
                    -12.984301567077637,
                    -12.984296798706055,
                    -12.984451293945312,
                    -12.984450340270996,
                    -12.984450340270996,
                    15.347214698791504,
                    15.198805809020996,
                    15.198805809020996,
                    -5.803280830383301,
                    -7.8034772872924805,
                    -1.6870453357696533,
                    1.425844430923462,
                    -10.510354995727539,
                    7.796189308166504,
                    7.796189308166504,
                    -2.710543394088745,
                    -6.242360591888428,
                    5.238991737365723,
                    7.086297035217285,
                    6.95779275894165,
                    6.956592559814453,
                    6.986795902252197,
                    0.36540237069129944,
                    -7.3255462646484375,
                    15.19542407989502,
                    -7.187353610992432,
                    4.363210201263428,
                    -1.2956386804580688,
                    6.250206470489502,
                    6.250213146209717,
                    -1.719364047050476,
                    -8.812211036682129,
                    3.125608205795288,
                    3.124957323074341,
                    15.198805809020996,
                    15.347214698791504,
                    -4.384725093841553,
                    -4.384725093841553,
                    -7.187351703643799,
                    -7.538790225982666,
                    -7.372385025024414,
                    -12.984450340270996,
                    4.501196384429932,
                    -7.184728145599365,
                    1.7866872549057007,
                    -4.932135105133057,
                    1.7866872549057007,
                    3.26104998588562,
                    6.009084701538086,
                    -0.610537052154541,
                    -0.6104771494865417,
                    0.6623699069023132,
                    -11.17165470123291,
                    4.786258697509766,
                    4.7863006591796875,
                    3.564182996749878,
                    3.551522731781006,
                    8.443693161010742,
                    1.963666319847107,
                    1.7755975723266602,
                    -0.07800651341676712,
                    -4.0657267570495605,
                    -4.0657267570495605,
                    -5.262515068054199,
                    3.300431728363037,
                    -12.490067481994629,
                    -12.490067481994629,
                    4.501425266265869,
                    4.513906955718994,
                    -1.5998729467391968,
                    -9.149141311645508,
                    9.87391471862793,
                    9.874786376953125,
                    9.87391471862793,
                    1.7279777526855469,
                    -6.496030330657959,
                    0.7383953928947449,
                    0.7383953928947449,
                    0.8240998983383179,
                    -12.984481811523438,
                    0.8238231539726257,
                    -6.96397066116333,
                    12.72896671295166,
                    -2.99723744392395,
                    -2.3418219089508057,
                    -2.3417906761169434,
                    -2.3419735431671143,
                    -6.43787956237793,
                    -1.3775142431259155,
                    -12.66079044342041,
                    3.624544382095337,
                    -6.227561950683594,
                    6.1699700355529785,
                    4.5429558753967285,
                    -4.408555030822754,
                    -12.754997253417969,
                    -6.838529586791992,
                    -2.3417680263519287,
                    8.28534984588623,
                    8.917252540588379,
                    -12.81360912322998,
                    -5.355587482452393,
                    -4.740448951721191,
                    -4.740468502044678,
                    -4.740474224090576,
                    3.3126094341278076,
                    3.3126094341278076,
                    4.838710784912109,
                    -5.297365665435791,
                    3.3590080738067627,
                    3.3126094341278076,
                    3.291719436645508,
                    3.3126094341278076,
                    3.3126094341278076,
                    3.3126094341278076,
                    3.3126094341278076,
                    3.3126094341278076,
                    -0.0908687636256218,
                    6.106979846954346,
                    6.106826305389404,
                    -1.8738688230514526,
                    -2.881091356277466,
                    -2.244974374771118,
                    -0.7486876845359802,
                    -5.431128025054932,
                    -3.2252614498138428,
                    -0.4062535762786865,
                    -0.4066717326641083,
                    -8.590492248535156,
                    -4.740444660186768,
                    8.354609489440918,
                    7.5812153816223145,
                    -7.029289722442627,
                    -7.187180519104004,
                    10.770001411437988,
                    -4.617047309875488,
                    -4.546613693237305,
                    -4.546613693237305,
                    -15.17841911315918,
                    -2.943613052368164,
                    5.551986217498779,
                    10.03656005859375,
                    3.031879186630249,
                    4.962195873260498,
                    4.9620795249938965,
                    -0.4066716134548187,
                    4.962195873260498,
                    1.4221103191375732,
                    -2.311000347137451,
                    2.874598979949951,
                    2.874598979949951,
                    -8.086189270019531,
                    -8.086136817932129,
                    -5.505118370056152,
                    -3.930310010910034,
                    -0.36146682500839233,
                    -0.36146682500839233,
                    -4.084875583648682,
                    4.952731132507324,
                    -10.326461791992188,
                    4.962195873260498,
                    -6.2339372634887695,
                    3.3126094341278076,
                    -6.1710920333862305,
                    -11.124371528625488,
                    -9.78459358215332,
                    -9.784677505493164,
                    -12.091819763183594,
                    4.4551100730896,
                    0.47367334365844727,
                    0.47367334365844727,
                    -10.041897773742676,
                    2.205857753753662,
                    2.205857992172241,
                    -12.579485893249512,
                    2.035734176635742,
                    3.50500226020813,
                    8.485391616821289,
                    0.6635028123855591,
                    4.238784313201904,
                    -9.411165237426758,
                    12.209918022155762,
                    -13.038199424743652,
                    13.877108573913574,
                    -8.206180572509766,
                    -12.718876838684082,
                    -4.17354679107666,
                    -12.987574577331543,
                    7.929063320159912,
                    7.929071426391602,
                    -14.059184074401855,
                    6.402516841888428,
                    7.9290547370910645,
                    4.148569107055664
                  ]
                },
                {
                  "hovertemplate": "Dominant_Topic=Topic 2<br>0=%{x}<br>1=%{y}<br>2=%{z}<extra></extra>",
                  "legendgroup": "Topic 2",
                  "marker": {
                    "color": "#00cc96",
                    "opacity": 0.7,
                    "symbol": "circle"
                  },
                  "mode": "markers",
                  "name": "Topic 2",
                  "scene": "scene",
                  "showlegend": true,
                  "type": "scatter3d",
                  "x": [
                    0.6916274428367615,
                    0.2547374665737152,
                    -0.028506018221378326,
                    0.11499681323766708,
                    0.07946597039699554,
                    0.24169330298900604,
                    1.0067877769470215,
                    0.9964247345924377,
                    0.23053951561450958,
                    1.1162053346633911,
                    -0.14639580249786377,
                    -0.39282509684562683,
                    0.669122040271759,
                    0.15209662914276123,
                    0.620949387550354,
                    0.8871880173683167,
                    -0.3174653947353363,
                    0.5525197386741638,
                    0.569462239742279,
                    0.8537012934684753,
                    0.5927554368972778,
                    -0.1670505553483963,
                    -0.34453055262565613,
                    1.1237506866455078,
                    -0.013377688825130463,
                    1.18044114112854,
                    0.6698800921440125,
                    -0.14392174780368805,
                    0.39334043860435486
                  ],
                  "y": [
                    -4.917852878570557,
                    -5.761427879333496,
                    -4.375158309936523,
                    -5.007778167724609,
                    -5.320947170257568,
                    -4.507761001586914,
                    -5.592442512512207,
                    -5.474886417388916,
                    -4.478338241577148,
                    -5.1318254470825195,
                    -5.646024703979492,
                    -5.23583984375,
                    -5.481010437011719,
                    -5.527530670166016,
                    -5.437864303588867,
                    -4.717690944671631,
                    -5.134937763214111,
                    -4.992497444152832,
                    -4.29653263092041,
                    -4.624521255493164,
                    -4.3518805503845215,
                    -4.666187763214111,
                    -4.783880710601807,
                    -4.699248790740967,
                    -4.854759216308594,
                    -5.106042861938477,
                    -5.850650787353516,
                    -5.648355484008789,
                    -5.887505531311035
                  ],
                  "z": [
                    17.65309715270996,
                    16.394580841064453,
                    16.799030303955078,
                    17.611318588256836,
                    16.13718605041504,
                    17.437461853027344,
                    16.664695739746094,
                    17.289186477661133,
                    16.303375244140625,
                    16.47016716003418,
                    17.118572235107422,
                    16.653104782104492,
                    16.195886611938477,
                    17.474672317504883,
                    17.557289123535156,
                    16.322498321533203,
                    17.251903533935547,
                    16.080921173095703,
                    17.026517868041992,
                    17.300395965576172,
                    16.57729148864746,
                    17.216554641723633,
                    16.667760848999023,
                    16.869150161743164,
                    16.222339630126953,
                    17.100893020629883,
                    16.834611892700195,
                    16.645160675048828,
                    17.07453155517578
                  ]
                },
                {
                  "hovertemplate": "Dominant_Topic=Topic 3<br>0=%{x}<br>1=%{y}<br>2=%{z}<extra></extra>",
                  "legendgroup": "Topic 3",
                  "marker": {
                    "color": "#ab63fa",
                    "opacity": 0.7,
                    "symbol": "circle"
                  },
                  "mode": "markers",
                  "name": "Topic 3",
                  "scene": "scene",
                  "showlegend": true,
                  "type": "scatter3d",
                  "x": [
                    -8.45003890991211,
                    -8.45003890991211,
                    -8.449042320251465,
                    -8.45003890991211,
                    -8.449042320251465,
                    -8.449042320251465,
                    -11.286284446716309,
                    -9.02965259552002,
                    -9.02965259552002,
                    -14.518106460571289,
                    -13.28615951538086,
                    -11.112651824951172,
                    -15.445496559143066,
                    -13.28615951538086,
                    -8.449042320251465,
                    -8.45003890991211,
                    -14.868121147155762,
                    -14.982802391052246,
                    -13.231348037719727,
                    -13.458813667297363,
                    -4.011058807373047,
                    -4.011058807373047,
                    -4.011058807373047,
                    -4.011058807373047,
                    -13.816004753112793,
                    -13.222341537475586,
                    -13.701321601867676,
                    -13.701321601867676,
                    -13.116366386413574,
                    -5.955804824829102,
                    -14.868121147155762,
                    -14.868121147155762,
                    -14.868121147155762,
                    -13.701321601867676,
                    -8.449042320251465,
                    -13.116366386413574,
                    -13.447624206542969,
                    -10.947176933288574,
                    -15.456783294677734,
                    -8.980494499206543,
                    -15.048911094665527,
                    -11.627942085266113,
                    -6.030366897583008,
                    -11.62794303894043,
                    -11.62794303894043,
                    -13.458813667297363,
                    -14.857400894165039,
                    -14.506207466125488,
                    -14.080041885375977,
                    -14.212849617004395,
                    -14.868121147155762,
                    -15.632843017578125
                  ],
                  "y": [
                    11.958731651306152,
                    11.958731651306152,
                    11.95959758758545,
                    11.958731651306152,
                    11.95959758758545,
                    11.95959758758545,
                    10.261197090148926,
                    10.965271949768066,
                    10.965271949768066,
                    9.360272407531738,
                    10.0224609375,
                    10.250527381896973,
                    7.977365493774414,
                    10.0224609375,
                    11.95959758758545,
                    11.958731651306152,
                    8.619897842407227,
                    8.528237342834473,
                    10.047306060791016,
                    9.39061450958252,
                    10.999685287475586,
                    10.999685287475586,
                    10.999685287475586,
                    10.999685287475586,
                    9.777589797973633,
                    10.03681755065918,
                    10.063538551330566,
                    10.063538551330566,
                    9.62839412689209,
                    11.114001274108887,
                    8.619897842407227,
                    8.619897842407227,
                    8.619897842407227,
                    10.063538551330566,
                    11.95959758758545,
                    9.62839412689209,
                    9.399754524230957,
                    10.236692428588867,
                    7.008115291595459,
                    10.98657512664795,
                    7.8879218101501465,
                    7.236516952514648,
                    11.085410118103027,
                    7.236516952514648,
                    7.236516952514648,
                    9.39061450958252,
                    8.91308879852295,
                    9.43165397644043,
                    9.42624282836914,
                    9.790740013122559,
                    8.619897842407227,
                    7.230474948883057
                  ],
                  "z": [
                    8.4598388671875,
                    8.4598388671875,
                    8.457877159118652,
                    8.4598388671875,
                    8.457877159118652,
                    8.457877159118652,
                    6.852151870727539,
                    6.953405380249023,
                    6.953405380249023,
                    8.719114303588867,
                    10.447097778320312,
                    6.7235918045043945,
                    8.365525245666504,
                    10.447097778320312,
                    8.457877159118652,
                    8.4598388671875,
                    9.237480163574219,
                    8.886411666870117,
                    7.351968765258789,
                    7.415834426879883,
                    7.921713352203369,
                    7.921713352203369,
                    7.921713352203369,
                    7.921713352203369,
                    7.3300580978393555,
                    7.35798454284668,
                    7.23367977142334,
                    7.23367977142334,
                    7.4520745277404785,
                    6.293412685394287,
                    9.237480163574219,
                    9.237480163574219,
                    9.237480163574219,
                    7.23367977142334,
                    8.457877159118652,
                    7.4520745277404785,
                    7.420887470245361,
                    6.600888252258301,
                    7.7011847496032715,
                    6.889605522155762,
                    9.83342456817627,
                    9.381619453430176,
                    6.187545299530029,
                    9.381619453430176,
                    9.381620407104492,
                    7.415834426879883,
                    8.544175148010254,
                    8.978806495666504,
                    10.007756233215332,
                    8.890519142150879,
                    9.237480163574219,
                    8.185539245605469
                  ]
                },
                {
                  "hovertemplate": "Dominant_Topic=Topic 4<br>0=%{x}<br>1=%{y}<br>2=%{z}<extra></extra>",
                  "legendgroup": "Topic 4",
                  "marker": {
                    "color": "#FFA15A",
                    "opacity": 0.7,
                    "symbol": "circle"
                  },
                  "mode": "markers",
                  "name": "Topic 4",
                  "scene": "scene",
                  "showlegend": true,
                  "type": "scatter3d",
                  "x": [
                    5.291911602020264,
                    4.79679536819458,
                    4.79679536819458,
                    4.79679536819458,
                    5.108300685882568,
                    5.108300685882568,
                    5.108300685882568,
                    2.731546401977539,
                    2.731546401977539,
                    2.731546401977539,
                    2.731546401977539,
                    2.731546401977539,
                    2.731546401977539,
                    2.731546401977539,
                    2.731546401977539,
                    2.731546401977539,
                    2.731546401977539,
                    2.731546401977539,
                    6.558627128601074,
                    6.558627128601074,
                    6.558627128601074,
                    2.731546401977539,
                    6.558627128601074,
                    5.108300685882568,
                    6.558627128601074,
                    5.108300685882568,
                    4.531291484832764,
                    5.64718770980835,
                    5.108300685882568,
                    4.461724281311035,
                    6.558627128601074,
                    6.558627128601074,
                    6.558627128601074,
                    6.558627128601074,
                    5.108300685882568,
                    6.558627128601074,
                    6.558627128601074
                  ],
                  "y": [
                    -8.28561782836914,
                    -6.741359710693359,
                    -6.741359710693359,
                    -6.741359710693359,
                    -7.376323223114014,
                    -7.376323223114014,
                    -7.376323223114014,
                    -11.764923095703125,
                    -11.764923095703125,
                    -11.764923095703125,
                    -11.764923095703125,
                    -11.764923095703125,
                    -11.764923095703125,
                    -11.764923095703125,
                    -11.764923095703125,
                    -11.764923095703125,
                    -11.764923095703125,
                    -11.764923095703125,
                    -10.813033103942871,
                    -10.813033103942871,
                    -10.813033103942871,
                    -11.764923095703125,
                    -10.813033103942871,
                    -7.376323223114014,
                    -10.813033103942871,
                    -7.376323223114014,
                    -7.3671393394470215,
                    -7.749409198760986,
                    -7.376323223114014,
                    -7.862166404724121,
                    -10.813033103942871,
                    -10.813033103942871,
                    -10.813033103942871,
                    -10.813033103942871,
                    -7.376323223114014,
                    -10.813033103942871,
                    -10.813033103942871
                  ],
                  "z": [
                    7.799429416656494,
                    6.437844753265381,
                    6.437844753265381,
                    6.437844753265381,
                    7.561291694641113,
                    7.561291694641113,
                    7.561291694641113,
                    8.061108589172363,
                    8.061108589172363,
                    8.061108589172363,
                    8.061108589172363,
                    8.061108589172363,
                    8.061108589172363,
                    8.061108589172363,
                    8.061108589172363,
                    8.061108589172363,
                    8.061108589172363,
                    8.061108589172363,
                    5.84806489944458,
                    5.84806489944458,
                    5.84806489944458,
                    8.061108589172363,
                    5.84806489944458,
                    7.561291694641113,
                    5.84806489944458,
                    7.561291694641113,
                    6.566000938415527,
                    7.835289001464844,
                    7.561291694641113,
                    6.905167102813721,
                    5.84806489944458,
                    5.84806489944458,
                    5.84806489944458,
                    5.84806489944458,
                    7.561291694641113,
                    5.84806489944458,
                    5.84806489944458
                  ]
                },
                {
                  "hovertemplate": "Dominant_Topic=Topic 5<br>0=%{x}<br>1=%{y}<br>2=%{z}<extra></extra>",
                  "legendgroup": "Topic 5",
                  "marker": {
                    "color": "#19d3f3",
                    "opacity": 0.7,
                    "symbol": "circle"
                  },
                  "mode": "markers",
                  "name": "Topic 5",
                  "scene": "scene",
                  "showlegend": true,
                  "type": "scatter3d",
                  "x": [
                    -7.275900363922119,
                    -6.986878871917725,
                    -7.475291728973389,
                    -7.275900363922119,
                    -7.275900363922119,
                    -7.349677562713623,
                    -6.451078414916992,
                    -6.5616044998168945,
                    -6.981678009033203,
                    -7.264186382293701,
                    -6.385354042053223,
                    -0.8290688991546631,
                    -6.434860706329346,
                    -6.385354042053223,
                    -7.275900363922119,
                    -6.671167373657227,
                    -6.848644733428955,
                    -7.275900363922119,
                    -6.766918182373047,
                    -6.981678009033203,
                    -7.275900363922119,
                    -6.981678009033203,
                    -6.417728424072266
                  ],
                  "y": [
                    3.2377495765686035,
                    4.047684669494629,
                    3.509791612625122,
                    3.2377495765686035,
                    3.2377495765686035,
                    3.723324775695801,
                    3.815084934234619,
                    2.8393685817718506,
                    2.967602491378784,
                    4.0099992752075195,
                    3.443486452102661,
                    5.602808475494385,
                    3.413072109222412,
                    3.443486452102661,
                    3.2377495765686035,
                    3.815121650695801,
                    3.6961004734039307,
                    3.2377495765686035,
                    3.9596688747406006,
                    2.967602491378784,
                    3.2377495765686035,
                    2.967602491378784,
                    3.048704147338867
                  ],
                  "z": [
                    18.608049392700195,
                    18.491680145263672,
                    17.818967819213867,
                    18.608049392700195,
                    18.608049392700195,
                    17.843570709228516,
                    18.36933708190918,
                    18.35897445678711,
                    17.79530906677246,
                    18.236621856689453,
                    17.946365356445312,
                    1.5250482559204102,
                    18.717802047729492,
                    17.946365356445312,
                    18.608049392700195,
                    18.73847770690918,
                    17.675077438354492,
                    18.608049392700195,
                    17.964733123779297,
                    17.79530906677246,
                    18.608049392700195,
                    17.79530906677246,
                    18.482746124267578
                  ]
                },
                {
                  "hovertemplate": "Dominant_Topic=Topic 6<br>0=%{x}<br>1=%{y}<br>2=%{z}<extra></extra>",
                  "legendgroup": "Topic 6",
                  "marker": {
                    "color": "#FF6692",
                    "opacity": 0.7,
                    "symbol": "circle"
                  },
                  "mode": "markers",
                  "name": "Topic 6",
                  "scene": "scene",
                  "showlegend": true,
                  "type": "scatter3d",
                  "x": [
                    13.917332649230957,
                    13.676092147827148,
                    14.276214599609375,
                    13.718523025512695,
                    13.433130264282227,
                    14.014434814453125,
                    13.676092147827148,
                    14.308324813842773,
                    13.66774845123291,
                    14.414571762084961,
                    13.437357902526855,
                    13.585176467895508,
                    13.422890663146973,
                    14.254871368408203,
                    14.456917762756348,
                    14.308324813842773,
                    13.898149490356445,
                    13.24526309967041,
                    14.497148513793945,
                    14.128456115722656,
                    13.874329566955566,
                    14.619478225708008,
                    14.704744338989258,
                    13.28385066986084,
                    13.983444213867188,
                    14.704744338989258,
                    14.704734802246094,
                    14.83790111541748,
                    14.837902069091797,
                    14.747712135314941,
                    14.840818405151367,
                    13.849693298339844
                  ],
                  "y": [
                    -10.31896686553955,
                    -10.582842826843262,
                    -9.890118598937988,
                    -10.063092231750488,
                    -9.735369682312012,
                    -9.78984546661377,
                    -10.582842826843262,
                    -10.379462242126465,
                    -9.987825393676758,
                    -9.728141784667969,
                    -9.678959846496582,
                    -9.44643497467041,
                    -10.421916007995605,
                    -10.643938064575195,
                    -10.301088333129883,
                    -10.379462242126465,
                    -9.420140266418457,
                    -10.148033142089844,
                    -9.652371406555176,
                    -9.401737213134766,
                    -10.6738862991333,
                    -10.093852043151855,
                    -3.3576576709747314,
                    -10.066530227661133,
                    -9.582887649536133,
                    -3.3576576709747314,
                    -3.357653856277466,
                    -4.549507141113281,
                    -4.549507141113281,
                    -3.8352913856506348,
                    -4.653530120849609,
                    -6.573423862457275
                  ],
                  "z": [
                    10.727001190185547,
                    9.767226219177246,
                    10.646894454956055,
                    9.388562202453613,
                    9.710692405700684,
                    9.431038856506348,
                    9.767226219177246,
                    9.639824867248535,
                    10.714326858520508,
                    9.664984703063965,
                    10.390585899353027,
                    10.13089656829834,
                    10.381936073303223,
                    10.1791353225708,
                    10.452183723449707,
                    9.639824867248535,
                    9.74128246307373,
                    10.232274055480957,
                    10.143464088439941,
                    10.181628227233887,
                    10.386387825012207,
                    10.106069564819336,
                    4.871453285217285,
                    9.787546157836914,
                    10.581829071044922,
                    4.871453285217285,
                    4.871450901031494,
                    3.918501138687134,
                    3.918501138687134,
                    4.4055986404418945,
                    3.8699870109558105,
                    2.731926441192627
                  ]
                },
                {
                  "hovertemplate": "Dominant_Topic=Topic 7<br>0=%{x}<br>1=%{y}<br>2=%{z}<extra></extra>",
                  "legendgroup": "Topic 7",
                  "marker": {
                    "color": "#B6E880",
                    "opacity": 0.7,
                    "symbol": "circle"
                  },
                  "mode": "markers",
                  "name": "Topic 7",
                  "scene": "scene",
                  "showlegend": true,
                  "type": "scatter3d",
                  "x": [
                    -1.9946318864822388,
                    -1.730634093284607,
                    -2.190605878829956,
                    -1.56681227684021,
                    -1.9317599534988403,
                    -2.1511709690093994,
                    -1.6785438060760498,
                    -2.2717504501342773,
                    -1.6785438060760498,
                    -2.1511709690093994,
                    -2.2717504501342773,
                    -1.6372692584991455,
                    -2.2717504501342773,
                    -2.0034232139587402,
                    -1.56681227684021,
                    0.26070061326026917,
                    -1.730634093284607
                  ],
                  "y": [
                    0.2631567418575287,
                    0.04280676692724228,
                    0.7203593850135803,
                    0.5689827799797058,
                    0.8516819477081299,
                    0.6276456117630005,
                    0.21499618887901306,
                    0.17029619216918945,
                    0.21499618887901306,
                    0.6276456117630005,
                    0.17029619216918945,
                    0.6639829874038696,
                    0.17029619216918945,
                    0.5541280508041382,
                    0.5689827799797058,
                    -0.10216259956359863,
                    0.04280676692724228
                  ],
                  "z": [
                    7.552059650421143,
                    7.299501419067383,
                    6.919292449951172,
                    7.324446678161621,
                    7.063787937164307,
                    7.435057163238525,
                    6.797439098358154,
                    7.027200698852539,
                    6.797439098358154,
                    7.435057163238525,
                    7.027200698852539,
                    6.889658451080322,
                    7.027200698852539,
                    6.693924903869629,
                    7.324446678161621,
                    -0.7263625860214233,
                    7.299501419067383
                  ]
                }
              ],
              "layout": {
                "height": 800,
                "legend": {
                  "title": {
                    "text": "Dominant_Topic"
                  },
                  "tracegroupgap": 0
                },
                "scene": {
                  "domain": {
                    "x": [
                      0,
                      1
                    ],
                    "y": [
                      0,
                      1
                    ]
                  },
                  "xaxis": {
                    "title": {
                      "text": "0"
                    }
                  },
                  "yaxis": {
                    "title": {
                      "text": "1"
                    }
                  },
                  "zaxis": {
                    "title": {
                      "text": "2"
                    }
                  }
                },
                "template": {
                  "data": {
                    "bar": [
                      {
                        "error_x": {
                          "color": "#2a3f5f"
                        },
                        "error_y": {
                          "color": "#2a3f5f"
                        },
                        "marker": {
                          "line": {
                            "color": "#E5ECF6",
                            "width": 0.5
                          },
                          "pattern": {
                            "fillmode": "overlay",
                            "size": 10,
                            "solidity": 0.2
                          }
                        },
                        "type": "bar"
                      }
                    ],
                    "barpolar": [
                      {
                        "marker": {
                          "line": {
                            "color": "#E5ECF6",
                            "width": 0.5
                          },
                          "pattern": {
                            "fillmode": "overlay",
                            "size": 10,
                            "solidity": 0.2
                          }
                        },
                        "type": "barpolar"
                      }
                    ],
                    "carpet": [
                      {
                        "aaxis": {
                          "endlinecolor": "#2a3f5f",
                          "gridcolor": "white",
                          "linecolor": "white",
                          "minorgridcolor": "white",
                          "startlinecolor": "#2a3f5f"
                        },
                        "baxis": {
                          "endlinecolor": "#2a3f5f",
                          "gridcolor": "white",
                          "linecolor": "white",
                          "minorgridcolor": "white",
                          "startlinecolor": "#2a3f5f"
                        },
                        "type": "carpet"
                      }
                    ],
                    "choropleth": [
                      {
                        "colorbar": {
                          "outlinewidth": 0,
                          "ticks": ""
                        },
                        "type": "choropleth"
                      }
                    ],
                    "contour": [
                      {
                        "colorbar": {
                          "outlinewidth": 0,
                          "ticks": ""
                        },
                        "colorscale": [
                          [
                            0,
                            "#0d0887"
                          ],
                          [
                            0.1111111111111111,
                            "#46039f"
                          ],
                          [
                            0.2222222222222222,
                            "#7201a8"
                          ],
                          [
                            0.3333333333333333,
                            "#9c179e"
                          ],
                          [
                            0.4444444444444444,
                            "#bd3786"
                          ],
                          [
                            0.5555555555555556,
                            "#d8576b"
                          ],
                          [
                            0.6666666666666666,
                            "#ed7953"
                          ],
                          [
                            0.7777777777777778,
                            "#fb9f3a"
                          ],
                          [
                            0.8888888888888888,
                            "#fdca26"
                          ],
                          [
                            1,
                            "#f0f921"
                          ]
                        ],
                        "type": "contour"
                      }
                    ],
                    "contourcarpet": [
                      {
                        "colorbar": {
                          "outlinewidth": 0,
                          "ticks": ""
                        },
                        "type": "contourcarpet"
                      }
                    ],
                    "heatmap": [
                      {
                        "colorbar": {
                          "outlinewidth": 0,
                          "ticks": ""
                        },
                        "colorscale": [
                          [
                            0,
                            "#0d0887"
                          ],
                          [
                            0.1111111111111111,
                            "#46039f"
                          ],
                          [
                            0.2222222222222222,
                            "#7201a8"
                          ],
                          [
                            0.3333333333333333,
                            "#9c179e"
                          ],
                          [
                            0.4444444444444444,
                            "#bd3786"
                          ],
                          [
                            0.5555555555555556,
                            "#d8576b"
                          ],
                          [
                            0.6666666666666666,
                            "#ed7953"
                          ],
                          [
                            0.7777777777777778,
                            "#fb9f3a"
                          ],
                          [
                            0.8888888888888888,
                            "#fdca26"
                          ],
                          [
                            1,
                            "#f0f921"
                          ]
                        ],
                        "type": "heatmap"
                      }
                    ],
                    "heatmapgl": [
                      {
                        "colorbar": {
                          "outlinewidth": 0,
                          "ticks": ""
                        },
                        "colorscale": [
                          [
                            0,
                            "#0d0887"
                          ],
                          [
                            0.1111111111111111,
                            "#46039f"
                          ],
                          [
                            0.2222222222222222,
                            "#7201a8"
                          ],
                          [
                            0.3333333333333333,
                            "#9c179e"
                          ],
                          [
                            0.4444444444444444,
                            "#bd3786"
                          ],
                          [
                            0.5555555555555556,
                            "#d8576b"
                          ],
                          [
                            0.6666666666666666,
                            "#ed7953"
                          ],
                          [
                            0.7777777777777778,
                            "#fb9f3a"
                          ],
                          [
                            0.8888888888888888,
                            "#fdca26"
                          ],
                          [
                            1,
                            "#f0f921"
                          ]
                        ],
                        "type": "heatmapgl"
                      }
                    ],
                    "histogram": [
                      {
                        "marker": {
                          "pattern": {
                            "fillmode": "overlay",
                            "size": 10,
                            "solidity": 0.2
                          }
                        },
                        "type": "histogram"
                      }
                    ],
                    "histogram2d": [
                      {
                        "colorbar": {
                          "outlinewidth": 0,
                          "ticks": ""
                        },
                        "colorscale": [
                          [
                            0,
                            "#0d0887"
                          ],
                          [
                            0.1111111111111111,
                            "#46039f"
                          ],
                          [
                            0.2222222222222222,
                            "#7201a8"
                          ],
                          [
                            0.3333333333333333,
                            "#9c179e"
                          ],
                          [
                            0.4444444444444444,
                            "#bd3786"
                          ],
                          [
                            0.5555555555555556,
                            "#d8576b"
                          ],
                          [
                            0.6666666666666666,
                            "#ed7953"
                          ],
                          [
                            0.7777777777777778,
                            "#fb9f3a"
                          ],
                          [
                            0.8888888888888888,
                            "#fdca26"
                          ],
                          [
                            1,
                            "#f0f921"
                          ]
                        ],
                        "type": "histogram2d"
                      }
                    ],
                    "histogram2dcontour": [
                      {
                        "colorbar": {
                          "outlinewidth": 0,
                          "ticks": ""
                        },
                        "colorscale": [
                          [
                            0,
                            "#0d0887"
                          ],
                          [
                            0.1111111111111111,
                            "#46039f"
                          ],
                          [
                            0.2222222222222222,
                            "#7201a8"
                          ],
                          [
                            0.3333333333333333,
                            "#9c179e"
                          ],
                          [
                            0.4444444444444444,
                            "#bd3786"
                          ],
                          [
                            0.5555555555555556,
                            "#d8576b"
                          ],
                          [
                            0.6666666666666666,
                            "#ed7953"
                          ],
                          [
                            0.7777777777777778,
                            "#fb9f3a"
                          ],
                          [
                            0.8888888888888888,
                            "#fdca26"
                          ],
                          [
                            1,
                            "#f0f921"
                          ]
                        ],
                        "type": "histogram2dcontour"
                      }
                    ],
                    "mesh3d": [
                      {
                        "colorbar": {
                          "outlinewidth": 0,
                          "ticks": ""
                        },
                        "type": "mesh3d"
                      }
                    ],
                    "parcoords": [
                      {
                        "line": {
                          "colorbar": {
                            "outlinewidth": 0,
                            "ticks": ""
                          }
                        },
                        "type": "parcoords"
                      }
                    ],
                    "pie": [
                      {
                        "automargin": true,
                        "type": "pie"
                      }
                    ],
                    "scatter": [
                      {
                        "fillpattern": {
                          "fillmode": "overlay",
                          "size": 10,
                          "solidity": 0.2
                        },
                        "type": "scatter"
                      }
                    ],
                    "scatter3d": [
                      {
                        "line": {
                          "colorbar": {
                            "outlinewidth": 0,
                            "ticks": ""
                          }
                        },
                        "marker": {
                          "colorbar": {
                            "outlinewidth": 0,
                            "ticks": ""
                          }
                        },
                        "type": "scatter3d"
                      }
                    ],
                    "scattercarpet": [
                      {
                        "marker": {
                          "colorbar": {
                            "outlinewidth": 0,
                            "ticks": ""
                          }
                        },
                        "type": "scattercarpet"
                      }
                    ],
                    "scattergeo": [
                      {
                        "marker": {
                          "colorbar": {
                            "outlinewidth": 0,
                            "ticks": ""
                          }
                        },
                        "type": "scattergeo"
                      }
                    ],
                    "scattergl": [
                      {
                        "marker": {
                          "colorbar": {
                            "outlinewidth": 0,
                            "ticks": ""
                          }
                        },
                        "type": "scattergl"
                      }
                    ],
                    "scattermapbox": [
                      {
                        "marker": {
                          "colorbar": {
                            "outlinewidth": 0,
                            "ticks": ""
                          }
                        },
                        "type": "scattermapbox"
                      }
                    ],
                    "scatterpolar": [
                      {
                        "marker": {
                          "colorbar": {
                            "outlinewidth": 0,
                            "ticks": ""
                          }
                        },
                        "type": "scatterpolar"
                      }
                    ],
                    "scatterpolargl": [
                      {
                        "marker": {
                          "colorbar": {
                            "outlinewidth": 0,
                            "ticks": ""
                          }
                        },
                        "type": "scatterpolargl"
                      }
                    ],
                    "scatterternary": [
                      {
                        "marker": {
                          "colorbar": {
                            "outlinewidth": 0,
                            "ticks": ""
                          }
                        },
                        "type": "scatterternary"
                      }
                    ],
                    "surface": [
                      {
                        "colorbar": {
                          "outlinewidth": 0,
                          "ticks": ""
                        },
                        "colorscale": [
                          [
                            0,
                            "#0d0887"
                          ],
                          [
                            0.1111111111111111,
                            "#46039f"
                          ],
                          [
                            0.2222222222222222,
                            "#7201a8"
                          ],
                          [
                            0.3333333333333333,
                            "#9c179e"
                          ],
                          [
                            0.4444444444444444,
                            "#bd3786"
                          ],
                          [
                            0.5555555555555556,
                            "#d8576b"
                          ],
                          [
                            0.6666666666666666,
                            "#ed7953"
                          ],
                          [
                            0.7777777777777778,
                            "#fb9f3a"
                          ],
                          [
                            0.8888888888888888,
                            "#fdca26"
                          ],
                          [
                            1,
                            "#f0f921"
                          ]
                        ],
                        "type": "surface"
                      }
                    ],
                    "table": [
                      {
                        "cells": {
                          "fill": {
                            "color": "#EBF0F8"
                          },
                          "line": {
                            "color": "white"
                          }
                        },
                        "header": {
                          "fill": {
                            "color": "#C8D4E3"
                          },
                          "line": {
                            "color": "white"
                          }
                        },
                        "type": "table"
                      }
                    ]
                  },
                  "layout": {
                    "annotationdefaults": {
                      "arrowcolor": "#2a3f5f",
                      "arrowhead": 0,
                      "arrowwidth": 1
                    },
                    "autotypenumbers": "strict",
                    "coloraxis": {
                      "colorbar": {
                        "outlinewidth": 0,
                        "ticks": ""
                      }
                    },
                    "colorscale": {
                      "diverging": [
                        [
                          0,
                          "#8e0152"
                        ],
                        [
                          0.1,
                          "#c51b7d"
                        ],
                        [
                          0.2,
                          "#de77ae"
                        ],
                        [
                          0.3,
                          "#f1b6da"
                        ],
                        [
                          0.4,
                          "#fde0ef"
                        ],
                        [
                          0.5,
                          "#f7f7f7"
                        ],
                        [
                          0.6,
                          "#e6f5d0"
                        ],
                        [
                          0.7,
                          "#b8e186"
                        ],
                        [
                          0.8,
                          "#7fbc41"
                        ],
                        [
                          0.9,
                          "#4d9221"
                        ],
                        [
                          1,
                          "#276419"
                        ]
                      ],
                      "sequential": [
                        [
                          0,
                          "#0d0887"
                        ],
                        [
                          0.1111111111111111,
                          "#46039f"
                        ],
                        [
                          0.2222222222222222,
                          "#7201a8"
                        ],
                        [
                          0.3333333333333333,
                          "#9c179e"
                        ],
                        [
                          0.4444444444444444,
                          "#bd3786"
                        ],
                        [
                          0.5555555555555556,
                          "#d8576b"
                        ],
                        [
                          0.6666666666666666,
                          "#ed7953"
                        ],
                        [
                          0.7777777777777778,
                          "#fb9f3a"
                        ],
                        [
                          0.8888888888888888,
                          "#fdca26"
                        ],
                        [
                          1,
                          "#f0f921"
                        ]
                      ],
                      "sequentialminus": [
                        [
                          0,
                          "#0d0887"
                        ],
                        [
                          0.1111111111111111,
                          "#46039f"
                        ],
                        [
                          0.2222222222222222,
                          "#7201a8"
                        ],
                        [
                          0.3333333333333333,
                          "#9c179e"
                        ],
                        [
                          0.4444444444444444,
                          "#bd3786"
                        ],
                        [
                          0.5555555555555556,
                          "#d8576b"
                        ],
                        [
                          0.6666666666666666,
                          "#ed7953"
                        ],
                        [
                          0.7777777777777778,
                          "#fb9f3a"
                        ],
                        [
                          0.8888888888888888,
                          "#fdca26"
                        ],
                        [
                          1,
                          "#f0f921"
                        ]
                      ]
                    },
                    "colorway": [
                      "#636efa",
                      "#EF553B",
                      "#00cc96",
                      "#ab63fa",
                      "#FFA15A",
                      "#19d3f3",
                      "#FF6692",
                      "#B6E880",
                      "#FF97FF",
                      "#FECB52"
                    ],
                    "font": {
                      "color": "#2a3f5f"
                    },
                    "geo": {
                      "bgcolor": "white",
                      "lakecolor": "white",
                      "landcolor": "#E5ECF6",
                      "showlakes": true,
                      "showland": true,
                      "subunitcolor": "white"
                    },
                    "hoverlabel": {
                      "align": "left"
                    },
                    "hovermode": "closest",
                    "mapbox": {
                      "style": "light"
                    },
                    "paper_bgcolor": "white",
                    "plot_bgcolor": "#E5ECF6",
                    "polar": {
                      "angularaxis": {
                        "gridcolor": "white",
                        "linecolor": "white",
                        "ticks": ""
                      },
                      "bgcolor": "#E5ECF6",
                      "radialaxis": {
                        "gridcolor": "white",
                        "linecolor": "white",
                        "ticks": ""
                      }
                    },
                    "scene": {
                      "xaxis": {
                        "backgroundcolor": "#E5ECF6",
                        "gridcolor": "white",
                        "gridwidth": 2,
                        "linecolor": "white",
                        "showbackground": true,
                        "ticks": "",
                        "zerolinecolor": "white"
                      },
                      "yaxis": {
                        "backgroundcolor": "#E5ECF6",
                        "gridcolor": "white",
                        "gridwidth": 2,
                        "linecolor": "white",
                        "showbackground": true,
                        "ticks": "",
                        "zerolinecolor": "white"
                      },
                      "zaxis": {
                        "backgroundcolor": "#E5ECF6",
                        "gridcolor": "white",
                        "gridwidth": 2,
                        "linecolor": "white",
                        "showbackground": true,
                        "ticks": "",
                        "zerolinecolor": "white"
                      }
                    },
                    "shapedefaults": {
                      "line": {
                        "color": "#2a3f5f"
                      }
                    },
                    "ternary": {
                      "aaxis": {
                        "gridcolor": "white",
                        "linecolor": "white",
                        "ticks": ""
                      },
                      "baxis": {
                        "gridcolor": "white",
                        "linecolor": "white",
                        "ticks": ""
                      },
                      "bgcolor": "#E5ECF6",
                      "caxis": {
                        "gridcolor": "white",
                        "linecolor": "white",
                        "ticks": ""
                      }
                    },
                    "title": {
                      "x": 0.05
                    },
                    "xaxis": {
                      "automargin": true,
                      "gridcolor": "white",
                      "linecolor": "white",
                      "ticks": "",
                      "title": {
                        "standoff": 15
                      },
                      "zerolinecolor": "white",
                      "zerolinewidth": 2
                    },
                    "yaxis": {
                      "automargin": true,
                      "gridcolor": "white",
                      "linecolor": "white",
                      "ticks": "",
                      "title": {
                        "standoff": 15
                      },
                      "zerolinecolor": "white",
                      "zerolinewidth": 2
                    }
                  }
                },
                "title": {
                  "text": "3d TSNE Plot for Topic Model"
                },
                "width": 900
              }
            },
            "text/html": [
              "<div>                            <div id=\"e8edaa35-1330-4a61-bec6-112889133555\" class=\"plotly-graph-div\" style=\"height:800px; width:900px;\"></div>            <script type=\"text/javascript\">                require([\"plotly\"], function(Plotly) {                    window.PLOTLYENV=window.PLOTLYENV || {};                                    if (document.getElementById(\"e8edaa35-1330-4a61-bec6-112889133555\")) {                    Plotly.newPlot(                        \"e8edaa35-1330-4a61-bec6-112889133555\",                        [{\"hovertemplate\":\"Dominant_Topic=Topic 0<br>0=%{x}<br>1=%{y}<br>2=%{z}<extra></extra>\",\"legendgroup\":\"Topic 0\",\"marker\":{\"color\":\"#636efa\",\"opacity\":0.7,\"symbol\":\"circle\"},\"mode\":\"markers\",\"name\":\"Topic 0\",\"scene\":\"scene\",\"showlegend\":true,\"x\":[2.9069769382476807,3.7629785537719727,3.7523179054260254,3.5729386806488037,2.7619290351867676,3.3542628288269043,4.092728137969971,3.1938540935516357,2.4387786388397217,2.888834238052368,2.9393723011016846,3.357332706451416,3.8332786560058594,3.8515913486480713,3.0074281692504883,2.269411563873291,2.885915994644165,3.8970718383789062,2.9569737911224365,3.510753870010376,2.5830304622650146,4.104394912719727,3.548374652862549,1.956728219985962,1.8728686571121216,2.348222017288208,2.072566032409668,3.114086389541626,2.4644949436187744,3.079547882080078,2.281708002090454,2.3628077507019043,3.169375419616699,3.030494451522827,2.681408643722534,2.240058660507202,3.028128147125244,3.7217187881469727,1.9631768465042114,4.022449970245361,2.033501148223877],\"y\":[-23.76656150817871,-22.47794532775879,-22.170988082885742,-22.80289649963379,-23.113534927368164,-23.502910614013672,-22.24761390686035,-22.348726272583008,-22.236337661743164,-23.319217681884766,-22.48008155822754,-23.069454193115234,-21.914583206176758,-23.168148040771484,-22.798654556274414,-23.18036651611328,-21.5767765045166,-23.277347564697266,-21.56338119506836,-21.50775718688965,-22.42205810546875,-22.680343627929688,-23.587284088134766,-23.142608642578125,-22.574771881103516,-23.42146110534668,-21.921987533569336,-23.58403968811035,-23.597089767456055,-22.508644104003906,-21.981115341186523,-22.901317596435547,-21.77079963684082,-22.61760902404785,-21.478473663330078,-21.78236198425293,-21.94744300842285,-21.792524337768555,-22.435653686523438,-22.80030632019043,-22.65052032470703],\"z\":[-0.6227049827575684,-1.647826910018921,0.07874932140111923,0.2804447412490845,-1.7739843130111694,-0.05901075154542923,-0.6826938390731812,-1.7863590717315674,0.20116984844207764,0.15953737497329712,-0.894302487373352,-1.7370880842208862,-1.2285535335540771,-1.309200644493103,-0.677643895149231,-1.395771861076355,-1.2195758819580078,-0.48716428875923157,-0.17273734509944916,-0.7620204091072083,-1.8481663465499878,-1.0394463539123535,-0.8417930006980896,-0.5751057863235474,-0.8094345927238464,-0.2732027769088745,-0.8980700373649597,-1.332661747932434,-1.0192077159881592,-0.5553742051124573,-1.4692133665084839,0.19027695059776306,-1.5909076929092407,0.4319605231285095,-0.7349061965942383,-0.30652257800102234,0.25371426343917847,-0.32976338267326355,-0.19742818176746368,-0.23999078571796417,-1.3733623027801514],\"type\":\"scatter3d\"},{\"hovertemplate\":\"Dominant_Topic=Topic 1<br>0=%{x}<br>1=%{y}<br>2=%{z}<extra></extra>\",\"legendgroup\":\"Topic 1\",\"marker\":{\"color\":\"#EF553B\",\"opacity\":0.7,\"symbol\":\"circle\"},\"mode\":\"markers\",\"name\":\"Topic 1\",\"scene\":\"scene\",\"showlegend\":true,\"x\":[-0.4300519824028015,-0.24831001460552216,-0.4831247925758362,0.4709084928035736,0.6954436302185059,-0.14092205464839935,6.859241485595703,-13.04076862335205,-5.050593852996826,-2.247702121734619,0.5670197606086731,6.859241008758545,1.6122043132781982,0.16009879112243652,-0.7647525668144226,0.4436367452144623,6.6343607902526855,7.561701774597168,0.25983428955078125,-0.5561059713363647,2.28463077545166,-4.643978118896484,-0.6097548007965088,-0.7647525668144226,-0.6097548007965088,-12.940448760986328,-12.940448760986328,12.212600708007812,12.453428268432617,-12.379029273986816,0.7089157104492188,-10.970531463623047,-7.995904445648193,14.638044357299805,13.50131893157959,-6.186247825622559,-6.186247825622559,-13.102696418762207,-13.102721214294434,-13.102696418762207,-13.102696418762207,-6.186247825622559,8.282712936401367,-13.13994026184082,13.557562828063965,-10.064599990844727,2.868215322494507,4.477639675140381,0.8217107653617859,-9.773146629333496,2.2990024089813232,-6.186247825622559,-6.186247825622559,-11.482796669006348,2.037228584289551,-11.241599082946777,2.2140941619873047,-9.284610748291016,-4.270679473876953,-0.7647525668144226,-5.327843189239502,1.3774629831314087,1.1243425607681274,-15.123720169067383,9.861396789550781,9.861397743225098,9.861403465270996,1.3770766258239746,-0.4066820740699768,12.379873275756836,-9.464859008789062,-12.38544750213623,-2.655689001083374,-12.239433288574219,-6.094301700592041,-6.094278812408447,-13.662283897399902,-8.096960067749023,-1.3072466850280762,-6.988110065460205,-11.213151931762695,9.192741394042969,10.583257675170898,0.7375353574752808,8.7366943359375,8.209189414978027,5.40676212310791,-12.991991996765137,-13.887432098388672,-12.523656845092773,-11.963118553161621,-14.702493667602539,-9.852144241333008,-9.852144241333008,11.09423828125,-12.818522453308105,9.175623893737793,-8.415465354919434,-8.415513038635254,-15.419082641601562,6.788229942321777,6.789236068725586,9.175623893737793,8.961848258972168,14.36584758758545,14.36584758758545,8.70738697052002,-2.4539308547973633,-9.550593376159668,11.712392807006836,11.713071823120117,-7.126685619354248,6.01480770111084,6.014778137207031,14.210442543029785,-12.66352367401123,3.6455869674682617,0.898368239402771,-7.6532511711120605,9.489911079406738,5.135832786560059,2.8898301124572754,7.476880073547363,-8.667606353759766,4.332946300506592,9.57790756225586,7.220671653747559,12.001835823059082,13.292431831359863,14.36584758758545,9.536974906921387,10.629446983337402,11.262124061584473,4.594369411468506,7.223812103271484,-11.005005836486816,14.684329986572266,9.795694351196289,12.990401268005371,0.37887483835220337,-0.7168575525283813,-14.162676811218262,-14.162676811218262,-14.16254711151123,-12.951672554016113,-7.405889511108398,11.426048278808594,-17.35057258605957,-7.844318389892578,14.317789077758789,13.065701484680176,-10.170073509216309,-10.170071601867676,-10.170071601867676,7.387997150421143,7.3881120681762695,2.4316036701202393,8.98922061920166,5.224132061004639,-3.11933970451355,0.8641387224197388,-7.060086250305176,12.422983169555664,12.422883033752441,4.616726875305176,-2.201115131378174,8.341264724731445,8.341264724731445,2.239473581314087,-1.4460468292236328,11.943446159362793,6.153548240661621,-11.28659439086914,4.405256271362305,0.837485671043396,-13.938898086547852,4.064685821533203,13.571556091308594,8.70302677154541,8.702963829040527,6.631954193115234,10.999600410461426,0.011718184687197208,-4.300669193267822,14.695268630981445,10.93029499053955,7.510900020599365,8.954132080078125,14.034095764160156,14.03406810760498,14.03406810760498,14.034067153930664,14.034050941467285,-13.938898086547852,-14.688995361328125,-14.688732147216797,13.786072731018066,2.591217279434204,2.590977430343628,6.387668609619141,-16.014278411865234,4.900874614715576,4.900875091552734,14.034037590026855,14.033011436462402,14.034079551696777,14.03306770324707,3.775210380554199,4.405256271362305,14.325757026672363,-9.578516960144043,4.641152381896973,-2.4317007064819336,5.909989833831787,-6.883451461791992,-0.5331993699073792,-10.796774864196777,4.695790767669678,-2.8517980575561523,-6.364216327667236,-6.364216327667236,-8.041025161743164,10.490313529968262,-7.442806720733643,1.999191403388977,-12.119295120239258,-12.119295120239258,-12.119295120239258,-14.575370788574219,-7.617710590362549,-7.617706298828125,-7.617706298828125,-4.273091793060303,1.0579373836517334,4.641158103942871,7.392845153808594,1.56791090965271,2.6614267826080322,-11.705754280090332,0.5363156199455261,8.428515434265137,-8.593255043029785,-8.59306812286377,-2.3043158054351807,11.799751281738281,11.799751281738281,1.9758003950119019,-6.530241012573242,-6.530241012573242,0.9442113637924194,-0.030780192464590073,14.162707328796387,1.9758518934249878,-0.8862111568450928,11.689181327819824,-2.1060051918029785,0.600812554359436,-14.143993377685547,10.274781227111816,-10.410676956176758,-0.706977128982544,12.990401268005371,-13.824175834655762,-5.813640594482422,14.406474113464355,-10.316555976867676,3.5882976055145264,-2.484159231185913,-0.29333770275115967,-5.822055816650391,-11.783889770507812,-1.571845531463623,8.572108268737793,8.57210922241211,5.666738033294678,5.66672945022583,5.666848182678223,-5.00798225402832,-10.833417892456055,-10.820281982421875,0.7418287396430969,-14.181057929992676,-15.142279624938965,-7.446363925933838,1.6804218292236328,11.645648002624512,-1.1759275197982788,10.96670150756836,4.737306118011475,12.888605117797852,1.39378023147583,11.20985221862793,9.593706130981445,10.462566375732422,-4.161402225494385,2.015957832336426,1.3612215518951416,-15.986023902893066,-14.384167671203613,4.583197593688965,-1.3194547891616821,-1.3194419145584106,8.809590339660645,8.809590339660645,-1.0352303981781006,-14.491204261779785,-8.419386863708496,0.3574167490005493,0.3574167490005493,11.395753860473633,11.395730018615723,2.5955650806427,-1.3006322383880615,-8.820050239562988,2.160067081451416,-14.585267066955566,-5.543272972106934,-16.036170959472656,-13.983785629272461,-9.019433975219727,-9.018990516662598,2.969956874847412,2.969951629638672,2.969951629638672,-8.92019271850586,-4.559462547302246,-1.5533568859100342,-5.17456579208374,5.122313499450684,-7.585628986358643,9.888205528259277,9.888235092163086,7.139388084411621,7.139388084411621,-5.543259620666504,-10.994685173034668,-13.443830490112305,-14.27475357055664,-14.27475357055664,-14.27475357055664,-5.543241024017334,-14.274758338928223,-4.47127628326416,6.505980491638184,6.506096363067627,6.505646228790283,9.745390892028809,7.458831310272217,-14.274824142456055,-13.983786582946777,13.298727035522461,3.8924872875213623,-4.072117328643799,-13.3916597366333,-13.3916597366333,-14.674822807312012,11.682482719421387,11.22359561920166,11.223601341247559,11.680571556091309,-1.9393565654754639,-1.938722014427185,-9.963254928588867,-9.963254928588867,1.7449145317077637,-0.1934828907251358,-13.725595474243164,2.3373377323150635,-15.023309707641602,-6.079565048217773,-6.079565048217773,-12.934117317199707,-3.1454122066497803,8.520320892333984,8.520329475402832,4.466693878173828,10.37449836730957,-9.457413673400879,-11.190802574157715,-11.190802574157715,-12.301868438720703,12.768702507019043,-5.6136932373046875,13.094154357910156,5.714587688446045,-2.4638421535491943,13.48974323272705,2.475188970565796,11.144203186035156,-0.34343957901000977,-14.335899353027344,5.6401190757751465,0.7665960788726807,1.1291955709457397,11.099066734313965,7.836872100830078,-1.4575469493865967,-11.261054039001465,-11.261065483093262,-10.62927532196045,5.250136852264404,1.4231746196746826,-6.1026835441589355,1.9078466892242432,15.441232681274414,15.441232681274414,15.441232681274414,15.441232681274414,15.441232681274414,15.441232681274414,2.101300001144409,15.441232681274414,15.441232681274414,15.441232681274414,15.441232681274414,-11.753236770629883,-15.579507827758789,11.963618278503418,15.441232681274414,-13.983797073364258,-13.983799934387207,-16.036983489990234,0.4200040102005005,12.685273170471191,0.8184632062911987,-6.065090179443359,-12.82752799987793,-12.827584266662598,-12.827518463134766,-12.82758617401123,-12.828478813171387,-12.828410148620605,-7.597443103790283,4.860044002532959,-13.930794715881348,-13.930803298950195,-5.498890399932861,6.278905868530273,-15.408744812011719,14.5602445602417,2.5045740604400635,0.3783072233200073,-3.5351150035858154,1.4238580465316772,4.59805965423584,0.4200001657009125,-13.115019798278809,10.675323486328125,-7.961887836456299,-8.179252624511719,8.550759315490723,-6.264832973480225,13.245713233947754,8.296348571777344,13.208431243896484,0.4200001657009125,-4.947851181030273,11.454864501953125,5.049190044403076,3.056871175765991,3.056871175765991,-10.633805274963379,-10.633805274963379,-10.774502754211426,-10.774330139160156,-6.111787796020508,-8.549210548400879,0.44553378224372864,12.29992389678955,2.244907855987549,8.831403732299805,5.746086597442627,-14.971996307373047,-0.6998817324638367,-4.947851181030273,-1.9210941791534424,-1.9208848476409912,-1.9208884239196777,-1.9210941791534424,-1.9211452007293701,0.4200001657009125,-1.9210941791534424,12.714649200439453,12.714649200439453,-12.592863082885742,1.6226589679718018,9.578563690185547,-0.7326626777648926,-1.9210941791534424,-10.856572151184082,4.821985721588135,4.821985244750977,0.23941855132579803,-12.30858039855957,-12.30831527709961,-4.559643745422363,-4.559643745422363,9.776613235473633,-1.8879203796386719,-1.8879203796386719,3.415825843811035,-5.343870639801025,8.37686538696289,4.0899505615234375,4.0899457931518555,-1.4641212224960327,2.096996307373047,10.102540016174316,-4.84520149230957,-15.729625701904297,-15.729625701904297,-16.036170959472656,-15.729625701904297,-11.976215362548828,-11.976215362548828,0.8982272148132324,8.684504508972168,2.5619657039642334,5.909633636474609,5.909633636474609,2.528578519821167,11.280660629272461,4.063383102416992,2.5619657039642334,-5.383886814117432,13.531624794006348,13.531960487365723,-11.47610092163086,-12.308544158935547,6.970274448394775,6.970274448394775,10.805632591247559,-7.512883186340332,-11.636763572692871,14.544533729553223,6.8491597175598145,6.747513294219971,-8.236000061035156,-2.736989736557007,-1.2042827606201172,-7.714164733886719,-6.262449741363525,-14.181057929992676,-11.325443267822266,-11.819416046142578,14.476569175720215,-0.3703065812587738,2.9631147384643555,2.9631147384643555,-4.699221611022949,1.4755629301071167,-11.431721687316895,1.4755628108978271,-11.35842514038086,-12.341777801513672,-11.994720458984375,-12.091592788696289,-12.07717227935791,-12.282852172851562,7.439240455627441,-6.342944145202637,-5.969997406005859,-5.733431339263916,-3.6413230895996094,8.741591453552246,14.431245803833008,-4.781179904937744,-13.161359786987305,-3.258333206176758,-15.991639137268066,-11.637072563171387,2.402489423751831,-9.583141326904297,-9.373290061950684,14.207944869995117,14.20794677734375,0.478191077709198,2.4025371074676514,1.9289896488189697,-5.217036724090576,-5.217038154602051,-15.311458587646484,9.266968727111816,2.6944406032562256,-14.749049186706543,-2.0009796619415283,14.567976951599121,-0.46717697381973267,-0.4682885408401489,-0.46719834208488464,-0.7575956583023071,-10.754541397094727,10.310916900634766,10.310916900634766,-2.1596994400024414,-5.217038154602051,-1.446118712425232,-1.4514294862747192,-1.2481712102890015,-1.244422435760498,-15.118057250976562,10.910388946533203,-8.695891380310059,9.726225852966309,-15.7404146194458,-6.443744659423828,2.53212571144104,3.432307481765747,-7.635371685028076,3.844510793685913,3.844510793685913,3.8444814682006836,4.050530910491943,-4.102895736694336,1.3149704933166504,-7.966312408447266,-14.033109664916992,-7.393266677856445,-7.966312408447266,-0.35600998997688293,-0.3559902608394623,-7.966312408447266,-7.995014667510986,-7.966312408447266,-7.966312408447266,-8.069185256958008,-7.995014667510986,-7.966312408447266,-7.966312408447266,-8.069185256958008,-7.966312408447266,-7.966312408447266,-7.393266677856445,-7.995014667510986,-7.966312408447266,-9.5478515625,-14.033109664916992,7.842034339904785,-8.751842498779297,-0.18328990042209625,-0.18346883356571198,-7.339153289794922,-2.1412253379821777,3.1073660850524902,-10.143542289733887,11.280570983886719,0.07983347028493881,0.07983347028493881,0.07983347028493881,-5.907039642333984,-6.985891342163086,-6.985891342163086,0.07983347028493881,-1.181199312210083,-1.181199312210083,11.582149505615234,13.167829513549805,2.7903053760528564,10.69636058807373,2.344864845275879,-8.309209823608398,-8.309101104736328,-8.309089660644531,4.726457595825195,4.726457595825195,-13.594390869140625,-13.594390869140625,-7.71297550201416,-7.71298360824585,-7.713014602661133,-13.765592575073242,15.492330551147461,15.492330551147461,15.492330551147461,-7.964180946350098,5.398975372314453,0.5580123066902161,6.245447158813477,-3.9509716033935547,10.636418342590332,-15.600141525268555,-0.9235974550247192,6.811522006988525,6.895714282989502,6.929290771484375,6.854137420654297,6.808596134185791,6.857676029205322,6.863687515258789,-13.407074928283691,5.398975372314453,1.7565946578979492,-6.406446933746338,-0.5783907175064087,-9.57124137878418,-0.7155547142028809,-14.758655548095703,0.7506255507469177,-1.1573798656463623,-0.5597535967826843,1.6148438453674316,1.6148438453674316,1.6148438453674316,11.616024017333984,11.561006546020508,14.148199081420898,6.9730224609375,1.8795262575149536,2.5022473335266113,0.2886185348033905,2.730414867401123,2.730414867401123,0.6941577196121216,0.695615828037262,11.711236953735352,-3.0585134029388428,10.683334350585938,-13.104887962341309,-0.0206757802516222,1.945292353630066,8.655534744262695,-13.643289566040039,6.887053489685059,6.887054920196533,-12.6795654296875,14.673398971557617,10.6455717086792,8.171670913696289,0.14183709025382996,-11.334534645080566,11.453317642211914,-8.007377624511719,11.060665130615234,11.060665130615234,11.060606956481934,-11.538878440856934,-5.791746139526367,13.897672653198242,8.971725463867188,8.971725463867188,-14.833632469177246,7.342095375061035,6.8902435302734375,4.332920074462891,-13.063724517822266,11.453316688537598,-10.463523864746094,6.920746326446533,-9.461706161499023,7.126296520233154,0.04946810379624367,4.085565567016602,4.085569858551025,-4.993868827819824,0.09245738387107849,-4.6192522048950195,-13.592667579650879,-2.0930774211883545,7.187298774719238,-13.990311622619629,-6.504875183105469,-11.886945724487305,-2.94260311126709,-1.1973273754119873,-13.046026229858398,-11.462906837463379,6.872984409332275,-10.741682052612305,-10.33187198638916,-8.627196311950684,11.410625457763672,5.2240309715271,-4.999846458435059,-9.580302238464355,-14.422959327697754,-10.457185745239258,2.552675247192383,2.5526375770568848,-10.295475006103516,-3.8434462547302246,3.011267900466919,3.011267900466919,3.6119754314422607,-7.535084247589111,2.2573964595794678,6.872984409332275,-3.3102550506591797,1.5194729566574097,6.879746913909912,8.350503921508789,-9.101789474487305,7.644388198852539,-10.698397636413574,0.49699023365974426,5.475720405578613,1.3698539733886719,-9.772254943847656,-9.772235870361328,-2.986518383026123,-2.986518383026123,6.799779891967773,-2.528610944747925,-0.38759294152259827,-4.643947124481201,-1.5541421175003052,7.828503608703613,9.655311584472656,-7.720730304718018,-4.51288366317749,-0.7566435933113098,-13.49685001373291,-13.49685001373291,10.143184661865234,7.495222568511963,-4.8592209815979,-4.834749221801758,-4.834749221801758,-4.834749221801758,12.428474426269531,1.7238324880599976,-5.947970867156982,4.250772953033447,-13.170422554016113,13.27385425567627,-11.179977416992188,-3.032886505126953,-13.689099311828613,7.03445291519165,-0.1346534639596939,6.86515998840332,-1.2167623043060303,-13.892416954040527,-1.126916766166687,-5.970192909240723,-4.142874717712402,-12.52286434173584,10.762151718139648,-3.6666417121887207,-3.0297162532806396,-11.44012451171875,-6.409974575042725,2.318605422973633,-4.443026542663574,14.653120994567871,14.653446197509766,-3.032886505126953,13.075235366821289,8.698030471801758,8.698030471801758,-12.027917861938477,4.282981872558594,4.282981872558594,3.7010598182678223,3.2417664527893066,8.105366706848145,5.728277683258057,13.605902671813965,12.826427459716797,14.653167724609375,14.653191566467285,14.653120994567871,-5.613230228424072,1.5564643144607544,14.261931419372559,0.5898064374923706,7.27176570892334,12.147231101989746,-8.376016616821289,-8.376189231872559,11.050679206848145,10.481002807617188,-6.071192264556885,-0.17625561356544495,-1.8066127300262451,-1.7861684560775757,-1.8066127300262451,-1.7861684560775757,-1.7861684560775757,-6.07119607925415,10.481002807617188,10.481002807617188,2.915917158126831,7.896884441375732,-5.594398021697998,-5.594416618347168,-5.594398021697998,-9.430965423583984,5.529155254364014,-1.9608509540557861,4.30977725982666,-7.772181034088135,-8.289952278137207,-8.38150691986084,9.71263599395752,13.454107284545898,-0.10999735444784164,8.644418716430664,-1.8066127300262451,-1.8066127300262451,-1.8066127300262451,-1.8066127300262451,-12.985574722290039,-12.985575675964355,-12.985572814941406,7.474392414093018,7.475091457366943,1.9198158979415894,1.9197458028793335,1.1617145538330078,-2.532388687133789,-13.699125289916992,-1.7936604022979736,-1.7935072183609009,2.7647929191589355,-6.702709674835205,-3.611576795578003,-13.499031066894531,0.9425736665725708,-13.499031066894531,-2.841522693634033,-1.8066127300262451,4.2299675941467285,9.645648956298828,-2.029883861541748,6.279526233673096,5.5227837562561035,0.18502280116081238,0.0952024757862091,-13.59273624420166,-13.593295097351074,-13.593295097351074,-13.593295097351074,-13.593295097351074,-7.546282768249512,4.0665812492370605,11.849671363830566,7.972870349884033,11.664213180541992,11.41915225982666,-8.123454093933105,-8.123457908630371,-7.707169532775879,-7.707064628601074,-7.707064628601074,-7.707064628601074,-12.343033790588379,14.272153854370117,-1.361961841583252,-3.679424285888672,-10.904879570007324,11.288259506225586,13.705191612243652,12.859503746032715,-0.8396390676498413,0.48234838247299194,-0.8396390676498413,1.4853215217590332,-7.131174564361572,-5.733431339263916,-5.733431339263916,-13.028221130371094,11.738813400268555,-4.342051029205322,12.673640251159668,12.865479469299316,6.926246643066406,6.926246643066406,0.592947244644165,5.809312343597412,-3.7137277126312256,-10.38081169128418,-7.131270408630371,-7.131174564361572,1.4854099750518799,-2.1593892574310303,-0.8396390676498413,5.5070037841796875,-6.790340900421143,-12.693033218383789,-2.3342363834381104,-6.686825275421143,-1.8733774423599243,-6.6869401931762695,-6.686825275421143,-6.686824798583984,-9.216992378234863,-11.140657424926758,-11.140657424926758,-11.140748023986816,-11.140748023986816,-11.140677452087402,6.085573196411133,13.96391773223877,3.7333173751831055,13.963735580444336,13.96391773223877,-9.42924976348877,10.69266414642334,14.627483367919922,12.747572898864746,0.7811365127563477,-15.415486335754395,-15.455076217651367,-15.455076217651367,-0.14108681678771973,-10.429187774658203,-2.0372138023376465,12.75791072845459,-7.02436637878418,-4.517030239105225,13.963735580444336,13.96391773223877,-5.733431339263916,-5.83173942565918,-10.265303611755371,0.28425756096839905,-0.6481277942657471,-1.2845040559768677,-8.390949249267578,-5.3995232582092285,5.686591625213623,2.130695343017578,-7.42253303527832,10.689343452453613,9.25232219696045,9.252321243286133,2.3291780948638916,2.4050745964050293,2.2208313941955566,-7.422532558441162,5.357236862182617,5.357236862182617,-1.2052106857299805,-0.44785308837890625,-5.513308048248291,1.7186914682388306,13.403097152709961,-4.065536022186279,-7.298260688781738,6.63802433013916,14.341554641723633,-5.966020584106445,7.408979892730713,7.408979892730713,8.867118835449219,-6.127233982086182,-5.868617057800293,-8.968158721923828,2.4423534870147705,2.4010369777679443,2.2213058471679688,2.2856152057647705,4.410703182220459,4.410703182220459,4.410703182220459,4.410703182220459,4.410703182220459,-11.837423324584961,-11.837423324584961,3.952418327331543,-6.6575846672058105,-14.997001647949219,-5.604340553283691,-5.604340553283691,-3.7224652767181396,-11.780387878417969,14.262214660644531,4.410703182220459,-5.497368812561035,4.410703182220459,-1.0496736764907837,2.2863268852233887,-12.506953239440918,-12.506455421447754,-12.506455421447754,3.4243500232696533,3.4243500232696533,-12.577630996704102,-1.2964155673980713,13.179616928100586,13.17961597442627,-6.032889366149902,-7.793022632598877,14.25880241394043,4.9304280281066895,4.625690460205078,4.410703182220459,6.55445671081543,6.546177864074707,6.55445671081543,10.683747291564941,-10.991220474243164,-10.991220474243164,-10.991218566894531,-10.991220474243164,10.18957233428955,-5.171555519104004,-6.8743462562561035,-13.827316284179688,9.213863372802734,-11.840584754943848,0.09233375638723373,-1.109429955482483,0.140907883644104,-0.7003749012947083,6.171624660491943,-0.7003748416900635,-13.471497535705566,-13.471474647521973,-10.265304565429688,-10.265304565429688,-10.265303611755371,-10.265304565429688,-11.66161060333252,11.674135208129883,-3.183624744415283,-3.183713912963867,-3.183713912963867,-14.305537223815918,10.241793632507324,1.486481785774231,5.891084671020508,8.279696464538574,-13.471474647521973,-13.471487998962402,1.0663095712661743,13.229035377502441,-10.858942985534668,-13.751771926879883,-13.751771926879883,6.556084632873535,-5.084091663360596,-1.3529458045959473,3.6856274604797363,8.005313873291016,8.0053129196167,7.382303714752197,-6.607359886169434,-5.063591480255127,13.899723052978516,7.906165599822998,6.55445671081543,6.546177864074707,-13.751771926879883,13.229035377502441,-13.751771926879883,-5.828105449676514,-5.051698207855225,-3.5205750465393066,14.060355186462402,14.060355186462402,-13.045780181884766,-13.045875549316406,-0.7427453994750977,5.185680389404297,10.801093101501465,-7.278905868530273,8.406975746154785,-7.653318405151367,-10.762656211853027,1.0743516683578491,-4.1183624267578125,-14.024497032165527,-6.342995643615723,-13.72543716430664,-12.22810173034668,14.15428352355957,14.154281616210938,10.630714416503906,10.630722045898438,10.630722045898438,10.970017433166504,5.704455375671387,1.844832181930542,10.910654067993164,-11.52479076385498,-11.52475643157959,-6.179923057556152,2.6766481399536133,4.597969055175781,7.583359241485596,-8.551325798034668,-10.830408096313477,4.130623817443848,-14.7125825881958,-0.5943719148635864,-3.114874839782715,10.69895076751709,-14.472410202026367,1.3103104829788208,1.3102412223815918,9.966017723083496,7.269185543060303,-15.160494804382324,-15.160494804382324,-15.160494804382324,-1.8424155712127686,-12.54871940612793,-12.359676361083984,-8.684962272644043,0.7941976189613342,-8.913298606872559,-8.913298606872559,2.248974084854126,-14.633805274963379,-14.862237930297852,-14.862237930297852,-14.862237930297852,-14.667869567871094,-14.667869567871094,-14.862237930297852,-14.862237930297852,-14.862237930297852,-8.545510292053223,-7.720252990722656,-10.303229331970215,13.449088096618652,1.033668041229248,1.033665418624878,-14.862237930297852,-0.662477970123291,-0.6626337766647339,4.18581485748291,10.043203353881836,11.292311668395996,11.292021751403809,11.771646499633789,-6.082588195800781,-6.082588195800781,-10.878008842468262,7.453493595123291,-8.139092445373535,-8.139092445373535,-5.120031356811523,-5.120031356811523,-5.120031356811523,-5.120031356811523,14.065449714660645,10.837778091430664,-8.139086723327637,-5.595145225524902,-5.595145225524902,7.231809139251709,9.988468170166016,4.605565071105957,-6.822678089141846,-0.7025368213653564,11.920488357543945,8.32062816619873,13.16832160949707,5.194969654083252,6.750643730163574,1.7358899116516113,1.5614714622497559,3.1650266647338867,7.563154220581055,-3.9146628379821777,9.547107696533203,9.388771057128906,6.662173748016357,-10.274445533752441,-10.274433135986328,-1.6049329042434692,7.201120853424072,7.201121807098389,-8.577264785766602,-8.577264785766602,6.335855007171631,10.751736640930176,8.068092346191406,12.641058921813965,-5.5384087562561035,10.5017671585083,-10.75097942352295,6.8308939933776855,-7.9482808113098145,8.578204154968262,8.578327178955078,14.39756965637207,8.698075294494629,6.769481182098389,-13.613872528076172,9.619964599609375,12.777101516723633,12.777101516723633,8.057538986206055,14.707635879516602,14.707635879516602,14.707661628723145,-17.144744873046875,-5.034933567047119,6.3560686111450195,-4.76619291305542,-16.888282775878906,9.674318313598633,1.383042812347412,7.386116027832031,9.619842529296875,9.61994743347168,9.61987018585205,-11.411911010742188,-13.613703727722168,-13.614001274108887,-13.613720893859863,-13.614091873168945,-13.613720893859863,-13.614070892333984,0.9070641994476318,-13.61361026763916,-14.739232063293457,11.776098251342773,-9.586052894592285,-11.355191230773926,-7.185609817504883,-4.811371326446533,-7.710445880889893,-7.710324764251709,-9.645264625549316,-1.7518484592437744,-7.2555646896362305,-7.7062225341796875,-0.09098530560731888,6.3897857666015625,-7.482512950897217,4.271974563598633,-12.128483772277832,13.82280158996582,13.82280158996582,1.9923627376556396,9.787181854248047,-12.139781951904297,-12.139781951904297,7.702880859375,7.3482136726379395,9.317852020263672,8.65485954284668,13.647018432617188,10.251214027404785,10.251214027404785,10.251214027404785,3.0322227478027344,3.0321803092956543,0.9289430975914001,4.823272228240967,5.5357136726379395,-11.31190299987793,6.873385906219482,-1.7482504844665527,6.773870468139648,6.7454352378845215,6.647822380065918,-5.868810176849365,0.30292069911956787,-1.5727778673171997,10.251214027404785,10.251091003417969,-12.636001586914062,0.9547918438911438,-6.342959880828857,-10.625432014465332,-2.6559524536132812,-2.289050817489624,-2.08664870262146,-2.156205177307129,-2.156205177307129,-2.6335456371307373,-2.6335456371307373,-2.3620026111602783,-2.3620026111602783,-14.493837356567383,3.269569158554077,9.132702827453613,8.63595962524414,-10.008101463317871,-10.008085250854492,-2.80871319770813,-2.6335456371307373,-2.80871319770813,-2.0071959495544434,-3.745109796524048,-3.745109796524048,8.587028503417969,7.196608066558838,-2.1619718074798584,2.352473020553589,13.02650260925293,6.67802095413208,-11.839508056640625,0.35649093985557556,0.3564908504486084,-11.244453430175781,-2.3620026111602783,-2.6559524536132812,-2.6335456371307373,-2.80871319770813,-2.9451582431793213,-9.339590072631836,6.999666690826416,3.32063364982605,3.650104284286499,3.650104284286499,-1.7665637731552124,12.729790687561035,10.140871047973633,4.503582000732422,-11.516982078552246,-0.06234943866729736,12.829818725585938,5.1398773193359375,-2.938448429107666,5.7252197265625,-8.672932624816895,2.890507221221924,-4.819694995880127,-9.807178497314453,-6.106194972991943,8.078958511352539,2.852421998977661,-7.398911476135254,-7.347080707550049,-7.347080707550049,-7.284690856933594,-7.243669509887695,-7.656676292419434,-7.7062225341796875,-4.819693565368652,-7.702568054199219,5.044431209564209,-7.710506916046143,9.651754379272461,-5.558575630187988,14.419158935546875,-5.759322166442871,2.852421998977661,-7.3973188400268555,3.32063364982605,-7.774614334106445,2.4480624198913574,11.165459632873535,-10.511937141418457,8.177874565124512,11.002418518066406,0.7628535628318787,9.821073532104492,1.3097869157791138,-9.911722183227539,-8.559853553771973,8.861288070678711,10.582169532775879,1.2949023246765137,-11.010000228881836,3.32063364982605,3.32063364982605,3.1507203578948975,2.6619701385498047,4.147860050201416,-13.371241569519043,0.335572749376297,6.001216888427734,0.7114380598068237,12.006562232971191,0.9445624947547913,7.091465473175049,-13.842992782592773,2.4480624198913574,-2.38967227935791,1.6847892999649048,9.714523315429688,-0.30637282133102417,7.579711437225342,14.302530288696289,7.347187042236328,-4.083611488342285,-6.940445423126221,-7.133121013641357,-11.145001411437988,2.145162582397461,-6.593372821807861,-1.2984658479690552,-1.2986476421356201,-1.2984658479690552,-8.31059741973877,1.5035709142684937,1.4631751775741577,1.5035709142684937,1.5035709142684937,1.5035709142684937,1.5035709142684937,1.5035709142684937,1.5035709142684937,1.5035709142684937,1.5035709142684937,-12.991847038269043,1.5035709142684937,-12.991887092590332,-2.232621908187866,10.851851463317871,10.852197647094727,10.85185718536377,-2.348972797393799,4.25661039352417,12.947831153869629,-6.376053333282471,-6.376053333282471,10.699530601501465,10.625497817993164,13.973262786865234,0.5952305197715759,-9.459359169006348,-4.905377388000488,-6.155065059661865,-5.575497150421143,1.5035709142684937,8.382582664489746,-1.8187929391860962,-13.454298973083496,10.735807418823242,2.6821515560150146,2.6820294857025146,12.192221641540527,-12.630257606506348,-3.3287436962127686,9.688515663146973,11.85719108581543,-11.750304222106934,-17.10999870300293,13.144980430603027,12.343962669372559,6.02307653427124,7.429800987243652,-14.08380126953125,-14.083868980407715,4.69468879699707,-2.1848208904266357,-1.8187929391860962,-1.8187929391860962,9.057449340820312,8.92632007598877,8.97664737701416,8.967114448547363,9.225374221801758,-0.4925881624221802,8.941073417663574,9.008293151855469,8.782965660095215,8.49332046508789,8.49332046508789,8.49332046508789,8.49332046508789,-2.184875011444092,9.147017478942871,-0.18269473314285278,-0.7236770391464233,-0.42867720127105713,8.140103340148926,-7.912201404571533,2.1453492641448975,-10.98713493347168,-10.98713493347168,-11.468611717224121,12.806868553161621,12.806868553161621,12.806807518005371,0.4291021525859833,0.4291212558746338,0.4291021525859833,-2.6452057361602783,-2.6452057361602783,-2.6452057361602783,8.140142440795898,-1.6671545505523682,-1.6671545505523682,-1.7692800760269165,7.833010196685791,-6.107285022735596,-6.107285022735596,-6.107285022735596,-6.107305526733398,14.4472017288208,-1.1348183155059814,0.1932673454284668,-12.61640739440918,8.455284118652344,-10.057796478271484,11.855155944824219,-10.038734436035156,-5.887320041656494,-5.492813587188721,-5.492802619934082,-0.18549133837223053,2.9818115234375,7.632701873779297,6.489487171173096,-6.300729274749756,-6.300605773925781,-6.3008246421813965,5.687332630157471,-2.3595120906829834,0.5412905812263489,0.4817538559436798,0.1564989537000656,-0.5928196310997009,0.1592433750629425,-0.6699951887130737,0.3088204264640808,-0.8784050345420837,-0.11426166445016861,-0.11760290712118149,-6.300826072692871,-6.3005852699279785,-6.300819396972656,-6.300800800323486,6.489471435546875,-7.7140116691589355,10.773025512695312,-13.076976776123047,11.090450286865234,-9.198540687561035,-0.5321980714797974,6.489487171173096,4.391878128051758,0.630448579788208,-7.51432991027832,9.922428131103516,-1.5658520460128784,6.840534687042236,-6.300628185272217,-6.300605773925781,11.51419734954834,1.9405957460403442,1.940584659576416,1.9405816793441772,7.544628143310547,7.780966758728027,-14.063863754272461,-12.111035346984863,1.4327011108398438,1.4323278665542603,1.4323278665542603,11.268088340759277,10.942015647888184,10.884641647338867,-2.0199882984161377,1.7862368822097778,-2.9804227352142334,10.928593635559082,6.436712741851807,3.523521661758423,3.5235226154327393,10.218117713928223,8.9265718460083,-3.155928373336792,-5.8601508140563965,0.5043119788169861,10.935094833374023,-11.467060089111328,-9.75301742553711,-0.8690505623817444,-0.7821137309074402,13.256609916687012,-10.665459632873535,5.063599109649658,-6.357796669006348,-7.898612976074219,0.38763314485549927,-7.292304992675781,13.960206985473633,-9.691043853759766,13.951709747314453,-0.7821136713027954,-10.303644180297852,-4.838470935821533,-4.888627529144287,7.35392951965332,0.15126565098762512,13.691666603088379,9.491071701049805,-15.588665962219238,10.94688892364502,-10.674243927001953,1.1455949544906616,-13.43985366821289,5.6389899253845215,13.679393768310547,-11.799887657165527,2.270535945892334,-4.838470935821533,-13.305205345153809,-13.657526969909668,-4.523349285125732,-13.227954864501953,-8.693647384643555,12.028984069824219,-6.34454870223999,-11.19832706451416,7.4029107093811035,6.992214679718018,-13.342419624328613,-6.393021583557129,11.058624267578125,-10.825931549072266,12.504810333251953,3.349843978881836,7.796189785003662,-3.928921937942505,0.2179502248764038,-0.7273815274238586,-11.145001411437988,-8.856973648071289,-10.819242477416992,14.135674476623535,0.4070892035961151,14.598240852355957,-1.1253563165664673,-1.1253691911697388,12.924051284790039,12.924051284790039,12.924281120300293,12.924281120300293,14.544093132019043,1.262062907218933,9.269190788269043,9.269036293029785,9.269194602966309,14.538402557373047,14.574620246887207,14.132943153381348,14.574620246887207,14.574620246887207,1.9405663013458252,13.474956512451172,12.27376651763916,6.781578540802002,-14.066621780395508,-7.289835453033447,-3.6267282962799072,14.538402557373047,-3.6267282962799072,-10.212465286254883,5.911417484283447,-15.68261432647705,14.577099800109863,14.574620246887207,14.132943153381348,14.135674476623535,-3.626828193664551,-10.819242477416992,-8.093636512756348,6.378108024597168,6.9098334312438965,6.912684440612793,6.911336898803711,-11.837939262390137,-11.784728050231934,-11.869675636291504,1.9334893226623535,8.352230072021484,8.352557182312012,8.352559089660645,-14.818266868591309,-4.971765995025635,-3.4734301567077637,-10.819242477416992,-10.819242477416992,6.466501712799072,6.466501712799072,-0.26403114199638367,4.031473636627197,6.37997579574585,-7.549569129943848,-8.788520812988281,-5.830634593963623,6.919647216796875,6.920870304107666,6.920870304107666,15.16446590423584,6.919647216796875,-13.875262260437012,-13.875272750854492,-13.87525749206543,-6.392154693603516,6.794651985168457,6.54000186920166,12.493035316467285,4.5916900634765625,-6.652963638305664,2.154266595840454,7.529941082000732,-4.500010013580322,-15.437366485595703,-14.797240257263184,-14.797209739685059,-15.220980644226074,-15.57162094116211,-9.53878116607666,-15.349522590637207,-14.886073112487793,-15.348838806152344,-14.886073112487793,-14.886093139648438,-14.880186080932617,-4.429136276245117,-15.249217987060547,-9.539388656616211,-10.264018058776855,-12.629149436950684,1.8312764167785645,1.8317792415618896,6.190298080444336,6.190298080444336,6.190298080444336,6.190298080444336,-15.42510986328125,-15.424968719482422,-15.42510986328125,-15.424739837646484,-15.424964904785156,-15.42510986328125,-15.42510986328125,-15.424968719482422,-5.267097473144531,1.819108009338379,8.305883407592773,8.307814598083496,-5.0451459884643555,11.208123207092285,10.91305160522461,10.913140296936035,11.47191047668457,-1.4634889364242554,-1.4634889364242554,-12.965353012084961,10.043503761291504,10.043512344360352,-0.14418576657772064,12.383508682250977,2.852020502090454,2.852020502090454,12.802107810974121,0.15403228998184204,11.467460632324219,-9.677552223205566,-0.3110712766647339,-0.31112784147262573,-5.044705390930176,-8.198576927185059,14.313546180725098,3.6655542850494385,14.425146102905273,5.48735237121582,5.48735237121582,1.603096604347229,-9.405853271484375,-11.656872749328613,3.6655542850494385,3.6655542850494385,3.6655542850494385,3.6655542850494385,9.566184997558594,-0.3111279010772705,-9.677552223205566,-5.64043664932251,-0.4276767671108246,-10.293892860412598,-15.985542297363281,8.34279727935791,8.01440143585205,8.679450035095215,-7.895502090454102,6.422789096832275,6.422789096832275,6.422789096832275,-2.290972948074341,-4.430073261260986,6.610053539276123,2.793926954269409,11.275729179382324,1.4503973722457886,7.666771411895752,-14.85534954071045,7.666771411895752,-8.993406295776367,-13.118005752563477,-13.118000030517578,-13.118019104003906,-12.794994354248047,-0.7491135597229004,-0.7490527033805847,-7.0054144859313965,6.702376842498779,13.938637733459473,0.6067376732826233,0.6067376732826233,0.6067488789558411,-9.7476806640625,-9.7476806640625,-7.550913333892822,6.208309650421143,-7.289403438568115,4.6945085525512695,-12.737427711486816,6.407482624053955,6.404099941253662,6.149220943450928,5.977596759796143,6.1241350173950195,6.124166965484619,-3.7859156131744385,4.923793315887451,4.923793315887451,-3.89697003364563,-3.89697003364563,13.578984260559082,13.300140380859375,1.4692012071609497,1.4692012071609497,6.407482624053955,7.799448013305664,6.570765018463135,6.4429030418396,-12.655535697937012,-10.251452445983887,1.1935648918151855,0.1435956358909607,-10.414254188537598,0.29120030999183655,0.29120030999183655,13.139412879943848,10.246194839477539,-2.1065967082977295,-2.106595993041992,6.050281524658203,5.977596759796143,6.048305511474609,6.187273979187012,6.569816589355469,0.22317193448543549,-2.396634817123413,-15.775136947631836,5.296178817749023,5.603273868560791,-1.1893868446350098,-12.217513084411621,-1.0315388441085815,3.510544538497925,-4.7757768630981445,10.176605224609375,7.8566179275512695,7.053703308105469,-14.744404792785645,-7.8225603103637695,-7.822547435760498,-7.822518825531006,10.176605224609375,2.152817964553833,-3.269869804382324,-14.86413288116455,-2.1971986293792725,11.039859771728516,5.275266647338867,-8.375651359558105,-0.3542307913303375,-6.63742733001709,-6.123880386352539,-15.641091346740723,10.341375350952148,6.975820064544678,-3.982522964477539,5.435793876647949,-5.404140472412109,-5.448862552642822,-12.884830474853516,-7.822564601898193,-7.822518825531006,-7.8225202560424805,-7.781466960906982,-10.173569679260254,0.1658816635608673,-4.192081928253174,0.6757760047912598,-10.254890441894531,-10.169272422790527,0.647054135799408,5.5440192222595215,-0.4074220061302185,3.0623326301574707,3.0622520446777344,3.0622801780700684,3.0622735023498535,13.91476058959961,9.183150291442871,-5.831575870513916,-9.991194725036621,6.839977741241455,-0.6236134171485901,-7.78175687789917,5.279692649841309,5.279692649841309,5.279692649841309,13.065071105957031,-11.958664894104004,6.912259578704834,-9.08094596862793,14.171649932861328,14.171649932861328,14.171649932861328,14.171649932861328,14.171554565429688,-0.623603105545044,-0.623603105545044,-0.6236134171485901,-3.699673652648926,14.35673999786377,3.3631591796875,2.7916691303253174,2.7916691303253174,-13.48580551147461,-13.48580551147461,-13.485764503479004,-13.485764503479004,-13.48580551147461,-5.599728107452393,11.676987648010254,13.296003341674805,13.296003341674805,13.296003341674805,13.296003341674805,-7.278268814086914,-4.728754997253418,2.7916259765625,0.19878624379634857,2.7916176319122314,2.7916691303253174,-15.775415420532227,-15.775147438049316,-15.77538013458252,-15.775383949279785,-15.775115013122559,1.4956638813018799,-14.632827758789062,-14.632826805114746,-8.260964393615723,12.482300758361816,11.953582763671875,-8.426443099975586,-2.268454074859619,-0.0589873231947422,-0.9245505928993225,2.791660785675049,-15.775125503540039,0.4884427785873413,0.4884427785873413,9.122315406799316,-6.443921089172363,-5.844339370727539,9.907676696777344,-0.5922682285308838,-12.62314510345459,14.299538612365723,0.875002920627594,-2.9165055751800537,2.0326952934265137,0.3580652177333832,2.3481366634368896,-10.686431884765625,3.3631503582000732,3.3631591796875,11.196935653686523,0.4884427785873413,5.8249993324279785,-5.574159622192383,0.623194694519043,0.623194694519043,0.623194694519043,0.623194694519043,0.4884427785873413,0.4884427785873413,14.110958099365234,10.813887596130371,5.228865623474121,5.228865146636963,-15.879680633544922,-7.755958080291748,2.0395047664642334,6.762880325317383,3.614696502685547,-5.574240684509277,0.22317193448543549,-0.5738309621810913,-14.564962387084961,0.5029315948486328,1.2586101293563843,-8.251358032226562,2.817155361175537,3.5355679988861084,4.831836700439453,-14.203691482543945,-14.58078670501709,-14.58078670501709,-14.203691482543945,-14.58078670501709,0.8779589533805847,-6.9839982986450195,-6.9839982986450195,-9.263555526733398,-8.565749168395996,11.218096733093262,1.3383917808532715,1.3384135961532593,1.3384227752685547,1.3384244441986084,1.3384244441986084,-13.898151397705078,-14.203691482543945,-14.203691482543945,-9.051881790161133,4.916243553161621,-4.660521030426025,0.839653491973877,5.7992424964904785,-1.9724169969558716,-1.9724169969558716,-1.8633240461349487,-5.011572360992432,-11.292043685913086,-15.748988151550293,-15.736387252807617,-15.733409881591797,-15.74137020111084,2.4553306102752686,6.812445640563965,-14.58078670501709,8.212140083312988,-10.761618614196777,12.729185104370117,-16.894689559936523,-16.894834518432617,-12.168006896972656,2.2982594966888428,-4.910244941711426,-4.909969329833984,-14.203691482543945,-13.898151397705078,-5.722523212432861,-5.722523212432861,8.21213436126709,9.36489200592041,3.296440362930298,1.3384244441986084,14.292052268981934,13.266010284423828,1.164663314819336,2.0030200481414795,1.164663314819336,-13.191116333007812,9.839305877685547,-13.552056312561035,-13.55192756652832,-11.996092796325684,7.823048114776611,7.549269676208496,7.54920768737793,13.093284606933594,-7.085132122039795,-15.136659622192383,8.772613525390625,7.568751811981201,12.72965145111084,12.774333000183105,12.774333000183105,2.473848342895508,-8.551806449890137,7.187981605529785,7.187981605529785,14.292060852050781,14.28569221496582,-1.0574417114257812,11.283880233764648,-14.564962387084961,-14.55835247039795,-14.564962387084961,8.179567337036133,-4.10306978225708,-9.830246925354004,-9.830246925354004,-1.0849205255508423,1.3383888006210327,-1.0846993923187256,11.188312530517578,1.732530117034912,-6.309162616729736,-5.918135166168213,-5.918099880218506,-5.9180006980896,2.5808613300323486,-5.851701259613037,0.2769200801849365,5.407631874084473,-5.758845806121826,-5.273117542266846,-1.3501523733139038,2.4573447704315186,9.418742179870605,3.889721393585205,-5.918193340301514,-15.58513069152832,4.729275226593018,7.2622971534729,2.1218907833099365,14.073586463928223,14.073543548583984,14.073558807373047,-2.2775394916534424,-2.2775394916534424,-9.85253620147705,-9.316841125488281,-2.537149429321289,-2.2775394916534424,-2.5852205753326416,-2.2775394916534424,-2.2775394916534424,-2.2775394916534424,-2.2775394916534424,-2.2775394916534424,13.34701919555664,-9.855936050415039,-9.855990409851074,12.15518569946289,11.46886157989502,-0.16408981382846832,12.375246047973633,-4.1478071212768555,11.41616153717041,7.5265398025512695,7.526625156402588,3.8385820388793945,14.073528289794922,-0.18203331530094147,-13.180992126464844,7.010319232940674,-0.0856480523943901,1.8567993640899658,4.536365032196045,-6.5958170890808105,-6.5958170890808105,8.544903755187988,13.907780647277832,-14.152405738830566,1.2854089736938477,-7.269724369049072,5.3281965255737305,5.328305244445801,7.526625156402588,5.328197002410889,7.447212219238281,-1.1445190906524658,6.342925071716309,6.342925071716309,9.541626930236816,9.541621208190918,-3.7771501541137695,-11.242379188537598,0.4355296194553375,0.4355296194553375,10.595831871032715,-11.990644454956055,-0.8836474418640137,5.328197002410889,-7.9373087882995605,-2.2775394916534424,-0.5251409411430359,-4.042239189147949,10.805122375488281,10.805007934570312,8.872310638427734,8.662745475769043,7.683934688568115,7.683934688568115,-6.32320499420166,13.411896705627441,13.411896705627441,11.89361572265625,-8.52320671081543,11.026108741760254,7.747396469116211,0.12029987573623657,-9.332242965698242,11.268712043762207,-13.264284133911133,6.998486042022705,-13.660791397094727,11.910179138183594,9.426486015319824,-7.345500469207764,6.242337703704834,-9.708430290222168,-9.708429336547852,7.454259872436523,11.424266815185547,-9.708430290222168,-4.723731517791748],\"y\":[5.505221366882324,6.616854190826416,6.334052085876465,5.523038387298584,5.819645404815674,5.35114049911499,2.19515323638916,5.942777156829834,12.680768013000488,11.445500373840332,6.4586710929870605,2.1951546669006348,-9.024364471435547,6.677479267120361,10.07966423034668,10.773111343383789,-7.296530246734619,-6.494666576385498,5.405706882476807,5.952529430389404,-4.375014781951904,12.39263916015625,5.274324893951416,10.07966423034668,5.274324893951416,8.536322593688965,8.536322593688965,11.261284828186035,6.015099048614502,2.8497421741485596,6.121231555938721,6.268054962158203,5.380602836608887,4.650001525878906,6.517072677612305,-10.370479583740234,-10.370479583740234,9.725655555725098,9.725678443908691,9.725655555725098,9.725655555725098,-10.370479583740234,2.3416805267333984,4.203020095825195,5.823486804962158,-7.860731601715088,-7.282839775085449,-3.578442096710205,-9.69997501373291,-0.9708676934242249,7.550076961517334,-10.370479583740234,-10.370479583740234,2.2599105834960938,5.857128143310547,10.155623435974121,6.98562479019165,7.374852180480957,-8.810885429382324,10.07966423034668,10.585906982421875,11.694241523742676,1.8171690702438354,-10.96792221069336,6.365878105163574,6.365878105163574,6.36587381362915,11.69736385345459,8.615589141845703,10.967924118041992,9.078104972839355,7.917140007019043,-8.891669273376465,-10.343449592590332,-5.681241035461426,-5.681170463562012,-1.7938976287841797,-7.2475080490112305,12.122528076171875,8.36637020111084,-9.889286041259766,0.7336754202842712,10.678879737854004,-10.081693649291992,11.016074180603027,6.189165115356445,-7.847845077514648,0.07694663852453232,2.9491472244262695,2.22800350189209,2.548739433288574,4.067555904388428,-6.4457197189331055,-6.4457197189331055,9.96453857421875,-1.8780938386917114,8.625560760498047,8.365838050842285,8.366284370422363,-9.785653114318848,-0.7790899872779846,-0.7764031291007996,8.625560760498047,7.725180625915527,5.41822624206543,5.41822624206543,6.947795867919922,12.181037902832031,9.534683227539062,11.486812591552734,11.486936569213867,7.3603105545043945,-7.864260196685791,-7.864290714263916,-6.6249165534973145,7.694488048553467,4.161198616027832,8.035609245300293,10.668898582458496,6.313745021820068,-3.971768617630005,7.669150352478027,7.851695537567139,-1.1290371417999268,3.684652328491211,3.3535571098327637,3.5045154094696045,6.469661235809326,9.484359741210938,5.41822624206543,9.657437324523926,10.82706069946289,9.100699424743652,-6.306711196899414,7.931528091430664,-8.371875762939453,5.737397193908691,7.672161102294922,-4.843813419342041,-8.860544204711914,5.734813690185547,9.314435005187988,9.314435005187988,9.314223289489746,-9.671760559082031,-7.003537654876709,10.949064254760742,-10.770323753356934,8.877151489257812,0.09978250414133072,10.305459976196289,6.669315814971924,6.669321060180664,6.669318675994873,-6.050048351287842,-6.049936294555664,-10.031905174255371,4.143877029418945,5.346898555755615,11.423385620117188,10.286559104919434,8.690082550048828,-4.461113929748535,-4.461291313171387,5.562025547027588,-9.1939697265625,3.346403121948242,3.346403121948242,2.172673463821411,11.193975448608398,6.371243953704834,-2.9100871086120605,-8.329693794250488,-7.399355411529541,-10.492036819458008,9.040358543395996,-3.0599172115325928,5.632388591766357,6.388720989227295,6.388680458068848,-3.7341229915618896,-4.772645473480225,10.419857025146484,10.350028038024902,12.121779441833496,11.111551284790039,3.6629745960235596,-6.208040237426758,4.155663967132568,4.155677795410156,4.155677795410156,4.1556782722473145,4.155694484710693,9.040358543395996,-5.384072303771973,-5.384175777435303,8.57557487487793,3.748159170150757,3.747060775756836,5.094273567199707,-9.739654541015625,-6.786681175231934,-6.786680698394775,4.155689716339111,4.155584335327148,4.155690670013428,4.155556678771973,6.236666202545166,-7.399355411529541,-2.435755968093872,-6.230883598327637,-6.887115001678467,-8.802244186401367,-8.198121070861816,8.098858833312988,11.288540840148926,5.41705322265625,-7.485119342803955,13.982209205627441,12.324355125427246,12.324355125427246,4.6837029457092285,-3.6649410724639893,-6.505721092224121,-6.266978740692139,3.175123453140259,3.175123453140259,3.175123453140259,4.529379844665527,5.054805278778076,5.0548248291015625,5.0548248291015625,2.0307765007019043,9.335432052612305,-6.886993408203125,-3.295208215713501,-9.368678092956543,12.753976821899414,-2.1833176612854004,-10.323067665100098,9.671346664428711,2.9249818325042725,2.924961805343628,11.872551918029785,8.074628829956055,8.074628829956055,13.369154930114746,10.642593383789062,10.642593383789062,-9.246033668518066,-10.372535705566406,7.192685127258301,13.369172096252441,11.116829872131348,9.938814163208008,-1.8826837539672852,-6.365102291107178,4.520962238311768,7.428539276123047,5.8903069496154785,5.731459140777588,-4.843813419342041,-1.5261865854263306,-8.727462768554688,1.5639439821243286,-7.388954162597656,-4.454214572906494,-9.282512664794922,-7.071793556213379,-6.217221260070801,3.6209566593170166,-7.441347122192383,5.4680705070495605,5.468069076538086,9.86594009399414,9.865944862365723,9.865910530090332,2.338430404663086,-6.536581993103027,-1.1580606698989868,7.3649163246154785,-1.3452261686325073,5.6063337326049805,5.9278435707092285,5.582554340362549,7.948809623718262,-7.478187561035156,9.438201904296875,8.069704055786133,10.35053825378418,6.185967445373535,11.386456489562988,8.44366455078125,10.491575241088867,-7.428106307983398,-5.74564790725708,-10.29067611694336,-10.163328170776367,-7.4888811111450195,8.061893463134766,-3.556154727935791,-3.556130886077881,12.427692413330078,12.427781105041504,-7.716580390930176,4.474024295806885,-6.003352165222168,12.189859390258789,12.189859390258789,5.572150230407715,5.572183609008789,-10.863153457641602,0.1493431180715561,3.0883355140686035,-4.459211349487305,-5.763561725616455,3.3195319175720215,-9.950469970703125,-2.971818447113037,3.94030499458313,3.940129518508911,-4.827616214752197,-4.827610492706299,-4.827610492706299,8.21118450164795,-3.1639060974121094,-7.509698390960693,10.493160247802734,-4.472463607788086,11.082585334777832,11.75737190246582,11.757393836975098,0.4961335062980652,0.4961335062980652,3.319528102874756,-8.387362480163574,-2.791616201400757,-10.931845664978027,-10.931845664978027,-10.931845664978027,3.3195302486419678,-10.931852340698242,-7.113520622253418,-5.850799083709717,-5.851034641265869,-5.850558280944824,1.8558878898620605,1.5201410055160522,-10.93189811706543,-2.971818685531616,5.739622592926025,6.208226680755615,-2.7331745624542236,-0.8873526453971863,-0.8873526453971863,-7.415003299713135,7.660333156585693,7.462271690368652,7.46227502822876,7.661082744598389,-7.790685176849365,-7.796727657318115,1.4646077156066895,1.4646077156066895,-6.572046279907227,11.06213665008545,-2.0726706981658936,-12.213637351989746,-11.106626510620117,-2.917818546295166,-2.917818546295166,1.7708361148834229,11.076629638671875,1.2003281116485596,1.200319766998291,3.916719436645508,-6.884835243225098,7.027687072753906,-7.235325813293457,-7.235246658325195,2.4947032928466797,8.91847038269043,-3.9625120162963867,11.087103843688965,5.336680889129639,11.770206451416016,6.26410436630249,7.858840465545654,5.811171531677246,2.6625609397888184,-11.473959922790527,2.5250003337860107,0.003073757514357567,11.14742374420166,5.675748348236084,6.60191535949707,12.042086601257324,-7.1960062980651855,-7.195998668670654,-12.680614471435547,-8.718860626220703,8.481282234191895,-4.623908042907715,0.09470132738351822,-7.4434943199157715,-7.4434943199157715,-7.4434943199157715,-7.4434943199157715,-7.4434943199157715,-7.4434943199157715,10.116374969482422,-7.4434943199157715,-7.4434943199157715,-7.4434943199157715,-7.4434943199157715,-1.1415282487869263,-10.747832298278809,8.269994735717773,-7.4434943199157715,-2.9718117713928223,-2.9718260765075684,-9.950729370117188,1.5975069999694824,6.211028575897217,-2.5701472759246826,9.379703521728516,-12.087964057922363,-12.088303565979004,-12.088496208190918,-12.088303565979004,-12.0908203125,-12.091012001037598,-7.924977779388428,-7.2972092628479,4.00810432434082,4.008096694946289,8.685354232788086,1.306765079498291,6.635707378387451,6.16632604598999,-5.673801898956299,-8.860335350036621,10.904133796691895,6.387032985687256,3.144710063934326,1.597509741783142,-11.413023948669434,-6.27943754196167,-8.357243537902832,-8.157773971557617,6.150849342346191,7.341653347015381,9.402995109558105,6.239742755889893,10.121246337890625,1.597509741783142,-3.25761342048645,7.809861183166504,5.495603561401367,2.4273059368133545,2.4273059368133545,-6.413492679595947,-6.413492679595947,-8.45891284942627,-8.459051132202148,13.483572959899902,3.519022226333618,-7.850909233093262,8.514041900634766,10.633255004882812,-6.242964744567871,-5.763896942138672,-7.036143779754639,-4.904705047607422,-3.25761342048645,-5.234949588775635,-5.234601974487305,-5.23461389541626,-5.234949588775635,-5.234858512878418,1.597509741783142,-5.234949588775635,-4.355223178863525,-4.355223178863525,0.5840204954147339,2.1115834712982178,1.7622865438461304,10.636188507080078,-5.234949588775635,3.941218852996826,2.922745704650879,2.9227454662323,-0.1030677929520607,-12.090517044067383,-12.089838027954102,-10.369258880615234,-10.369258880615234,9.45157527923584,11.410900115966797,11.410900115966797,2.3577046394348145,-3.665024757385254,9.434383392333984,-6.480003356933594,-6.479975700378418,13.295182228088379,10.322053909301758,4.929638385772705,-8.80592155456543,-9.947554588317871,-9.947554588317871,-9.950469970703125,-9.947554588317871,-3.0350394248962402,-3.0350394248962402,10.290664672851562,3.9328765869140625,12.503535270690918,4.8616943359375,4.8616943359375,-10.497344970703125,5.368660926818848,4.1415324211120605,12.503535270690918,-9.771681785583496,9.385141372680664,9.385175704956055,-9.842679977416992,-9.659982681274414,3.2287495136260986,3.2287495136260986,10.396316528320312,11.72606372833252,-9.65605354309082,5.422494888305664,-4.39578104019165,-4.35297966003418,-6.628779888153076,-8.748650550842285,0.13727056980133057,-6.438459873199463,7.411144733428955,-1.3452261686325073,-10.373648643493652,-10.559830665588379,4.710134983062744,10.869182586669922,2.002708673477173,2.002708673477173,12.300427436828613,12.030717849731445,-10.487823486328125,12.030716896057129,-10.114931106567383,-9.941221237182617,-9.542415618896484,-9.557136535644531,-10.455350875854492,-10.123638153076172,5.601468086242676,-4.840773105621338,-3.093824863433838,-8.388124465942383,11.012496948242188,11.994924545288086,-2.097792863845825,-5.579785346984863,9.176982879638672,-1.470766544342041,-11.354588508605957,5.885473251342773,13.603229522705078,-6.828627586364746,-6.213522911071777,0.9414888024330139,0.941493570804596,-0.3100571036338806,13.60324478149414,2.296271324157715,12.782841682434082,12.782844543457031,6.333323001861572,4.263849258422852,-11.044148445129395,-7.14054012298584,-4.042182445526123,4.141952991485596,-6.579937934875488,-6.580404281616211,-6.580008506774902,4.1554274559021,5.038234233856201,-4.612427711486816,-4.612427711486816,-0.9198949337005615,12.782844543457031,-7.776700496673584,-7.732497215270996,-8.009196281433105,-8.005517959594727,-11.569137573242188,-4.882644176483154,-5.551987648010254,12.83139705657959,-11.83107852935791,-6.789530277252197,0.8940559029579163,-6.682879447937012,11.059163093566895,-6.382533550262451,-6.382533550262451,-6.382537364959717,4.160886287689209,11.165220260620117,6.068974018096924,-8.936484336853027,-11.434313774108887,-8.72421646118164,-8.936484336853027,6.0201239585876465,6.020088195800781,-8.936484336853027,-8.269304275512695,-8.936484336853027,-8.936484336853027,-8.922341346740723,-8.269304275512695,-8.936484336853027,-8.936484336853027,-8.922341346740723,-8.936484336853027,-8.936484336853027,-8.72421646118164,-8.269304275512695,-8.936484336853027,-6.820580005645752,-11.434293746948242,11.424236297607422,-5.897878646850586,12.636720657348633,12.636557579040527,-6.5553483963012695,-8.759247779846191,-6.21766471862793,1.4677655696868896,6.689383029937744,11.534893989562988,11.534893989562988,11.534893989562988,10.364447593688965,-10.274422645568848,-10.274422645568848,11.534893989562988,0.24118687212467194,0.24118684232234955,-5.500553131103516,9.319050788879395,-10.952625274658203,5.202019691467285,10.537294387817383,12.154672622680664,12.154106140136719,12.1541109085083,-6.060489654541016,-6.060489654541016,-1.2742637395858765,-1.2742637395858765,4.55772066116333,4.557712078094482,4.557681560516357,0.7369677424430847,6.097268581390381,6.097268581390381,6.097268581390381,-6.291105270385742,-3.5040993690490723,0.8040225505828857,-7.674473285675049,12.237977981567383,10.376042366027832,-11.284722328186035,4.296428680419922,7.70420503616333,7.8809685707092285,8.262194633483887,7.699808597564697,7.7508649826049805,8.150579452514648,8.172572135925293,-3.7317841053009033,-3.5040993690490723,6.590633869171143,-10.47926139831543,-3.2942800521850586,6.738903522491455,13.121594429016113,-7.842363357543945,8.998930931091309,-8.877492904663086,3.754089593887329,12.726790428161621,12.726790428161621,12.726790428161621,8.68145751953125,8.592713356018066,5.044407844543457,1.1604353189468384,-5.914435863494873,7.267979145050049,0.006800418719649315,1.2350391149520874,1.2350391149520874,-0.007603716105222702,1.915541648864746,10.816610336303711,-3.948423147201538,10.308725357055664,-5.263166427612305,7.981200218200684,8.650108337402344,4.039889812469482,-9.501688957214355,2.448312759399414,2.448309898376465,-3.1143436431884766,-0.6042421460151672,-5.235236644744873,12.598823547363281,11.551557540893555,-1.2594422101974487,6.381375312805176,8.915258407592773,0.9482980370521545,0.9482980370521545,0.9483047127723694,7.681328773498535,10.025153160095215,8.110623359680176,3.6811041831970215,3.6811041831970215,-10.283775329589844,-3.795853614807129,5.523906230926514,9.008047103881836,-11.483236312866211,6.381375312805176,2.081820487976074,0.8598901033401489,4.019657611846924,-7.273202419281006,-7.988341808319092,-2.817291498184204,-2.817307949066162,5.052051067352295,-7.494510173797607,10.820818901062012,-0.7923082709312439,-9.475593566894531,0.44493165612220764,-3.5932295322418213,8.775203704833984,5.196956634521484,-9.317429542541504,11.589714050292969,9.362815856933594,5.4847798347473145,0.569966733455658,-7.578583717346191,-7.806746959686279,7.4045915603637695,-5.462383270263672,8.784210205078125,-3.2651712894439697,8.698281288146973,-6.837527751922607,2.467270851135254,-5.319880485534668,-5.319868087768555,0.377229779958725,-9.415799140930176,7.831830024719238,7.831830024719238,7.949893474578857,-7.3700103759765625,-10.288100242614746,0.569966733455658,11.378973960876465,-7.29721736907959,2.4862029552459717,7.844934940338135,9.51069450378418,7.773044109344482,2.3765757083892822,2.6471455097198486,8.095664978027344,1.7912298440933228,-6.952876567840576,-6.952856540679932,-2.1258554458618164,-2.1258554458618164,-0.006544093601405621,-1.733749270439148,1.5760984420776367,4.718698501586914,-0.24804577231407166,9.616703033447266,9.15421199798584,2.5877225399017334,-10.204853057861328,11.259682655334473,-4.138986587524414,-4.138986587524414,-5.524232387542725,-5.639102458953857,-6.07614278793335,5.097993850708008,5.097993850708008,5.097993850708008,9.127559661865234,8.580082893371582,-8.979124069213867,4.378357410430908,-2.2847790718078613,9.299139976501465,2.8853437900543213,-2.6470961570739746,-1.7436121702194214,-3.867619037628174,-6.168825626373291,-6.893065929412842,12.134415626525879,-7.265064716339111,-7.210361480712891,7.842833995819092,7.650014400482178,-11.59933853149414,7.6669840812683105,11.476466178894043,1.9649956226348877,-10.276335716247559,12.927781105041504,-6.278566360473633,-8.713676452636719,5.654676914215088,5.655246734619141,-2.6470961570739746,10.288737297058105,7.087063312530518,7.087063312530518,2.416769027709961,-5.626233100891113,-5.626211166381836,4.51383113861084,7.690682411193848,7.698091506958008,4.398012638092041,0.9043362140655518,10.040229797363281,5.655270576477051,5.655364990234375,5.654676914215088,-6.877076625823975,10.365985870361328,0.9705018997192383,6.190298557281494,6.578881740570068,10.986103057861328,-5.530553340911865,-5.530235767364502,7.684980392456055,9.384697914123535,13.461492538452148,10.021613121032715,-12.09819221496582,-12.129415512084961,-12.09819221496582,-12.129415512084961,-12.129415512084961,13.46150016784668,9.384697914123535,9.384697914123535,12.963191986083984,6.973206996917725,-3.964038610458374,-3.9640467166900635,-3.964038610458374,6.108125686645508,-6.352233409881592,11.88936710357666,-6.398273468017578,-6.424922943115234,1.923420786857605,-2.067854642868042,2.0323097705841064,1.7938408851623535,12.21021556854248,4.064219951629639,-12.09819221496582,-12.09819221496582,-12.09819221496582,-12.09819221496582,-5.091719627380371,-5.091719627380371,-5.091678142547607,5.641053199768066,5.640015125274658,2.314303398132324,2.314237594604492,-7.066423416137695,-1.7302463054656982,-4.842675685882568,-4.024895191192627,-4.0248122215271,1.3814753293991089,10.896891593933105,10.847503662109375,-1.3937114477157593,-7.311018943786621,-1.3937114477157593,-4.385289669036865,-12.09819221496582,-8.38207721710205,4.522205352783203,-9.101607322692871,2.3146440982818604,-3.4650731086730957,-6.177941799163818,0.6486653685569763,0.6225839257240295,0.623570442199707,0.623570442199707,0.623570442199707,0.623570442199707,-3.7914083003997803,4.519988536834717,4.628785610198975,7.339121341705322,10.928133964538574,8.857426643371582,2.111564874649048,2.111567735671997,5.985071659088135,5.985044956207275,5.985044956207275,5.985044956207275,-10.525068283081055,0.7003275752067566,-8.075820922851562,10.765583992004395,4.171992301940918,-6.425349712371826,1.2557251453399658,10.573238372802734,12.336094856262207,-11.083722114562988,12.336094856262207,-0.04546268284320831,7.263600826263428,-8.388124465942383,-8.388124465942383,-1.0723682641983032,4.684305191040039,-2.8403403759002686,5.524055004119873,5.536753177642822,1.949019432067871,1.949019432067871,-6.462682723999023,5.057668685913086,-1.7593616247177124,-7.871801376342773,7.263832092285156,7.263600826263428,-0.045501288026571274,-6.401480674743652,12.336094856262207,5.081410884857178,-3.874652624130249,-2.3338301181793213,-1.048044204711914,13.897416114807129,-1.2491278648376465,13.897534370422363,13.897416114807129,13.897459030151367,5.159083843231201,5.772671222686768,5.772671222686768,5.772528171539307,5.772528171539307,5.772649765014648,2.1048977375030518,-1.7821868658065796,4.083380699157715,-1.7820069789886475,-1.7821868658065796,7.108776092529297,11.565009117126465,3.9227421283721924,8.898162841796875,-7.323202610015869,-10.770469665527344,-10.761927604675293,-10.761927604675293,8.285232543945312,8.016894340515137,-4.798318386077881,10.663655281066895,10.670917510986328,-3.2977564334869385,-1.7820069789886475,-1.7821868658065796,-8.388124465942383,8.126214981079102,8.369429588317871,11.539752006530762,0.670547366142273,-1.1040890216827393,8.27183723449707,-8.882512092590332,8.124342918395996,1.5947375297546387,-3.888645887374878,11.339651107788086,7.22698974609375,7.226988792419434,-7.271853446960449,-7.399317264556885,-6.937017917633057,-3.888643980026245,-3.850170135498047,-3.850170135498047,0.23175166547298431,-7.646989822387695,-7.124912261962891,-9.531352043151855,9.752728462219238,-6.635735511779785,6.7700700759887695,-5.052703380584717,-1.3300355672836304,7.911574840545654,-3.4429690837860107,-3.4429690837860107,6.744625568389893,2.9024035930633545,-5.5902886390686035,-4.7071075439453125,-7.317891597747803,-7.020211219787598,-6.937958717346191,-6.691229820251465,-8.861294746398926,-8.861294746398926,-8.861294746398926,-8.861294746398926,-8.861294746398926,-9.133932113647461,-9.133932113647461,6.307206153869629,10.009098052978516,-11.322742462158203,-11.29692268371582,-11.29692268371582,-1.7031396627426147,5.582805156707764,0.9704936742782593,-8.861294746398926,10.338165283203125,-8.861294746398926,10.284477233886719,-6.692794322967529,-2.3208508491516113,-2.3207056522369385,-2.3207056522369385,-7.5186333656311035,-7.5186333656311035,-1.797116756439209,0.8929330706596375,5.872185707092285,5.872178554534912,-2.8445332050323486,9.874419212341309,-1.7418733835220337,4.044404983520508,4.556527614593506,-8.861294746398926,5.0375847816467285,5.047895431518555,5.0375847816467285,10.30819034576416,-1.6462442874908447,-1.6462442874908447,-1.6462455987930298,-1.6462442874908447,4.812931537628174,10.460569381713867,10.895389556884766,-4.520689010620117,4.821540832519531,-11.070016860961914,1.2185972929000854,1.022019624710083,10.502120018005371,10.979241371154785,-5.479091167449951,10.979242324829102,-6.986749649047852,-6.986995220184326,8.369431495666504,8.369431495666504,8.369429588317871,8.369431495666504,-8.751530647277832,11.22330093383789,3.910534381866455,3.9110333919525146,3.9110333919525146,-5.272298336029053,-6.586159706115723,6.412327289581299,-5.67216682434082,8.064769744873047,-6.986994743347168,-6.986982345581055,-6.231192111968994,-6.710107326507568,-8.35898208618164,-2.2744100093841553,-2.2744100093841553,5.035345077514648,-3.1841955184936523,-8.726128578186035,7.958413600921631,6.1180009841918945,6.118001461029053,3.4725804328918457,-6.819846153259277,-3.128399133682251,-4.062932968139648,3.4041621685028076,5.0375847816467285,5.047895431518555,-2.2744100093841553,-6.710107326507568,-2.2744100093841553,9.033287048339844,-3.5263495445251465,-7.467019557952881,0.5415334105491638,0.5415332317352295,-0.7982943654060364,-0.798290491104126,9.536580085754395,0.220781147480011,-6.434403419494629,11.325654029846191,9.926551818847656,-8.196452140808105,-9.76269245147705,-6.219387054443359,11.124469757080078,-1.224155306816101,-4.840726852416992,-2.0729613304138184,-10.335461616516113,1.2591607570648193,1.2591615915298462,1.4657173156738281,1.4657245874404907,1.4657245874404907,-6.660233497619629,3.8295156955718994,-6.698760509490967,-7.2274065017700195,7.831727981567383,7.831707954406738,10.8759126663208,-7.376455307006836,-4.823505878448486,5.700793266296387,10.477633476257324,-6.598001956939697,3.392172336578369,-4.016446113586426,11.160555839538574,10.98466968536377,10.294089317321777,-9.501994132995605,-6.110593318939209,-6.110562801361084,-7.319406986236572,8.063263893127441,-11.031805038452148,-11.031805038452148,-11.031805038452148,12.38880729675293,-4.967820644378662,-0.16021667420864105,7.014745235443115,1.6920634508132935,3.991323232650757,3.991323232650757,-8.255218505859375,0.39581558108329773,0.37089356780052185,0.37089356780052185,0.37089356780052185,0.49482232332229614,0.49482232332229614,0.37089356780052185,0.37089356780052185,0.37089356780052185,-7.127279281616211,4.934447765350342,2.620023727416992,9.747457504272461,-2.0187816619873047,-2.01877498626709,0.37089356780052185,-7.67883825302124,-7.679086685180664,4.113436698913574,6.101034164428711,7.920712471008301,7.920727729797363,8.0292387008667,10.980535507202148,10.980535507202148,-6.02834415435791,12.685769081115723,-2.6217362880706787,-2.6217362880706787,-9.879830360412598,-9.879830360412598,-9.879830360412598,-9.879830360412598,-5.176473140716553,7.706399440765381,-2.621690511703491,10.834419250488281,10.834419250488281,1.8344446420669556,8.841724395751953,-9.486159324645996,10.108842849731445,0.601891815662384,8.128517150878906,9.969449043273926,2.08086895942688,4.885604381561279,1.6200917959213257,-6.961536884307861,12.529520034790039,-6.8046064376831055,7.526851654052734,11.106999397277832,-5.602853775024414,7.849095344543457,-3.795200824737549,-0.2893047630786896,-0.2893194556236267,-6.3638410568237305,5.934269428253174,5.933785438537598,3.0378849506378174,3.037856101989746,5.3264970779418945,10.968952178955078,-6.5845627784729,6.926665782928467,3.833594799041748,5.098013877868652,2.325044631958008,-3.1367108821868896,-5.333953857421875,-6.365403175354004,-6.365488052368164,-0.2296951562166214,7.0870561599731445,-0.3811676800251007,0.0435110479593277,7.953760623931885,9.50158977508545,9.501617431640625,7.2098493576049805,12.137903213500977,12.137903213500977,12.137840270996094,-10.800822257995605,9.66995906829834,0.16589336097240448,-7.189170837402344,-10.83413028717041,2.039242744445801,-6.044940948486328,-3.221989870071411,7.9538373947143555,7.95375394821167,7.953908920288086,7.858843803405762,0.042760077863931656,0.04394903406500816,0.04310471564531326,0.04353434219956398,0.04310475289821625,0.043636221438646317,12.760580062866211,0.04280441999435425,5.124093532562256,8.056740760803223,6.971993446350098,5.881353855133057,5.758407115936279,-8.91960334777832,-5.794096946716309,-5.794118404388428,-6.286548137664795,-1.0856035947799683,10.419191360473633,10.653783798217773,8.266672134399414,-4.789882183074951,-6.468991279602051,-6.412125587463379,-0.027580948546528816,10.678923606872559,10.678923606872559,12.700711250305176,7.672544479370117,7.458526611328125,7.458526611328125,7.012773513793945,13.050971984863281,7.713608741760254,8.450392723083496,-4.265030384063721,-4.697314739227295,-4.697314739227295,-4.697314739227295,1.4273722171783447,1.427405595779419,-9.582085609436035,-8.728372573852539,3.867687940597534,-9.308109283447266,-7.631476879119873,-0.8247606754302979,-4.885540008544922,-2.7773349285125732,7.914755344390869,13.29994010925293,6.372293949127197,11.470538139343262,-4.697314739227295,-4.697248458862305,-9.94238567352295,-0.7615874409675598,-4.840746879577637,2.6511950492858887,-1.656079649925232,-0.8359099626541138,-0.9845387935638428,-1.383370280265808,-1.383370280265808,-1.085761547088623,-1.085761547088623,-1.7410849332809448,-1.7410849332809448,-11.442277908325195,-9.331573486328125,12.963760375976562,10.573626518249512,-3.3868744373321533,-3.3869216442108154,-1.057588815689087,-1.085761547088623,-1.057588815689087,-1.320231318473816,1.6586138010025024,1.6586138010025024,7.111237049102783,1.523824691772461,-4.548712253570557,10.07273006439209,4.524615287780762,2.7630326747894287,7.65261697769165,0.7886247038841248,0.7886330485343933,-0.6476098895072937,-1.7410849332809448,-1.656079649925232,-1.085761547088623,-1.057588815689087,12.002833366394043,-5.695368766784668,2.310321092605591,7.838492393493652,-8.456070899963379,-8.456070899963379,10.061089515686035,5.5556440353393555,13.009212493896484,8.053336143493652,-8.59355354309082,5.99887752532959,-7.812769889831543,0.2383558601140976,-8.758130073547363,8.112091064453125,-5.917231559753418,7.691993236541748,-6.392874717712402,-3.9341049194335938,-4.647045135498047,11.57647705078125,7.632961273193359,10.856961250305176,10.339900970458984,10.339900970458984,10.389723777770996,10.445631980895996,10.695981979370117,10.653783798217773,-6.392876625061035,10.65998649597168,8.14328384399414,-7.580721378326416,10.267132759094238,-3.8946688175201416,5.186088562011719,-8.76724910736084,7.632961273193359,10.854728698730469,7.838487148284912,-8.090436935424805,-11.966090202331543,7.698201656341553,-8.054718971252441,7.622134685516357,-6.807626724243164,-9.078780174255371,4.662992477416992,8.093724250793457,3.567295789718628,-5.8309149742126465,0.25954434275627136,10.515270233154297,13.009782791137695,4.313225269317627,7.838492393493652,7.838487148284912,-6.787859916687012,-10.650768280029297,-6.616639614105225,-3.588685989379883,-2.526397943496704,4.892342567443848,2.070204257965088,8.294953346252441,5.670029163360596,1.4038610458374023,-2.0128462314605713,-11.966090202331543,-3.9239625930786133,-10.172146797180176,1.3378245830535889,-9.425301551818848,8.24508285522461,-1.3555710315704346,-2.873168468475342,-9.620673179626465,-6.662757396697998,-7.617489337921143,-5.38782262802124,9.6685152053833,-3.5725035667419434,-1.2518497705459595,-1.2520122528076172,-1.2518497705459595,-7.193665504455566,2.673563003540039,2.7786643505096436,2.673563003540039,2.673563003540039,2.673563003540039,2.673563003540039,2.673563003540039,2.673563003540039,2.673563003540039,2.673563003540039,6.070753574371338,2.673563003540039,6.070740699768066,-7.278704643249512,5.30251407623291,5.30237340927124,5.302456855773926,-9.086626052856445,8.021814346313477,8.030291557312012,7.071678638458252,7.071678638458252,-5.270131587982178,-5.337488174438477,-4.843531131744385,-7.366396903991699,7.249836444854736,-6.478757381439209,2.9300858974456787,8.612299919128418,2.673563003540039,-6.428571701049805,11.245229721069336,-4.960302352905273,-4.707627773284912,-7.161872386932373,-7.161800861358643,8.40493392944336,-2.972667694091797,10.507305145263672,12.057493209838867,11.16694450378418,-10.042030334472656,-10.806170463562012,10.94232177734375,10.987236976623535,-2.9710450172424316,-4.305414199829102,-9.703726768493652,-9.70391845703125,4.58220100402832,11.9400634765625,11.245229721069336,11.245229721069336,7.183980464935303,6.720107078552246,6.722237586975098,7.153392791748047,7.0948100090026855,5.343456268310547,6.722500324249268,6.726657390594482,6.936077117919922,7.990708351135254,7.990708351135254,7.990708351135254,7.990708351135254,11.940072059631348,7.162997245788574,6.234365940093994,5.5087432861328125,5.733465671539307,7.477994918823242,-3.9447405338287354,-5.665643215179443,-12.597173690795898,-12.597173690795898,6.415200233459473,10.079355239868164,10.079355239868164,10.079307556152344,-0.27757033705711365,-0.2776316702365875,-0.27757033705711365,-8.257370948791504,-8.257370948791504,-8.257370948791504,7.478032112121582,-8.728557586669922,-8.728557586669922,0.21656230092048645,3.192816972732544,7.583369731903076,7.583369731903076,7.583369731903076,7.583371162414551,1.1014798879623413,11.17572021484375,-10.765976905822754,-5.297878265380859,6.862209320068359,-7.314098834991455,9.445486068725586,-3.288743495941162,-10.833673477172852,-5.277263164520264,-5.277271747589111,12.412870407104492,-6.86263370513916,12.819966316223145,12.286150932312012,5.175197124481201,5.175159931182861,5.175208568572998,4.515773773193359,-0.7060496807098389,5.436225891113281,5.957998275756836,5.718651294708252,6.502482891082764,5.229917049407959,6.169746398925781,6.377835273742676,5.962357997894287,6.635461807250977,5.123085975646973,5.175209999084473,5.175146102905273,5.175205707550049,5.175189971923828,12.286178588867188,-6.439206123352051,5.248857021331787,0.6532353758811951,-4.91949987411499,-6.02592658996582,3.1579301357269287,12.286150932312012,-6.37199592590332,-10.21438217163086,10.545766830444336,10.077781677246094,11.686758995056152,12.465347290039062,5.175180912017822,5.175159931182861,11.431035041809082,10.117250442504883,10.11766529083252,10.117263793945312,2.5240066051483154,2.308990716934204,-10.5020112991333,-11.005474090576172,12.187594413757324,12.18735122680664,12.18735122680664,10.949530601501465,11.089494705200195,9.994637489318848,-7.546682834625244,-7.410308837890625,-4.364190101623535,9.903020858764648,5.196600914001465,9.498090744018555,9.498196601867676,10.204424858093262,8.894641876220703,11.374345779418945,-8.66584300994873,11.539344787597656,9.887557029724121,-8.573234558105469,4.889180660247803,10.14256763458252,12.237048149108887,10.082825660705566,6.5247273445129395,5.845760822296143,-4.337455749511719,-7.124238014221191,2.1695001125335693,11.924560546875,-3.465569019317627,9.866291046142578,8.23107624053955,12.237048149108887,4.358614921569824,9.838678359985352,-7.343287467956543,6.084358215332031,-9.187464714050293,8.891912460327148,7.7000885009765625,-10.614567756652832,5.387309551239014,-8.319913864135742,-7.262338638305664,-3.7827694416046143,8.1152982711792,8.650155067443848,-7.755847454071045,-8.661563873291016,9.838678359985352,-3.300990581512451,-1.4907220602035522,-7.403304100036621,-2.919121503829956,-6.561062812805176,11.121922492980957,7.082555294036865,7.920585632324219,2.1880900859832764,7.7768707275390625,-3.47277569770813,11.088387489318848,-6.5853190422058105,5.370584964752197,7.263530254364014,7.910857677459717,2.835010528564453,12.268937110900879,11.962313652038574,0.4246124029159546,-5.38782262802124,-6.288379669189453,-6.162045955657959,-1.0668174028396606,12.49804401397705,3.9149057865142822,-3.1991190910339355,-3.199122667312622,-7.297101020812988,-7.297101020812988,-7.297992706298828,-7.297992706298828,-2.6976940631866455,-10.192840576171875,9.376224517822266,9.376251220703125,9.376221656799316,6.292231559753418,-1.1051788330078125,-1.0573614835739136,-1.1051788330078125,-1.1051788330078125,10.117280006408691,3.031841516494751,8.4923734664917,1.2893232107162476,-3.44795560836792,5.741466522216797,1.5459620952606201,6.292231559753418,1.5459620952606201,-0.6904377937316895,3.640347719192505,-7.483529567718506,-1.0983686447143555,-1.1051788330078125,-1.0573614835739136,-1.0668174028396606,1.5464969873428345,-6.162045955657959,4.157218933105469,-7.436202049255371,-0.8672387003898621,-0.8675926327705383,-0.869068443775177,-1.3106836080551147,-9.678353309631348,-9.338410377502441,0.27287331223487854,6.879721164703369,6.879044055938721,6.879053115844727,-10.18755054473877,-7.320751190185547,-1.9311168193817139,-6.162045955657959,-6.162045955657959,5.418806552886963,5.418806552886963,1.7332143783569336,1.5076192617416382,-7.436197280883789,-5.873045921325684,-5.890347003936768,-7.089531421661377,-3.026303768157959,-3.025599718093872,-3.025599718093872,5.55596399307251,-3.026303768157959,-4.592683792114258,-4.592624187469482,-4.592750072479248,9.0465087890625,2.8173859119415283,-3.417229413986206,10.75271224975586,5.918103218078613,-4.178711891174316,8.56482219696045,-4.146533489227295,-7.403476715087891,-6.591684818267822,-6.794887542724609,-6.794958591461182,-6.526375770568848,-6.841883659362793,2.1183626651763916,-7.284317493438721,-7.322122097015381,-7.285170078277588,-7.322122097015381,-7.322134494781494,-6.6736860275268555,-9.931146621704102,-6.527454853057861,2.117523670196533,2.4986793994903564,3.1206014156341553,11.624505996704102,11.624566078186035,1.4926997423171997,1.4926997423171997,1.4926997423171997,1.4926997423171997,4.861141681671143,4.861282825469971,4.861141681671143,4.8613972663879395,4.861289978027344,4.861141681671143,4.861141681671143,4.861282825469971,2.4848134517669678,11.721744537353516,3.1474103927612305,3.146043300628662,-3.2924532890319824,8.396149635314941,8.21335506439209,8.213562965393066,8.447851181030273,11.48144245147705,11.48144245147705,-2.0325281620025635,-4.426033020019531,-4.426024436950684,9.952309608459473,5.888258934020996,1.6443023681640625,1.6443023681640625,9.754117012023926,0.19017824530601501,8.447643280029297,-7.473409652709961,-2.5930397510528564,-2.593289852142334,-3.2924883365631104,5.158711910247803,-1.3904837369918823,-12.482731819152832,1.3674468994140625,4.836788654327393,4.836788654327393,1.963619351387024,7.46438455581665,-8.012307167053223,-12.482731819152832,-12.482731819152832,-12.482731819152832,-12.482731819152832,5.821034908294678,-2.593290328979492,-7.473409652709961,-6.974091053009033,12.447193145751953,0.3150405287742615,-10.409470558166504,5.369430065155029,2.6308560371398926,7.124327659606934,-8.886358261108398,5.402425765991211,5.402425765991211,5.402425765991211,-1.1935292482376099,-2.779787540435791,12.363029479980469,-7.498721599578857,8.73318099975586,-1.9453150033950806,3.9284958839416504,-4.23936653137207,3.9284958839416504,-6.8865647315979,-11.605215072631836,-11.605250358581543,-11.605273246765137,-7.371006965637207,12.493067741394043,12.493091583251953,-10.308516502380371,13.363450050354004,5.4827799797058105,-10.189005851745605,-10.189005851745605,-10.189007759094238,-7.04578971862793,-7.04578971862793,-6.585617542266846,-4.957884311676025,9.54202651977539,-8.917635917663574,-0.21770545840263367,-3.7746050357818604,-3.7750015258789062,-3.0418360233306885,-3.1885719299316406,-7.347353458404541,-7.347354412078857,1.5459150075912476,-5.505218505859375,-5.505218505859375,-2.9736227989196777,-2.9736227989196777,9.599251747131348,9.823259353637695,-6.670986175537109,-6.670986175537109,-3.7746050357818604,7.028956890106201,-3.5049185752868652,-3.194535255432129,-1.6990607976913452,-0.09999497979879379,6.309376239776611,-9.258021354675293,5.649693012237549,-2.1813912391662598,-2.1813912391662598,9.346471786499023,13.04111385345459,-10.218716621398926,-10.218743324279785,-3.5252652168273926,-3.1885719299316406,-3.5199790000915527,-3.0425524711608887,-3.4953529834747314,6.582917213439941,11.31985855102539,-10.135198593139648,-5.189742565155029,-3.5284600257873535,-9.361332893371582,-10.504373550415039,-9.03814697265625,-8.5364408493042,-10.126072883605957,-5.503690719604492,7.164621829986572,3.5811445713043213,-6.036998748779297,-6.366629600524902,-6.366389751434326,-6.366605281829834,-5.503690719604492,11.44375991821289,-8.737685203552246,-10.639636993408203,-7.6031622886657715,11.310474395751953,-8.47125244140625,-7.165407180786133,0.25081300735473633,-3.6074721813201904,2.7314558029174805,-12.782689094543457,-3.9238810539245605,-0.731202244758606,-3.1214993000030518,8.101911544799805,10.348278999328613,-7.134047985076904,-10.926533699035645,-6.366574287414551,-6.366605281829834,-6.36660099029541,-5.218400478363037,2.69927716255188,12.169709205627441,11.041290283203125,10.789831161499023,1.8866242170333862,-7.931495189666748,1.9781471490859985,-5.886295795440674,-2.664283037185669,-5.118441581726074,-5.118316173553467,-5.118345737457275,-5.118344306945801,-7.438473224639893,6.171245098114014,10.034689903259277,-7.105892658233643,1.947034478187561,8.544936180114746,-5.218072891235352,4.816171169281006,4.816171169281006,4.816171169281006,8.943111419677734,-12.064163208007812,1.805640459060669,10.200925827026367,-3.8418033123016357,-3.8418033123016357,-3.8418033123016357,-3.8418033123016357,-3.8418028354644775,8.544929504394531,8.544929504394531,8.544936180114746,-7.453464031219482,-1.7096376419067383,13.12487506866455,-13.445348739624023,-13.445348739624023,-0.6847071647644043,-0.6847071647644043,-0.6848438382148743,-0.6848438382148743,-0.6847071647644043,10.606193542480469,4.6573100090026855,-6.601365089416504,-6.601365089416504,-6.601365089416504,-6.601365089416504,6.012838840484619,11.255596160888672,-13.445374488830566,0.5986896753311157,-13.445371627807617,-13.445348739624023,-10.135374069213867,-10.135211944580078,-10.135310173034668,-10.135313987731934,-10.135165214538574,6.154248237609863,-11.071074485778809,-11.071074485778809,-8.095091819763184,10.501660346984863,-5.051812648773193,-1.8598177433013916,-9.156051635742188,-6.296416759490967,4.3239827156066895,-13.445344924926758,-10.135171890258789,-10.534589767456055,-10.534589767456055,0.22126425802707672,-9.666329383850098,6.267459869384766,-5.727741718292236,-2.4294495582580566,-2.7696382999420166,0.9796763062477112,11.672667503356934,-8.756808280944824,-10.11722469329834,-10.876551628112793,-4.9968791007995605,5.419583797454834,13.1248779296875,13.12487506866455,7.564958572387695,-10.534589767456055,4.763593673706055,-7.120005130767822,-10.594108581542969,-10.594108581542969,-10.594108581542969,-10.594108581542969,-10.534589767456055,-10.534589767456055,-7.211868762969971,11.020421028137207,8.818082809448242,8.81808853149414,-10.807331085205078,-8.390305519104004,-4.467666149139404,8.074824333190918,-8.236978530883789,-7.120184421539307,6.582917213439941,11.884479522705078,-5.7168779373168945,6.175300598144531,-11.3563871383667,-6.944688320159912,-9.38467788696289,1.4575204849243164,-7.367892742156982,-0.5944027304649353,-1.0110430717468262,-1.0110430717468262,-0.5944027304649353,-1.0110430717468262,-9.071447372436523,6.379536151885986,6.379536151885986,-5.542733192443848,3.055745840072632,7.079140663146973,1.7879427671432495,1.7879213094711304,1.7876954078674316,1.7876935005187988,1.7876935005187988,-0.9378670454025269,-0.5944027304649353,-0.5944027304649353,-5.95039176940918,-8.53240966796875,-8.600457191467285,12.601486206054688,-7.763636589050293,9.88362979888916,9.88362979888916,-8.743942260742188,-3.5899240970611572,-9.45152759552002,-7.436173915863037,-7.226561546325684,-7.227728366851807,-7.277553558349609,-6.601552963256836,1.321488380432129,-1.0110430717468262,8.638482093811035,7.980058193206787,-5.344027042388916,-8.965112686157227,-8.965171813964844,-10.174825668334961,10.350255012512207,-11.070389747619629,-11.070911407470703,-0.5944027304649353,-0.9378670454025269,6.2085137367248535,6.2085137367248535,8.63846206665039,-5.8874688148498535,-4.814191818237305,1.7876935005187988,0.8525704741477966,5.62396764755249,12.59415340423584,-12.557418823242188,12.59415340423584,4.235065460205078,12.90936279296875,-6.752049446105957,-6.752107620239258,-4.006209373474121,7.840034484863281,7.98289155960083,7.982870101928711,9.282560348510742,4.291864395141602,-6.652093410491943,10.926546096801758,8.247314453125,10.689313888549805,-6.98443078994751,-6.98443078994751,-12.627842903137207,-7.10856819152832,-4.145638942718506,-4.145639419555664,0.8525373935699463,1.1953307390213013,13.703858375549316,6.827436923980713,-5.7168779373168945,-5.720742225646973,-5.7168779373168945,11.296693801879883,7.793652534484863,-6.425015449523926,-6.425015449523926,-7.525054931640625,1.787702202796936,-7.524830341339111,1.6672159433364868,4.718853950500488,8.842169761657715,-8.077157974243164,-8.077173233032227,-8.077149391174316,-11.507524490356445,-8.542051315307617,-7.433254718780518,-3.9821808338165283,10.312439918518066,-7.205246925354004,11.489031791687012,2.763012647628784,4.233280181884766,3.0409929752349854,-8.07717514038086,-6.842398643493652,7.204146862030029,-4.701448440551758,2.4132728576660156,5.760601043701172,5.760667324066162,5.760684490203857,-2.739316701889038,-2.739316701889038,-7.720750331878662,-6.1357808113098145,-2.5511274337768555,-2.739316701889038,-2.8362088203430176,-2.739316701889038,-2.739316701889038,-2.739316701889038,-2.739316701889038,-2.739316701889038,-3.6504764556884766,10.274443626403809,10.274788856506348,11.266311645507812,-6.001118183135986,0.5693680047988892,10.972627639770508,11.650465965270996,11.125988960266113,5.754722595214844,5.7549519538879395,-0.34937235713005066,5.760656356811523,10.264594078063965,-7.192461013793945,5.765438556671143,0.48817119002342224,6.677339553833008,6.042855739593506,3.6695351600646973,3.6695351600646973,0.7445268630981445,-6.948263645172119,-3.143270969390869,6.002509593963623,11.397868156433105,6.195199012756348,6.19535493850708,5.7549519538879395,6.195199012756348,3.7904820442199707,-1.3714869022369385,5.566645622253418,5.566645622253418,-5.921788692474365,-5.921792984008789,-2.2910687923431396,-9.119722366333008,-6.687950134277344,-6.687950134277344,-6.333594799041748,-10.824028015136719,9.894896507263184,6.195199012756348,2.215907335281372,-2.739316701889038,3.7938413619995117,-7.434114933013916,4.257957458496094,4.2580485343933105,7.334806442260742,9.159456253051758,5.782374382019043,5.782374382019043,-6.931615352630615,-6.613438606262207,-6.613438606262207,4.590007781982422,-7.65714693069458,9.7301664352417,7.7704386711120605,12.472552299499512,9.31099796295166,6.535543918609619,-3.1574156284332275,-4.872912406921387,-1.7935103178024292,8.206460952758789,4.2425537109375,14.592928886413574,-2.82266902923584,-0.43825864791870117,-0.43825864791870117,2.3524913787841797,7.923051357269287,-0.43825864791870117,-10.1270751953125],\"z\":[13.381749153137207,13.625622749328613,13.456403732299805,13.683476448059082,13.844137191772461,13.395569801330566,-4.049557209014893,3.4727895259857178,-4.148218154907227,-3.4508633613586426,13.957680702209473,-4.049554824829102,-9.06569766998291,13.828932762145996,7.852715492248535,5.724337577819824,-13.07445240020752,-9.721654891967773,13.561659812927246,13.383528709411621,-6.2699666023254395,-5.352451324462891,15.8861665725708,7.852715492248535,15.8861665725708,6.487354755401611,6.487354755401611,-1.2915775775909424,-8.269292831420898,1.4103922843933105,13.969197273254395,3.2374680042266846,-2.854412317276001,-2.4679248332977295,-1.2172383069992065,-4.57893705368042,-4.57893705368042,6.255878448486328,6.255873680114746,6.255878448486328,6.255878448486328,-4.57893705368042,-14.320302963256836,3.1966662406921387,-0.5534189343452454,4.794148921966553,-7.382088661193848,5.092896461486816,-8.872942924499512,2.0641629695892334,9.997499465942383,-4.57893705368042,-4.57893705368042,-0.4035457372665405,10.807037353515625,6.626972675323486,10.301426887512207,1.1274079084396362,-0.7068649530410767,7.852715492248535,-0.9184678792953491,-3.847869634628296,-5.39822244644165,2.2304751873016357,4.560401439666748,4.560401439666748,4.560400485992432,-3.8477084636688232,-11.09306526184082,-0.7420687079429626,4.07131290435791,5.207429885864258,1.1780949831008911,-2.9228432178497314,-3.7112958431243896,-3.711301326751709,13.869305610656738,5.9458208084106445,0.3013690412044525,-1.3868200778961182,-3.1382927894592285,-8.157283782958984,-4.973911762237549,-8.338951110839844,1.8289974927902222,4.649954319000244,-6.374148368835449,1.7944650650024414,4.122411251068115,1.1742759943008423,0.431338906288147,4.955265522003174,0.9165852665901184,0.9165852665901184,2.4586918354034424,1.5661665201187134,-10.57148551940918,1.1009628772735596,1.100878119468689,3.062459707260132,-13.785998344421387,-13.77511215209961,-10.57148551940918,7.980463981628418,-3.239795207977295,-3.239795207977295,-12.999200820922852,4.234410285949707,4.880581855773926,-2.027327299118042,-2.027635097503662,-3.1355931758880615,-9.459617614746094,-9.459593772888184,-3.5497543811798096,6.1236772537231445,-4.616724967956543,-9.633243560791016,4.276576995849609,4.4583306312561035,4.213218688964844,9.479899406433105,4.223932266235352,-0.3889990746974945,-6.201624870300293,-11.908886909484863,-11.226357460021973,-8.544868469238281,3.080467939376831,-3.239795207977295,-4.828925132751465,-4.5319929122924805,-7.356848239898682,-13.42862606048584,4.923921585083008,5.440047740936279,-1.1433786153793335,7.67673921585083,-0.8565506935119629,-10.627164840698242,1.4696106910705566,6.504204273223877,6.504204273223877,6.504186153411865,0.3745206296443939,-9.040321350097656,-2.219223737716675,0.10984653234481812,-0.7552245855331421,5.108964443206787,0.8407856225967407,3.2556865215301514,3.255683660507202,3.2556893825531006,-10.614580154418945,-10.61465835571289,1.9772264957427979,-12.548562049865723,4.064496040344238,-3.310441255569458,-10.995473861694336,-1.7609821557998657,-1.4447656869888306,-1.4448992013931274,-2.3919897079467773,-5.888563632965088,-13.618240356445312,-13.618240356445312,-7.48114013671875,-4.160953044891357,6.088769912719727,-11.221757888793945,-0.37250828742980957,6.3995208740234375,2.3800015449523926,5.680744171142578,-8.325021743774414,-5.925169467926025,5.271302223205566,5.271174907684326,6.58066463470459,-5.38545036315918,2.8964664936065674,-4.352768421173096,-0.3806476593017578,-3.612311601638794,1.4482831954956055,-7.267615795135498,5.254188537597656,5.2542009353637695,5.2542009353637695,5.254201889038086,5.254222869873047,5.680744171142578,6.041801929473877,6.04177188873291,1.3089333772659302,-10.646017074584961,-10.645763397216797,-1.2210456132888794,4.793367385864258,-5.118013858795166,-5.118013858795166,5.254220962524414,5.254750728607178,5.254208564758301,5.254724979400635,-3.6297101974487305,6.3995208740234375,1.9205995798110962,0.7166885733604431,-8.748831748962402,-1.9426400661468506,-9.406054496765137,-3.167173147201538,5.173999786376953,3.0542383193969727,-5.768280029296875,-4.679731369018555,1.688499093055725,1.688499093055725,-2.4500069618225098,-6.119108200073242,-1.862804651260376,-0.30233484506607056,1.260813593864441,1.260813593864441,1.260813593864441,4.728940963745117,-5.704922199249268,-5.704903602600098,-5.704903602600098,-5.4996771812438965,-10.392589569091797,-8.748832702636719,-13.097042083740234,1.9166932106018066,-0.4000718593597412,3.1073057651519775,2.243122100830078,3.8539419174194336,-6.989210605621338,-6.989267826080322,1.283969759941101,5.692409992218018,5.692409992218018,3.770855188369751,1.1948378086090088,1.1948378086090088,-9.69384479522705,-6.784729480743408,-0.275968074798584,3.770888328552246,7.820383548736572,2.408909797668457,-11.831576347351074,-0.544594943523407,4.112060546875,7.6887664794921875,4.147377967834473,1.4684057235717773,-0.8565506935119629,14.290616035461426,-0.3766810894012451,-1.8239308595657349,6.384359359741211,-7.493892192840576,1.6716887950897217,0.47850239276885986,-10.462152481079102,1.167229413986206,-11.686508178710938,3.353489637374878,3.353489398956299,9.046092987060547,9.046095848083496,9.046181678771973,-5.771755695343018,0.22293145954608917,2.3539602756500244,-9.704355239868164,15.876398086547852,5.927394390106201,-4.926292896270752,11.749491691589355,6.015037536621094,-11.518796920776367,-7.763813018798828,7.873656272888184,-6.580849647521973,11.499143600463867,-3.288006544113159,-1.6843185424804688,-4.974471569061279,-11.108487129211426,-9.788871765136719,-8.19736099243164,4.714276313781738,6.2835845947265625,8.80920124053955,-9.253891944885254,-9.253883361816406,7.1368327140808105,7.136849880218506,-11.48084545135498,4.550149917602539,-6.947963714599609,2.8242697715759277,2.8242697715759277,4.864078044891357,4.8640570640563965,-6.80869197845459,-5.812658309936523,-6.5394697189331055,-7.027044296264648,9.827447891235352,-5.169984817504883,4.207503795623779,4.568451404571533,-6.258379936218262,-6.258179664611816,-14.32276725769043,-14.322754859924316,-14.322754859924316,2.4255940914154053,-5.974365711212158,-10.85507583618164,-1.7186349630355835,3.6001877784729004,5.665098667144775,-5.503777980804443,-5.503695964813232,-13.996129989624023,-13.996129989624023,-5.17000675201416,5.40446662902832,10.517181396484375,1.1886906623840332,1.1886906623840332,1.1886906623840332,-5.170017719268799,1.1886816024780273,-11.088455200195312,-11.86019229888916,-11.86022663116455,-11.859719276428223,-8.20999526977539,-13.922845840454102,1.188635230064392,4.568451404571533,4.254275798797607,-2.5054335594177246,-5.886885643005371,3.0954737663269043,3.0954737663269043,6.476880073547363,-8.738834381103516,-8.447834968566895,-8.44784164428711,-8.740285873413086,-11.37458610534668,-11.373310089111328,-1.276689052581787,-1.276689052581787,-6.618313789367676,-9.613276481628418,8.258946418762207,-5.346917629241943,7.727875232696533,-7.7418622970581055,-7.7418622970581055,1.5336618423461914,-4.709280014038086,-15.06232738494873,-15.062334060668945,-7.879021167755127,-3.970801591873169,1.0953751802444458,7.054299354553223,7.054294586181641,0.946427047252655,4.2471466064453125,-4.721210956573486,-4.784433364868164,3.342151165008545,-2.825782060623169,-0.8385287523269653,-11.518789291381836,-10.141282081604004,-14.607877731323242,1.2644180059432983,8.563105583190918,-2.504779577255249,5.759027004241943,-10.296347618103027,-6.739315986633301,0.44012242555618286,7.145726680755615,7.145742893218994,2.2789993286132812,-7.350828170776367,-11.142361640930176,-1.8284995555877686,-9.650069236755371,1.466284155845642,1.466284155845642,1.466284155845642,1.466284155845642,1.466284155845642,1.466284155845642,-8.883570671081543,1.466284155845642,1.466284155845642,1.466284155845642,1.466284155845642,-2.097280740737915,2.7399790287017822,5.631972312927246,1.466284155845642,4.568450450897217,4.568459987640381,4.207462787628174,-14.650291442871094,-0.5740712881088257,-12.53956413269043,-2.569941520690918,2.855252742767334,2.8552496433258057,2.8547751903533936,2.855250120162964,2.8541293144226074,2.853663921356201,-8.90234375,-5.697686195373535,3.9919114112854004,3.991914987564087,-5.376393795013428,-6.150911808013916,7.2213215827941895,-0.733856737613678,-14.212662696838379,-10.627528190612793,-5.709987163543701,11.30247688293457,9.237875938415527,-14.650294303894043,5.641873836517334,-2.7639901638031006,-8.21225357055664,1.3712213039398193,4.540661811828613,-6.248054027557373,3.1423327922821045,0.025267383083701134,1.355757713317871,-14.650294303894043,-4.165882110595703,6.262164115905762,9.155096054077148,-7.637693405151367,-7.637693405151367,0.22026009857654572,0.22026009857654572,-4.087213516235352,-4.087082386016846,-5.682694911956787,-5.112578392028809,-0.7286339998245239,5.035653114318848,-8.706254959106445,-7.989072322845459,-13.152878761291504,9.974528312683105,-12.127649307250977,-4.165882110595703,-4.744442939758301,-4.744482040405273,-4.744487285614014,-4.744442939758301,-4.744200706481934,-14.650294303894043,-4.744442939758301,-1.0595401525497437,-1.0595401525497437,0.34507954120635986,-6.914677619934082,-8.556990623474121,-9.828125953674316,-4.744442939758301,-0.4499228596687317,9.080524444580078,9.080524444580078,-0.7675246000289917,2.6986052989959717,2.699000120162964,3.7416718006134033,3.7416718006134033,-9.556282997131348,-3.7129125595092773,-3.7129125595092773,-8.307578086853027,-2.7313320636749268,3.7877728939056396,-13.579546928405762,-13.579522132873535,-0.931389570236206,6.66377067565918,-11.643485069274902,-0.07583700120449066,4.289093971252441,4.289093971252441,4.207503795623779,4.289093971252441,12.303629875183105,12.303629875183105,-10.939102172851562,-12.765848159790039,-0.4772244095802307,-2.0535740852355957,-2.0535740852355957,-6.501716136932373,-10.796717643737793,9.637862205505371,-0.4772244095802307,-3.2434160709381104,1.167122483253479,1.1671675443649292,-2.838301658630371,-3.2418017387390137,-11.320125579833984,-11.320125579833984,-2.8202762603759766,5.541980266571045,-2.8536176681518555,-1.7654517889022827,-13.187830924987793,-12.766357421875,-6.2672319412231445,-2.6408164501190186,-4.851299285888672,-8.448698997497559,-5.948498725891113,15.876398086547852,-3.14385724067688,-3.52132248878479,-3.528657913208008,-0.772910475730896,-10.079116821289062,-10.079116821289062,-5.263023853302002,-8.460601806640625,-3.3232789039611816,-8.460601806640625,-2.9052324295043945,-3.5466792583465576,-2.9663829803466797,-3.0131118297576904,-3.58596134185791,-3.6424784660339355,1.551203966140747,-3.885890483856201,-9.384485244750977,6.2469658851623535,-5.796105861663818,7.392151832580566,5.518372058868408,-12.761175155639648,5.784710884094238,-11.607497215270996,3.5457420349121094,2.969233989715576,2.2993249893188477,-1.9544682502746582,-5.190992832183838,2.3120110034942627,2.3119707107543945,-8.750972747802734,2.2993850708007812,-4.6272735595703125,-4.113487720489502,-4.11348819732666,6.742921352386475,-12.498824119567871,-6.780858516693115,9.171407699584961,-11.984973907470703,-3.485969066619873,-12.442460060119629,-12.443740844726562,-12.442564964294434,-7.13051700592041,-2.7573609352111816,-1.0386123657226562,-1.0386123657226562,-4.6674675941467285,-4.11348819732666,-11.953409194946289,-11.957931518554688,-11.573004722595215,-11.56463623046875,2.4269301891326904,-5.484134197235107,-6.9875922203063965,6.212035179138184,2.8070530891418457,-9.928000450134277,-9.759101867675781,-8.710768699645996,5.441321849822998,-0.27473387122154236,-0.27473387122154236,-0.2746875286102295,0.08559116721153259,5.303276062011719,10.3312349319458,12.58188533782959,3.8634724617004395,13.035758972167969,12.58188533782959,-8.968012809753418,-8.968013763427734,12.58188533782959,12.950273513793945,12.58188533782959,12.58188533782959,13.335942268371582,12.950273513793945,12.58188533782959,12.58188533782959,13.335942268371582,12.58188533782959,12.58188533782959,13.035758972167969,12.950273513793945,12.58188533782959,-1.9904911518096924,3.863476037979126,1.821273684501648,-6.378902435302734,-4.048417568206787,-4.048424243927002,-2.1469340324401855,-2.847325086593628,-0.6652260422706604,-2.9241695404052734,-9.270838737487793,4.79707670211792,4.79707670211792,4.79707670211792,-2.5144660472869873,-4.245991230010986,-4.245991230010986,4.79707670211792,-5.513400554656982,-5.513400554656982,-2.94313383102417,2.591850519180298,-6.832587242126465,-11.158897399902344,-8.721888542175293,1.6264359951019287,1.626441478729248,1.6263872385025024,5.343482971191406,5.343482971191406,4.8036909103393555,4.8036909103393555,-7.6059088706970215,-7.605892181396484,-7.605894088745117,7.352129936218262,-6.020376682281494,-6.020376682281494,-6.020376682281494,-7.9794158935546875,2.3440418243408203,-7.447913646697998,-9.440840721130371,2.209822416305542,-5.85276460647583,2.8278536796569824,-7.367496490478516,8.517047882080078,8.990850448608398,8.772782325744629,8.849774360656738,8.460169792175293,8.413206100463867,8.430450439453125,11.742850303649902,2.3440418243408203,10.895529747009277,-4.446231842041016,-12.076087951660156,3.7319324016571045,-1.6106419563293457,8.965153694152832,8.920811653137207,-1.438183069229126,-6.161179542541504,1.4864346981048584,1.4864346981048584,1.4864346981048584,-7.834181308746338,-7.724668025970459,4.883327960968018,-14.355367660522461,-0.5093317627906799,9.896345138549805,-8.420921325683594,-9.377479553222656,-9.377479553222656,-2.495654344558716,-12.311644554138184,-2.1291661262512207,-12.31435489654541,-6.047186851501465,12.277488708496094,-10.962594985961914,-8.951301574707031,-13.180318832397461,-3.3960273265838623,-4.557191848754883,-4.557195663452148,1.3756452798843384,1.0649960041046143,-5.763798713684082,7.560829162597656,4.536464214324951,2.6009976863861084,-1.6418709754943848,0.7685309052467346,-6.474821090698242,-6.474821090698242,-6.474813461303711,4.658527851104736,-2.4287257194519043,0.2638453245162964,-13.156357765197754,-13.156357765197754,8.834205627441406,-13.215185165405273,-7.288881778717041,9.247979164123535,5.504456043243408,-1.6418712139129639,-2.112802267074585,-14.306453704833984,-7.391291618347168,-8.661497116088867,-9.06186580657959,-8.334992408752441,-8.334988594055176,-3.4763224124908447,-12.53078556060791,-1.8574354648590088,6.326706409454346,-0.6985555291175842,-6.965851306915283,5.209881782531738,-2.7041354179382324,2.895552158355713,1.7319384813308716,3.622277021408081,4.928905963897705,2.5509238243103027,-14.240659713745117,-0.3694850206375122,-4.276214122772217,-2.8165066242218018,-3.4235854148864746,-10.559803009033203,-2.350109815597534,3.582934856414795,8.05644416809082,-1.8908716440200806,-14.301214218139648,-14.301187515258789,-3.026059150695801,1.9319294691085815,-11.621782302856445,-11.621782302856445,9.136119842529297,6.293153285980225,-6.242130279541016,-14.240659713745117,-3.1620163917541504,-13.66430377960205,-4.67366886138916,-11.448867797851562,4.443814277648926,8.53185749053955,-1.3535408973693848,-14.358576774597168,8.73769760131836,-3.966191053390503,-4.620402812957764,-4.620430946350098,-4.086813449859619,-4.086813449859619,-14.055638313293457,-11.785440444946289,-12.459074020385742,-2.9293861389160156,-4.224251747131348,4.0737504959106445,-9.928252220153809,-5.786625862121582,3.620424509048462,5.234622001647949,11.35384464263916,11.35384464263916,-7.5863213539123535,-10.9512357711792,-12.374017715454102,1.931764841079712,1.931764841079712,1.931764841079712,4.020784854888916,-9.074925422668457,-0.702001690864563,9.591588973999023,8.29637622833252,2.6044037342071533,-0.5178287625312805,-11.860198020935059,13.944269180297852,-13.212142944335938,-8.849824905395508,-10.12543773651123,-0.01856197975575924,9.05756664276123,-10.959280967712402,-6.878228187561035,-6.596617698669434,5.006834983825684,6.96703577041626,0.7966605424880981,-4.08383846282959,-3.7433152198791504,-3.714402914047241,-6.598371982574463,-1.558833122253418,-1.2493523359298706,-1.2494840621948242,-11.860198020935059,0.8845667839050293,-12.887084007263184,-12.887084007263184,0.45008111000061035,-8.711423873901367,-8.711423873901367,9.92772102355957,9.229190826416016,-2.894347667694092,-7.378698348999023,6.533538341522217,1.7390931844711304,-1.2496384382247925,-1.2496591806411743,-1.2493523359298706,-3.81667160987854,-9.011300086975098,4.728448390960693,12.52912425994873,3.544536590576172,-0.8471470475196838,-5.214914798736572,-5.214960098266602,6.715341567993164,4.314781188964844,-5.819473743438721,7.544264316558838,4.808493137359619,4.803084850311279,4.808493137359619,4.803084850311279,4.803084850311279,-5.81948184967041,4.314781188964844,4.314781188964844,0.2336844503879547,6.8515448570251465,-4.2646660804748535,-4.264674186706543,-4.2646660804748535,1.7590405941009521,-11.835814476013184,1.4051979780197144,-13.500040054321289,-8.393804550170898,-6.087679386138916,-0.20197953283786774,-8.55171012878418,6.504368782043457,2.75264573097229,-13.091846466064453,4.808493137359619,4.808493137359619,4.808493137359619,4.808493137359619,12.294795989990234,12.294795036315918,12.294803619384766,-0.1624949723482132,-0.16250081360340118,-5.214698314666748,-5.214764595031738,-13.196575164794922,-11.791180610656738,10.71738052368164,-9.033203125,-9.033010482788086,-9.033926963806152,4.4327874183654785,-4.589515686035156,7.607555866241455,-13.04963493347168,7.607555866241455,-12.914329528808594,4.808493137359619,3.533958911895752,-12.323719024658203,0.41061514616012573,-11.652410507202148,3.2515528202056885,-0.7246984243392944,-7.094849586486816,1.870642900466919,1.8701177835464478,1.8701177835464478,1.8701177835464478,1.8701177835464478,-0.15842409431934357,-6.057409286499023,-12.508950233459473,-5.062490463256836,-1.712043046951294,4.826966285705566,-6.228298664093018,-6.22830057144165,-2.8909542560577393,-2.8910465240478516,-2.8910465240478516,-2.8910465240478516,-2.0225400924682617,4.929166793823242,0.9574123024940491,-5.17336368560791,0.3514954745769501,-3.0824358463287354,6.140209197998047,0.19835524260997772,-1.0858345031738281,2.2710394859313965,-1.0858345031738281,-9.713418960571289,-3.2578046321868896,6.2469658851623535,6.2469658851623535,2.1680619716644287,-12.396408081054688,-5.943108081817627,5.261327266693115,5.084059715270996,-6.95357608795166,-6.95357608795166,-9.386228561401367,-2.8599209785461426,-11.495977401733398,-4.2593278884887695,-3.2578916549682617,-3.2578046321868896,-9.713495254516602,-6.046105861663818,-1.0858345031738281,9.12402057647705,-8.471855163574219,2.1780571937561035,-4.765591144561768,-4.338455677032471,-11.737822532653809,-4.338472366333008,-4.338455677032471,-4.338527202606201,-5.473897457122803,-2.4465458393096924,-2.4465458393096924,-2.446411609649658,-2.446411609649658,-2.4466607570648193,-11.650175094604492,0.9831603169441223,-4.945580959320068,0.9832064509391785,0.9831603169441223,-2.8959803581237793,-2.5676591396331787,-3.1990041732788086,4.288885593414307,-12.998821258544922,2.86368989944458,2.84494686126709,2.84494686126709,-11.080965042114258,3.1323227882385254,-12.1563081741333,-0.017953472211956978,1.5678540468215942,-6.304891586303711,0.9832064509391785,0.9831603169441223,6.2469658851623535,-7.859322547912598,2.988011121749878,-7.302052974700928,-7.900908946990967,-6.991683006286621,0.8165348768234253,-0.09304989129304886,8.696293830871582,-8.2465181350708,-8.853777885437012,-1.3628935813903809,-0.5007165670394897,-0.5007179975509644,-13.976602554321289,-13.720291137695312,-14.055448532104492,-8.853779792785645,3.282926321029663,3.282926321029663,-5.323886394500732,-12.180734634399414,-10.720540046691895,-9.829854965209961,2.280517578125,-11.29552936553955,-3.2704684734344482,-13.057756423950195,1.0801331996917725,-5.918442726135254,-12.649734497070312,-12.649734497070312,-7.506642818450928,-2.005459785461426,-10.389238357543945,-7.202324390411377,-13.419451713562012,-13.24252700805664,-14.055657386779785,-13.360614776611328,2.79162859916687,2.79162859916687,2.79162859916687,2.79162859916687,2.79162859916687,-0.46327218413352966,-0.46327218413352966,0.8871625661849976,0.03553459048271179,7.585036754608154,-4.741062641143799,-4.741062641143799,-0.35028380155563354,3.2872605323791504,4.728357315063477,2.79162859916687,-1.451866626739502,2.79162859916687,-10.40195369720459,-13.358489036560059,2.237152099609375,2.2377235889434814,2.2377235889434814,2.7067418098449707,2.7067418098449707,1.8004627227783203,-13.27005672454834,-6.797266960144043,-6.797266960144043,-7.7181830406188965,1.3886009454727173,6.238354206085205,-6.813930511474609,0.41537660360336304,2.79162859916687,0.07063242048025131,0.07260258495807648,0.07063242048025131,-6.04871940612793,-3.2539048194885254,-3.2539048194885254,-3.2539310455322266,-3.2539048194885254,-12.035553932189941,-1.8677818775177002,4.166878700256348,10.960960388183594,-12.69189167022705,-2.5015106201171875,-8.273234367370605,-13.269818305969238,2.8578524589538574,-2.385469913482666,-13.097729682922363,-2.385470151901245,12.698561668395996,12.698774337768555,2.9880125522613525,2.9880125522613525,2.988011121749878,2.9880125522613525,-0.25036385655403137,-2.7521188259124756,-0.7999498844146729,-0.8002276420593262,-0.8002276420593262,10.273221969604492,-4.416622161865234,11.22481632232666,-13.133976936340332,-2.6798276901245117,12.698773384094238,12.69874382019043,-9.105608940124512,-0.2836958169937134,5.214146137237549,8.859366416931152,8.859366416931152,0.07006097584962845,-3.044508695602417,-1.4330838918685913,9.106145858764648,-0.346820592880249,-0.3468206524848938,1.3402506113052368,-9.793210983276367,-1.5353498458862305,0.03265852853655815,-12.882246017456055,0.07063242048025131,0.0726025253534317,8.859366416931152,-0.2836958169937134,8.859366416931152,-6.403733730316162,-1.933379888534546,-11.191812515258789,1.8638081550598145,1.8638081550598145,1.682806134223938,1.6831496953964233,-10.590957641601562,-14.863336563110352,-3.005582332611084,5.837176322937012,3.5583488941192627,0.5697861909866333,-3.9553303718566895,-9.205010414123535,5.690931797027588,14.749394416809082,-3.885904550552368,8.258852005004883,-2.887965202331543,5.189884185791016,5.189883708953857,-7.326193809509277,-7.32620096206665,-7.32620096206665,-3.5040719509124756,-8.137150764465332,-13.564200401306152,-3.383096694946289,4.040013790130615,4.0399322509765625,1.2805148363113403,2.809654951095581,4.889969825744629,1.6892300844192505,5.4494194984436035,8.202621459960938,-7.233685493469238,5.272209644317627,5.467240810394287,5.877252578735352,-6.09475040435791,9.073598861694336,-10.26140022277832,-10.26150131225586,-4.219570159912109,8.850634574890137,2.0370266437530518,2.0370266437530518,2.0370266437530518,-2.754711627960205,11.453594207763672,8.264832496643066,-3.6096205711364746,-5.297561168670654,-6.387971878051758,-6.387971878051758,-8.952170372009277,10.773780822753906,10.706046104431152,10.706046104431152,10.706046104431152,10.74797248840332,10.74797248840332,10.706046104431152,10.706046104431152,10.706046104431152,3.4058449268341064,-5.1471662521362305,-5.4845099449157715,2.3571510314941406,-11.979781150817871,-11.979787826538086,10.706046104431152,-12.008647918701172,-12.009654998779297,9.357586860656738,-0.4741825461387634,-7.787267684936523,-7.787330627441406,-7.963124752044678,1.5652910470962524,1.5652910470962524,9.176401138305664,8.050429344177246,-0.17219512164592743,-0.17219512164592743,5.319663047790527,5.319663047790527,5.319663047790527,5.319663047790527,1.2004514932632446,-9.325305938720703,-0.1722172200679779,3.1003992557525635,3.1003992557525635,-14.19309139251709,-9.666589736938477,3.630354642868042,0.536808431148529,-5.353405475616455,-8.293200492858887,3.593247652053833,6.908877849578857,1.2516342401504517,-3.913159132003784,-13.879920959472656,-8.421167373657227,-13.61691665649414,-13.080697059631348,5.709272861480713,-1.784416675567627,-1.1412464380264282,7.055265426635742,2.7915194034576416,2.7915141582489014,-11.923503875732422,-7.02226448059082,-7.02182149887085,-6.847287178039551,-6.847176551818848,-2.4718403816223145,-4.13629150390625,-8.7410306930542,-7.184744358062744,-5.019340991973877,-11.408831596374512,-1.4302020072937012,6.766414642333984,-5.224488258361816,-8.361040115356445,-8.361125946044922,2.519641637802124,-12.887109756469727,-13.928595542907715,7.97546911239624,-0.8746954202651978,-2.152517080307007,-2.1525609493255615,-5.997389793395996,-0.39877691864967346,-0.39877691864967346,-0.39877161383628845,0.08547922968864441,-4.257369041442871,-12.958892822265625,-10.148898124694824,0.5625287890434265,-8.442556381225586,-10.27822494506836,-13.042816162109375,-0.8746531009674072,-0.8747008442878723,-0.8744910359382629,4.252246379852295,7.976566314697266,7.975436687469482,7.977038860321045,7.976147651672363,7.977038860321045,7.975947856903076,2.1950268745422363,7.976447582244873,4.110140800476074,5.735192775726318,4.4382004737854,3.2098681926727295,-6.437779426574707,0.5618277788162231,-8.469415664672852,-8.469308853149414,0.24861998856067657,-3.2016656398773193,2.535701274871826,2.373643636703491,-11.031882286071777,-12.366412162780762,-8.821996688842773,-13.508410453796387,4.400881290435791,1.1749740839004517,1.1749740839004517,1.5049114227294922,7.68221378326416,3.195775032043457,3.195775032043457,-4.123505115509033,8.129566192626953,7.90945291519165,-5.058297157287598,0.25661903619766235,-6.6133036613464355,-6.6133036613464355,-6.6133036613464355,-9.798043251037598,-9.797945022583008,-9.043100357055664,-8.715789794921875,-7.923625946044922,-3.767580270767212,-13.021549224853516,-5.810680389404297,-12.975948333740234,-13.033612251281738,5.466346263885498,-5.621181011199951,13.456300735473633,4.617361068725586,-6.6133036613464355,-6.613361358642578,0.025682080537080765,-10.364015579223633,-3.885871171951294,-4.635666847229004,0.2237188071012497,0.059124164283275604,-0.10908195376396179,0.25577494502067566,0.25577494502067566,-0.4921486973762512,-0.4921486973762512,-0.319034218788147,-0.319034218788147,1.418297290802002,2.144465684890747,6.598413467407227,2.590367078781128,-4.904356956481934,-4.904360294342041,0.20142832398414612,-0.4921486973762512,0.20142832398414612,-0.30864351987838745,-4.461519241333008,-4.461519241333008,-13.024360656738281,-14.195371627807617,-12.038407325744629,6.957671642303467,4.379603862762451,-11.64758014678955,4.650007724761963,-7.79751443862915,-7.797697067260742,3.40210223197937,-0.319034218788147,0.2237188071012497,-0.4921486973762512,0.20142832398414612,0.5923122763633728,-5.814979553222656,-7.6061296463012695,-11.655508995056152,-8.006392478942871,-8.006392478942871,7.5745344161987305,5.1316070556640625,5.6222944259643555,8.825798988342285,-0.2827162444591522,13.235221862792969,-1.2926366329193115,-14.885424613952637,-2.151610851287842,8.793083190917969,-6.506239891052246,9.492158889770508,5.892364501953125,-5.082716941833496,-1.8506826162338257,1.0319044589996338,9.507750511169434,2.430455446243286,2.5034890174865723,2.5034890174865723,2.5261013507843018,2.5401525497436523,2.2856106758117676,2.373643636703491,5.892362594604492,2.3615643978118896,8.74302864074707,-8.711414337158203,-8.846976280212402,-6.062597751617432,-0.7628311514854431,-0.617867648601532,9.507750511169434,2.4314098358154297,-11.655508995056152,0.5617160797119141,-5.820300579071045,6.605504989624023,-4.199180603027344,8.223043441772461,-3.3748350143432617,-10.16345500946045,-12.153180122375488,-9.03762149810791,-6.389463424682617,-6.881220817565918,-7.283438682556152,-5.45057487487793,3.7045998573303223,-1.3764482736587524,-11.655508995056152,-11.655508995056152,-13.753353118896484,-7.145874977111816,0.1107487753033638,11.809006690979004,-12.243056297302246,-0.8729390501976013,-14.788195610046387,5.54432487487793,9.265767097473145,-14.263975143432617,5.4430131912231445,-5.820300579071045,-8.482841491699219,-5.409417629241943,-8.04896354675293,0.545847475528717,2.305096387863159,5.936950206756592,-13.087011337280273,2.350064754486084,-9.453103065490723,-0.9700681567192078,0.632980465888977,-8.690203666687012,-8.282615661621094,-3.6589901447296143,-3.659069061279297,-3.6589901447296143,5.695897102355957,1.733497142791748,1.3397226333618164,1.733497142791748,1.733497142791748,1.733497142791748,1.733497142791748,1.733497142791748,1.733497142791748,1.733497142791748,1.733497142791748,3.5501210689544678,1.733497142791748,3.550107002258301,1.4226771593093872,-10.86835765838623,-10.868476867675781,-10.8683500289917,0.5846430659294128,8.89199447631836,5.426734924316406,-7.209065914154053,-7.209065914154053,-5.525717258453369,-7.590013027191162,1.2171598672866821,-12.876250267028809,4.3250017166137695,-11.004992485046387,-2.094552993774414,-5.846482753753662,1.733497142791748,-8.582125663757324,-9.559141159057617,12.570446014404297,-1.1851805448532104,-7.602698802947998,-7.602715492248535,5.210906028747559,1.1028934717178345,-4.906161785125732,-5.6756978034973145,-1.3729901313781738,-3.952224016189575,0.10943448543548584,-5.221570014953613,-0.76520174741745,-11.052644729614258,-13.071436882019043,1.1790374517440796,1.1786997318267822,0.3471284806728363,0.976071834564209,-9.559141159057617,-9.559141159057617,9.34973430633545,9.043343544006348,9.027156829833984,9.376209259033203,9.246405601501465,14.170968055725098,9.0361328125,9.020800590515137,9.336264610290527,8.196033477783203,8.196033477783203,8.196033477783203,8.196033477783203,0.9759358763694763,9.305066108703613,14.626960754394531,14.01048469543457,14.51899242401123,-5.64307165145874,-8.571866035461426,-10.090348243713379,2.407407522201538,2.407407522201538,-2.600910186767578,-6.996624946594238,-6.996624946594238,-6.996602535247803,-8.700959205627441,-8.700888633728027,-8.700959205627441,-6.324679851531982,-6.324679851531982,-6.324679851531982,-5.643058776855469,-2.797497272491455,-2.797497272491455,-12.585197448730469,-13.830713272094727,-7.223106861114502,-7.223106861114502,-7.223106861114502,-7.223079204559326,-1.4365506172180176,-4.379172325134277,-6.216931343078613,12.396925926208496,-7.081370830535889,-3.7551679611206055,3.659531354904175,-4.879732608795166,-4.618680477142334,-2.809744358062744,-2.809755563735962,0.6239331364631653,-13.885726928710938,7.901263236999512,8.697164535522461,3.033088207244873,3.033076047897339,3.033085346221924,-7.147558689117432,-4.927433967590332,14.345036506652832,14.584928512573242,14.67241382598877,14.100366592407227,14.322498321533203,14.391144752502441,14.542195320129395,13.958977699279785,14.37149429321289,14.075030326843262,3.0330851078033447,3.033073663711548,3.0330843925476074,3.0330801010131836,8.697183609008789,-8.45138168334961,-11.008021354675293,1.7550067901611328,-4.948141098022461,-5.524535179138184,-14.48176383972168,8.697164535522461,-13.481169700622559,-7.8742289543151855,5.057544231414795,-8.776946067810059,3.512834072113037,8.465764999389648,3.0330729484558105,3.033076047897339,-2.5413856506347656,6.943442344665527,6.94306755065918,6.943443775177002,-13.919188499450684,-13.722926139831543,1.03298819065094,4.641729354858398,-8.346355438232422,-8.346673965454102,-8.346673965454102,-3.313908815383911,-3.1872060298919678,-6.627176761627197,-11.403213500976562,-13.371400833129883,-12.819648742675781,-6.734870910644531,-1.5988115072250366,-10.088685035705566,-10.088667869567871,-8.124022483825684,-4.864094257354736,-3.44879150390625,-0.33965951204299927,-7.573130130767822,-6.749838352203369,-0.37841328978538513,-0.8742389678955078,7.840839862823486,-1.73150634765625,1.4853073358535767,-2.644423246383667,4.82380485534668,-6.259863376617432,-5.958247184753418,-13.684885025024414,3.5105550289154053,0.9531741738319397,5.495035171508789,3.448625326156616,-1.73150634765625,-0.7223469018936157,-4.343574047088623,-11.028094291687012,-1.9122511148452759,4.128115177154541,1.2423993349075317,7.842466831207275,3.4246907234191895,-10.690311431884766,-4.126748561859131,-13.258112907409668,11.642644882202148,8.674077987670898,0.08569615334272385,-5.705495834350586,1.9722117185592651,-4.343574047088623,12.069673538208008,6.838111877441406,-11.064760208129883,12.461969375610352,-5.061476707458496,-2.301957130432129,-7.564054012298584,4.685272693634033,-14.10954475402832,4.671069145202637,11.913274765014648,6.0583815574646,-3.3413259983062744,-2.0787220001220703,-7.171372890472412,9.245596885681152,-13.854133605957031,2.475599527359009,3.599895715713501,-6.741661548614502,0.632980465888977,1.4481693506240845,8.98324966430664,1.9829405546188354,1.4553014039993286,-3.4258382320404053,-12.019137382507324,-12.01913070678711,-1.2218095064163208,-1.2218095064163208,-1.2221232652664185,-1.2221232652664185,5.013010025024414,-4.805572986602783,-4.680392265319824,-4.680621147155762,-4.680394649505615,-0.6128921508789062,1.9219202995300293,1.9731075763702393,1.9219202995300293,1.9219202995300293,6.943445682525635,6.384243488311768,5.069149017333984,-13.653593063354492,4.509908676147461,-5.561593055725098,-5.421219348907471,-0.6128921508789062,-5.421219348907471,-3.4356822967529297,-8.673890113830566,6.948478698730469,1.9147355556488037,1.9219202995300293,1.9731075763702393,1.9829405546188354,-5.422039985656738,8.98324966430664,-5.4183349609375,-9.938691139221191,-13.687259674072266,-13.68836784362793,-13.693222045898438,-2.0455849170684814,-3.9343817234039307,-3.5894808769226074,-9.695551872253418,-6.964298248291016,-6.964280605316162,-6.964278697967529,8.869416236877441,-10.993045806884766,-0.392630398273468,8.98324966430664,8.98324966430664,8.984888076782227,8.984888076782227,-11.916845321655273,-10.535877227783203,-9.93848705291748,-8.696520805358887,-6.324424743652344,-10.484538078308105,5.26123571395874,5.259703159332275,5.259703159332275,1.659601092338562,5.26123571395874,10.891921997070312,10.891927719116211,10.891921043395996,-2.491044282913208,-4.210077285766602,-12.585428237915039,0.27806636691093445,-4.930746555328369,-8.830310821533203,8.781155586242676,-12.75412368774414,-11.056140899658203,7.694290637969971,7.498881816864014,7.498891353607178,7.584030628204346,7.8555216789245605,-3.4566709995269775,7.952976703643799,7.728270530700684,7.952561378479004,7.728270530700684,7.7282867431640625,7.49973201751709,3.423581123352051,7.5922980308532715,-3.4568369388580322,-2.1092894077301025,1.958432674407959,-3.10459041595459,-3.104656219482422,7.978501796722412,7.978501796722412,7.978501796722412,7.978501796722412,5.8419365882873535,5.842206954956055,5.8419365882873535,5.841969013214111,5.842212200164795,5.8419365882873535,5.8419365882873535,5.842206954956055,-5.823633193969727,-2.763563394546509,-13.061838150024414,-13.062129974365234,-2.4203221797943115,-8.575371742248535,-8.323777198791504,-8.324057579040527,-8.651863098144531,4.5736083984375,4.5736083984375,2.6326842308044434,-0.8001658916473389,-0.8001847267150879,7.68274450302124,5.4443135261535645,-9.115632057189941,-9.115632057189941,-7.3644022941589355,-7.837815761566162,-8.651894569396973,5.573313236236572,-12.042723655700684,-12.042418479919434,-2.4203481674194336,-2.7807564735412598,5.885238170623779,-7.840059280395508,-1.6881780624389648,-1.7607842683792114,-1.7607842683792114,-3.8338828086853027,4.525827884674072,-5.288549900054932,-7.840059280395508,-7.840059280395508,-7.840059280395508,-7.840059280395508,-12.385651588439941,-12.042418479919434,5.573313236236572,-3.78609299659729,-3.3599112033843994,-3.018496513366699,4.36784553527832,-0.4221799373626709,-13.714735984802246,-12.883634567260742,-8.256145477294922,2.204944133758545,2.204944133758545,2.204944133758545,-11.65392780303955,-4.31799840927124,8.60816478729248,2.5917305946350098,-7.512931823730469,-12.114498138427734,-6.122225761413574,5.039668560028076,-6.122225761413574,-2.0862507820129395,1.2981796264648438,1.2981668710708618,1.298173189163208,7.351823329925537,-2.06839919090271,-2.06840443611145,-4.214898109436035,8.625414848327637,-5.00581693649292,-4.259715557098389,-4.259715557098389,-4.2597246170043945,1.567903995513916,1.567903995513916,-8.798470497131348,6.960995674133301,0.3142050504684448,3.2585678100585938,0.4852798581123352,4.776004314422607,4.780674457550049,4.632702827453613,4.893464088439941,-11.80463695526123,-11.80463695526123,-4.310253620147705,4.458090782165527,4.458090782165527,-11.741880416870117,-11.741880416870117,2.5670864582061768,2.621037006378174,-0.2287936806678772,-0.2287936806678772,4.776004314422607,6.983677387237549,4.471832752227783,4.440466403961182,7.970770359039307,-3.1588294506073,11.627944946289062,4.0491437911987305,0.8779559135437012,0.8779019713401794,0.8779019713401794,2.564551591873169,5.488921642303467,-5.073758125305176,-5.073755741119385,5.010878086090088,4.893464088439941,5.010532379150391,4.598537445068359,4.466188430786133,-9.312275886535645,-4.089982986450195,6.8416619300842285,4.367561340332031,3.490704298019409,1.7801532745361328,0.341598778963089,0.1598823368549347,2.1936843395233154,4.3493852615356445,-7.560027599334717,-4.041034698486328,-10.802735328674316,9.427926063537598,-3.7685909271240234,-3.768512487411499,-3.768625497817993,-7.560027599334717,-2.9297637939453125,-2.0888218879699707,8.830793380737305,-11.356605529785156,-3.3423595428466797,-8.777996063232422,5.607736110687256,-2.4195146560668945,-8.316802978515625,-1.801741123199463,2.2429230213165283,-6.407666206359863,-13.931530952453613,-11.971750259399414,8.721785545349121,-1.628112554550171,-10.831473350524902,-0.5510940551757812,-3.768662452697754,-3.768625497817993,-3.7686147689819336,-6.057721138000488,-5.600427627563477,3.048784017562866,-1.8195178508758545,-9.222990989685059,-2.542607307434082,4.797932147979736,-12.28835678100586,-13.188407897949219,-12.008145332336426,-9.633281707763672,-9.633501052856445,-9.633472442626953,-9.633466720581055,-1.22098708152771,-12.627155303955078,-1.3863186836242676,-1.7086436748504639,-7.206009387969971,10.19316291809082,-6.057725429534912,-2.69614839553833,-2.69614839553833,-2.69614839553833,3.789616823196411,1.9741203784942627,-7.111507892608643,5.430135726928711,1.5054938793182373,1.5054938793182373,1.5054938793182373,1.5054938793182373,1.5055500268936157,10.193160057067871,10.193160057067871,10.19316291809082,-11.170958518981934,5.7986979484558105,0.2071513533592224,-5.011539936065674,-5.011539936065674,5.356710910797119,5.356710910797119,5.356914520263672,5.356914520263672,5.356710910797119,-6.22990608215332,-12.45532512664795,-1.3202705383300781,-1.3202705383300781,-1.3202705383300781,-1.3202705383300781,-5.60825777053833,1.4796111583709717,-5.011556148529053,-7.347796440124512,-5.0115461349487305,-5.011539936065674,6.8416852951049805,6.841651916503906,6.841723918914795,6.841723442077637,6.8416924476623535,9.453808784484863,6.532858848571777,6.532858848571777,1.015204668045044,-1.333789348602295,-2.057215690612793,-0.28289148211479187,0.24877291917800903,-8.953798294067383,-7.407010078430176,-5.011529445648193,6.841679573059082,2.9740657806396484,2.9740657806396484,-7.381839752197266,-5.1096906661987305,-3.785707712173462,-7.9497904777526855,-10.275585174560547,1.8746219873428345,4.320448875427246,2.836491823196411,-2.2650890350341797,-6.04679536819458,-5.965449810028076,-6.719159126281738,1.0956109762191772,0.20715287327766418,0.2071513533592224,-8.143501281738281,2.9740657806396484,-1.9060333967208862,-10.537224769592285,3.004626750946045,3.004626750946045,3.004626750946045,3.004626750946045,2.9740657806396484,2.9740657806396484,-2.4780216217041016,-3.9310193061828613,-10.522035598754883,-10.522039413452148,3.766353130340576,-8.826462745666504,-7.180484771728516,8.972192764282227,1.9786782264709473,-10.53732681274414,-9.312275886535645,2.6048412322998047,9.87391471862793,12.725096702575684,-5.2136454582214355,5.217982769012451,-4.98106050491333,-10.061354637145996,-5.602461814880371,15.198805809020996,15.19542407989502,15.19542407989502,15.198805809020996,15.19542407989502,-9.344825744628906,-5.362499237060547,-5.362499237060547,-6.06964635848999,-6.446396827697754,7.584356307983398,-12.984301567077637,-12.984296798706055,-12.984451293945312,-12.984450340270996,-12.984450340270996,15.347214698791504,15.198805809020996,15.198805809020996,-5.803280830383301,-7.8034772872924805,-1.6870453357696533,1.425844430923462,-10.510354995727539,7.796189308166504,7.796189308166504,-2.710543394088745,-6.242360591888428,5.238991737365723,7.086297035217285,6.95779275894165,6.956592559814453,6.986795902252197,0.36540237069129944,-7.3255462646484375,15.19542407989502,-7.187353610992432,4.363210201263428,-1.2956386804580688,6.250206470489502,6.250213146209717,-1.719364047050476,-8.812211036682129,3.125608205795288,3.124957323074341,15.198805809020996,15.347214698791504,-4.384725093841553,-4.384725093841553,-7.187351703643799,-7.538790225982666,-7.372385025024414,-12.984450340270996,4.501196384429932,-7.184728145599365,1.7866872549057007,-4.932135105133057,1.7866872549057007,3.26104998588562,6.009084701538086,-0.610537052154541,-0.6104771494865417,0.6623699069023132,-11.17165470123291,4.786258697509766,4.7863006591796875,3.564182996749878,3.551522731781006,8.443693161010742,1.963666319847107,1.7755975723266602,-0.07800651341676712,-4.0657267570495605,-4.0657267570495605,-5.262515068054199,3.300431728363037,-12.490067481994629,-12.490067481994629,4.501425266265869,4.513906955718994,-1.5998729467391968,-9.149141311645508,9.87391471862793,9.874786376953125,9.87391471862793,1.7279777526855469,-6.496030330657959,0.7383953928947449,0.7383953928947449,0.8240998983383179,-12.984481811523438,0.8238231539726257,-6.96397066116333,12.72896671295166,-2.99723744392395,-2.3418219089508057,-2.3417906761169434,-2.3419735431671143,-6.43787956237793,-1.3775142431259155,-12.66079044342041,3.624544382095337,-6.227561950683594,6.1699700355529785,4.5429558753967285,-4.408555030822754,-12.754997253417969,-6.838529586791992,-2.3417680263519287,8.28534984588623,8.917252540588379,-12.81360912322998,-5.355587482452393,-4.740448951721191,-4.740468502044678,-4.740474224090576,3.3126094341278076,3.3126094341278076,4.838710784912109,-5.297365665435791,3.3590080738067627,3.3126094341278076,3.291719436645508,3.3126094341278076,3.3126094341278076,3.3126094341278076,3.3126094341278076,3.3126094341278076,-0.0908687636256218,6.106979846954346,6.106826305389404,-1.8738688230514526,-2.881091356277466,-2.244974374771118,-0.7486876845359802,-5.431128025054932,-3.2252614498138428,-0.4062535762786865,-0.4066717326641083,-8.590492248535156,-4.740444660186768,8.354609489440918,7.5812153816223145,-7.029289722442627,-7.187180519104004,10.770001411437988,-4.617047309875488,-4.546613693237305,-4.546613693237305,-15.17841911315918,-2.943613052368164,5.551986217498779,10.03656005859375,3.031879186630249,4.962195873260498,4.9620795249938965,-0.4066716134548187,4.962195873260498,1.4221103191375732,-2.311000347137451,2.874598979949951,2.874598979949951,-8.086189270019531,-8.086136817932129,-5.505118370056152,-3.930310010910034,-0.36146682500839233,-0.36146682500839233,-4.084875583648682,4.952731132507324,-10.326461791992188,4.962195873260498,-6.2339372634887695,3.3126094341278076,-6.1710920333862305,-11.124371528625488,-9.78459358215332,-9.784677505493164,-12.091819763183594,4.4551100730896,0.47367334365844727,0.47367334365844727,-10.041897773742676,2.205857753753662,2.205857992172241,-12.579485893249512,2.035734176635742,3.50500226020813,8.485391616821289,0.6635028123855591,4.238784313201904,-9.411165237426758,12.209918022155762,-13.038199424743652,13.877108573913574,-8.206180572509766,-12.718876838684082,-4.17354679107666,-12.987574577331543,7.929063320159912,7.929071426391602,-14.059184074401855,6.402516841888428,7.9290547370910645,4.148569107055664],\"type\":\"scatter3d\"},{\"hovertemplate\":\"Dominant_Topic=Topic 2<br>0=%{x}<br>1=%{y}<br>2=%{z}<extra></extra>\",\"legendgroup\":\"Topic 2\",\"marker\":{\"color\":\"#00cc96\",\"opacity\":0.7,\"symbol\":\"circle\"},\"mode\":\"markers\",\"name\":\"Topic 2\",\"scene\":\"scene\",\"showlegend\":true,\"x\":[0.6916274428367615,0.2547374665737152,-0.028506018221378326,0.11499681323766708,0.07946597039699554,0.24169330298900604,1.0067877769470215,0.9964247345924377,0.23053951561450958,1.1162053346633911,-0.14639580249786377,-0.39282509684562683,0.669122040271759,0.15209662914276123,0.620949387550354,0.8871880173683167,-0.3174653947353363,0.5525197386741638,0.569462239742279,0.8537012934684753,0.5927554368972778,-0.1670505553483963,-0.34453055262565613,1.1237506866455078,-0.013377688825130463,1.18044114112854,0.6698800921440125,-0.14392174780368805,0.39334043860435486],\"y\":[-4.917852878570557,-5.761427879333496,-4.375158309936523,-5.007778167724609,-5.320947170257568,-4.507761001586914,-5.592442512512207,-5.474886417388916,-4.478338241577148,-5.1318254470825195,-5.646024703979492,-5.23583984375,-5.481010437011719,-5.527530670166016,-5.437864303588867,-4.717690944671631,-5.134937763214111,-4.992497444152832,-4.29653263092041,-4.624521255493164,-4.3518805503845215,-4.666187763214111,-4.783880710601807,-4.699248790740967,-4.854759216308594,-5.106042861938477,-5.850650787353516,-5.648355484008789,-5.887505531311035],\"z\":[17.65309715270996,16.394580841064453,16.799030303955078,17.611318588256836,16.13718605041504,17.437461853027344,16.664695739746094,17.289186477661133,16.303375244140625,16.47016716003418,17.118572235107422,16.653104782104492,16.195886611938477,17.474672317504883,17.557289123535156,16.322498321533203,17.251903533935547,16.080921173095703,17.026517868041992,17.300395965576172,16.57729148864746,17.216554641723633,16.667760848999023,16.869150161743164,16.222339630126953,17.100893020629883,16.834611892700195,16.645160675048828,17.07453155517578],\"type\":\"scatter3d\"},{\"hovertemplate\":\"Dominant_Topic=Topic 3<br>0=%{x}<br>1=%{y}<br>2=%{z}<extra></extra>\",\"legendgroup\":\"Topic 3\",\"marker\":{\"color\":\"#ab63fa\",\"opacity\":0.7,\"symbol\":\"circle\"},\"mode\":\"markers\",\"name\":\"Topic 3\",\"scene\":\"scene\",\"showlegend\":true,\"x\":[-8.45003890991211,-8.45003890991211,-8.449042320251465,-8.45003890991211,-8.449042320251465,-8.449042320251465,-11.286284446716309,-9.02965259552002,-9.02965259552002,-14.518106460571289,-13.28615951538086,-11.112651824951172,-15.445496559143066,-13.28615951538086,-8.449042320251465,-8.45003890991211,-14.868121147155762,-14.982802391052246,-13.231348037719727,-13.458813667297363,-4.011058807373047,-4.011058807373047,-4.011058807373047,-4.011058807373047,-13.816004753112793,-13.222341537475586,-13.701321601867676,-13.701321601867676,-13.116366386413574,-5.955804824829102,-14.868121147155762,-14.868121147155762,-14.868121147155762,-13.701321601867676,-8.449042320251465,-13.116366386413574,-13.447624206542969,-10.947176933288574,-15.456783294677734,-8.980494499206543,-15.048911094665527,-11.627942085266113,-6.030366897583008,-11.62794303894043,-11.62794303894043,-13.458813667297363,-14.857400894165039,-14.506207466125488,-14.080041885375977,-14.212849617004395,-14.868121147155762,-15.632843017578125],\"y\":[11.958731651306152,11.958731651306152,11.95959758758545,11.958731651306152,11.95959758758545,11.95959758758545,10.261197090148926,10.965271949768066,10.965271949768066,9.360272407531738,10.0224609375,10.250527381896973,7.977365493774414,10.0224609375,11.95959758758545,11.958731651306152,8.619897842407227,8.528237342834473,10.047306060791016,9.39061450958252,10.999685287475586,10.999685287475586,10.999685287475586,10.999685287475586,9.777589797973633,10.03681755065918,10.063538551330566,10.063538551330566,9.62839412689209,11.114001274108887,8.619897842407227,8.619897842407227,8.619897842407227,10.063538551330566,11.95959758758545,9.62839412689209,9.399754524230957,10.236692428588867,7.008115291595459,10.98657512664795,7.8879218101501465,7.236516952514648,11.085410118103027,7.236516952514648,7.236516952514648,9.39061450958252,8.91308879852295,9.43165397644043,9.42624282836914,9.790740013122559,8.619897842407227,7.230474948883057],\"z\":[8.4598388671875,8.4598388671875,8.457877159118652,8.4598388671875,8.457877159118652,8.457877159118652,6.852151870727539,6.953405380249023,6.953405380249023,8.719114303588867,10.447097778320312,6.7235918045043945,8.365525245666504,10.447097778320312,8.457877159118652,8.4598388671875,9.237480163574219,8.886411666870117,7.351968765258789,7.415834426879883,7.921713352203369,7.921713352203369,7.921713352203369,7.921713352203369,7.3300580978393555,7.35798454284668,7.23367977142334,7.23367977142334,7.4520745277404785,6.293412685394287,9.237480163574219,9.237480163574219,9.237480163574219,7.23367977142334,8.457877159118652,7.4520745277404785,7.420887470245361,6.600888252258301,7.7011847496032715,6.889605522155762,9.83342456817627,9.381619453430176,6.187545299530029,9.381619453430176,9.381620407104492,7.415834426879883,8.544175148010254,8.978806495666504,10.007756233215332,8.890519142150879,9.237480163574219,8.185539245605469],\"type\":\"scatter3d\"},{\"hovertemplate\":\"Dominant_Topic=Topic 4<br>0=%{x}<br>1=%{y}<br>2=%{z}<extra></extra>\",\"legendgroup\":\"Topic 4\",\"marker\":{\"color\":\"#FFA15A\",\"opacity\":0.7,\"symbol\":\"circle\"},\"mode\":\"markers\",\"name\":\"Topic 4\",\"scene\":\"scene\",\"showlegend\":true,\"x\":[5.291911602020264,4.79679536819458,4.79679536819458,4.79679536819458,5.108300685882568,5.108300685882568,5.108300685882568,2.731546401977539,2.731546401977539,2.731546401977539,2.731546401977539,2.731546401977539,2.731546401977539,2.731546401977539,2.731546401977539,2.731546401977539,2.731546401977539,2.731546401977539,6.558627128601074,6.558627128601074,6.558627128601074,2.731546401977539,6.558627128601074,5.108300685882568,6.558627128601074,5.108300685882568,4.531291484832764,5.64718770980835,5.108300685882568,4.461724281311035,6.558627128601074,6.558627128601074,6.558627128601074,6.558627128601074,5.108300685882568,6.558627128601074,6.558627128601074],\"y\":[-8.28561782836914,-6.741359710693359,-6.741359710693359,-6.741359710693359,-7.376323223114014,-7.376323223114014,-7.376323223114014,-11.764923095703125,-11.764923095703125,-11.764923095703125,-11.764923095703125,-11.764923095703125,-11.764923095703125,-11.764923095703125,-11.764923095703125,-11.764923095703125,-11.764923095703125,-11.764923095703125,-10.813033103942871,-10.813033103942871,-10.813033103942871,-11.764923095703125,-10.813033103942871,-7.376323223114014,-10.813033103942871,-7.376323223114014,-7.3671393394470215,-7.749409198760986,-7.376323223114014,-7.862166404724121,-10.813033103942871,-10.813033103942871,-10.813033103942871,-10.813033103942871,-7.376323223114014,-10.813033103942871,-10.813033103942871],\"z\":[7.799429416656494,6.437844753265381,6.437844753265381,6.437844753265381,7.561291694641113,7.561291694641113,7.561291694641113,8.061108589172363,8.061108589172363,8.061108589172363,8.061108589172363,8.061108589172363,8.061108589172363,8.061108589172363,8.061108589172363,8.061108589172363,8.061108589172363,8.061108589172363,5.84806489944458,5.84806489944458,5.84806489944458,8.061108589172363,5.84806489944458,7.561291694641113,5.84806489944458,7.561291694641113,6.566000938415527,7.835289001464844,7.561291694641113,6.905167102813721,5.84806489944458,5.84806489944458,5.84806489944458,5.84806489944458,7.561291694641113,5.84806489944458,5.84806489944458],\"type\":\"scatter3d\"},{\"hovertemplate\":\"Dominant_Topic=Topic 5<br>0=%{x}<br>1=%{y}<br>2=%{z}<extra></extra>\",\"legendgroup\":\"Topic 5\",\"marker\":{\"color\":\"#19d3f3\",\"opacity\":0.7,\"symbol\":\"circle\"},\"mode\":\"markers\",\"name\":\"Topic 5\",\"scene\":\"scene\",\"showlegend\":true,\"x\":[-7.275900363922119,-6.986878871917725,-7.475291728973389,-7.275900363922119,-7.275900363922119,-7.349677562713623,-6.451078414916992,-6.5616044998168945,-6.981678009033203,-7.264186382293701,-6.385354042053223,-0.8290688991546631,-6.434860706329346,-6.385354042053223,-7.275900363922119,-6.671167373657227,-6.848644733428955,-7.275900363922119,-6.766918182373047,-6.981678009033203,-7.275900363922119,-6.981678009033203,-6.417728424072266],\"y\":[3.2377495765686035,4.047684669494629,3.509791612625122,3.2377495765686035,3.2377495765686035,3.723324775695801,3.815084934234619,2.8393685817718506,2.967602491378784,4.0099992752075195,3.443486452102661,5.602808475494385,3.413072109222412,3.443486452102661,3.2377495765686035,3.815121650695801,3.6961004734039307,3.2377495765686035,3.9596688747406006,2.967602491378784,3.2377495765686035,2.967602491378784,3.048704147338867],\"z\":[18.608049392700195,18.491680145263672,17.818967819213867,18.608049392700195,18.608049392700195,17.843570709228516,18.36933708190918,18.35897445678711,17.79530906677246,18.236621856689453,17.946365356445312,1.5250482559204102,18.717802047729492,17.946365356445312,18.608049392700195,18.73847770690918,17.675077438354492,18.608049392700195,17.964733123779297,17.79530906677246,18.608049392700195,17.79530906677246,18.482746124267578],\"type\":\"scatter3d\"},{\"hovertemplate\":\"Dominant_Topic=Topic 6<br>0=%{x}<br>1=%{y}<br>2=%{z}<extra></extra>\",\"legendgroup\":\"Topic 6\",\"marker\":{\"color\":\"#FF6692\",\"opacity\":0.7,\"symbol\":\"circle\"},\"mode\":\"markers\",\"name\":\"Topic 6\",\"scene\":\"scene\",\"showlegend\":true,\"x\":[13.917332649230957,13.676092147827148,14.276214599609375,13.718523025512695,13.433130264282227,14.014434814453125,13.676092147827148,14.308324813842773,13.66774845123291,14.414571762084961,13.437357902526855,13.585176467895508,13.422890663146973,14.254871368408203,14.456917762756348,14.308324813842773,13.898149490356445,13.24526309967041,14.497148513793945,14.128456115722656,13.874329566955566,14.619478225708008,14.704744338989258,13.28385066986084,13.983444213867188,14.704744338989258,14.704734802246094,14.83790111541748,14.837902069091797,14.747712135314941,14.840818405151367,13.849693298339844],\"y\":[-10.31896686553955,-10.582842826843262,-9.890118598937988,-10.063092231750488,-9.735369682312012,-9.78984546661377,-10.582842826843262,-10.379462242126465,-9.987825393676758,-9.728141784667969,-9.678959846496582,-9.44643497467041,-10.421916007995605,-10.643938064575195,-10.301088333129883,-10.379462242126465,-9.420140266418457,-10.148033142089844,-9.652371406555176,-9.401737213134766,-10.6738862991333,-10.093852043151855,-3.3576576709747314,-10.066530227661133,-9.582887649536133,-3.3576576709747314,-3.357653856277466,-4.549507141113281,-4.549507141113281,-3.8352913856506348,-4.653530120849609,-6.573423862457275],\"z\":[10.727001190185547,9.767226219177246,10.646894454956055,9.388562202453613,9.710692405700684,9.431038856506348,9.767226219177246,9.639824867248535,10.714326858520508,9.664984703063965,10.390585899353027,10.13089656829834,10.381936073303223,10.1791353225708,10.452183723449707,9.639824867248535,9.74128246307373,10.232274055480957,10.143464088439941,10.181628227233887,10.386387825012207,10.106069564819336,4.871453285217285,9.787546157836914,10.581829071044922,4.871453285217285,4.871450901031494,3.918501138687134,3.918501138687134,4.4055986404418945,3.8699870109558105,2.731926441192627],\"type\":\"scatter3d\"},{\"hovertemplate\":\"Dominant_Topic=Topic 7<br>0=%{x}<br>1=%{y}<br>2=%{z}<extra></extra>\",\"legendgroup\":\"Topic 7\",\"marker\":{\"color\":\"#B6E880\",\"opacity\":0.7,\"symbol\":\"circle\"},\"mode\":\"markers\",\"name\":\"Topic 7\",\"scene\":\"scene\",\"showlegend\":true,\"x\":[-1.9946318864822388,-1.730634093284607,-2.190605878829956,-1.56681227684021,-1.9317599534988403,-2.1511709690093994,-1.6785438060760498,-2.2717504501342773,-1.6785438060760498,-2.1511709690093994,-2.2717504501342773,-1.6372692584991455,-2.2717504501342773,-2.0034232139587402,-1.56681227684021,0.26070061326026917,-1.730634093284607],\"y\":[0.2631567418575287,0.04280676692724228,0.7203593850135803,0.5689827799797058,0.8516819477081299,0.6276456117630005,0.21499618887901306,0.17029619216918945,0.21499618887901306,0.6276456117630005,0.17029619216918945,0.6639829874038696,0.17029619216918945,0.5541280508041382,0.5689827799797058,-0.10216259956359863,0.04280676692724228],\"z\":[7.552059650421143,7.299501419067383,6.919292449951172,7.324446678161621,7.063787937164307,7.435057163238525,6.797439098358154,7.027200698852539,6.797439098358154,7.435057163238525,7.027200698852539,6.889658451080322,7.027200698852539,6.693924903869629,7.324446678161621,-0.7263625860214233,7.299501419067383],\"type\":\"scatter3d\"}],                        {\"template\":{\"data\":{\"histogram2dcontour\":[{\"type\":\"histogram2dcontour\",\"colorbar\":{\"outlinewidth\":0,\"ticks\":\"\"},\"colorscale\":[[0.0,\"#0d0887\"],[0.1111111111111111,\"#46039f\"],[0.2222222222222222,\"#7201a8\"],[0.3333333333333333,\"#9c179e\"],[0.4444444444444444,\"#bd3786\"],[0.5555555555555556,\"#d8576b\"],[0.6666666666666666,\"#ed7953\"],[0.7777777777777778,\"#fb9f3a\"],[0.8888888888888888,\"#fdca26\"],[1.0,\"#f0f921\"]]}],\"choropleth\":[{\"type\":\"choropleth\",\"colorbar\":{\"outlinewidth\":0,\"ticks\":\"\"}}],\"histogram2d\":[{\"type\":\"histogram2d\",\"colorbar\":{\"outlinewidth\":0,\"ticks\":\"\"},\"colorscale\":[[0.0,\"#0d0887\"],[0.1111111111111111,\"#46039f\"],[0.2222222222222222,\"#7201a8\"],[0.3333333333333333,\"#9c179e\"],[0.4444444444444444,\"#bd3786\"],[0.5555555555555556,\"#d8576b\"],[0.6666666666666666,\"#ed7953\"],[0.7777777777777778,\"#fb9f3a\"],[0.8888888888888888,\"#fdca26\"],[1.0,\"#f0f921\"]]}],\"heatmap\":[{\"type\":\"heatmap\",\"colorbar\":{\"outlinewidth\":0,\"ticks\":\"\"},\"colorscale\":[[0.0,\"#0d0887\"],[0.1111111111111111,\"#46039f\"],[0.2222222222222222,\"#7201a8\"],[0.3333333333333333,\"#9c179e\"],[0.4444444444444444,\"#bd3786\"],[0.5555555555555556,\"#d8576b\"],[0.6666666666666666,\"#ed7953\"],[0.7777777777777778,\"#fb9f3a\"],[0.8888888888888888,\"#fdca26\"],[1.0,\"#f0f921\"]]}],\"heatmapgl\":[{\"type\":\"heatmapgl\",\"colorbar\":{\"outlinewidth\":0,\"ticks\":\"\"},\"colorscale\":[[0.0,\"#0d0887\"],[0.1111111111111111,\"#46039f\"],[0.2222222222222222,\"#7201a8\"],[0.3333333333333333,\"#9c179e\"],[0.4444444444444444,\"#bd3786\"],[0.5555555555555556,\"#d8576b\"],[0.6666666666666666,\"#ed7953\"],[0.7777777777777778,\"#fb9f3a\"],[0.8888888888888888,\"#fdca26\"],[1.0,\"#f0f921\"]]}],\"contourcarpet\":[{\"type\":\"contourcarpet\",\"colorbar\":{\"outlinewidth\":0,\"ticks\":\"\"}}],\"contour\":[{\"type\":\"contour\",\"colorbar\":{\"outlinewidth\":0,\"ticks\":\"\"},\"colorscale\":[[0.0,\"#0d0887\"],[0.1111111111111111,\"#46039f\"],[0.2222222222222222,\"#7201a8\"],[0.3333333333333333,\"#9c179e\"],[0.4444444444444444,\"#bd3786\"],[0.5555555555555556,\"#d8576b\"],[0.6666666666666666,\"#ed7953\"],[0.7777777777777778,\"#fb9f3a\"],[0.8888888888888888,\"#fdca26\"],[1.0,\"#f0f921\"]]}],\"surface\":[{\"type\":\"surface\",\"colorbar\":{\"outlinewidth\":0,\"ticks\":\"\"},\"colorscale\":[[0.0,\"#0d0887\"],[0.1111111111111111,\"#46039f\"],[0.2222222222222222,\"#7201a8\"],[0.3333333333333333,\"#9c179e\"],[0.4444444444444444,\"#bd3786\"],[0.5555555555555556,\"#d8576b\"],[0.6666666666666666,\"#ed7953\"],[0.7777777777777778,\"#fb9f3a\"],[0.8888888888888888,\"#fdca26\"],[1.0,\"#f0f921\"]]}],\"mesh3d\":[{\"type\":\"mesh3d\",\"colorbar\":{\"outlinewidth\":0,\"ticks\":\"\"}}],\"scatter\":[{\"fillpattern\":{\"fillmode\":\"overlay\",\"size\":10,\"solidity\":0.2},\"type\":\"scatter\"}],\"parcoords\":[{\"type\":\"parcoords\",\"line\":{\"colorbar\":{\"outlinewidth\":0,\"ticks\":\"\"}}}],\"scatterpolargl\":[{\"type\":\"scatterpolargl\",\"marker\":{\"colorbar\":{\"outlinewidth\":0,\"ticks\":\"\"}}}],\"bar\":[{\"error_x\":{\"color\":\"#2a3f5f\"},\"error_y\":{\"color\":\"#2a3f5f\"},\"marker\":{\"line\":{\"color\":\"#E5ECF6\",\"width\":0.5},\"pattern\":{\"fillmode\":\"overlay\",\"size\":10,\"solidity\":0.2}},\"type\":\"bar\"}],\"scattergeo\":[{\"type\":\"scattergeo\",\"marker\":{\"colorbar\":{\"outlinewidth\":0,\"ticks\":\"\"}}}],\"scatterpolar\":[{\"type\":\"scatterpolar\",\"marker\":{\"colorbar\":{\"outlinewidth\":0,\"ticks\":\"\"}}}],\"histogram\":[{\"marker\":{\"pattern\":{\"fillmode\":\"overlay\",\"size\":10,\"solidity\":0.2}},\"type\":\"histogram\"}],\"scattergl\":[{\"type\":\"scattergl\",\"marker\":{\"colorbar\":{\"outlinewidth\":0,\"ticks\":\"\"}}}],\"scatter3d\":[{\"type\":\"scatter3d\",\"line\":{\"colorbar\":{\"outlinewidth\":0,\"ticks\":\"\"}},\"marker\":{\"colorbar\":{\"outlinewidth\":0,\"ticks\":\"\"}}}],\"scattermapbox\":[{\"type\":\"scattermapbox\",\"marker\":{\"colorbar\":{\"outlinewidth\":0,\"ticks\":\"\"}}}],\"scatterternary\":[{\"type\":\"scatterternary\",\"marker\":{\"colorbar\":{\"outlinewidth\":0,\"ticks\":\"\"}}}],\"scattercarpet\":[{\"type\":\"scattercarpet\",\"marker\":{\"colorbar\":{\"outlinewidth\":0,\"ticks\":\"\"}}}],\"carpet\":[{\"aaxis\":{\"endlinecolor\":\"#2a3f5f\",\"gridcolor\":\"white\",\"linecolor\":\"white\",\"minorgridcolor\":\"white\",\"startlinecolor\":\"#2a3f5f\"},\"baxis\":{\"endlinecolor\":\"#2a3f5f\",\"gridcolor\":\"white\",\"linecolor\":\"white\",\"minorgridcolor\":\"white\",\"startlinecolor\":\"#2a3f5f\"},\"type\":\"carpet\"}],\"table\":[{\"cells\":{\"fill\":{\"color\":\"#EBF0F8\"},\"line\":{\"color\":\"white\"}},\"header\":{\"fill\":{\"color\":\"#C8D4E3\"},\"line\":{\"color\":\"white\"}},\"type\":\"table\"}],\"barpolar\":[{\"marker\":{\"line\":{\"color\":\"#E5ECF6\",\"width\":0.5},\"pattern\":{\"fillmode\":\"overlay\",\"size\":10,\"solidity\":0.2}},\"type\":\"barpolar\"}],\"pie\":[{\"automargin\":true,\"type\":\"pie\"}]},\"layout\":{\"autotypenumbers\":\"strict\",\"colorway\":[\"#636efa\",\"#EF553B\",\"#00cc96\",\"#ab63fa\",\"#FFA15A\",\"#19d3f3\",\"#FF6692\",\"#B6E880\",\"#FF97FF\",\"#FECB52\"],\"font\":{\"color\":\"#2a3f5f\"},\"hovermode\":\"closest\",\"hoverlabel\":{\"align\":\"left\"},\"paper_bgcolor\":\"white\",\"plot_bgcolor\":\"#E5ECF6\",\"polar\":{\"bgcolor\":\"#E5ECF6\",\"angularaxis\":{\"gridcolor\":\"white\",\"linecolor\":\"white\",\"ticks\":\"\"},\"radialaxis\":{\"gridcolor\":\"white\",\"linecolor\":\"white\",\"ticks\":\"\"}},\"ternary\":{\"bgcolor\":\"#E5ECF6\",\"aaxis\":{\"gridcolor\":\"white\",\"linecolor\":\"white\",\"ticks\":\"\"},\"baxis\":{\"gridcolor\":\"white\",\"linecolor\":\"white\",\"ticks\":\"\"},\"caxis\":{\"gridcolor\":\"white\",\"linecolor\":\"white\",\"ticks\":\"\"}},\"coloraxis\":{\"colorbar\":{\"outlinewidth\":0,\"ticks\":\"\"}},\"colorscale\":{\"sequential\":[[0.0,\"#0d0887\"],[0.1111111111111111,\"#46039f\"],[0.2222222222222222,\"#7201a8\"],[0.3333333333333333,\"#9c179e\"],[0.4444444444444444,\"#bd3786\"],[0.5555555555555556,\"#d8576b\"],[0.6666666666666666,\"#ed7953\"],[0.7777777777777778,\"#fb9f3a\"],[0.8888888888888888,\"#fdca26\"],[1.0,\"#f0f921\"]],\"sequentialminus\":[[0.0,\"#0d0887\"],[0.1111111111111111,\"#46039f\"],[0.2222222222222222,\"#7201a8\"],[0.3333333333333333,\"#9c179e\"],[0.4444444444444444,\"#bd3786\"],[0.5555555555555556,\"#d8576b\"],[0.6666666666666666,\"#ed7953\"],[0.7777777777777778,\"#fb9f3a\"],[0.8888888888888888,\"#fdca26\"],[1.0,\"#f0f921\"]],\"diverging\":[[0,\"#8e0152\"],[0.1,\"#c51b7d\"],[0.2,\"#de77ae\"],[0.3,\"#f1b6da\"],[0.4,\"#fde0ef\"],[0.5,\"#f7f7f7\"],[0.6,\"#e6f5d0\"],[0.7,\"#b8e186\"],[0.8,\"#7fbc41\"],[0.9,\"#4d9221\"],[1,\"#276419\"]]},\"xaxis\":{\"gridcolor\":\"white\",\"linecolor\":\"white\",\"ticks\":\"\",\"title\":{\"standoff\":15},\"zerolinecolor\":\"white\",\"automargin\":true,\"zerolinewidth\":2},\"yaxis\":{\"gridcolor\":\"white\",\"linecolor\":\"white\",\"ticks\":\"\",\"title\":{\"standoff\":15},\"zerolinecolor\":\"white\",\"automargin\":true,\"zerolinewidth\":2},\"scene\":{\"xaxis\":{\"backgroundcolor\":\"#E5ECF6\",\"gridcolor\":\"white\",\"linecolor\":\"white\",\"showbackground\":true,\"ticks\":\"\",\"zerolinecolor\":\"white\",\"gridwidth\":2},\"yaxis\":{\"backgroundcolor\":\"#E5ECF6\",\"gridcolor\":\"white\",\"linecolor\":\"white\",\"showbackground\":true,\"ticks\":\"\",\"zerolinecolor\":\"white\",\"gridwidth\":2},\"zaxis\":{\"backgroundcolor\":\"#E5ECF6\",\"gridcolor\":\"white\",\"linecolor\":\"white\",\"showbackground\":true,\"ticks\":\"\",\"zerolinecolor\":\"white\",\"gridwidth\":2}},\"shapedefaults\":{\"line\":{\"color\":\"#2a3f5f\"}},\"annotationdefaults\":{\"arrowcolor\":\"#2a3f5f\",\"arrowhead\":0,\"arrowwidth\":1},\"geo\":{\"bgcolor\":\"white\",\"landcolor\":\"#E5ECF6\",\"subunitcolor\":\"white\",\"showland\":true,\"showlakes\":true,\"lakecolor\":\"white\"},\"title\":{\"x\":0.05},\"mapbox\":{\"style\":\"light\"}}},\"scene\":{\"domain\":{\"x\":[0.0,1.0],\"y\":[0.0,1.0]},\"xaxis\":{\"title\":{\"text\":\"0\"}},\"yaxis\":{\"title\":{\"text\":\"1\"}},\"zaxis\":{\"title\":{\"text\":\"2\"}}},\"legend\":{\"title\":{\"text\":\"Dominant_Topic\"},\"tracegroupgap\":0},\"title\":{\"text\":\"3d TSNE Plot for Topic Model\"},\"height\":800,\"width\":900},                        {\"responsive\": true}                    ).then(function(){\n",
              "                            \n",
              "var gd = document.getElementById('e8edaa35-1330-4a61-bec6-112889133555');\n",
              "var x = new MutationObserver(function (mutations, observer) {{\n",
              "        var display = window.getComputedStyle(gd).display;\n",
              "        if (!display || display === 'none') {{\n",
              "            console.log([gd, 'removed!']);\n",
              "            Plotly.purge(gd);\n",
              "            observer.disconnect();\n",
              "        }}\n",
              "}});\n",
              "\n",
              "// Listen for the removal of the full notebook cells\n",
              "var notebookContainer = gd.closest('#notebook-container');\n",
              "if (notebookContainer) {{\n",
              "    x.observe(notebookContainer, {childList: true});\n",
              "}}\n",
              "\n",
              "// Listen for the clearing of the current output cell\n",
              "var outputEl = gd.closest('.output');\n",
              "if (outputEl) {{\n",
              "    x.observe(outputEl, {childList: true});\n",
              "}}\n",
              "\n",
              "                        })                };                });            </script>        </div>"
            ]
          },
          "metadata": {},
          "output_type": "display_data"
        }
      ],
      "source": [
        "plot_model(nmf, plot = 'tsne')"
      ]
    },
    {
      "cell_type": "markdown",
      "id": "adf74cda",
      "metadata": {
        "id": "adf74cda"
      },
      "source": [
        "### Uniform Manifold Approximation and Projection Plot"
      ]
    },
    {
      "cell_type": "code",
      "execution_count": null,
      "id": "de677a56",
      "metadata": {
        "id": "de677a56",
        "outputId": "d6672350-17eb-4078-f54f-dffd56ebe917"
      },
      "outputs": [
        {
          "data": {
            "text/html": [
              "        <script type=\"text/javascript\">\n",
              "        window.PlotlyConfig = {MathJaxConfig: 'local'};\n",
              "        if (window.MathJax && window.MathJax.Hub && window.MathJax.Hub.Config) {window.MathJax.Hub.Config({SVG: {font: \"STIX-Web\"}});}\n",
              "        if (typeof require !== 'undefined') {\n",
              "        require.undef(\"plotly\");\n",
              "        requirejs.config({\n",
              "            paths: {\n",
              "                'plotly': ['https://cdn.plot.ly/plotly-2.18.2.min']\n",
              "            }\n",
              "        });\n",
              "        require(['plotly'], function(Plotly) {\n",
              "            window._Plotly = Plotly;\n",
              "        });\n",
              "        }\n",
              "        </script>\n",
              "        "
            ]
          },
          "metadata": {},
          "output_type": "display_data"
        },
        {
          "data": {
            "image/png": "[encoded data removed]",
            "text/plain": [
              "<Figure size 1000x600 with 1 Axes>"
            ]
          },
          "metadata": {},
          "output_type": "display_data"
        }
      ],
      "source": [
        "plot_model(nmf, plot = 'umap')"
      ]
    },
    {
      "cell_type": "markdown",
      "id": "179a79b6",
      "metadata": {
        "id": "179a79b6"
      },
      "source": [
        "# Evaluate Model"
      ]
    },
    {
      "cell_type": "code",
      "execution_count": null,
      "id": "a8b00352",
      "metadata": {
        "colab": {
          "referenced_widgets": [
            "e4fe23ea10af487fa70d17e75620564a"
          ]
        },
        "id": "a8b00352",
        "outputId": "3da0928c-916f-4928-fc50-4f29a506a93d"
      },
      "outputs": [
        {
          "data": {
            "application/vnd.jupyter.widget-view+json": {
              "model_id": "e4fe23ea10af487fa70d17e75620564a",
              "version_major": 2,
              "version_minor": 0
            },
            "text/plain": [
              "interactive(children=(ToggleButtons(description='Plot Type:', icons=('',), options=(('Frequency Plot', 'freque…"
            ]
          },
          "metadata": {},
          "output_type": "display_data"
        }
      ],
      "source": [
        "evaluate_model(nmf)"
      ]
    },
    {
      "cell_type": "markdown",
      "id": "5de9042e",
      "metadata": {
        "id": "5de9042e"
      },
      "source": [
        "### Saving the model"
      ]
    },
    {
      "cell_type": "code",
      "execution_count": null,
      "id": "1687c91a",
      "metadata": {
        "id": "1687c91a",
        "outputId": "76083aa2-f755-4838-e748-42a98766ad3d"
      },
      "outputs": [
        {
          "name": "stdout",
          "output_type": "stream",
          "text": [
            "Model Succesfully Saved\n"
          ]
        },
        {
          "data": {
            "text/plain": [
              "(NMF(alpha=0.0, beta_loss='frobenius', init='nndsvd', l1_ratio=0.0, max_iter=200,\n",
              "     n_components=8, random_state=123, shuffle=False, solver='cd', tol=0.0001,\n",
              "     verbose=0),\n",
              " 'nmf_model.pkl')"
            ]
          },
          "execution_count": 48,
          "metadata": {},
          "output_type": "execute_result"
        }
      ],
      "source": [
        "save_model(nmf,'nmf_model')"
      ]
    },
    {
      "cell_type": "markdown",
      "id": "6ff38219",
      "metadata": {
        "id": "6ff38219"
      },
      "source": [
        "### Loading the model\n",
        "To load a saved model on a future date in the same or different environment, we would use the PyCaret's load_model() function."
      ]
    },
    {
      "cell_type": "code",
      "execution_count": null,
      "id": "6546b5ed",
      "metadata": {
        "id": "6546b5ed",
        "outputId": "c5a9ab3c-b4a9-4dca-87ac-f5c29bf360f6"
      },
      "outputs": [
        {
          "name": "stdout",
          "output_type": "stream",
          "text": [
            "Model Sucessfully Loaded\n"
          ]
        }
      ],
      "source": [
        "saved_nmf = load_model('nmf_model')"
      ]
    },
    {
      "cell_type": "code",
      "execution_count": null,
      "id": "3d7d1b3f",
      "metadata": {
        "id": "3d7d1b3f",
        "outputId": "762285f7-113c-481e-f91a-1fd2c6cba6f5"
      },
      "outputs": [
        {
          "name": "stdout",
          "output_type": "stream",
          "text": [
            "NMF(alpha=0.0, beta_loss='frobenius', init='nndsvd', l1_ratio=0.0, max_iter=200,\n",
            "    n_components=8, random_state=123, shuffle=False, solver='cd', tol=0.0001,\n",
            "    verbose=0)\n"
          ]
        }
      ],
      "source": [
        "print(saved_nmf)"
      ]
    },
    {
      "cell_type": "markdown",
      "id": "0cee8457",
      "metadata": {
        "id": "0cee8457"
      },
      "source": [
        "### Next Steps"
      ]
    },
    {
      "cell_type": "markdown",
      "id": "f1ce9eb0",
      "metadata": {
        "id": "f1ce9eb0"
      },
      "source": [
        "Based on project requirements, we will use the NMF architecture to create a recommender system from scratch (file NMF_rec)."
      ]
    }
  ],
  "metadata": {
    "kernelspec": {
      "display_name": "pycaret_nlp",
      "language": "python",
      "name": "pycaret_nlp"
    },
    "language_info": {
      "codemirror_mode": {
        "name": "ipython",
        "version": 3
      },
      "file_extension": ".py",
      "mimetype": "text/x-python",
      "name": "python",
      "nbconvert_exporter": "python",
      "pygments_lexer": "ipython3",
      "version": "3.8.16"
    },
    "colab": {
      "provenance": [],
      "include_colab_link": true
    }
  },
  "nbformat": 4,
  "nbformat_minor": 5
}