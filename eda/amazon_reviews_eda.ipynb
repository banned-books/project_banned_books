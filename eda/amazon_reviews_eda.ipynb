{
  "nbformat": 4,
  "nbformat_minor": 0,
  "metadata": {
    "colab": {
      "provenance": [],
      "authorship_tag": "ABX9TyNlM4jqU/u7bSVbfV4yH4B1",
      "include_colab_link": true
    },
    "kernelspec": {
      "name": "python3",
      "display_name": "Python 3"
    },
    "language_info": {
      "name": "python"
    }
  },
  "cells": [
    {
      "cell_type": "markdown",
      "metadata": {
        "id": "view-in-github",
        "colab_type": "text"
      },
      "source": [
        "<a href=\"https://colab.research.google.com/github/banned-books/project_banned_books/blob/main/eda/amazon_reviews_eda.ipynb\" target=\"_parent\"><img src=\"https://colab.research.google.com/assets/colab-badge.svg\" alt=\"Open In Colab\"/></a>"
      ]
    },
    {
      "cell_type": "markdown",
      "source": [
        "Mount GDrive"
      ],
      "metadata": {
        "id": "iCE2cqxvEONR"
      }
    },
    {
      "cell_type": "code",
      "execution_count": null,
      "metadata": {
        "id": "QFKLLdvM10Q0",
        "colab": {
          "base_uri": "https://localhost:8080/"
        },
        "outputId": "7f4ad4c0-e46b-45ce-f18a-a11761283aca"
      },
      "outputs": [
        {
          "output_type": "stream",
          "name": "stdout",
          "text": [
            "Drive already mounted at /content/drive; to attempt to forcibly remount, call drive.mount(\"/content/drive\", force_remount=True).\n"
          ]
        }
      ],
      "source": [
        "from google.colab import drive\n",
        "drive.mount('/content/drive')"
      ]
    },
    {
      "cell_type": "markdown",
      "source": [
        "# Import Libraries"
      ],
      "metadata": {
        "id": "h1xciK_3F9gq"
      }
    },
    {
      "cell_type": "code",
      "source": [
        "import pandas as pd\n",
        "import altair as alt\n",
        "import warnings\n",
        "import matplotlib.pyplot as plt\n",
        "import datetime\n",
        "import seaborn as sns\n",
        "\n",
        "warnings.filterwarnings('ignore',category=DeprecationWarning)\n",
        "warnings.simplefilter('ignore')"
      ],
      "metadata": {
        "id": "4iM7Y8ojkO_k"
      },
      "execution_count": null,
      "outputs": []
    },
    {
      "cell_type": "markdown",
      "source": [
        "# Download Scraped Amazon Review Data"
      ],
      "metadata": {
        "id": "JHNVtGg5F_Av"
      }
    },
    {
      "cell_type": "code",
      "source": [
        "df = pd.read_pickle('/content/drive/MyDrive/Colab Notebooks/data/cleaned_trained_data/all_amazon_review_data.pkl')"
      ],
      "metadata": {
        "id": "HpdoR38IkAd3"
      },
      "execution_count": null,
      "outputs": []
    },
    {
      "cell_type": "code",
      "source": [
        "df.head()"
      ],
      "metadata": {
        "colab": {
          "base_uri": "https://localhost:8080/",
          "height": 250
        },
        "id": "6HN07NqKkOEh",
        "outputId": "7d95f088-b94e-4a9d-c217-14d2457794f8"
      },
      "execution_count": null,
      "outputs": [
        {
          "output_type": "execute_result",
          "data": {
            "text/plain": [
              "                       product_name  rating verified_purchase review_date  \\\n",
              "0  Ace Spades Faridah Abike Iyimide       4               Yes  2021-06-06   \n",
              "1  Ace Spades Faridah Abike Iyimide       4               Yes  2021-06-14   \n",
              "2  Ace Spades Faridah Abike Iyimide       5               Yes  2022-09-12   \n",
              "3  Ace Spades Faridah Abike Iyimide       4               Yes  2022-08-10   \n",
              "4  Ace Spades Faridah Abike Iyimide       5               Yes  2021-07-05   \n",
              "\n",
              "                                             reviews  \\\n",
              "0  An Engrossing Page Turner About Race, Class an...   \n",
              "1  An Interesting Debut “Hello, Niveus High. It’s...   \n",
              "2  Wow I ordered this book for my teenage daughte...   \n",
              "3  Definitely a YA novel Great plot, childish cha...   \n",
              "4  A most timely book. This a very engrossing sto...   \n",
              "\n",
              "                                         pre_process       date  \n",
              "0  an engrossing page turner about race  class an... 2021-06-06  \n",
              "1  an interesting debut  hello  niveus high  it i... 2021-06-14  \n",
              "2  wow i ordered this book for my teenage daughte... 2022-09-12  \n",
              "3  definitely a ya novel great plot  childish cha... 2022-08-10  \n",
              "4  a most timely book  this a very engrossing sto... 2021-07-05  "
            ],
            "text/html": [
              "\n",
              "  <div id=\"df-b76e45de-1f3f-4759-a82e-7b3dff92df16\">\n",
              "    <div class=\"colab-df-container\">\n",
              "      <div>\n",
              "<style scoped>\n",
              "    .dataframe tbody tr th:only-of-type {\n",
              "        vertical-align: middle;\n",
              "    }\n",
              "\n",
              "    .dataframe tbody tr th {\n",
              "        vertical-align: top;\n",
              "    }\n",
              "\n",
              "    .dataframe thead th {\n",
              "        text-align: right;\n",
              "    }\n",
              "</style>\n",
              "<table border=\"1\" class=\"dataframe\">\n",
              "  <thead>\n",
              "    <tr style=\"text-align: right;\">\n",
              "      <th></th>\n",
              "      <th>product_name</th>\n",
              "      <th>rating</th>\n",
              "      <th>verified_purchase</th>\n",
              "      <th>review_date</th>\n",
              "      <th>reviews</th>\n",
              "      <th>pre_process</th>\n",
              "      <th>date</th>\n",
              "    </tr>\n",
              "  </thead>\n",
              "  <tbody>\n",
              "    <tr>\n",
              "      <th>0</th>\n",
              "      <td>Ace Spades Faridah Abike Iyimide</td>\n",
              "      <td>4</td>\n",
              "      <td>Yes</td>\n",
              "      <td>2021-06-06</td>\n",
              "      <td>An Engrossing Page Turner About Race, Class an...</td>\n",
              "      <td>an engrossing page turner about race  class an...</td>\n",
              "      <td>2021-06-06</td>\n",
              "    </tr>\n",
              "    <tr>\n",
              "      <th>1</th>\n",
              "      <td>Ace Spades Faridah Abike Iyimide</td>\n",
              "      <td>4</td>\n",
              "      <td>Yes</td>\n",
              "      <td>2021-06-14</td>\n",
              "      <td>An Interesting Debut “Hello, Niveus High. It’s...</td>\n",
              "      <td>an interesting debut  hello  niveus high  it i...</td>\n",
              "      <td>2021-06-14</td>\n",
              "    </tr>\n",
              "    <tr>\n",
              "      <th>2</th>\n",
              "      <td>Ace Spades Faridah Abike Iyimide</td>\n",
              "      <td>5</td>\n",
              "      <td>Yes</td>\n",
              "      <td>2022-09-12</td>\n",
              "      <td>Wow I ordered this book for my teenage daughte...</td>\n",
              "      <td>wow i ordered this book for my teenage daughte...</td>\n",
              "      <td>2022-09-12</td>\n",
              "    </tr>\n",
              "    <tr>\n",
              "      <th>3</th>\n",
              "      <td>Ace Spades Faridah Abike Iyimide</td>\n",
              "      <td>4</td>\n",
              "      <td>Yes</td>\n",
              "      <td>2022-08-10</td>\n",
              "      <td>Definitely a YA novel Great plot, childish cha...</td>\n",
              "      <td>definitely a ya novel great plot  childish cha...</td>\n",
              "      <td>2022-08-10</td>\n",
              "    </tr>\n",
              "    <tr>\n",
              "      <th>4</th>\n",
              "      <td>Ace Spades Faridah Abike Iyimide</td>\n",
              "      <td>5</td>\n",
              "      <td>Yes</td>\n",
              "      <td>2021-07-05</td>\n",
              "      <td>A most timely book. This a very engrossing sto...</td>\n",
              "      <td>a most timely book  this a very engrossing sto...</td>\n",
              "      <td>2021-07-05</td>\n",
              "    </tr>\n",
              "  </tbody>\n",
              "</table>\n",
              "</div>\n",
              "      <button class=\"colab-df-convert\" onclick=\"convertToInteractive('df-b76e45de-1f3f-4759-a82e-7b3dff92df16')\"\n",
              "              title=\"Convert this dataframe to an interactive table.\"\n",
              "              style=\"display:none;\">\n",
              "        \n",
              "  <svg xmlns=\"http://www.w3.org/2000/svg\" height=\"24px\"viewBox=\"0 0 24 24\"\n",
              "       width=\"24px\">\n",
              "    <path d=\"M0 0h24v24H0V0z\" fill=\"none\"/>\n",
              "    <path d=\"M18.56 5.44l.94 2.06.94-2.06 2.06-.94-2.06-.94-.94-2.06-.94 2.06-2.06.94zm-11 1L8.5 8.5l.94-2.06 2.06-.94-2.06-.94L8.5 2.5l-.94 2.06-2.06.94zm10 10l.94 2.06.94-2.06 2.06-.94-2.06-.94-.94-2.06-.94 2.06-2.06.94z\"/><path d=\"M17.41 7.96l-1.37-1.37c-.4-.4-.92-.59-1.43-.59-.52 0-1.04.2-1.43.59L10.3 9.45l-7.72 7.72c-.78.78-.78 2.05 0 2.83L4 21.41c.39.39.9.59 1.41.59.51 0 1.02-.2 1.41-.59l7.78-7.78 2.81-2.81c.8-.78.8-2.07 0-2.86zM5.41 20L4 18.59l7.72-7.72 1.47 1.35L5.41 20z\"/>\n",
              "  </svg>\n",
              "      </button>\n",
              "      \n",
              "  <style>\n",
              "    .colab-df-container {\n",
              "      display:flex;\n",
              "      flex-wrap:wrap;\n",
              "      gap: 12px;\n",
              "    }\n",
              "\n",
              "    .colab-df-convert {\n",
              "      background-color: #E8F0FE;\n",
              "      border: none;\n",
              "      border-radius: 50%;\n",
              "      cursor: pointer;\n",
              "      display: none;\n",
              "      fill: #1967D2;\n",
              "      height: 32px;\n",
              "      padding: 0 0 0 0;\n",
              "      width: 32px;\n",
              "    }\n",
              "\n",
              "    .colab-df-convert:hover {\n",
              "      background-color: #E2EBFA;\n",
              "      box-shadow: 0px 1px 2px rgba(60, 64, 67, 0.3), 0px 1px 3px 1px rgba(60, 64, 67, 0.15);\n",
              "      fill: #174EA6;\n",
              "    }\n",
              "\n",
              "    [theme=dark] .colab-df-convert {\n",
              "      background-color: #3B4455;\n",
              "      fill: #D2E3FC;\n",
              "    }\n",
              "\n",
              "    [theme=dark] .colab-df-convert:hover {\n",
              "      background-color: #434B5C;\n",
              "      box-shadow: 0px 1px 3px 1px rgba(0, 0, 0, 0.15);\n",
              "      filter: drop-shadow(0px 1px 2px rgba(0, 0, 0, 0.3));\n",
              "      fill: #FFFFFF;\n",
              "    }\n",
              "  </style>\n",
              "\n",
              "      <script>\n",
              "        const buttonEl =\n",
              "          document.querySelector('#df-b76e45de-1f3f-4759-a82e-7b3dff92df16 button.colab-df-convert');\n",
              "        buttonEl.style.display =\n",
              "          google.colab.kernel.accessAllowed ? 'block' : 'none';\n",
              "\n",
              "        async function convertToInteractive(key) {\n",
              "          const element = document.querySelector('#df-b76e45de-1f3f-4759-a82e-7b3dff92df16');\n",
              "          const dataTable =\n",
              "            await google.colab.kernel.invokeFunction('convertToInteractive',\n",
              "                                                     [key], {});\n",
              "          if (!dataTable) return;\n",
              "\n",
              "          const docLinkHtml = 'Like what you see? Visit the ' +\n",
              "            '<a target=\"_blank\" href=https://colab.research.google.com/notebooks/data_table.ipynb>data table notebook</a>'\n",
              "            + ' to learn more about interactive tables.';\n",
              "          element.innerHTML = '';\n",
              "          dataTable['output_type'] = 'display_data';\n",
              "          await google.colab.output.renderOutput(dataTable, element);\n",
              "          const docLink = document.createElement('div');\n",
              "          docLink.innerHTML = docLinkHtml;\n",
              "          element.appendChild(docLink);\n",
              "        }\n",
              "      </script>\n",
              "    </div>\n",
              "  </div>\n",
              "  "
            ]
          },
          "metadata": {},
          "execution_count": 12
        }
      ]
    },
    {
      "cell_type": "code",
      "source": [
        "df.info()"
      ],
      "metadata": {
        "colab": {
          "base_uri": "https://localhost:8080/"
        },
        "id": "ML8lapl3k0su",
        "outputId": "6408c916-94bf-4cf4-d3e6-d91f021893c4"
      },
      "execution_count": null,
      "outputs": [
        {
          "output_type": "stream",
          "name": "stdout",
          "text": [
            "<class 'pandas.core.frame.DataFrame'>\n",
            "Int64Index: 380639 entries, 0 to 384232\n",
            "Data columns (total 7 columns):\n",
            " #   Column             Non-Null Count   Dtype         \n",
            "---  ------             --------------   -----         \n",
            " 0   product_name       380639 non-null  object        \n",
            " 1   rating             380639 non-null  int64         \n",
            " 2   verified_purchase  380639 non-null  object        \n",
            " 3   review_date        380639 non-null  datetime64[ns]\n",
            " 4   reviews            380639 non-null  object        \n",
            " 5   pre_process        380639 non-null  object        \n",
            " 6   date               380639 non-null  datetime64[ns]\n",
            "dtypes: datetime64[ns](2), int64(1), object(4)\n",
            "memory usage: 23.2+ MB\n"
          ]
        }
      ]
    },
    {
      "cell_type": "markdown",
      "source": [
        "# Plot the Amazon Review Rating Distribution"
      ],
      "metadata": {
        "id": "-W56IvAEGPSN"
      }
    },
    {
      "cell_type": "code",
      "source": [
        "plt.figure(figsize=(12,8))\n",
        "\n",
        "sns.countplot(data=df, x='rating')\n",
        "sns.color_palette(\"colorblind\")\n",
        "\n",
        "plt.suptitle('Distribution of Amazon Review Ratings on Banned Books', fontsize=20)\n",
        "plt.title('(from August 9, 1997 to October 12, 2022)', fontsize=16)\n",
        "plt.xlabel('Rating', fontsize=14)\n",
        "plt.ylabel('Number of Reviews', fontsize=14)\n",
        "plt.savefig('amazon_rating_distribution.png')"
      ],
      "metadata": {
        "colab": {
          "base_uri": "https://localhost:8080/",
          "height": 781
        },
        "id": "LWlNT2sumk09",
        "outputId": "ad61ade4-d6f4-4473-f336-b0af2a473c39"
      },
      "execution_count": null,
      "outputs": [
        {
          "output_type": "display_data",
          "data": {
            "text/plain": [
              "<Figure size 1200x800 with 1 Axes>"
            ],
            "image/png": "[encoded data removed]"
          },
          "metadata": {}
        }
      ]
    }
  ]
}