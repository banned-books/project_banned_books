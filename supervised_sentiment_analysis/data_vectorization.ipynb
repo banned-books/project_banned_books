{
 "cells": [
  {
   "cell_type": "markdown",
   "id": "253a1590",
   "metadata": {
    "id": "253a1590"
   },
   "source": [
    "# Import Tools"
   ]
  },
  {
   "cell_type": "code",
   "execution_count": null,
   "id": "034664a1",
   "metadata": {
    "id": "034664a1"
   },
   "outputs": [],
   "source": [
    "import sklearn\n",
    "import nltk\n",
    "import numpy as np\n",
    "import pandas as pd\n",
    "from google.colab import drive\n",
    "from pycaret.classification import *\n",
    "from pycaret.datasets import get_data\n",
    "from sklearn.feature_extraction.text import TfidfVectorizer, TfidfTransformer, CountVectorizer"
   ]
  },
  {
   "cell_type": "markdown",
   "id": "e79622f8",
   "metadata": {
    "id": "e79622f8"
   },
   "source": [
    "# Load Data"
   ]
  },
  {
   "cell_type": "code",
   "execution_count": null,
   "id": "6ed228fb",
   "metadata": {
    "id": "6ed228fb"
   },
   "outputs": [],
   "source": [
    "# Amazon review data\n",
    "data = pd.read_parquet('/content/drive/MyDrive/Colab Notebooks/data/cleaned_trained_data/supervised_learning_data')"
   ]
  },
  {
   "cell_type": "code",
   "execution_count": null,
   "id": "3491c48c",
   "metadata": {
    "colab": {
     "base_uri": "https://localhost:8080/",
     "height": 204
    },
    "executionInfo": {
     "elapsed": 9,
     "status": "ok",
     "timestamp": 1681073083851,
     "user": {
      "displayName": "Project Banned Books",
      "userId": "03433331433367582182"
     },
     "user_tz": 240
    },
    "id": "3491c48c",
    "outputId": "39555ec4-8965-43f6-87fa-69529ab7d21b"
   },
   "outputs": [
    {
     "data": {
      "text/html": [
       "\n",
       "  <div id=\"df-6822e142-a715-4331-921e-008483bb417e\">\n",
       "    <div class=\"colab-df-container\">\n",
       "      <div>\n",
       "<style scoped>\n",
       "    .dataframe tbody tr th:only-of-type {\n",
       "        vertical-align: middle;\n",
       "    }\n",
       "\n",
       "    .dataframe tbody tr th {\n",
       "        vertical-align: top;\n",
       "    }\n",
       "\n",
       "    .dataframe thead th {\n",
       "        text-align: right;\n",
       "    }\n",
       "</style>\n",
       "<table border=\"1\" class=\"dataframe\">\n",
       "  <thead>\n",
       "    <tr style=\"text-align: right;\">\n",
       "      <th></th>\n",
       "      <th>review</th>\n",
       "      <th>Flag_1</th>\n",
       "    </tr>\n",
       "  </thead>\n",
       "  <tbody>\n",
       "    <tr>\n",
       "      <th>0</th>\n",
       "      <td>engrossing page turner race class bullying gra...</td>\n",
       "      <td>2</td>\n",
       "    </tr>\n",
       "    <tr>\n",
       "      <th>1</th>\n",
       "      <td>interesting debut “ hello niveus high it ’ s t...</td>\n",
       "      <td>2</td>\n",
       "    </tr>\n",
       "    <tr>\n",
       "      <th>2</th>\n",
       "      <td>wow ordered book teenage daughter luvs</td>\n",
       "      <td>2</td>\n",
       "    </tr>\n",
       "    <tr>\n",
       "      <th>3</th>\n",
       "      <td>definitely ya novel great plot childish charac...</td>\n",
       "      <td>2</td>\n",
       "    </tr>\n",
       "    <tr>\n",
       "      <th>4</th>\n",
       "      <td>timely book engrossing story intrigued premise...</td>\n",
       "      <td>2</td>\n",
       "    </tr>\n",
       "  </tbody>\n",
       "</table>\n",
       "</div>\n",
       "      <button class=\"colab-df-convert\" onclick=\"convertToInteractive('df-6822e142-a715-4331-921e-008483bb417e')\"\n",
       "              title=\"Convert this dataframe to an interactive table.\"\n",
       "              style=\"display:none;\">\n",
       "        \n",
       "  <svg xmlns=\"http://www.w3.org/2000/svg\" height=\"24px\"viewBox=\"0 0 24 24\"\n",
       "       width=\"24px\">\n",
       "    <path d=\"M0 0h24v24H0V0z\" fill=\"none\"/>\n",
       "    <path d=\"M18.56 5.44l.94 2.06.94-2.06 2.06-.94-2.06-.94-.94-2.06-.94 2.06-2.06.94zm-11 1L8.5 8.5l.94-2.06 2.06-.94-2.06-.94L8.5 2.5l-.94 2.06-2.06.94zm10 10l.94 2.06.94-2.06 2.06-.94-2.06-.94-.94-2.06-.94 2.06-2.06.94z\"/><path d=\"M17.41 7.96l-1.37-1.37c-.4-.4-.92-.59-1.43-.59-.52 0-1.04.2-1.43.59L10.3 9.45l-7.72 7.72c-.78.78-.78 2.05 0 2.83L4 21.41c.39.39.9.59 1.41.59.51 0 1.02-.2 1.41-.59l7.78-7.78 2.81-2.81c.8-.78.8-2.07 0-2.86zM5.41 20L4 18.59l7.72-7.72 1.47 1.35L5.41 20z\"/>\n",
       "  </svg>\n",
       "      </button>\n",
       "      \n",
       "  <style>\n",
       "    .colab-df-container {\n",
       "      display:flex;\n",
       "      flex-wrap:wrap;\n",
       "      gap: 12px;\n",
       "    }\n",
       "\n",
       "    .colab-df-convert {\n",
       "      background-color: #E8F0FE;\n",
       "      border: none;\n",
       "      border-radius: 50%;\n",
       "      cursor: pointer;\n",
       "      display: none;\n",
       "      fill: #1967D2;\n",
       "      height: 32px;\n",
       "      padding: 0 0 0 0;\n",
       "      width: 32px;\n",
       "    }\n",
       "\n",
       "    .colab-df-convert:hover {\n",
       "      background-color: #E2EBFA;\n",
       "      box-shadow: 0px 1px 2px rgba(60, 64, 67, 0.3), 0px 1px 3px 1px rgba(60, 64, 67, 0.15);\n",
       "      fill: #174EA6;\n",
       "    }\n",
       "\n",
       "    [theme=dark] .colab-df-convert {\n",
       "      background-color: #3B4455;\n",
       "      fill: #D2E3FC;\n",
       "    }\n",
       "\n",
       "    [theme=dark] .colab-df-convert:hover {\n",
       "      background-color: #434B5C;\n",
       "      box-shadow: 0px 1px 3px 1px rgba(0, 0, 0, 0.15);\n",
       "      filter: drop-shadow(0px 1px 2px rgba(0, 0, 0, 0.3));\n",
       "      fill: #FFFFFF;\n",
       "    }\n",
       "  </style>\n",
       "\n",
       "      <script>\n",
       "        const buttonEl =\n",
       "          document.querySelector('#df-6822e142-a715-4331-921e-008483bb417e button.colab-df-convert');\n",
       "        buttonEl.style.display =\n",
       "          google.colab.kernel.accessAllowed ? 'block' : 'none';\n",
       "\n",
       "        async function convertToInteractive(key) {\n",
       "          const element = document.querySelector('#df-6822e142-a715-4331-921e-008483bb417e');\n",
       "          const dataTable =\n",
       "            await google.colab.kernel.invokeFunction('convertToInteractive',\n",
       "                                                     [key], {});\n",
       "          if (!dataTable) return;\n",
       "\n",
       "          const docLinkHtml = 'Like what you see? Visit the ' +\n",
       "            '<a target=\"_blank\" href=https://colab.research.google.com/notebooks/data_table.ipynb>data table notebook</a>'\n",
       "            + ' to learn more about interactive tables.';\n",
       "          element.innerHTML = '';\n",
       "          dataTable['output_type'] = 'display_data';\n",
       "          await google.colab.output.renderOutput(dataTable, element);\n",
       "          const docLink = document.createElement('div');\n",
       "          docLink.innerHTML = docLinkHtml;\n",
       "          element.appendChild(docLink);\n",
       "        }\n",
       "      </script>\n",
       "    </div>\n",
       "  </div>\n",
       "  "
      ],
      "text/plain": [
       "                                              review  Flag_1\n",
       "0  engrossing page turner race class bullying gra...       2\n",
       "1  interesting debut “ hello niveus high it ’ s t...       2\n",
       "2             wow ordered book teenage daughter luvs       2\n",
       "3  definitely ya novel great plot childish charac...       2\n",
       "4  timely book engrossing story intrigued premise...       2"
      ]
     },
     "execution_count": 7,
     "metadata": {},
     "output_type": "execute_result"
    }
   ],
   "source": [
    "#data = data.sample(frac=0.5, replace=True, random_state=1)\n",
    "\n",
    "#binary classification\n",
    "data = data[data.sentiment != 1]\n",
    "\n",
    "data = data.rename(columns={\"pre_process\": \"review\",\n",
    "                             \"sentiment\": \"Flag_1\"})\n",
    "data.head()"
   ]
  },
  {
   "cell_type": "code",
   "execution_count": null,
   "id": "ef280235",
   "metadata": {
    "colab": {
     "base_uri": "https://localhost:8080/"
    },
    "executionInfo": {
     "elapsed": 4,
     "status": "ok",
     "timestamp": 1681073084178,
     "user": {
      "displayName": "Project Banned Books",
      "userId": "03433331433367582182"
     },
     "user_tz": 240
    },
    "id": "ef280235",
    "outputId": "007d7677-5ca6-4aed-a957-04d0c4f08771"
   },
   "outputs": [
    {
     "name": "stdout",
     "output_type": "stream",
     "text": [
      "<class 'pandas.core.frame.DataFrame'>\n",
      "Int64Index: 337148 entries, 0 to 362923\n",
      "Data columns (total 2 columns):\n",
      " #   Column  Non-Null Count   Dtype \n",
      "---  ------  --------------   ----- \n",
      " 0   review  337148 non-null  object\n",
      " 1   Flag_1  337148 non-null  int64 \n",
      "dtypes: int64(1), object(1)\n",
      "memory usage: 7.7+ MB\n"
     ]
    }
   ],
   "source": [
    "data.info()"
   ]
  },
  {
   "cell_type": "markdown",
   "id": "ed4b2fb3",
   "metadata": {
    "id": "ed4b2fb3"
   },
   "source": [
    "# Vectorize Data\n",
    "\n",
    "Sklearn provides facilities to extract numerical features from a text document by tokenizing, counting and normalising. CountVectorizer performs the task of tokenizing and counting, while TfidfTransformer normalizes the data. TfidfVectorizer, on the other hand, performs all three operations, thereby streamlining the process of natural language processing."
   ]
  },
  {
   "cell_type": "markdown",
   "id": "8096eeda",
   "metadata": {
    "id": "8096eeda"
   },
   "source": [
    "### Create Dataframe "
   ]
  },
  {
   "cell_type": "code",
   "execution_count": null,
   "id": "58e45404",
   "metadata": {
    "colab": {
     "base_uri": "https://localhost:8080/"
    },
    "executionInfo": {
     "elapsed": 233282,
     "status": "ok",
     "timestamp": 1680799905717,
     "user": {
      "displayName": "Project Banned Books",
      "userId": "03433331433367582182"
     },
     "user_tz": 240
    },
    "id": "58e45404",
    "outputId": "451ec9e5-0c4f-4b52-ec6c-cbc4129115ab"
   },
   "outputs": [
    {
     "name": "stdout",
     "output_type": "stream",
     "text": [
      "CPU times: user 30 µs, sys: 0 ns, total: 30 µs\n",
      "Wall time: 34.6 µs\n",
      "CPU times: user 3min 43s, sys: 9.18 s, total: 3min 52s\n",
      "Wall time: 3min 51s\n"
     ]
    }
   ],
   "source": [
    "#Set vectorizers\n",
    "%time v = TfidfVectorizer(max_features=800, ngram_range=(1, 4))\n",
    "%time V = v.fit_transform(data['review'])\n",
    "\n",
    "df_tf = pd.DataFrame(V.toarray(), columns=v.vocabulary_)\n",
    "#display(df_tf.head())"
   ]
  },
  {
   "cell_type": "code",
   "execution_count": null,
   "id": "ec9fc0c2",
   "metadata": {
    "colab": {
     "base_uri": "https://localhost:8080/"
    },
    "executionInfo": {
     "elapsed": 5551,
     "status": "ok",
     "timestamp": 1680799911262,
     "user": {
      "displayName": "Project Banned Books",
      "userId": "03433331433367582182"
     },
     "user_tz": 240
    },
    "id": "ec9fc0c2",
    "outputId": "bf3bb49a-4097-4a56-a74c-50af33771b0b"
   },
   "outputs": [
    {
     "name": "stdout",
     "output_type": "stream",
     "text": [
      "(361528, 800)\n"
     ]
    }
   ],
   "source": [
    "#Preparing processed and BoW-TF embedded data for Classification\n",
    "df_tf_m = pd.concat([data, df_tf], axis = 1)\n",
    "df_tf_m.drop(columns=['review'], inplace = True)\n",
    "print(df_tf_m.shape)\n",
    "#df_tf_m.head()"
   ]
  },
  {
   "cell_type": "code",
   "execution_count": null,
   "id": "fd3f9625",
   "metadata": {
    "id": "fd3f9625"
   },
   "outputs": [],
   "source": [
    "df_tf_m = df_tf_m.dropna()"
   ]
  },
  {
   "cell_type": "code",
   "execution_count": null,
   "id": "7aa5f361",
   "metadata": {
    "id": "7aa5f361"
   },
   "outputs": [],
   "source": [
    "df_tf_m.to_parquet(\"/content/drive/MyDrive/Colab Notebooks/data/cleaned_trained_data/df_tf_m\")"
   ]
  }
 ],
 "metadata": {
  "accelerator": "GPU",
  "colab": {
   "machine_shape": "hm",
   "provenance": []
  },
  "gpuClass": "premium",
  "kernelspec": {
   "display_name": "Python 3 (ipykernel)",
   "language": "python",
   "name": "python3"
  },
  "language_info": {
   "codemirror_mode": {
    "name": "ipython",
    "version": 3
   },
   "file_extension": ".py",
   "mimetype": "text/x-python",
   "name": "python",
   "nbconvert_exporter": "python",
   "pygments_lexer": "ipython3",
   "version": "3.10.6"
  }
 },
 "nbformat": 4,
 "nbformat_minor": 5
}
